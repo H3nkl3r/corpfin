{
 "cells": [
  {
   "cell_type": "code",
   "execution_count": 6,
   "id": "initial_id",
   "metadata": {
    "ExecuteTime": {
     "end_time": "2024-08-01T12:52:28.951133Z",
     "start_time": "2024-08-01T12:52:26.880719Z"
    },
    "collapsed": true
   },
   "outputs": [],
   "source": [
    "import plotly.graph_objects as go\n",
    "from scipy.stats import norm\n",
    "import math\n",
    "from datetime import datetime\n",
    "import numpy as np"
   ]
  },
  {
   "cell_type": "markdown",
   "id": "53a9c9f2800d19c",
   "metadata": {},
   "source": [
    "# Valuation"
   ]
  },
  {
   "cell_type": "markdown",
   "id": "eee101925d3273d0",
   "metadata": {},
   "source": [
    "In a complete and arbitrage free capital market the market value of any asset (V) can be expressed by the sum of the present value of future cash flows using the risk-free rate ($r_f$) as the discount factor and the risk-neutral probability measure\n",
    "$E^*$ (**Fundamental Asset Pricing Theorem – FAPT**):\n",
    "\n",
    "$$V = \\sum_{t=1}^{T} \\frac{E^*(FCF_t)}{(1 + r_f)^t}$$\n",
    "\n",
    "For company valuation, under the assumption that a constant stochastic discount factor exists,\n",
    "this is equivalent to the **DCF entity** (Discounted Cash Flow) approach:\n",
    "\n",
    "$$V = \\sum_{t=1}^{T}  \\frac{E(FCFF_t)}{(1 + WACC)^t}$$\n",
    "\n",
    "where \n",
    "* $E()$ denotes the objective probability measure\n",
    "* WACC denotes the firm’s cost of capital on a complete and arbitrage free capital market"
   ]
  },
  {
   "cell_type": "markdown",
   "id": "45f2f0613d974de4",
   "metadata": {},
   "source": [
    "## Entity vs Equity Approach"
   ]
  },
  {
   "cell_type": "markdown",
   "id": "beae63244765cdc7",
   "metadata": {},
   "source": [
    "### Entity Approach\n",
    "\n",
    "Free Cash Flow of the Firm (Weighted cost of capital (WACC)):\n",
    "\n",
    "$$V_0 = \\sum_{t=1}^{T} \\frac{E(FCFF_t)}{(1 + WACC)^t}$$"
   ]
  },
  {
   "cell_type": "markdown",
   "id": "5520c52e2047199f",
   "metadata": {},
   "source": [
    "### Equity Approach\n",
    "\n",
    "Cash Flows of Debtholders (Cost of the firm's dept capital) and Free Cash Flows of Equityholders (Cost of equity):\n",
    "\n",
    "$$V_0 = \\sum_{t=1}^{T} \\frac{E(FCFE_t)}{(1 + r_E)^t}$$\n",
    "\n",
    "* Value of dept is often approximated by the book value of dept\n",
    "* value of equity = # shares multiplied by the share price"
   ]
  },
  {
   "cell_type": "markdown",
   "id": "d00eb87401823446",
   "metadata": {},
   "source": [
    "### Calculating free cash flow to equity (FCFE)\n",
    "\n",
    "Net Income = $EBT - Taxes$\n",
    "* EBT: earnings before taxes\n",
    "\n",
    "Net Income + Depreciation - Investments - NOWC - Cash Flow to Debt = FCFE\n",
    "* NOWC = receivables + inventory - payables - operational provisions\n",
    "* Cash Flow to Debt = repayment of debt - new debt issued\n",
    "\n",
    "=> the amount of money that can be distributed to equity holders"
   ]
  },
  {
   "cell_type": "markdown",
   "id": "6b62922f96cf9ef8",
   "metadata": {},
   "source": [
    "### Calculating free cash flow to the firm (FCFF)\n",
    "\n",
    "Net Operating Profit After Taxes (NOPAT) = Earnigns before interest and taxes (EBIT) - Taxes\n",
    "* Taxes = Tax rate * EBT\n",
    "\n",
    "NOPAT + Depreciation - Investments - NOWC = FCFF\n",
    "\n",
    "=> the amount of money that can be distributed to all suppliers of capital"
   ]
  },
  {
   "cell_type": "markdown",
   "id": "68056a3952549ff8",
   "metadata": {},
   "source": [
    "## Entity Value (Firm Value) vs. Enterprise Value\n",
    "\n",
    "Entity Value (Firm Value) = Enterprise Value (=Value of Operations) + Value of Non-Operating Assets\n",
    "\n",
    "$$V_{Op} = \\sum_{t=1}^{\\infty} \\frac{E(FCFF_t)}{(1 + WACC)^t}$$\n",
    "\n",
    "* Firm value or entity values are used interchangeably; they indicate the value of all operating and non-operating assets, i.e. $V_{Op} + V_{NOA} = V_D + V_E$\n",
    "* Enterprise value reflects the value of operating assets only, i.e. $V_{Op} = V_E + (V_D - V_{NOA}) = V_E + NetDebt$\n",
    "* Debt reduced by the market value of non-operating assets (mostly cash) is called net debt, i.e  $NetDebt = V_D - V_{NOA}$. **Therefore, when calculating the DCF enterprise value the capital structure has to be measured on the basis of the net debt.**\n",
    "\n",
    "Value of non-operating assets:\n",
    "* Marketable securities\n",
    "* Ownership of non-controlling interest in another company"
   ]
  },
  {
   "cell_type": "markdown",
   "id": "163e8ed7cc0473aa",
   "metadata": {},
   "source": [
    "\n",
    "\n",
    "\n",
    "\n",
    "\n",
    "\n",
    "## Cash Flow Projection as a two step procedure\n",
    "\n",
    "- Phase I: Detailed planning\n",
    "- Phase II: Constant growth\n",
    "\n",
    "Calculating the terminal value $(TV)$:\n",
    "\n",
    "$$TV_{T_g} = \\frac{FCFF_{T_g+1}}{WACC - g}$$\n",
    "\n",
    "$$TV_{T_0} = TV_{T_g} * \\frac{1}{(1 + WACC)^{T_g-T_0}}$$\n",
    "\n",
    "$$FCFF_{T_g+1} = FCFF_{T_g} * (1 + g)$$\n",
    "\n",
    "Comment: If you have projected CFs for a given period ending in \"t\" and you use the Gordon \n",
    "Growth Formula to calculate the TV after that period (FCFF(t+1)/ cost of capital - growth rate) \n",
    "you get a terminal value with respect to \"t\" and not \"t+1\". In this example the perpetuity starts \n",
    "in t=4 and when we calculate its value we get a result that is relative to t=3. This is why we then \n",
    "have to discount it by 3 and not 4 periods to receive the PV.\n",
    "\n",
    "Comment: the period $t$ doesn't need to be an integer! If the projections don't start at 1st \n",
    "january od the first year, we need to take that in account"
   ]
  },
  {
   "cell_type": "markdown",
   "id": "352d8602cddcd7e3",
   "metadata": {},
   "source": [
    "### Issues in cash flow projection\n",
    "\n",
    "#### Detailed forecast of next three years CFs with three alternative methods\n",
    "\n",
    "* Historical estimates\n",
    "  * Sensitive to choice of method and time period\n",
    "  * Possibly no good proxy for future (esp. if CFs negative)\n",
    "* Expert estimates: Analysts forecasts\n",
    "  * Better for larger, better covered firms\n",
    "  * Not necessarily accurate, possibly positively biased\n",
    "* Fundamental business modeling\n",
    "  * Delivers most accurate, subjective value estimate\n",
    "  *Takes time, skill and insight\n",
    "\n",
    "#### Terminal value (TV) determined by long-term future CF and long-term growth\n",
    "\n",
    "* Growth rate g assumption essential\n",
    "  * Usually, inflation plus long-term growth of economy\n",
    "* Different terminal value methods possible\n",
    "  * Perpetuity growth model: TV = CF / (k – g)\n",
    "  * Exit multiple approach"
   ]
  },
  {
   "cell_type": "markdown",
   "id": "89b39b5ca888bb24",
   "metadata": {},
   "source": [
    "## Estimation of the cost of equity\n",
    "\n",
    "### Cost of equity estimation is (mostly) based on CAPM\n",
    "\n",
    "**Rational investors tend to diversify their risks** thus only the market risk component is compensated by the market.\n",
    "\n",
    "CAPM pricing formula\n",
    "$$r_E = r_{riskfree} + \\beta_{stock} \\cdot (r_{market\\ return} - r_{riskfree})$$\n",
    "\n",
    "**From the CAPM pricing formula it follows that** securities are not priced with respect to their stand-alone risk but their with respect to their market risk only!\n",
    "\n",
    "### Issues in implementing this model\n",
    "\n",
    "* Market risk premiums are highly dispututied\n",
    "* IDW currently recommends 6 to 8% (pre-tax)\n",
    "* Beta estimation is not very robust and subject to discretion\n",
    "  * Sampling frequency (daily, monthly, etc.)\n",
    "  * Estimation window (250 days, 60 months, etc.)\n",
    "  * Market geography (national, world-wide)\n",
    "  * Market index\n",
    "  * Alternative market models (CAPM, FF3FM, etc.)\n",
    "  * Individual vs. industry betas\n",
    "  * Problem of de- and releveraging"
   ]
  },
  {
   "cell_type": "markdown",
   "id": "8d55db7e0c0970d0",
   "metadata": {},
   "source": [
    "## How to de-/re-leverage a beta\n",
    "\n",
    "* Betas of different companies need to be re-leveraged to make them comparable\n",
    "  * Because company-specific leverage has large influence\n",
    "  * Beta with leverage of target company has to be calculated\n",
    "  * Alternatively, adjustment can be done via the WACC-formula\n",
    "* For firms with constant risk-free debt de-leveraged equity (asset) beta can be calculated according to the Hamada-Equation\n",
    "\n",
    "$$\\beta_E = \\beta_U \\left(1 + \\frac{V_D}{V_E}(1-T) \\right)$$"
   ]
  },
  {
   "cell_type": "markdown",
   "id": "d8366cdacdfaead9",
   "metadata": {},
   "source": [
    "## Derivation of delevered (or unlevered) beta:"
   ]
  },
  {
   "cell_type": "markdown",
   "id": "8468c1c68ce878f9",
   "metadata": {},
   "source": [
    "## WACC\n",
    "\n",
    "If a firm is financed by debt and equity simultaneously, then the discount rate in the entity approach must reflect this fact\n",
    "\n",
    "➔ weighted average cost of capital (WACC)\n",
    "\n",
    "$$WACC = r_D (1-T) \\frac{V_D}{V} + r_E \\frac{V_E}{V}$$\n",
    "\n",
    "where\n",
    "* r_D is the cost of debt,\n",
    "* T is the corporate tax rate,\n",
    "* r_E is the cost of equity,\n",
    "* V_D the market value of outstanding net debt,\n",
    "* V_E the market value of outstanding equity\n",
    "\n",
    "Note that V=V_D+V_E holds by definition\n",
    "\n",
    "* Problem 1: circularity problem\n",
    "  ➔ WACC provides a tool to determine V and V_E but both parameters are needed as inputs to determine WACC\n",
    "  ➔ may use rollback methods to solve the problem\n",
    "\n",
    "* Problem 2: Debt regime\n",
    "  ➔ The left hand side WACC assumes a constant leverage (based on market values)\n",
    "\n",
    "* Alternative method: APV Approach\n",
    "  ➔ APV splits the entity value of a debt finance firm into the value as if it would be fully equity financed and the tax shield of debt\n",
    "  ➔ may use rollback methods to solve the problem"
   ]
  },
  {
   "cell_type": "markdown",
   "id": "1bc7dff9fce29a9b",
   "metadata": {},
   "source": [
    "## Risk-free rate and term structure\n",
    "\n",
    "### Estimating the term structure\n",
    "- Ideally the term structure should be reflected in the discount rate\n",
    "  - This can be done by looking at the empirical term structure of forward rates\n",
    "  - Alternatively, the Svensson-method can be applied\n",
    "\n",
    "$$i_t^p \\cdot 100 = \\beta_0 + \\beta_1\\frac{1-\\exp\\left(-\\frac{t}{\\tau_1}\\right)}{\\frac{t}{\\tau_1}} + \\beta_2\\left(\\frac{1-\\exp\\left(-\\frac{t}{\\tau_1}\\right)}{\\frac{t}{\\tau_1}} - \\exp\\left(-\\frac{t}{\\tau_1}\\right)\\right) + \\beta_3\\left(\\frac{1-\\exp\\left(-\\frac{t}{\\tau_2}\\right)}{\\frac{t}{\\tau_2}} - \\exp\\left(-\\frac{t}{\\tau_2}\\right)\\right)$$\n",
    "\n",
    "- This gives the continuously compounded risk-free rate for maturity t; all parameters are daily reported by the Bundesbank or the FED\n",
    "\n",
    "### Practitioners, however, often operate with a single discount rate\n",
    "- This discount rate k is derived by solving (numerically, t≈250) the equation\n",
    "\n",
    "$$\\sum_{t=1}^{\\infty} \\frac{(1+g)^t}{(1+k_t)^t} = \\frac{1+g}{k-g}$$\n",
    "\n",
    "### Problems with Svensson-method\n",
    "* Note, however, that applying the Svensson-Method beyond the observable 30-year maturity can lead to strange patterns in the term structure:\n",
    "* One solution is to estimate an ultimate forward rate (UFR).\n",
    "* Alternatively, it is often assumed that beyond the year 30 the term structure is flat."
   ]
  },
  {
   "cell_type": "markdown",
   "id": "ab458e3e2460731",
   "metadata": {},
   "source": [
    "## Valuation and personal taxes\n",
    "\n",
    "- Hitherto we have looked at corporate taxes only, personal taxes were ignored\n",
    "\n",
    "### Taking into account personal taxes\n",
    "- According to IDW S1, cif. 28, personal taxes on any distribution made by the company has to be taken into account (after tax valuation).\n",
    "- The after tax cost of equity is calculated according to the tax CAPM. Under the current tax regime (Abgeltungssteuer) it follows:\n",
    "\n",
    "$$r_E^{AT} = (1-\\pi)r_{riskfree} + \\beta_{stock} \\cdot (r_{market\\ return}^{AT} - (1-\\pi)r_{riskfree})$$\n",
    "\n",
    "where π is the personal tax rate (26.4%) and AT stands for after tax\n",
    "\n",
    "- According to IDW the after tax market risk premium should be around 5 to 6%"
   ]
  },
  {
   "cell_type": "markdown",
   "id": "b3d2361f06afc279",
   "metadata": {},
   "source": []
  },
  {
   "cell_type": "code",
   "execution_count": 9,
   "id": "5812ebe70d55c06e",
   "metadata": {
    "ExecuteTime": {
     "end_time": "2024-08-01T12:52:30.278868Z",
     "start_time": "2024-08-01T12:52:30.275085Z"
    }
   },
   "outputs": [],
   "source": [
    "# CAPM\n",
    "def calculate_re(rf, beta, rm):\n",
    "    '''\n",
    "    Calculates re, the cost of an equity\n",
    "    Parameters\n",
    "    ----------\n",
    "    rf: float\n",
    "    risk-free rate\n",
    "    beta: float\n",
    "    beta of the stock (market risk)\n",
    "    rm: float\n",
    "    market return\n",
    "    Notes\n",
    "    -----\n",
    "    rm-rf is the premium of the market over the risk-free rate\n",
    "    '''\n",
    "    re = rf + beta * (rm - rf)\n",
    "    return re\n",
    "\n",
    "\n",
    "# Hamada-Equation, supposing beta_debt=0\n",
    "def hamada(beta_u, Vd, Ve, tau):\n",
    "    # beta_u: unlevered beta\n",
    "    # Vd: debt\n",
    "    # Ve: equity\n",
    "    # tau: tax rate\n",
    "    return beta_u * (1 + Vd / Ve * (1 - tau))\n",
    "\n",
    "\n",
    "def hamada_(beta_e, Vd, Ve, tau):\n",
    "    # beta_e: levered beta\n",
    "    # Vd: debt\n",
    "    # Ve: equity\n",
    "    # tau: tax rate\n",
    "\n",
    "    return beta_e * (1 / (1 + Vd / Ve * (1 - tau)))\n",
    "\n",
    "\n",
    "def calculate_wacc(ke, kd, Ve, Vd, tau):\n",
    "    V = Ve + Vd\n",
    "    return ke * Ve / V + kd * (1 - tau) * Vd / V\n",
    "\n"
   ]
  },
  {
   "cell_type": "code",
   "execution_count": 2,
   "id": "d9854412a961f4dd",
   "metadata": {
    "ExecuteTime": {
     "end_time": "2024-07-29T21:28:18.853968Z",
     "start_time": "2024-07-29T21:28:18.848372Z"
    }
   },
   "outputs": [
    {
     "data": {
      "text/plain": [
       "1.64"
      ]
     },
     "execution_count": 2,
     "metadata": {},
     "output_type": "execute_result"
    }
   ],
   "source": [
    "hamada(.8, 9, 6, .3)"
   ]
  },
  {
   "cell_type": "code",
   "execution_count": 10,
   "id": "7652f8a118c5a49b",
   "metadata": {
    "ExecuteTime": {
     "end_time": "2024-08-01T12:52:32.368626Z",
     "start_time": "2024-08-01T12:52:32.363575Z"
    },
    "collapsed": false
   },
   "outputs": [
    {
     "name": "stdout",
     "output_type": "stream",
     "text": [
      "The unlevered beta is 1.22\n",
      "The relevered beta is 1.50\n",
      "The cost of equity is 14.35%\n",
      "The WACC is 12.38%\n"
     ]
    }
   ],
   "source": [
    "# 1. Calculate the unlevered beta\n",
    "Vd_comp = 0.2\n",
    "Ve_comp = 7.1\n",
    "\n",
    "# debt_equity_ratio = 0.8/2.3\n",
    "# \n",
    "# if not Ve_comp:\n",
    "#     Ve_comp = Vd_comp/debt_equity_ratio\n",
    "# else:\n",
    "#     Vd_comp = Ve_comp*debt_equity_ratio\n",
    "\n",
    "tau_comp = .33\n",
    "beta_e_comp = 1.24\n",
    "beta_u_comp = hamada_(beta_e_comp, Vd_comp, Ve_comp, tau_comp)\n",
    "print(f'The unlevered beta is {beta_u_comp:.2f}')\n",
    "\n",
    "# We assume beta_u_comp = beta_u\n",
    "beta_u = beta_u_comp\n",
    "\n",
    "# 2. Calculate the relevered beta\n",
    "Vd = 400\n",
    "Ve = None\n",
    "\n",
    "debt_equity_ratio = 0.8 / 2.3\n",
    "\n",
    "if not Ve:\n",
    "    Ve = Vd / debt_equity_ratio\n",
    "else:\n",
    "    Vd = Ve * debt_equity_ratio\n",
    "\n",
    "tau = .33\n",
    "beta = hamada(beta_u, Vd, Ve, tau)\n",
    "\n",
    "print(f'The relevered beta is {beta:.2f}')\n",
    "\n",
    "# 3. Calculate the cost of equity using the relevered beta and CAPM\n",
    "# cost of equity\n",
    "rm = .121\n",
    "rf = .076\n",
    "re = calculate_re(rf, beta, rm)\n",
    "\n",
    "print(f'The cost of equity is {re * 100:.2f}%')\n",
    "\n",
    "# 4. Calculate the cost of debt\n",
    "ke = re\n",
    "kd = .1\n",
    "Ve = Ve\n",
    "Vd = 400\n",
    "WACC = calculate_wacc(ke, kd, Ve, Vd, tau)\n",
    "\n",
    "print(f'The WACC is {WACC * 100:.2f}%')"
   ]
  },
  {
   "cell_type": "markdown",
   "id": "a0bc64faca38a4e7",
   "metadata": {},
   "source": [
    "## Present Value (PV)"
   ]
  },
  {
   "cell_type": "code",
   "id": "1533b62519dd18c8",
   "metadata": {
    "ExecuteTime": {
     "end_time": "2024-08-03T10:41:00.544197Z",
     "start_time": "2024-08-03T10:41:00.538466Z"
    }
   },
   "source": [
    "def calculate_PV(cashflows, rate):\n",
    "    '''\n",
    "    Calculates the Present Value of a company based on the projection of the cashflow\n",
    "    cashflows: list[float]\n",
    "    rate: float\n",
    "    constant rate utilized, can be WACC\n",
    "    '''\n",
    "    PV = sum([cf / ((1 + rate) ** (i + 1)) for i, cf in enumerate(cashflows)])\n",
    "    return PV\n",
    "\n",
    "def calculate_PV_perpetuity(cashflow_t, rate, g=None, t=None, discount_t=None):\n",
    "    '''\n",
    "    Calculates the Present Value of a perpetuity based on the projection of the cashflow\n",
    "    cashflow_t: float\n",
    "    cashflow at time t\n",
    "    rate: float\n",
    "    constant rate utilized, can be WACC or cost of equity (k_u)\n",
    "    g: float\n",
    "    growth rate\n",
    "    t: int\n",
    "    number of periods\n",
    "    '''\n",
    "    \n",
    "    if t is None:\n",
    "        if g is None:\n",
    "            PV = cashflow_t / rate\n",
    "        else:\n",
    "            PV = cashflow_t / (rate - g)\n",
    "    else:\n",
    "        if g is None:\n",
    "            PV = cashflow_t / ((1 + rate) ** t)\n",
    "        else:\n",
    "            PV = cashflow_t * (1 + g) / (rate - g) / ((1 + rate) ** t)\n",
    "\n",
    "    if discount_t is not None:\n",
    "        PV = PV / ((1 + rate) ** discount_t)\n",
    "    return PV\n",
    "\n",
    "\n",
    "def calculate_PV_interest_tax_shields(interest_expenses, rate, tau):\n",
    "    '''\n",
    "    Calculates the Present Value of the interest tax shields\n",
    "    interest_expenses: list[float]\n",
    "    rate: float\n",
    "    constant rate utilized, can be WACC or cost of debt (k_d)\n",
    "    tau: float\n",
    "    tax rate (0 < tau < 1)\n",
    "    '''\n",
    "    PV = sum([interest * tau / ((1 + rate) ** (i + 1)) for i, interest in enumerate(interest_expenses)])\n",
    "    return PV\n",
    "\n",
    "def calculate_PV_tax_shields_perpetuity(FCFF, g, WACC, n, rate, dept_rate):\n",
    "    '''\n",
    "    Calculates the Present Value of the tax shields beyond a certain year in perpetuity\n",
    "    FCFF: float\n",
    "        Free Cash Flow to the Firm at the final projected year\n",
    "    g: float\n",
    "        Growth rate of the cash flows\n",
    "    WACC: float\n",
    "        Weighted Average Cost of Capital\n",
    "    n: int\n",
    "        Number of years till the final projected year\n",
    "    rate: float\n",
    "        constant rate utilized, can be cost of equity\n",
    "    '''\n",
    "    TVL = (FCFF * (1 + g)) / (WACC - g)\n",
    "    TVT = (FCFF * (1 + g)) / (rate - g)\n",
    "    PV_TS = (TVL - TVT) / ((1 + dept_rate) ** n)\n",
    "    return PV_TS\n",
    "\n",
    "def calculate_firm_value(V_U, PV_TS):\n",
    "    '''\n",
    "    Calculates the total value of the levered firm\n",
    "    V_U: float\n",
    "        Value of the unlevered firm\n",
    "    PV_TS: float\n",
    "        Present Value of the Tax Shields\n",
    "    '''\n",
    "    V_L = V_U + PV_TS\n",
    "    return V_L\n",
    "\n",
    "def calculate_equity_value(V_L, V_D, shares_outstanding):\n",
    "    '''\n",
    "    Calculates the equity value and value per share\n",
    "    V_L: float\n",
    "        Value of the levered firm\n",
    "    V_D: float\n",
    "        Value of the firm's debt\n",
    "    shares_outstanding: float\n",
    "        Number of shares outstanding\n",
    "    '''\n",
    "    V_E = V_L - V_D\n",
    "    value_per_share = V_E / shares_outstanding\n",
    "    return V_E, value_per_share"
   ],
   "outputs": [],
   "execution_count": 46
  },
  {
   "cell_type": "code",
   "id": "3b913399a581f87d",
   "metadata": {
    "ExecuteTime": {
     "end_time": "2024-08-03T10:42:00.016610Z",
     "start_time": "2024-08-03T10:42:00.013928Z"
    }
   },
   "source": [
    "cashflows = [5404, 4311, 2173, 2336, 2536]\n",
    "rate = 0.14  # from last code-cell (WACC)\n",
    "PV1 = calculate_PV(cashflows, rate)\n",
    "print(f\"The present value of the company is {PV1:.2f}\")\n"
   ],
   "outputs": [
    {
     "name": "stdout",
     "output_type": "stream",
     "text": [
      "The present value of the company is 12224.46\n"
     ]
    }
   ],
   "execution_count": 48
  },
  {
   "metadata": {
    "ExecuteTime": {
     "end_time": "2024-08-03T10:42:00.194717Z",
     "start_time": "2024-08-03T10:42:00.191554Z"
    }
   },
   "cell_type": "code",
   "source": [
    "cashflow = 2536\n",
    "rate = 0.14  # from last code-cell (WACC)\n",
    "g = 0.03\n",
    "t = 5\n",
    "PV2 = calculate_PV_perpetuity(cashflow, rate, g, t)\n",
    "print(f\"The present value of the company after date is {PV2:.2f}\") # DOnt forget to add the PV of the cashflows before the terminal value"
   ],
   "id": "b83ff99dfabc5254",
   "outputs": [
    {
     "name": "stdout",
     "output_type": "stream",
     "text": [
      "The present value of the company after date is 12333.02\n"
     ]
    }
   ],
   "execution_count": 49
  },
  {
   "metadata": {
    "ExecuteTime": {
     "end_time": "2024-08-03T10:42:00.346561Z",
     "start_time": "2024-08-03T10:42:00.343965Z"
    }
   },
   "cell_type": "code",
   "source": [
    "interest_expenses = [3384, 3004, 3111, 3294, 3483]\n",
    "rate = 0.135\n",
    "tau = 0.34\n",
    "PV3 = calculate_PV_interest_tax_shields(interest_expenses, rate, tau)\n",
    "print(f\"The present value of the interest tax shields is {PV3:.2f}\")"
   ],
   "id": "16827de381ad3a13",
   "outputs": [
    {
     "name": "stdout",
     "output_type": "stream",
     "text": [
      "The present value of the interest tax shields is 3833.56\n"
     ]
    }
   ],
   "execution_count": 50
  },
  {
   "metadata": {
    "ExecuteTime": {
     "end_time": "2024-08-03T10:42:01.022959Z",
     "start_time": "2024-08-03T10:42:01.020541Z"
    }
   },
   "cell_type": "code",
   "source": [
    "FCFF = 2536\n",
    "g = 0.03\n",
    "WACC = 0.128\n",
    "n = 5\n",
    "rate = 0.14\n",
    "dept_rate = 0.135\n",
    "PV4 = calculate_PV_tax_shields_perpetuity(FCFF, g, WACC, n, rate, dept_rate)\n",
    "print(f\"The present value of the tax shields in perpetuity is {PV4:.2f}\")"
   ],
   "id": "8625a31b3fb3450b",
   "outputs": [
    {
     "name": "stdout",
     "output_type": "stream",
     "text": [
      "The present value of the tax shields in perpetuity is 1543.72\n"
     ]
    }
   ],
   "execution_count": 51
  },
  {
   "metadata": {
    "ExecuteTime": {
     "end_time": "2024-08-03T10:43:37.771162Z",
     "start_time": "2024-08-03T10:43:37.768435Z"
    }
   },
   "cell_type": "code",
   "source": [
    "VL = PV1 + PV2 + PV3 + PV4\n",
    "outstanding_dept = 5000\n",
    "VE = VL - outstanding_dept\n",
    "shares_outstanding = 229\n",
    "Value_per_share = VE / shares_outstanding\n",
    "\n",
    "print(f\"The total value of the levered firm is {VL:.2f}\")\n",
    "print(f\"The equity value is {VE:.2f}\")\n",
    "print(f\"The value per share is {Value_per_share:.2f}\")"
   ],
   "id": "a40aed82662e8a82",
   "outputs": [
    {
     "name": "stdout",
     "output_type": "stream",
     "text": [
      "The total value of the levered firm is 29934.76\n",
      "The equity value is 24934.76\n",
      "The value per share is 108.89\n"
     ]
    }
   ],
   "execution_count": 52
  },
  {
   "cell_type": "code",
   "execution_count": 22,
   "id": "3f39292606e119e5",
   "metadata": {
    "ExecuteTime": {
     "end_time": "2024-08-01T12:52:39.589633Z",
     "start_time": "2024-08-01T12:52:39.584402Z"
    }
   },
   "outputs": [],
   "source": [
    "def get_entity_value_dcf(cashflows, rate, g, pv_debt=None, valuation_date=None):\n",
    "    \"\"\"Calculate the entity value using the DCF method.\"\"\"\n",
    "    # Terminal value with perpetual growth\n",
    "    terminal_value = cashflows[-1] * (1 + g) / (rate - g)\n",
    "    \n",
    "    # Present value of terminal value\n",
    "    if valuation_date:\n",
    "        days_in_year = 365\n",
    "        days_to_valuation = (datetime.strptime(valuation_date, '%Y-%m-%d') - datetime.strptime(valuation_date.split('-')[0] + '-12-31', '%Y-%m-%d')).days\n",
    "        days_fraction = days_to_valuation / days_in_year\n",
    "        PV_final = terminal_value / (1 + rate) ** (len(cashflows) - 1 + days_fraction)\n",
    "    else:\n",
    "        PV_final = terminal_value / (1 + rate) ** len(cashflows)\n",
    "    \n",
    "    # Present value of cash flows\n",
    "    PV = calculate_PV(cashflows, rate)\n",
    "    \n",
    "    # Entity value calculation\n",
    "    if pv_debt:\n",
    "        V = PV + PV_final - pv_debt\n",
    "    else:\n",
    "        V = PV + PV_final\n",
    "\n",
    "    return {\n",
    "        'terminal_value': terminal_value,\n",
    "        'PV_final': PV_final,\n",
    "        'PV': PV,\n",
    "        'V': V\n",
    "    }"
   ]
  },
  {
   "cell_type": "code",
   "id": "43b1614d223c3cd9",
   "metadata": {
    "ExecuteTime": {
     "end_time": "2024-08-03T10:16:22.021371Z",
     "start_time": "2024-08-03T10:16:22.017943Z"
    }
   },
   "source": [
    "cashflows = [5404, 4311, 2173, 2336, 2536]\n",
    "# g - growth rate\n",
    "g = .04\n",
    "# re - cost of equity\n",
    "re = .1435\n",
    "# rd - cost of debt\n",
    "rd = .1\n",
    "# Vd - debt\n",
    "Vd = 400\n",
    "\n",
    "debt_equity_ratio = 0.8 / 2.3\n",
    "# Ve - equity\n",
    "Ve = None\n",
    "\n",
    "if not Ve:\n",
    "    Ve = Vd / debt_equity_ratio\n",
    "else:\n",
    "    Vd = Ve * debt_equity_ratio\n",
    "\n",
    "tau = .33\n",
    "\n",
    "WACC = calculate_wacc(re, rd, Ve, Vd, tau)\n",
    "\n",
    "rate = WACC\n",
    "result = get_entity_value_dcf(cashflows, rate, g, Vd)\n",
    "\n",
    "print(f\"The Enterprise Value (Terminal Value) is {result['terminal_value']:.2f}\")\n",
    "print(f\"The Present Value of the Terminal Value is {result['PV_final']:.2f}\")\n",
    "print(f\"The Present Value of the company (equity) is {result['V']:.2f}\")\n",
    "\n"
   ],
   "outputs": [
    {
     "name": "stdout",
     "output_type": "stream",
     "text": [
      "The Enterprise Value (Terminal Value) is 31488.79\n",
      "The Present Value of the Terminal Value is 17570.81\n",
      "The Present Value of the company (equity) is 29804.57\n"
     ]
    }
   ],
   "execution_count": 21
  },
  {
   "cell_type": "code",
   "execution_count": 24,
   "id": "d66dfa5c",
   "metadata": {},
   "outputs": [
    {
     "name": "stdout",
     "output_type": "stream",
     "text": [
      "The Enterprise Value (Terminal Value) is 53.10 million EUR\n",
      "The Present Value of the Terminal Value is 22.52 million EUR\n",
      "The Present Value of the company (equity) is 36.41 million EUR\n",
      "The Share Price is 28.4145 EUR\n"
     ]
    }
   ],
   "source": [
    "# if only sales and ebit are given as well as depr charches and we have to calculate the FCFF first using the following\n",
    "\n",
    "# (in million EUR)\n",
    "\n",
    "sales = [9.40, 10.25, 11.79, 13.44, 15.05, 16.86, 18.88, 20.77, 22.84, 25.13]\n",
    "ebit = [2.77, 3.23, 3.54, 4.03, 4.21, 4.72, 5.29, 5.81, 6.4, 7.04]\n",
    "depreciation_percentage = 0.15\n",
    "capex_percentage = 0.18\n",
    "working_capital_percentage = 0.10\n",
    "change_in_nwc_initial = 0.5\n",
    "tax_rate = 0.20\n",
    "g = 0.02\n",
    "wacc = 0.1093\n",
    "num_shares = 1189890\n",
    "market_value_debt = 2.6\n",
    "\n",
    "# Calculate FCFF for each year\n",
    "fcff = []\n",
    "for i in range(len(sales)):\n",
    "    depreciation = sales[i] * depreciation_percentage\n",
    "    capex = sales[i] * capex_percentage\n",
    "    nwc = sales[i] * working_capital_percentage\n",
    "    if i == 0:\n",
    "        change_in_nwc = change_in_nwc_initial\n",
    "    else:\n",
    "        change_in_nwc = nwc - (sales[i - 1] * working_capital_percentage)\n",
    "    nopat = ebit[i] * (1 - tax_rate)\n",
    "    fcff.append(nopat + depreciation - capex - change_in_nwc)\n",
    "\n",
    "# Set the valuation date\n",
    "valuation_date = '2015-04-08'\n",
    "\n",
    "# Calculate the entity value using DCF\n",
    "result = get_entity_value_dcf(fcff, wacc, g, market_value_debt, valuation_date)\n",
    "\n",
    "# Calculate the share price\n",
    "enterprise_value = result['V']\n",
    "equity_value = enterprise_value - market_value_debt\n",
    "share_price = equity_value / (num_shares / 1000000)\n",
    "\n",
    "print(f\"The Enterprise Value (Terminal Value) is {result['terminal_value']:.2f} million EUR\")\n",
    "print(f\"The Present Value of the Terminal Value is {result['PV_final']:.2f} million EUR\")\n",
    "print(f\"The Present Value of the company (equity) is {result['V']:.2f} million EUR\")\n",
    "print(f\"The Share Price is {share_price:.4f} EUR\")"
   ]
  },
  {
   "cell_type": "markdown",
   "id": "9dc3c01a952df03c",
   "metadata": {},
   "source": [
    "## Specific APV cases"
   ]
  },
  {
   "cell_type": "markdown",
   "id": "b6a5a5ba8f870753",
   "metadata": {},
   "source": [
    "## Enterprise Value (WACC):\n",
    "\n",
    "$$V_0 = \\frac{E[FCFF_1]}{(1+WACC)^1} + \\frac{E[FCFF_2]}{(1+WACC)^2} + \\frac{E[FCFF_3]}{(1+WACC)^3} + ...$$\n",
    "\n",
    "## Enterprise Value (APV):\n",
    "\n",
    "$$V_0 = \\frac{E[FCFF_1]}{(1+r_U)^1} + \\frac{E[FCFF_2]}{(1+r_U)^2} + \\frac{E[FCFF_3]}{(1+r_U)^3} + ... + PVTS$$\n",
    "\n",
    "The Adjusted Present Value Method (APV) is a general approach for valuing firms that do not have constant debt ratios. The enterprise value is split-up into a value of the unlevered firm V_U and present value of the tax shield PVTS. Note, however, that deriving the unlevered cost of capital r_U in general is not obvious, as for an investor holding all the outstanding claims of a firm the following relationship applies (r_T is the expected return associated with the tax shield):\n",
    "\n",
    "$$V_L = V_E + V_D = V_U + PVTS$$\n",
    "\n",
    "$$r_EV_E + r_DV_D = r_UV_U + r_TPVTS$$"
   ]
  },
  {
   "cell_type": "markdown",
   "id": "e88e62bf46ac14c9",
   "metadata": {},
   "source": [
    "## The APV-method leads to simple solutions only in specific cases\n",
    "\n",
    "### Assume a constant leverage ratio (case I)\n",
    "In this case r_T=r_U, as debt is proportional to firm value and tax shields. Therefore, debt has the same risk as free cash flows.\n",
    "\n",
    "$$PVTS = \\sum_{t=1}^{\\infty} \\frac{r_DV_{D,t}T}{(1+r_U)^t}$$\n",
    "$$\\quad r_U = r_E\\frac{V_E}{V} + r_D\\frac{V_D}{V}$$\n",
    "$$\\quad WACC = r_U - r_DT\\frac{V_D}{V};$$\n",
    "\n",
    "### Assume a constant debt level (case II)\n",
    "In this case r_T=r_D, as debt is constant and the tax shield has the same risk as debt.\n",
    "\n",
    "$$PVTS = \\sum_{t=1}^{\\infty} \\frac{r_DV_DT}{(1+r_D)^t}$$\n",
    "$$\\quad r_U = r_E\\frac{V_E}{V_E + V_D(1-T)} + r_D\\frac{V_D(1-T)}{V_E + V_D(1-T)}$$\n",
    "\n",
    "Combining this result with the well-know WACC-formula yields: $WACC = r_U \\left(1 - T\\frac{V_D}{V_E + V_D}\\right)$\n",
    "\n",
    "### These are two special solutions to the following general relationship\n",
    "\n",
    "$$WACC = r_U - \\frac{V_D}{V_E + V_D}T[r_D + k(r_U - r_D)]$$\n",
    "\n",
    "where k measures the permanence of the debt level, i.e. k=0 in case I and k=1 in case II"
   ]
  },
  {
   "cell_type": "code",
   "id": "ecb34146a8b1a3b2",
   "metadata": {
    "ExecuteTime": {
     "end_time": "2024-08-03T10:05:29.131210Z",
     "start_time": "2024-08-03T10:05:29.127284Z"
    }
   },
   "source": [
    "def calculate_apv(re, rd, t, rf, rm, k, Vd=None, Ve=None):\n",
    "    '''\n",
    "    k=0: case I (constant leverage ratio) => rt = ru\n",
    "    k=1: case II (constant debt level) => rt = rd\n",
    "    '''\n",
    "    if Vd:\n",
    "        Ve = 1 - Vd\n",
    "    else:\n",
    "        Vd = 1 - Ve\n",
    "\n",
    "    ru = rd * Vd + re * Ve\n",
    "    WACC = ru - Vd * t * (rd + k * (ru - rd))\n",
    "    betau = (ru - rf) / rm\n",
    "    betae = (re - rf) / rm\n",
    "    betad = (betau - Ve * betae) / Vd\n",
    "\n",
    "    return {\n",
    "        'ru': ru,\n",
    "        'WACC': WACC,\n",
    "        'betau': betau,\n",
    "        'betae': betae,\n",
    "        'betad': betad\n",
    "    }\n"
   ],
   "outputs": [],
   "execution_count": 13
  },
  {
   "cell_type": "code",
   "id": "d33fb36a42c39ccd",
   "metadata": {
    "collapsed": false,
    "ExecuteTime": {
     "end_time": "2024-08-03T10:05:30.661625Z",
     "start_time": "2024-08-03T10:05:30.657564Z"
    }
   },
   "source": [
    "# re - cost of equity\n",
    "re = 0.14\n",
    "# rd - cost of debt\n",
    "rd = 0.135\n",
    "# t - tax rate\n",
    "t = 0.34\n",
    "# rf - risk-free rate\n",
    "rf = 0.02\n",
    "# rm - market return\n",
    "rm = 0.03\n",
    "# k - case (0=constant leverage ratio, 1=constant debt level)\n",
    "k = 1  # \n",
    "\n",
    "result = calculate_apv(re, rd, t, rf, rm, k, Vd=.5)\n",
    "print(f\"The unlevered cost of equity is {result['ru']:.2f}\")\n",
    "print(f\"The WACC is {result['WACC'] * 100:.2f}%\")\n",
    "print(f\"The unlevered beta is {result['betau']:.2f}\")\n",
    "print(f\"The levered beta is {result['betae']:.2f}\")\n",
    "print(f\"The beta of the debt is {result['betad']:.2f}\")\n"
   ],
   "outputs": [
    {
     "name": "stdout",
     "output_type": "stream",
     "text": [
      "The unlevered cost of equity is 0.14\n",
      "The WACC is 11.41%\n",
      "The unlevered beta is 3.92\n",
      "The levered beta is 4.00\n",
      "The beta of the debt is 3.83\n"
     ]
    }
   ],
   "execution_count": 14
  },
  {
   "cell_type": "markdown",
   "id": "e961cb902d1a8514",
   "metadata": {},
   "source": [
    "## Multiple Valuation\n"
   ]
  },
  {
   "cell_type": "markdown",
   "id": "566463d59009a845",
   "metadata": {},
   "source": [
    "### Multiples as an outcome of the DCF-approach\n",
    "\n",
    "If two firms have the same WACC and growth rate, the ratio of the enterprise value to the FCFF is the same for both. This ratio can be labelled as a multiple.\n",
    "\n",
    "$$EV = FCFF_1 \\times M$$\n",
    "\n",
    "$$EV = \\sum_{t=1}^{\\infty} FCFF_t \\cdot (1+g)^t \\cdot (1+WACC)^{-t} = \\frac{FFCF_1}{WACC - g}$$\n",
    "\n",
    "$$\\Rightarrow M = \\frac{1}{WACC - g}$$\n",
    "\n",
    "For a non-growing firm, $FCFF=EBIT(1-T)$ holds; hence, for firms with the same WACC and growth rate the ratio EV/EBIT should be the same.\n",
    "\n",
    "Similarly, For firms with equal risk, growth rates and capital structure the cost of equity is the same; hence, they should have the same price/earnings ratio."
   ]
  },
  {
   "cell_type": "markdown",
   "id": "ab165ce043c9522",
   "metadata": {},
   "source": [
    "**EV / Sales**\n",
    "\n",
    "Advantages:\n",
    "* Applicable to young companies with negative Annual Net Profit\n",
    "* Good availability of data\n",
    "\n",
    "Disadvantages:\n",
    "* Sales is a bad indicator of profit situation\n",
    "* Problems with accounting effects (e.g. non-cash sales)\n",
    "* EV reflects the tax shield of comparables → multiple relates pre-tax earnings figure to after-tax market value\n",
    "\n",
    "**EV / EBITDA**\n",
    "\n",
    "Advantages:\n",
    "* Reflects operating profitability\n",
    "* Influence of accounting because of depreciation eliminated\n",
    "\n",
    "Disadvantages:\n",
    "* Problems due to differences in CAPEX and change in NWC\n",
    "* EV reflects the tax shield of comparables → multiple relates pre-tax earnings figure to after-tax market value\n",
    "\n",
    "**EV / EBIT**\n",
    "\n",
    "Advantages: \n",
    "* Reflects operating profitability\n",
    "* Independent from capital structure decision → high international comparability\n",
    "\n",
    "Disadvantages:\n",
    "* Influence of depreciation policy\n",
    "* EV reflects the tax shield of comparables → multiple relates pre-tax earnings figure to after-tax market value\n",
    "\n",
    "**P / E**\n",
    "\n",
    "Advantages: \n",
    "* Easy to communicate\n",
    "* High degree of aggregation\n",
    "* Suitable if capital structure is similar\n",
    "\n",
    "Disadvantages:\n",
    "* Annual Net Profit distorted due to depreciation, taxes, capital structure"
   ]
  },
  {
   "cell_type": "markdown",
   "id": "b7abf5c5eb83711d",
   "metadata": {},
   "source": [
    "### Enterprise vs. Equity multiples\n",
    "\n",
    "Value of firm = Value of equity (Often approximated by the book value of dept) + Value of net debt (market value of equity = # shares * share price)\n",
    "\n",
    "* Enterprise multiples based on measures of overall performance (e.g. EBIT, EBITDA, Sales, Customers)\n",
    "* Share price multiples based on measures of equity return (e.g. Price per share / Earnings (P/E-multiple))"
   ]
  },
  {
   "cell_type": "markdown",
   "id": "fb3d99c0f0f801c8",
   "metadata": {},
   "source": [
    "### Finding peer group firms is the fundamental problem in multiple valuation\n",
    "\n",
    "**Trading multiples**\n",
    "* Multiples are derived from share prices of companies listed on stock exchange\n",
    "* \"Peer Group\" usually based on firms of same industry (same size, etc)\n",
    "* Implies \"correct\" valuation of comparable companies by the market\n",
    "* For valuation of acquisitions: share prices usually do not contain a control premium; thus it has to be taken into account separately as a premium\n",
    "\n",
    "**Transaction multiples**\n",
    "* Multiples are derived from observed acquisitions prices of recent comparable transactions / from observed IPOs from recent IPOs\n",
    "* Acquisition prices usually contain control or strategic premia: thus no need to be taken into account separately!\n",
    "\n",
    "**Problems**\n",
    "* It is often hard to find comparable firms.\n",
    "* The average ratio for the sample of comparable firms often has a wide range.\n",
    "    * For example, the average P/E ratio might be 20, but the range could be from 10 to 50. How do you know whether your firm should be compared to the low, average, or high performers?"
   ]
  },
  {
   "cell_type": "markdown",
   "id": "1a148ff70c48d935",
   "metadata": {},
   "source": [
    "### Adjusting multiples is another important problem in multiple valuation\n",
    "Various key figures can be used for calculating multiples (e.g.: Sales Revenue, EBITDA, EBIT, NOPLAT, Net Profit,...)\n",
    "\n",
    "$$↓$$\n",
    "\n",
    "Unique events and discretionary accounting policy may distort key data and thus company values calculated\n",
    "\n",
    "$$↓$$\n",
    "\n",
    "Key figures should be standardized and/or adjusted.\n",
    "\n",
    "\n",
    "Adjustments\n",
    "* Extraordinary expenses/earnings\n",
    "* Disposition-contingent expenses/earnings (e.g. stock options, R&D expenses, non cash -revenues, pension reserves)"
   ]
  },
  {
   "cell_type": "code",
   "execution_count": 30,
   "id": "959eac9c7510619f",
   "metadata": {
    "ExecuteTime": {
     "end_time": "2024-08-01T13:21:19.849028Z",
     "start_time": "2024-08-01T13:21:19.839005Z"
    },
    "collapsed": false
   },
   "outputs": [],
   "source": [
    "def calculate_multiples(price, revenue, earnings, ebit, ebitda, book_value, debt, num_shares):\n",
    "    multiples = {\n",
    "        'P/Rev': price / revenue * num_shares,\n",
    "        'P/E': price / earnings * num_shares,\n",
    "        'P/B': price / book_value * num_shares,\n",
    "        'EV/EBIT': (price * num_shares + debt) / ebit,\n",
    "        'EV/EBITDA': (price * num_shares + debt) / ebitda\n",
    "    }\n",
    "    return multiples\n",
    "\n",
    "\n",
    "def calculate_mean_min_max_multiples(multiples_list):\n",
    "    mean_multiples = {}\n",
    "    min_multiples = {}\n",
    "    max_multiples = {}\n",
    "    \n",
    "    for multiples in multiples_list:\n",
    "        for key, value in multiples.items():\n",
    "            if key not in mean_multiples:\n",
    "                mean_multiples[key] = value\n",
    "                min_multiples[key] = value\n",
    "                max_multiples[key] = value\n",
    "            else:\n",
    "                mean_multiples[key] += value\n",
    "                min_multiples[key] = min(min_multiples[key], value)\n",
    "                max_multiples[key] = max(max_multiples[key], value)\n",
    "                \n",
    "    for key in mean_multiples:\n",
    "        mean_multiples[key] /= len(multiples_list)\n",
    "        \n",
    "    return mean_multiples, min_multiples, max_multiples\n",
    "\n",
    "\n",
    "def calculate_estimated_prices_at_multiples(multiples, price, revenue, earnings, ebit, ebitda, book_value, debt, num_shares):\n",
    "    estimated_prices = {\n",
    "        'P/Rev': max(0, multiples['P/Rev'] * revenue / num_shares),\n",
    "        'P/E': max(0, multiples['P/E'] * earnings / num_shares),\n",
    "        'P/B': multiples['P/B'] * book_value / num_shares,\n",
    "        'EV/EBIT': (multiples['EV/EBIT'] * ebit - debt) / num_shares,\n",
    "        'EV/EBITDA': (multiples['EV/EBITDA'] * ebitda - debt) / num_shares\n",
    "    }\n",
    "    return estimated_prices\n",
    "\n",
    "\n",
    "def calculate_estimated_prices_range(mean_multiples, min_multiples, max_multiples, target_data):\n",
    "    mean_prices = calculate_estimated_prices_at_multiples(mean_multiples, **target_data)\n",
    "    min_prices = calculate_estimated_prices_at_multiples(min_multiples, **target_data)\n",
    "    max_prices = calculate_estimated_prices_at_multiples(max_multiples, **target_data)\n",
    "    \n",
    "    return mean_prices, min_prices, max_prices\n",
    "\n",
    "\n",
    "def estimate_stock_price_from_range(estimated_prices):\n",
    "    mean_price = sum(estimated_prices[0].values()) / len(estimated_prices[0])\n",
    "    min_price = sum(estimated_prices[1].values()) / len(estimated_prices[1])\n",
    "    max_price = sum(estimated_prices[2].values()) / len(estimated_prices[2])\n",
    "    \n",
    "    return min_price, mean_price, max_price\n",
    "\n",
    "\n",
    "def print_multiples(multiples, label):\n",
    "    print(f\"\\n{label} Multiples:\")\n",
    "    for key, value in multiples.items():\n",
    "        print(f\"{key}: {value:.2f}\")\n",
    "\n",
    "\n",
    "def print_estimated_prices(estimated_prices, label):\n",
    "    print(f\"\\n{label} Prices for Target Company:\")\n",
    "    for key, value in estimated_prices.items():\n",
    "        print(f\"{key}: {value:.2f}\")\n",
    "\n",
    "\n",
    "def print_estimated_stock_price_range(min_price, mean_price, max_price):\n",
    "    print('\\n' + '=' * 50)\n",
    "    print(f\"Estimated Stock Price for Target Company:\")\n",
    "    print(f\"Min: {min_price:.2f}, Mean: {mean_price:.2f}, Max: {max_price:.2f}\")\n",
    "    print('=' * 50)"
   ]
  },
  {
   "cell_type": "code",
   "execution_count": 31,
   "id": "f8819aae5bbb5edd",
   "metadata": {
    "ExecuteTime": {
     "end_time": "2024-08-01T13:21:20.733197Z",
     "start_time": "2024-08-01T13:21:20.726434Z"
    }
   },
   "outputs": [
    {
     "name": "stdout",
     "output_type": "stream",
     "text": [
      "\n",
      "Company 1 Multiples:\n",
      "P/Rev: 0.50\n",
      "P/E: 7.03\n",
      "P/B: 1.49\n",
      "EV/EBIT: 16.25\n",
      "EV/EBITDA: 11.64\n",
      "\n",
      "Company 2 Multiples:\n",
      "P/Rev: 0.57\n",
      "P/E: 7.23\n",
      "P/B: 1.24\n",
      "EV/EBIT: 13.74\n",
      "EV/EBITDA: 10.22\n",
      "\n",
      "Mean Multiples:\n",
      "P/Rev: 0.54\n",
      "P/E: 7.13\n",
      "P/B: 1.36\n",
      "EV/EBIT: 14.99\n",
      "EV/EBITDA: 10.93\n",
      "\n",
      "Min Multiples:\n",
      "P/Rev: 0.50\n",
      "P/E: 7.03\n",
      "P/B: 1.24\n",
      "EV/EBIT: 13.74\n",
      "EV/EBITDA: 10.22\n",
      "\n",
      "Max Multiples:\n",
      "P/Rev: 0.57\n",
      "P/E: 7.23\n",
      "P/B: 1.49\n",
      "EV/EBIT: 16.25\n",
      "EV/EBITDA: 11.64\n",
      "\n",
      "Mean Prices for Target Company:\n",
      "P/Rev: 216.88\n",
      "P/E: 126.47\n",
      "P/B: 244.91\n",
      "EV/EBIT: 139.82\n",
      "EV/EBITDA: 230.35\n",
      "\n",
      "Min Prices for Target Company:\n",
      "P/Rev: 202.63\n",
      "P/E: 124.71\n",
      "P/B: 221.93\n",
      "EV/EBIT: 110.00\n",
      "EV/EBITDA: 201.10\n",
      "\n",
      "Max Prices for Target Company:\n",
      "P/Rev: 231.14\n",
      "P/E: 128.23\n",
      "P/B: 267.89\n",
      "EV/EBIT: 169.64\n",
      "EV/EBITDA: 259.59\n",
      "\n",
      "==================================================\n",
      "Estimated Stock Price for Target Company:\n",
      "Min: 172.08, Mean: 191.69, Max: 211.30\n",
      "==================================================\n"
     ]
    }
   ],
   "source": [
    "companies_data = {\n",
    "    'company1': {\n",
    "        'price': 60.91,\n",
    "        'revenue': 129.872,\n",
    "        'earnings': 9.272,\n",
    "        'ebit': 9.346,\n",
    "        'ebitda': 13.04,\n",
    "        'book_value': 43.665,\n",
    "        'debt': 86.689,\n",
    "        'num_shares': 1.0698\n",
    "    },\n",
    "    'company2': {\n",
    "        'price': 70.09,\n",
    "        'revenue': 80.401,\n",
    "        'earnings': 6.368,\n",
    "        'ebit': 8.99,\n",
    "        'ebitda': 12.092,\n",
    "        'book_value': 37.22,\n",
    "        'debt': 77.506,\n",
    "        'num_shares': 0.6565\n",
    "    },\n",
    "    'target_company': {\n",
    "        'price': 95.2,\n",
    "        'revenue': 202.458,\n",
    "        'earnings': 8.896,\n",
    "        'ebit': 11.921,\n",
    "        'ebitda': 20.505,\n",
    "        'book_value': 89.991,\n",
    "        'debt': 108.647,\n",
    "        'num_shares': 0.5013\n",
    "    }\n",
    "}\n",
    "\n",
    "# Calculate multiples for company1 and company2\n",
    "company1_multiples = calculate_multiples(**companies_data['company1'])\n",
    "company2_multiples = calculate_multiples(**companies_data['company2'])\n",
    "\n",
    "# Print multiples for company1 and company2\n",
    "print_multiples(company1_multiples, \"Company 1\")\n",
    "print_multiples(company2_multiples, \"Company 2\")\n",
    "\n",
    "# Calculate mean, min, and max multiples\n",
    "mean_multiples, min_multiples, max_multiples = calculate_mean_min_max_multiples([company1_multiples, company2_multiples])\n",
    "\n",
    "# Print mean, min, and max multiples\n",
    "print_multiples(mean_multiples, \"Mean\")\n",
    "print_multiples(min_multiples, \"Min\")\n",
    "print_multiples(max_multiples, \"Max\")\n",
    "\n",
    "# Estimate stock prices for target company\n",
    "mean_prices, min_prices, max_prices = calculate_estimated_prices_range(mean_multiples, min_multiples, max_multiples, companies_data['target_company'])\n",
    "\n",
    "# Print estimated prices for target company\n",
    "print_estimated_prices(mean_prices, \"Mean\")\n",
    "print_estimated_prices(min_prices, \"Min\")\n",
    "print_estimated_prices(max_prices, \"Max\")\n",
    "\n",
    "# Estimate stock price range from multiples\n",
    "min_price, mean_price, max_price = estimate_stock_price_from_range((mean_prices, min_prices, max_prices))\n",
    "\n",
    "# Print estimated stock price range\n",
    "print_estimated_stock_price_range(min_price, mean_price, max_price)"
   ]
  },
  {
   "cell_type": "code",
   "execution_count": 15,
   "id": "55bcfcc8d0b10dc7",
   "metadata": {
    "ExecuteTime": {
     "end_time": "2024-07-29T21:36:27.193811Z",
     "start_time": "2024-07-29T21:36:27.191035Z"
    }
   },
   "outputs": [],
   "source": [
    "def calculate_wacc(tau, re, rd, Ve, Vd):\n",
    "    V = Ve + Vd\n",
    "    WACC = (1 - tau) * rd * Vd / V + re * Ve / V\n",
    "    return WACC"
   ]
  },
  {
   "cell_type": "code",
   "execution_count": 16,
   "id": "5cbabeba8c684bd9",
   "metadata": {
    "ExecuteTime": {
     "end_time": "2024-07-29T21:36:28.411823Z",
     "start_time": "2024-07-29T21:36:28.408060Z"
    }
   },
   "outputs": [
    {
     "data": {
      "text/plain": [
       "0.075625"
      ]
     },
     "execution_count": 16,
     "metadata": {},
     "output_type": "execute_result"
    }
   ],
   "source": [
    "tau = .3\n",
    "re = .1\n",
    "rd = .05\n",
    "Vd = 3\n",
    "Ve = 5\n",
    "calculate_wacc(tau, re, rd, Ve, Vd)"
   ]
  },
  {
   "cell_type": "code",
   "execution_count": null,
   "id": "62b10ffc",
   "metadata": {},
   "outputs": [],
   "source": [
    "def black_scholes_valuation(asset_value, debt_value, risk_free_rate, volatility, time_to_maturity):\n",
    "    \"\"\"\n",
    "    Calculate market value of equity and debt using the Black-Scholes model.\n",
    "    \n",
    "    Parameters:\n",
    "    asset_value (float): Value of the firm's assets\n",
    "    debt_value (float): Face value of debt\n",
    "    risk_free_rate (float): Risk-free rate\n",
    "    volatility (float): Volatility of the asset's value\n",
    "    time_to_maturity (float): Time to maturity in years\n",
    "\n",
    "    Returns:\n",
    "    tuple: (Market value of equity, Market value of debt)\n",
    "    \"\"\"\n",
    "    d1 = (np.log(asset_value / debt_value) + (risk_free_rate + 0.5 * volatility**2) * time_to_maturity) / (volatility * np.sqrt(time_to_maturity))\n",
    "    d2 = d1 - volatility * np.sqrt(time_to_maturity)\n",
    "    \n",
    "    N_d1 = norm.cdf(d1)\n",
    "    N_d2 = norm.cdf(d2)\n",
    "    \n",
    "    equity_value = asset_value * N_d1 - debt_value * np.exp(-risk_free_rate * time_to_maturity) * N_d2\n",
    "    debt_value = asset_value - equity_value\n",
    "    \n",
    "    return equity_value, debt_value"
   ]
  },
  {
   "cell_type": "code",
   "execution_count": null,
   "id": "a92ac731",
   "metadata": {},
   "outputs": [],
   "source": [
    "asset_value = 100\n",
    "debt_value = 50\n",
    "risk_free_rate = 0.05\n",
    "volatility = 0.2\n",
    "time_to_maturity = 1\n",
    "\n",
    "equity_value, debt_value = black_scholes_valuation(asset_value, debt_value, risk_free_rate, volatility, time_to_maturity)\n",
    "print(f\"Market value of equity: {equity_value:.2f}\")\n",
    "print(f\"Market value of debt: {debt_value:.2f}\")\n"
   ]
  }
 ],
 "metadata": {
  "kernelspec": {
   "display_name": "Python 3",
   "language": "python",
   "name": "python3"
  },
  "language_info": {
   "codemirror_mode": {
    "name": "ipython",
    "version": 3
   },
   "file_extension": ".py",
   "mimetype": "text/x-python",
   "name": "python",
   "nbconvert_exporter": "python",
   "pygments_lexer": "ipython3",
   "version": "3.11.7"
  }
 },
 "nbformat": 4,
 "nbformat_minor": 5
}
