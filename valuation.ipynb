{
 "cells": [
  {
   "cell_type": "code",
   "execution_count": null,
   "id": "initial_id",
   "metadata": {
    "collapsed": true
   },
   "outputs": [],
   "source": [
    "import plotly.graph_objects as go\n",
    "from scipy.stats import norm\n",
    "import math\n",
    "import numpy as np"
   ]
  },
  {
   "metadata": {},
   "cell_type": "markdown",
   "source": "# Valuation",
   "id": "53a9c9f2800d19c"
  },
  {
   "metadata": {},
   "cell_type": "markdown",
   "source": "## Estimation of the cost of equity",
   "id": "433b130c206804dd"
  },
  {
   "metadata": {},
   "cell_type": "markdown",
   "source": "## How to de-/re-leverage a beta",
   "id": "8d55db7e0c0970d0"
  },
  {
   "metadata": {},
   "cell_type": "markdown",
   "source": "## Derivation of delevered (or unlevered) beta:",
   "id": "d8366cdacdfaead9"
  },
  {
   "metadata": {},
   "cell_type": "markdown",
   "source": "## WACC",
   "id": "8468c1c68ce878f9"
  },
  {
   "metadata": {
    "ExecuteTime": {
     "end_time": "2024-07-29T21:28:13.919845Z",
     "start_time": "2024-07-29T21:28:13.917305Z"
    }
   },
   "cell_type": "code",
   "source": [
    "# CAPM\n",
    "def calculate_re(rf, beta, rm):\n",
    "    '''\n",
    "    Calculates re, the cost of an equity\n",
    "    Parameters\n",
    "    ----------\n",
    "    rf: float\n",
    "    risk-free rate\n",
    "    beta: float\n",
    "    beta of the stock (market risk)\n",
    "    rm: float\n",
    "    market return\n",
    "    Notes\n",
    "    -----\n",
    "    rm-rf is the premium of the market over the risk-free rate\n",
    "    '''\n",
    "    re = rf + beta*(rm-rf)\n",
    "    return re\n",
    "\n",
    "# Hamada-Equation, supposing beta_debt=0\n",
    "def hamada(beta_u, Vd, Ve, tau):\n",
    "    return beta_u*(1 + Vd/Ve*(1-tau))\n",
    "\n",
    "def hamada_(beta_e, Vd, Ve, tau):\n",
    "    return beta_e*(1/(1 + Vd/Ve*(1-tau)))\n",
    "    \n",
    "def calculate_wacc(ke, kd, Ve, Vd, tau):\n",
    "    V = Ve + Vd\n",
    "    return ke*Ve/V + kd*(1-tau)*Vd/V"
   ],
   "id": "5812ebe70d55c06e",
   "outputs": [],
   "execution_count": 1
  },
  {
   "metadata": {
    "ExecuteTime": {
     "end_time": "2024-07-29T21:28:18.853968Z",
     "start_time": "2024-07-29T21:28:18.848372Z"
    }
   },
   "cell_type": "code",
   "source": "hamada(.8, 9, 6, .3)",
   "id": "d9854412a961f4dd",
   "outputs": [
    {
     "data": {
      "text/plain": [
       "1.64"
      ]
     },
     "execution_count": 2,
     "metadata": {},
     "output_type": "execute_result"
    }
   ],
   "execution_count": 2
  },
  {
   "metadata": {
    "ExecuteTime": {
     "end_time": "2024-07-29T21:28:27.651604Z",
     "start_time": "2024-07-29T21:28:27.646968Z"
    }
   },
   "cell_type": "code",
   "source": [
    "Vd_comp = 2\n",
    "Ve_comp = 71\n",
    "tau_comp = .33\n",
    "beta_e_comp = 1.24\n",
    "beta_u_comp = hamada_(beta_e_comp, Vd_comp, Ve_comp, tau_comp)\n",
    "print(f\"{beta_u_comp=:.2f}\")\n",
    "# We assume beta_u_comp = beta_u\n",
    "beta_u = beta_u_comp\n",
    "Vd = 4\n",
    "Ve = 11.5\n",
    "tau = .33\n",
    "beta = hamada(beta_u, Vd, Ve, tau)\n",
    "print(f\"{beta=:.2f}\")\n",
    "# cost of equity\n",
    "rf = .076\n",
    "rm = .121\n",
    "re = calculate_re(rf, beta, rm)\n",
    "print(f\"{re=:.2f}\")\n",
    "# WACC\n",
    "ke = re\n",
    "kd = .1\n",
    "Ve = 1150\n",
    "Vd = 400\n",
    "WACC = calculate_wacc(ke, kd, Ve, Vd, tau)\n",
    "print(f\"{WACC=:.2f}\")"
   ],
   "id": "4fd1159325ed6fbe",
   "outputs": [
    {
     "name": "stdout",
     "output_type": "stream",
     "text": [
      "beta_u_comp=1.22\n",
      "beta=1.50\n",
      "re=0.14\n",
      "WACC=0.12\n"
     ]
    }
   ],
   "execution_count": 3
  },
  {
   "metadata": {},
   "cell_type": "markdown",
   "source": "## Present Value (PV)",
   "id": "a0bc64faca38a4e7"
  },
  {
   "metadata": {
    "ExecuteTime": {
     "end_time": "2024-07-29T21:30:21.164520Z",
     "start_time": "2024-07-29T21:30:21.161320Z"
    }
   },
   "cell_type": "code",
   "source": [
    "def calculate_PV(cashflows, rate):\n",
    "    '''\n",
    "    Calculates the Present Value of a company based on the projection of the cashflo\n",
    "    cashflows: list[float]\n",
    "    cashflows\n",
    "    rate: float\n",
    "    constant rate utilized, can be WACC\n",
    "    '''\n",
    "    t = len(cashflows)\n",
    "    PV = 0\n",
    "    for i in range(t):\n",
    "        PV += cashflows[i]/((1 + rate)**(i + 1))\n",
    "    return PV"
   ],
   "id": "1533b62519dd18c8",
   "outputs": [],
   "execution_count": 4
  },
  {
   "metadata": {
    "ExecuteTime": {
     "end_time": "2024-07-29T21:30:22.963573Z",
     "start_time": "2024-07-29T21:30:22.960324Z"
    }
   },
   "cell_type": "code",
   "source": [
    "cashflows = [30, 35, 40, 45]\n",
    "rate = 0.0756 # from last code-cell\n",
    "PV = calculate_PV(cashflows, rate)\n",
    "print(f\"{PV=:.2f}\")"
   ],
   "id": "3b913399a581f87d",
   "outputs": [
    {
     "name": "stdout",
     "output_type": "stream",
     "text": [
      "PV=123.91\n"
     ]
    }
   ],
   "execution_count": 5
  },
  {
   "metadata": {
    "ExecuteTime": {
     "end_time": "2024-07-29T21:30:40.066533Z",
     "start_time": "2024-07-29T21:30:40.063272Z"
    }
   },
   "cell_type": "code",
   "source": [
    "def get_entity_value_dcf(cashflows, rate, g):\n",
    "    # we approximate the cashflow in t+1 with the value at t with growth g and rate\n",
    "    terminal_value = cashflows[-1]*(1+g)/(rate-g)\n",
    "    # get it to present value\n",
    "    PV_final = terminal_value/(1 + rate)**(len(cashflows))\n",
    "    PV = calculate_PV(cashflows, rate)\n",
    "    V = PV + PV_final\n",
    "    return V"
   ],
   "id": "3f39292606e119e5",
   "outputs": [],
   "execution_count": 7
  },
  {
   "metadata": {
    "ExecuteTime": {
     "end_time": "2024-07-29T21:30:46.637620Z",
     "start_time": "2024-07-29T21:30:46.634569Z"
    }
   },
   "cell_type": "code",
   "source": [
    "cashflows = [30, 35, 40, 45]\n",
    "g = .02\n",
    "re = .1\n",
    "rd = .05\n",
    "Vd = 3\n",
    "Ve = 5\n",
    "WACC = calculate_wacc(tau, re, rd, Ve, Vd)\n",
    "rate = WACC\n",
    "V = get_entity_value_dcf(cashflows, rate, g)\n",
    "print(f\"{V=:.2f}\")\n",
    "print(f\"Ve={V-Vd:.2f}\")"
   ],
   "id": "43b1614d223c3cd9",
   "outputs": [
    {
     "name": "stdout",
     "output_type": "stream",
     "text": [
      "V=-233.48\n",
      "Ve=-236.48\n"
     ]
    }
   ],
   "execution_count": 8
  },
  {
   "metadata": {},
   "cell_type": "markdown",
   "source": "## Specific AOV cases",
   "id": "9dc3c01a952df03c"
  },
  {
   "metadata": {
    "ExecuteTime": {
     "end_time": "2024-07-29T21:34:44.976463Z",
     "start_time": "2024-07-29T21:34:44.972425Z"
    }
   },
   "cell_type": "code",
   "source": [
    "def calculate_apv(re, rd, t, rf, rm, k, Vd=None, Ve=None):\n",
    "    '''\n",
    "    k=0: case I (constant leverage ratio) => rt = ru\n",
    "    k=1: case II (constant debt level) =>\n",
    "    rt = rd\n",
    "    '''\n",
    "    if Vd:\n",
    "        Ve = 1 - Vd\n",
    "    else:\n",
    "        Vd = 1 - Ve\n",
    "        \n",
    "    ru = rd*Vd + re*Ve\n",
    "    print(f\"{ru=:.2f}\")\n",
    "    WACC = ru - Vd*t*(rd + k*(ru-rd))\n",
    "    print(f\"{WACC=:.2f}\")\n",
    "    betau = (ru - rf)/rm\n",
    "    print(f\"{betau=:.2f}\")\n",
    "    betae = (re - rf)/rm\n",
    "    print(f\"{betae=:.2f}\")\n",
    "    betad = (betau - Ve*betae)/Vd\n",
    "    print(f\"{betad=:.2f}\")"
   ],
   "id": "ecb34146a8b1a3b2",
   "outputs": [],
   "execution_count": 10
  },
  {
   "metadata": {
    "ExecuteTime": {
     "end_time": "2024-07-29T21:34:46.329262Z",
     "start_time": "2024-07-29T21:34:46.326873Z"
    }
   },
   "cell_type": "code",
   "source": [
    "re = 0.1\n",
    "rd = 0.06\n",
    "t = 0.35\n",
    "rf = 0.02\n",
    "rm = 0.06 # Maturity risk premium\n",
    "k = 1 # case\n",
    "calculate_apv(re, rd, t, rf, rm, k, Vd=.5)"
   ],
   "id": "eb92a4d591f6e7c2",
   "outputs": [
    {
     "name": "stdout",
     "output_type": "stream",
     "text": [
      "ru=0.08\n",
      "WACC=0.07\n",
      "betau=1.00\n",
      "betae=1.33\n",
      "betad=0.67\n"
     ]
    }
   ],
   "execution_count": 11
  },
  {
   "metadata": {},
   "cell_type": "markdown",
   "source": "## Multiple Valuation",
   "id": "e961cb902d1a8514"
  },
  {
   "metadata": {
    "ExecuteTime": {
     "end_time": "2024-07-29T21:36:01.324794Z",
     "start_time": "2024-07-29T21:36:01.320132Z"
    }
   },
   "cell_type": "code",
   "source": [
    "####\n",
    "p = 44.12\n",
    "S = 247e6\n",
    "#R = 129e9\n",
    "#E = 9.27e9\n",
    "B = 1441.4e6\n",
    "EBIT = 187.6e6\n",
    "#EBITDA = 13e9\n",
    "#P_R = p*S/R\n",
    "#P_E = p*S/E\n",
    "#P_B = p*S/B\n",
    "EV_EBIT = (p*S + B)/EBIT\n",
    "#EV_EBITDA = (p*S + B)/EBITDA\n",
    "#print(f\"{P_R=:,.2f}\")\n",
    "#print(f\"{P_E=:,.2f}\")\n",
    "#print(f\"{P_B=:,.2f}\")\n",
    "print(f\"{EV_EBIT=:,.2f}\")\n",
    "#print(f\"{EV_EBITDA=:,.2f}\")\n",
    "####\n",
    "(EV_EBIT*89.64e6 - 544.2e6)/83e6"
   ],
   "id": "f8819aae5bbb5edd",
   "outputs": [
    {
     "name": "stdout",
     "output_type": "stream",
     "text": [
      "EV_EBIT=65.77\n"
     ]
    },
    {
     "data": {
      "text/plain": [
       "64.47835856860277"
      ]
     },
     "execution_count": 13,
     "metadata": {},
     "output_type": "execute_result"
    }
   ],
   "execution_count": 13
  },
  {
   "metadata": {
    "ExecuteTime": {
     "end_time": "2024-07-29T21:36:27.193811Z",
     "start_time": "2024-07-29T21:36:27.191035Z"
    }
   },
   "cell_type": "code",
   "source": [
    "def calculate_wacc(tau, re, rd, Ve, Vd):\n",
    "    V = Ve + Vd\n",
    "    WACC = (1 - tau)*rd*Vd/V + re*Ve/V\n",
    "    return WACC"
   ],
   "id": "55bcfcc8d0b10dc7",
   "outputs": [],
   "execution_count": 15
  },
  {
   "metadata": {
    "ExecuteTime": {
     "end_time": "2024-07-29T21:36:28.411823Z",
     "start_time": "2024-07-29T21:36:28.408060Z"
    }
   },
   "cell_type": "code",
   "source": [
    "tau = .3\n",
    "re = .1\n",
    "rd = .05\n",
    "Vd = 3\n",
    "Ve = 5\n",
    "calculate_wacc(tau, re, rd, Ve, Vd)"
   ],
   "id": "5cbabeba8c684bd9",
   "outputs": [
    {
     "data": {
      "text/plain": [
       "0.075625"
      ]
     },
     "execution_count": 16,
     "metadata": {},
     "output_type": "execute_result"
    }
   ],
   "execution_count": 16
  }
 ],
 "metadata": {
  "kernelspec": {
   "display_name": "Python 3",
   "language": "python",
   "name": "python3"
  },
  "language_info": {
   "codemirror_mode": {
    "name": "ipython",
    "version": 2
   },
   "file_extension": ".py",
   "mimetype": "text/x-python",
   "name": "python",
   "nbconvert_exporter": "python",
   "pygments_lexer": "ipython2",
   "version": "2.7.6"
  }
 },
 "nbformat": 4,
 "nbformat_minor": 5
}
