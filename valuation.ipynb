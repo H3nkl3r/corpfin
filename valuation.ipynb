{
 "cells": [
  {
   "cell_type": "code",
   "execution_count": 3,
   "id": "initial_id",
   "metadata": {
    "collapsed": true,
    "ExecuteTime": {
     "end_time": "2024-08-01T12:52:28.951133Z",
     "start_time": "2024-08-01T12:52:26.880719Z"
    }
   },
   "outputs": [],
   "source": [
    "import plotly.graph_objects as go\n",
    "from scipy.stats import norm\n",
    "import math\n",
    "import numpy as np"
   ]
  },
  {
   "cell_type": "markdown",
   "id": "53a9c9f2800d19c",
   "metadata": {},
   "source": [
    "# Valuation"
   ]
  },
  {
   "cell_type": "markdown",
   "id": "433b130c206804dd",
   "metadata": {},
   "source": [
    "## Estimation of the cost of equity"
   ]
  },
  {
   "cell_type": "markdown",
   "id": "8d55db7e0c0970d0",
   "metadata": {},
   "source": [
    "## How to de-/re-leverage a beta"
   ]
  },
  {
   "cell_type": "markdown",
   "id": "d8366cdacdfaead9",
   "metadata": {},
   "source": [
    "## Derivation of delevered (or unlevered) beta:"
   ]
  },
  {
   "cell_type": "markdown",
   "id": "8468c1c68ce878f9",
   "metadata": {},
   "source": [
    "## WACC"
   ]
  },
  {
   "cell_type": "code",
   "execution_count": 4,
   "id": "5812ebe70d55c06e",
   "metadata": {
    "ExecuteTime": {
     "end_time": "2024-08-01T12:52:30.278868Z",
     "start_time": "2024-08-01T12:52:30.275085Z"
    }
   },
   "outputs": [],
   "source": [
    "# CAPM\n",
    "def calculate_re(rf, beta, rm):\n",
    "    '''\n",
    "    Calculates re, the cost of an equity\n",
    "    Parameters\n",
    "    ----------\n",
    "    rf: float\n",
    "    risk-free rate\n",
    "    beta: float\n",
    "    beta of the stock (market risk)\n",
    "    rm: float\n",
    "    market return\n",
    "    Notes\n",
    "    -----\n",
    "    rm-rf is the premium of the market over the risk-free rate\n",
    "    '''\n",
    "    re = rf + beta * (rm - rf)\n",
    "    return re\n",
    "\n",
    "\n",
    "# Hamada-Equation, supposing beta_debt=0\n",
    "def hamada(beta_u, Vd, Ve, tau):\n",
    "    # beta_u: unlevered beta\n",
    "    # Vd: debt\n",
    "    # Ve: equity\n",
    "    # tau: tax rate\n",
    "    return beta_u * (1 + Vd / Ve * (1 - tau))\n",
    "\n",
    "\n",
    "def hamada_(beta_e, Vd, Ve, tau):\n",
    "    # beta_e: levered beta\n",
    "    # Vd: debt\n",
    "    # Ve: equity\n",
    "    # tau: tax rate\n",
    "\n",
    "    return beta_e * (1 / (1 + Vd / Ve * (1 - tau)))\n",
    "\n",
    "\n",
    "def calculate_wacc(ke, kd, Ve, Vd, tau):\n",
    "    V = Ve + Vd\n",
    "    return ke * Ve / V + kd * (1 - tau) * Vd / V\n",
    "\n"
   ]
  },
  {
   "cell_type": "code",
   "execution_count": 2,
   "id": "d9854412a961f4dd",
   "metadata": {
    "ExecuteTime": {
     "end_time": "2024-07-29T21:28:18.853968Z",
     "start_time": "2024-07-29T21:28:18.848372Z"
    }
   },
   "outputs": [
    {
     "data": {
      "text/plain": [
       "1.64"
      ]
     },
     "execution_count": 2,
     "metadata": {},
     "output_type": "execute_result"
    }
   ],
   "source": [
    "hamada(.8, 9, 6, .3)"
   ]
  },
  {
   "cell_type": "code",
   "execution_count": 5,
   "id": "7652f8a118c5a49b",
   "metadata": {
    "collapsed": false,
    "ExecuteTime": {
     "end_time": "2024-08-01T12:52:32.368626Z",
     "start_time": "2024-08-01T12:52:32.363575Z"
    }
   },
   "outputs": [
    {
     "name": "stdout",
     "output_type": "stream",
     "text": [
      "The unlevered beta is 1.22\n",
      "The relevered beta is 1.50\n",
      "The cost of equity is 14.35%\n",
      "The WACC is 12.38%\n"
     ]
    }
   ],
   "source": [
    "# 1. Calculate the unlevered beta\n",
    "Vd_comp = 0.2\n",
    "Ve_comp = 7.1\n",
    "\n",
    "# debt_equity_ratio = 0.8/2.3\n",
    "# \n",
    "# if not Ve_comp:\n",
    "#     Ve_comp = Vd_comp/debt_equity_ratio\n",
    "# else:\n",
    "#     Vd_comp = Ve_comp*debt_equity_ratio\n",
    "\n",
    "tau_comp = .33\n",
    "beta_e_comp = 1.24\n",
    "beta_u_comp = hamada_(beta_e_comp, Vd_comp, Ve_comp, tau_comp)\n",
    "print(f'The unlevered beta is {beta_u_comp:.2f}')\n",
    "\n",
    "# We assume beta_u_comp = beta_u\n",
    "beta_u = beta_u_comp\n",
    "\n",
    "# 2. Calculate the relevered beta\n",
    "Vd = 400\n",
    "Ve = 11.5\n",
    "\n",
    "debt_equity_ratio = 0.8 / 2.3\n",
    "\n",
    "if not Ve:\n",
    "    Ve = Vd / debt_equity_ratio\n",
    "else:\n",
    "    Vd = Ve * debt_equity_ratio\n",
    "\n",
    "tau = .33\n",
    "beta = hamada(beta_u, Vd, Ve, tau)\n",
    "\n",
    "print(f'The relevered beta is {beta:.2f}')\n",
    "\n",
    "# 3. Calculate the cost of equity using the relevered beta and CAPM\n",
    "# cost of equity\n",
    "rf = .076\n",
    "rm = .121\n",
    "re = calculate_re(rf, beta, rm)\n",
    "\n",
    "print(f'The cost of equity is {re * 100:.2f}%')\n",
    "\n",
    "# 4. Calculate the cost of debt\n",
    "ke = re\n",
    "kd = .1\n",
    "Ve = 1150\n",
    "Vd = 400\n",
    "WACC = calculate_wacc(ke, kd, Ve, Vd, tau)\n",
    "\n",
    "print(f'The WACC is {WACC * 100:.2f}%')"
   ]
  },
  {
   "cell_type": "markdown",
   "id": "a0bc64faca38a4e7",
   "metadata": {},
   "source": [
    "## Present Value (PV)"
   ]
  },
  {
   "cell_type": "code",
   "execution_count": 6,
   "id": "1533b62519dd18c8",
   "metadata": {
    "ExecuteTime": {
     "end_time": "2024-08-01T12:52:34.766104Z",
     "start_time": "2024-08-01T12:52:34.760095Z"
    }
   },
   "outputs": [],
   "source": [
    "def calculate_PV(cashflows, rate):\n",
    "    '''\n",
    "    Calculates the Present Value of a company based on the projection of the cashflow\n",
    "    cashflows: list[float]\n",
    "    rate: float\n",
    "    constant rate utilized, can be WACC\n",
    "    '''\n",
    "    PV = sum([cf / ((1 + rate) ** (i + 1)) for i, cf in enumerate(cashflows)])\n",
    "    return PV\n",
    "\n",
    "def calculate_PV_perpetuity(cashflow_t, rate, g, t):\n",
    "    '''\n",
    "    Calculates the Present Value of a perpetuity based on the projection of the cashflow\n",
    "    cashflow_t: float\n",
    "    cashflow at time t\n",
    "    rate: float\n",
    "    constant rate utilized, can be WACC or cost of equity (k_u)\n",
    "    g: float\n",
    "    growth rate\n",
    "    t: int\n",
    "    number of periods\n",
    "    '''\n",
    "    PV = cashflow_t * (1 + g) / ((rate - g) * (1 + rate) ** t) \n",
    "    return PV\n",
    "\n",
    "def calculate_PV_interest_tax_shields(interest_expenses, rate, tau):\n",
    "    '''\n",
    "    Calculates the Present Value of the interest tax shields\n",
    "    interest_expenses: list[float]\n",
    "    rate: float\n",
    "    constant rate utilized, can be WACC or cost of debt (k_d)\n",
    "    tau: float\n",
    "    tax rate (0 < tau < 1)\n",
    "    '''\n",
    "    PV = sum([interest * tau / ((1 + rate) ** (i + 1)) for i, interest in enumerate(interest_expenses)])\n",
    "    return PV\n",
    "\n",
    "def calculate_PV_tax_shields_perpetuity(FCFF, g, WACC, n):\n",
    "    '''\n",
    "    Calculates the Present Value of the tax shields beyond a certain year in perpetuity\n",
    "    FCFF: float\n",
    "        Free Cash Flow to the Firm at the final projected year\n",
    "    g: float\n",
    "        Growth rate of the cash flows\n",
    "    WACC: float\n",
    "        Weighted Average Cost of Capital\n",
    "    n: int\n",
    "        Number of years till the final projected year\n",
    "    '''\n",
    "    TVL = (FCFF * (1 + g)) / (WACC - g)\n",
    "    PV_TS = TVL / ((1 + WACC) ** n)\n",
    "    return PV_TS\n",
    "\n",
    "def calculate_firm_value(V_U, PV_TS):\n",
    "    '''\n",
    "    Calculates the total value of the levered firm\n",
    "    V_U: float\n",
    "        Value of the unlevered firm\n",
    "    PV_TS: float\n",
    "        Present Value of the Tax Shields\n",
    "    '''\n",
    "    V_L = V_U + PV_TS\n",
    "    return V_L\n",
    "\n",
    "def calculate_equity_value(V_L, V_D, shares_outstanding):\n",
    "    '''\n",
    "    Calculates the equity value and value per share\n",
    "    V_L: float\n",
    "        Value of the levered firm\n",
    "    V_D: float\n",
    "        Value of the firm's debt\n",
    "    shares_outstanding: float\n",
    "        Number of shares outstanding\n",
    "    '''\n",
    "    V_E = V_L - V_D\n",
    "    value_per_share = V_E / shares_outstanding\n",
    "    return V_E, value_per_share"
   ]
  },
  {
   "cell_type": "code",
   "execution_count": 7,
   "id": "3b913399a581f87d",
   "metadata": {
    "ExecuteTime": {
     "end_time": "2024-08-01T12:52:38.247721Z",
     "start_time": "2024-08-01T12:52:38.244936Z"
    }
   },
   "outputs": [
    {
     "name": "stdout",
     "output_type": "stream",
     "text": [
      "The present value of the company is 972.82\n"
     ]
    }
   ],
   "source": [
    "cashflows = [-397.6, 156.0, 32.9, 176.9, 315.2, 400.4, 448.8, 436.8, 484, 498.4]\n",
    "rate = 0.1238  # from last code-cell (WACC)\n",
    "PV = calculate_PV(cashflows, rate)\n",
    "print(f\"The present value of the company is {PV:.2f}\")\n"
   ]
  },
  {
   "cell_type": "code",
   "execution_count": 8,
   "id": "3f39292606e119e5",
   "metadata": {
    "ExecuteTime": {
     "end_time": "2024-08-01T12:52:39.589633Z",
     "start_time": "2024-08-01T12:52:39.584402Z"
    }
   },
   "outputs": [],
   "source": [
    "def get_entity_value_dcf(cashflows, rate, g, pv_debt=None):\n",
    "    # we approximate the cashflow in t+1 with the value at t with growth g and rate\n",
    "    terminal_value = cashflows[-1] * (1 + g) / (rate - g)\n",
    "\n",
    "    # get it to present value\n",
    "    PV_final = terminal_value / (1 + rate) ** (len(cashflows))\n",
    "    PV = calculate_PV(cashflows, rate)\n",
    "    if pv_debt:\n",
    "        V = PV + PV_final - pv_debt\n",
    "    else:\n",
    "        V = PV + PV_final\n",
    "\n",
    "    return {\n",
    "        'terminal_value': terminal_value,\n",
    "        'PV_final': PV_final,\n",
    "        'PV': PV,\n",
    "        'V': V\n",
    "    }"
   ]
  },
  {
   "cell_type": "code",
   "execution_count": 9,
   "id": "43b1614d223c3cd9",
   "metadata": {
    "ExecuteTime": {
     "end_time": "2024-08-01T12:52:41.143509Z",
     "start_time": "2024-08-01T12:52:41.139486Z"
    }
   },
   "outputs": [
    {
     "name": "stdout",
     "output_type": "stream",
     "text": [
      "The Enterprise Value (Terminal Value) is 6188.49\n",
      "The Present Value of the Terminal Value is 1926.89\n",
      "The Present Value of the company (equity) is 2500.02\n"
     ]
    }
   ],
   "source": [
    "cashflows = [-397.6, 156.0, 32.9, 176.9, 315.2, 400.4, 448.8, 436.8, 484, 498.4]\n",
    "# g - growth rate\n",
    "g = .04\n",
    "# re - cost of equity\n",
    "re = .1435\n",
    "# rd - cost of debt\n",
    "rd = .1\n",
    "# Vd - debt\n",
    "Vd = 400\n",
    "\n",
    "debt_equity_ratio = 0.8 / 2.3\n",
    "# Ve - equity\n",
    "Ve = None\n",
    "\n",
    "if not Ve:\n",
    "    Ve = Vd / debt_equity_ratio\n",
    "else:\n",
    "    Vd = Ve * debt_equity_ratio\n",
    "\n",
    "tau = .33\n",
    "\n",
    "WACC = calculate_wacc(re, rd, Ve, Vd, tau)\n",
    "\n",
    "rate = WACC\n",
    "result = get_entity_value_dcf(cashflows, rate, g, Vd)\n",
    "\n",
    "print(f\"The Enterprise Value (Terminal Value) is {result['terminal_value']:.2f}\")\n",
    "print(f\"The Present Value of the Terminal Value is {result['PV_final']:.2f}\")\n",
    "print(f\"The Present Value of the company (equity) is {result['V']:.2f}\")\n",
    "\n"
   ]
  },
  {
   "cell_type": "markdown",
   "id": "9dc3c01a952df03c",
   "metadata": {},
   "source": [
    "## Specific APV cases"
   ]
  },
  {
   "cell_type": "code",
   "execution_count": 10,
   "id": "ecb34146a8b1a3b2",
   "metadata": {
    "ExecuteTime": {
     "end_time": "2024-08-01T12:52:43.724498Z",
     "start_time": "2024-08-01T12:52:43.719819Z"
    }
   },
   "outputs": [],
   "source": [
    "def calculate_apv(re, rd, t, rf, rm, k, Vd=None, Ve=None):\n",
    "    '''\n",
    "    k=0: case I (constant leverage ratio) => rt = ru\n",
    "    k=1: case II (constant debt level) => rt = rd\n",
    "    '''\n",
    "    if Vd:\n",
    "        Ve = 1 - Vd\n",
    "    else:\n",
    "        Vd = 1 - Ve\n",
    "\n",
    "    ru = rd * Vd + re * Ve\n",
    "    WACC = ru - Vd * t * (rd + k * (ru - rd))\n",
    "    betau = (ru - rf) / rm\n",
    "    betae = (re - rf) / rm\n",
    "    betad = (betau - Ve * betae) / Vd\n",
    "\n",
    "    return {\n",
    "        'ru': ru,\n",
    "        'WACC': WACC,\n",
    "        'betau': betau,\n",
    "        'betae': betae,\n",
    "        'betad': betad\n",
    "    }\n"
   ]
  },
  {
   "cell_type": "code",
   "execution_count": 11,
   "id": "d33fb36a42c39ccd",
   "metadata": {
    "collapsed": false,
    "ExecuteTime": {
     "end_time": "2024-08-01T12:52:45.552183Z",
     "start_time": "2024-08-01T12:52:45.548531Z"
    }
   },
   "outputs": [
    {
     "name": "stdout",
     "output_type": "stream",
     "text": [
      "The unlevered cost of equity is 0.08\n",
      "The WACC is 6.60%\n",
      "The unlevered beta is 1.00\n",
      "The levered beta is 1.33\n",
      "The beta of the debt is 0.67\n"
     ]
    }
   ],
   "source": [
    "# re - cost of equity\n",
    "re = 0.1\n",
    "# rd - cost of debt\n",
    "rd = 0.06\n",
    "# t - tax rate\n",
    "t = 0.35\n",
    "# rf - risk-free rate\n",
    "rf = 0.02\n",
    "# rm - market return\n",
    "rm = 0.06\n",
    "# k - case (0=constant leverage ratio, 1=constant debt level)\n",
    "k = 1  # \n",
    "\n",
    "result = calculate_apv(re, rd, t, rf, rm, k, Vd=.5)\n",
    "print(f\"The unlevered cost of equity is {result['ru']:.2f}\")\n",
    "print(f\"The WACC is {result['WACC'] * 100:.2f}%\")\n",
    "print(f\"The unlevered beta is {result['betau']:.2f}\")\n",
    "print(f\"The levered beta is {result['betae']:.2f}\")\n",
    "print(f\"The beta of the debt is {result['betad']:.2f}\")\n"
   ]
  },
  {
   "cell_type": "markdown",
   "id": "e961cb902d1a8514",
   "metadata": {},
   "source": [
    "## Multiple Valuation\n"
   ]
  },
  {
   "cell_type": "code",
   "execution_count": 30,
   "id": "959eac9c7510619f",
   "metadata": {
    "collapsed": false,
    "ExecuteTime": {
     "end_time": "2024-08-01T13:21:19.849028Z",
     "start_time": "2024-08-01T13:21:19.839005Z"
    }
   },
   "outputs": [],
   "source": [
    "def calculate_multiples(price, revenue, earnings, ebit, ebitda, book_value, debt, num_shares):\n",
    "    multiples = {\n",
    "        'P/Rev': price / revenue * num_shares,\n",
    "        'P/E': price / earnings * num_shares,\n",
    "        'P/B': price / book_value * num_shares,\n",
    "        'EV/EBIT': (price * num_shares + debt) / ebit,\n",
    "        'EV/EBITDA': (price * num_shares + debt) / ebitda\n",
    "    }\n",
    "    return multiples\n",
    "\n",
    "\n",
    "def calculate_mean_min_max_multiples(multiples_list):\n",
    "    mean_multiples = {}\n",
    "    min_multiples = {}\n",
    "    max_multiples = {}\n",
    "    \n",
    "    for multiples in multiples_list:\n",
    "        for key, value in multiples.items():\n",
    "            if key not in mean_multiples:\n",
    "                mean_multiples[key] = value\n",
    "                min_multiples[key] = value\n",
    "                max_multiples[key] = value\n",
    "            else:\n",
    "                mean_multiples[key] += value\n",
    "                min_multiples[key] = min(min_multiples[key], value)\n",
    "                max_multiples[key] = max(max_multiples[key], value)\n",
    "                \n",
    "    for key in mean_multiples:\n",
    "        mean_multiples[key] /= len(multiples_list)\n",
    "        \n",
    "    return mean_multiples, min_multiples, max_multiples\n",
    "\n",
    "\n",
    "def calculate_estimated_prices_at_multiples(multiples, price, revenue, earnings, ebit, ebitda, book_value, debt, num_shares):\n",
    "    estimated_prices = {\n",
    "        'P/Rev': max(0, multiples['P/Rev'] * revenue / num_shares),\n",
    "        'P/E': max(0, multiples['P/E'] * earnings / num_shares),\n",
    "        'P/B': multiples['P/B'] * book_value / num_shares,\n",
    "        'EV/EBIT': (multiples['EV/EBIT'] * ebit - debt) / num_shares,\n",
    "        'EV/EBITDA': (multiples['EV/EBITDA'] * ebitda - debt) / num_shares\n",
    "    }\n",
    "    return estimated_prices\n",
    "\n",
    "\n",
    "def calculate_estimated_prices_range(mean_multiples, min_multiples, max_multiples, target_data):\n",
    "    mean_prices = calculate_estimated_prices_at_multiples(mean_multiples, **target_data)\n",
    "    min_prices = calculate_estimated_prices_at_multiples(min_multiples, **target_data)\n",
    "    max_prices = calculate_estimated_prices_at_multiples(max_multiples, **target_data)\n",
    "    \n",
    "    return mean_prices, min_prices, max_prices\n",
    "\n",
    "\n",
    "def estimate_stock_price_from_range(estimated_prices):\n",
    "    mean_price = sum(estimated_prices[0].values()) / len(estimated_prices[0])\n",
    "    min_price = sum(estimated_prices[1].values()) / len(estimated_prices[1])\n",
    "    max_price = sum(estimated_prices[2].values()) / len(estimated_prices[2])\n",
    "    \n",
    "    return min_price, mean_price, max_price\n",
    "\n",
    "\n",
    "def print_multiples(multiples, label):\n",
    "    print(f\"\\n{label} Multiples:\")\n",
    "    for key, value in multiples.items():\n",
    "        print(f\"{key}: {value:.2f}\")\n",
    "\n",
    "\n",
    "def print_estimated_prices(estimated_prices, label):\n",
    "    print(f\"\\n{label} Prices for Target Company:\")\n",
    "    for key, value in estimated_prices.items():\n",
    "        print(f\"{key}: {value:.2f}\")\n",
    "\n",
    "\n",
    "def print_estimated_stock_price_range(min_price, mean_price, max_price):\n",
    "    print('\\n' + '=' * 50)\n",
    "    print(f\"Estimated Stock Price for Target Company:\")\n",
    "    print(f\"Min: {min_price:.2f}, Mean: {mean_price:.2f}, Max: {max_price:.2f}\")\n",
    "    print('=' * 50)"
   ]
  },
  {
   "cell_type": "code",
   "execution_count": 31,
   "id": "f8819aae5bbb5edd",
   "metadata": {
    "ExecuteTime": {
     "end_time": "2024-08-01T13:21:20.733197Z",
     "start_time": "2024-08-01T13:21:20.726434Z"
    }
   },
   "outputs": [
    {
     "name": "stdout",
     "output_type": "stream",
     "text": [
      "\n",
      "Company 1 Multiples:\n",
      "P/Rev: 0.50\n",
      "P/E: 7.03\n",
      "P/B: 1.49\n",
      "EV/EBIT: 16.25\n",
      "EV/EBITDA: 11.64\n",
      "\n",
      "Company 2 Multiples:\n",
      "P/Rev: 0.57\n",
      "P/E: 7.23\n",
      "P/B: 1.24\n",
      "EV/EBIT: 13.74\n",
      "EV/EBITDA: 10.22\n",
      "\n",
      "Mean Multiples:\n",
      "P/Rev: 0.54\n",
      "P/E: 7.13\n",
      "P/B: 1.36\n",
      "EV/EBIT: 14.99\n",
      "EV/EBITDA: 10.93\n",
      "\n",
      "Min Multiples:\n",
      "P/Rev: 0.50\n",
      "P/E: 7.03\n",
      "P/B: 1.24\n",
      "EV/EBIT: 13.74\n",
      "EV/EBITDA: 10.22\n",
      "\n",
      "Max Multiples:\n",
      "P/Rev: 0.57\n",
      "P/E: 7.23\n",
      "P/B: 1.49\n",
      "EV/EBIT: 16.25\n",
      "EV/EBITDA: 11.64\n",
      "\n",
      "Mean Prices for Target Company:\n",
      "P/Rev: 216.88\n",
      "P/E: 126.47\n",
      "P/B: 244.91\n",
      "EV/EBIT: 139.82\n",
      "EV/EBITDA: 230.35\n",
      "\n",
      "Min Prices for Target Company:\n",
      "P/Rev: 202.63\n",
      "P/E: 124.71\n",
      "P/B: 221.93\n",
      "EV/EBIT: 110.00\n",
      "EV/EBITDA: 201.10\n",
      "\n",
      "Max Prices for Target Company:\n",
      "P/Rev: 231.14\n",
      "P/E: 128.23\n",
      "P/B: 267.89\n",
      "EV/EBIT: 169.64\n",
      "EV/EBITDA: 259.59\n",
      "\n",
      "==================================================\n",
      "Estimated Stock Price for Target Company:\n",
      "Min: 172.08, Mean: 191.69, Max: 211.30\n",
      "==================================================\n"
     ]
    }
   ],
   "source": [
    "companies_data = {\n",
    "    'company1': {\n",
    "        'price': 60.91,\n",
    "        'revenue': 129.872,\n",
    "        'earnings': 9.272,\n",
    "        'ebit': 9.346,\n",
    "        'ebitda': 13.04,\n",
    "        'book_value': 43.665,\n",
    "        'debt': 86.689,\n",
    "        'num_shares': 1.0698\n",
    "    },\n",
    "    'company2': {\n",
    "        'price': 70.09,\n",
    "        'revenue': 80.401,\n",
    "        'earnings': 6.368,\n",
    "        'ebit': 8.99,\n",
    "        'ebitda': 12.092,\n",
    "        'book_value': 37.22,\n",
    "        'debt': 77.506,\n",
    "        'num_shares': 0.6565\n",
    "    },\n",
    "    'target_company': {\n",
    "        'price': 95.2,\n",
    "        'revenue': 202.458,\n",
    "        'earnings': 8.896,\n",
    "        'ebit': 11.921,\n",
    "        'ebitda': 20.505,\n",
    "        'book_value': 89.991,\n",
    "        'debt': 108.647,\n",
    "        'num_shares': 0.5013\n",
    "    }\n",
    "}\n",
    "\n",
    "# Calculate multiples for company1 and company2\n",
    "company1_multiples = calculate_multiples(**companies_data['company1'])\n",
    "company2_multiples = calculate_multiples(**companies_data['company2'])\n",
    "\n",
    "# Print multiples for company1 and company2\n",
    "print_multiples(company1_multiples, \"Company 1\")\n",
    "print_multiples(company2_multiples, \"Company 2\")\n",
    "\n",
    "# Calculate mean, min, and max multiples\n",
    "mean_multiples, min_multiples, max_multiples = calculate_mean_min_max_multiples([company1_multiples, company2_multiples])\n",
    "\n",
    "# Print mean, min, and max multiples\n",
    "print_multiples(mean_multiples, \"Mean\")\n",
    "print_multiples(min_multiples, \"Min\")\n",
    "print_multiples(max_multiples, \"Max\")\n",
    "\n",
    "# Estimate stock prices for target company\n",
    "mean_prices, min_prices, max_prices = calculate_estimated_prices_range(mean_multiples, min_multiples, max_multiples, companies_data['target_company'])\n",
    "\n",
    "# Print estimated prices for target company\n",
    "print_estimated_prices(mean_prices, \"Mean\")\n",
    "print_estimated_prices(min_prices, \"Min\")\n",
    "print_estimated_prices(max_prices, \"Max\")\n",
    "\n",
    "# Estimate stock price range from multiples\n",
    "min_price, mean_price, max_price = estimate_stock_price_from_range((mean_prices, min_prices, max_prices))\n",
    "\n",
    "# Print estimated stock price range\n",
    "print_estimated_stock_price_range(min_price, mean_price, max_price)"
   ]
  },
  {
   "cell_type": "code",
   "execution_count": 15,
   "id": "55bcfcc8d0b10dc7",
   "metadata": {
    "ExecuteTime": {
     "end_time": "2024-07-29T21:36:27.193811Z",
     "start_time": "2024-07-29T21:36:27.191035Z"
    }
   },
   "outputs": [],
   "source": [
    "def calculate_wacc(tau, re, rd, Ve, Vd):\n",
    "    V = Ve + Vd\n",
    "    WACC = (1 - tau) * rd * Vd / V + re * Ve / V\n",
    "    return WACC"
   ]
  },
  {
   "cell_type": "code",
   "execution_count": 16,
   "id": "5cbabeba8c684bd9",
   "metadata": {
    "ExecuteTime": {
     "end_time": "2024-07-29T21:36:28.411823Z",
     "start_time": "2024-07-29T21:36:28.408060Z"
    }
   },
   "outputs": [
    {
     "data": {
      "text/plain": [
       "0.075625"
      ]
     },
     "execution_count": 16,
     "metadata": {},
     "output_type": "execute_result"
    }
   ],
   "source": [
    "tau = .3\n",
    "re = .1\n",
    "rd = .05\n",
    "Vd = 3\n",
    "Ve = 5\n",
    "calculate_wacc(tau, re, rd, Ve, Vd)"
   ]
  },
  {
   "cell_type": "code",
   "execution_count": null,
   "id": "62b10ffc",
   "metadata": {},
   "outputs": [],
   "source": [
    "def black_scholes_valuation(asset_value, debt_value, risk_free_rate, volatility, time_to_maturity):\n",
    "    \"\"\"\n",
    "    Calculate market value of equity and debt using the Black-Scholes model.\n",
    "    \n",
    "    Parameters:\n",
    "    asset_value (float): Value of the firm's assets\n",
    "    debt_value (float): Face value of debt\n",
    "    risk_free_rate (float): Risk-free rate\n",
    "    volatility (float): Volatility of the asset's value\n",
    "    time_to_maturity (float): Time to maturity in years\n",
    "\n",
    "    Returns:\n",
    "    tuple: (Market value of equity, Market value of debt)\n",
    "    \"\"\"\n",
    "    d1 = (np.log(asset_value / debt_value) + (risk_free_rate + 0.5 * volatility**2) * time_to_maturity) / (volatility * np.sqrt(time_to_maturity))\n",
    "    d2 = d1 - volatility * np.sqrt(time_to_maturity)\n",
    "    \n",
    "    N_d1 = norm.cdf(d1)\n",
    "    N_d2 = norm.cdf(d2)\n",
    "    \n",
    "    equity_value = asset_value * N_d1 - debt_value * np.exp(-risk_free_rate * time_to_maturity) * N_d2\n",
    "    debt_value = asset_value - equity_value\n",
    "    \n",
    "    return equity_value, debt_value"
   ]
  },
  {
   "cell_type": "code",
   "execution_count": null,
   "id": "a92ac731",
   "metadata": {},
   "outputs": [],
   "source": [
    "asset_value = 100\n",
    "debt_value = 50\n",
    "risk_free_rate = 0.05\n",
    "volatility = 0.2\n",
    "time_to_maturity = 1\n",
    "\n",
    "equity_value, debt_value = black_scholes_valuation(asset_value, debt_value, risk_free_rate, volatility, time_to_maturity)\n",
    "print(f\"Market value of equity: {equity_value:.2f}\")\n",
    "print(f\"Market value of debt: {debt_value:.2f}\")\n"
   ]
  }
 ],
 "metadata": {
  "kernelspec": {
   "display_name": "Python 3",
   "language": "python",
   "name": "python3"
  },
  "language_info": {
   "codemirror_mode": {
    "name": "ipython",
    "version": 2
   },
   "file_extension": ".py",
   "mimetype": "text/x-python",
   "name": "python",
   "nbconvert_exporter": "python",
   "pygments_lexer": "ipython2",
   "version": "2.7.6"
  }
 },
 "nbformat": 4,
 "nbformat_minor": 5
}
