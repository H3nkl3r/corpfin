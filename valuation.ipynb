{
 "cells": [
  {
   "cell_type": "code",
   "execution_count": 2,
   "id": "initial_id",
   "metadata": {
    "collapsed": true,
    "ExecuteTime": {
     "end_time": "2024-07-31T11:44:07.214476Z",
     "start_time": "2024-07-31T11:44:07.197308Z"
    }
   },
   "outputs": [],
   "source": [
    "import plotly.graph_objects as go\n",
    "from scipy.stats import norm\n",
    "import math\n",
    "import numpy as np"
   ]
  },
  {
   "metadata": {},
   "cell_type": "markdown",
   "source": [
    "# Valuation"
   ],
   "id": "53a9c9f2800d19c"
  },
  {
   "metadata": {},
   "cell_type": "markdown",
   "source": [
    "## Estimation of the cost of equity"
   ],
   "id": "433b130c206804dd"
  },
  {
   "metadata": {},
   "cell_type": "markdown",
   "source": [
    "## How to de-/re-leverage a beta"
   ],
   "id": "8d55db7e0c0970d0"
  },
  {
   "metadata": {},
   "cell_type": "markdown",
   "source": [
    "## Derivation of delevered (or unlevered) beta:"
   ],
   "id": "d8366cdacdfaead9"
  },
  {
   "metadata": {},
   "cell_type": "markdown",
   "source": [
    "## WACC"
   ],
   "id": "8468c1c68ce878f9"
  },
  {
   "metadata": {
    "ExecuteTime": {
     "end_time": "2024-07-31T11:47:38.767476Z",
     "start_time": "2024-07-31T11:47:38.763869Z"
    }
   },
   "cell_type": "code",
   "source": [
    "# CAPM\n",
    "def calculate_re(rf, beta, rm):\n",
    "    '''\n",
    "    Calculates re, the cost of an equity\n",
    "    Parameters\n",
    "    ----------\n",
    "    rf: float\n",
    "    risk-free rate\n",
    "    beta: float\n",
    "    beta of the stock (market risk)\n",
    "    rm: float\n",
    "    market return\n",
    "    Notes\n",
    "    -----\n",
    "    rm-rf is the premium of the market over the risk-free rate\n",
    "    '''\n",
    "    re = rf + beta * (rm - rf)\n",
    "    return re\n",
    "\n",
    "\n",
    "# Hamada-Equation, supposing beta_debt=0\n",
    "def hamada(beta_u, Vd, Ve, tau):\n",
    "    # beta_u: unlevered beta\n",
    "    # Vd: debt\n",
    "    # Ve: equity\n",
    "    # tau: tax rate\n",
    "    return beta_u * (1 + Vd / Ve * (1 - tau))\n",
    "\n",
    "\n",
    "def hamada_(beta_e, Vd, Ve, tau):\n",
    "    # beta_e: levered beta\n",
    "    # Vd: debt\n",
    "    # Ve: equity\n",
    "    # tau: tax rate\n",
    "\n",
    "    return beta_e * (1 / (1 + Vd / Ve * (1 - tau)))\n",
    "\n",
    "\n",
    "def calculate_wacc(ke, kd, Ve, Vd, tau):\n",
    "    V = Ve + Vd\n",
    "    return ke * Ve / V + kd * (1 - tau) * Vd / V"
   ],
   "id": "5812ebe70d55c06e",
   "outputs": [],
   "execution_count": 4
  },
  {
   "metadata": {
    "ExecuteTime": {
     "end_time": "2024-07-29T21:28:18.853968Z",
     "start_time": "2024-07-29T21:28:18.848372Z"
    }
   },
   "cell_type": "code",
   "source": [
    "hamada(.8, 9, 6, .3)"
   ],
   "id": "d9854412a961f4dd",
   "outputs": [
    {
     "data": {
      "text/plain": [
       "1.64"
      ]
     },
     "execution_count": 2,
     "metadata": {},
     "output_type": "execute_result"
    }
   ],
   "execution_count": 2
  },
  {
   "cell_type": "code",
   "outputs": [
    {
     "name": "stdout",
     "output_type": "stream",
     "text": [
      "The unlevered beta is 1.22\n",
      "The relevered beta is 1.50\n",
      "The cost of equity is 14.35%\n",
      "The WACC is 12.38%\n"
     ]
    }
   ],
   "source": [
    "# 1. Calculate the unlevered beta\n",
    "Vd_comp = 0.2\n",
    "Ve_comp = 7.1\n",
    "\n",
    "# debt_equity_ratio = 0.8/2.3\n",
    "# \n",
    "# if not Ve_comp:\n",
    "#     Ve_comp = Vd_comp/debt_equity_ratio\n",
    "# else:\n",
    "#     Vd_comp = Ve_comp*debt_equity_ratio\n",
    "\n",
    "tau_comp = .33\n",
    "beta_e_comp = 1.24\n",
    "beta_u_comp = hamada_(beta_e_comp, Vd_comp, Ve_comp, tau_comp)\n",
    "print(f'The unlevered beta is {beta_u_comp:.2f}')\n",
    "\n",
    "# We assume beta_u_comp = beta_u\n",
    "beta_u = beta_u_comp\n",
    "\n",
    "# 2. Calculate the relevered beta\n",
    "Vd = 400\n",
    "Ve = 11.5\n",
    "\n",
    "debt_equity_ratio = 0.8 / 2.3\n",
    "\n",
    "if not Ve:\n",
    "    Ve = Vd / debt_equity_ratio\n",
    "else:\n",
    "    Vd = Ve * debt_equity_ratio\n",
    "\n",
    "tau = .33\n",
    "beta = hamada(beta_u, Vd, Ve, tau)\n",
    "\n",
    "print(f'The relevered beta is {beta:.2f}')\n",
    "\n",
    "# 3. Calculate the cost of equity using the relevered beta and CAPM\n",
    "# cost of equity\n",
    "rf = .076\n",
    "rm = .121\n",
    "re = calculate_re(rf, beta, rm)\n",
    "\n",
    "print(f'The cost of equity is {re * 100:.2f}%')\n",
    "\n",
    "# 4. Calculate the cost of debt\n",
    "ke = re\n",
    "kd = .1\n",
    "Ve = 1150\n",
    "Vd = 400\n",
    "WACC = calculate_wacc(ke, kd, Ve, Vd, tau)\n",
    "\n",
    "print(f'The WACC is {WACC * 100:.2f}%')"
   ],
   "metadata": {
    "collapsed": false,
    "ExecuteTime": {
     "end_time": "2024-07-31T11:49:40.746238Z",
     "start_time": "2024-07-31T11:49:40.743090Z"
    }
   },
   "id": "7652f8a118c5a49b",
   "execution_count": 9
  },
  {
   "metadata": {},
   "cell_type": "markdown",
   "source": [
    "## Present Value (PV)"
   ],
   "id": "a0bc64faca38a4e7"
  },
  {
   "metadata": {
    "ExecuteTime": {
     "end_time": "2024-07-31T11:51:19.853810Z",
     "start_time": "2024-07-31T11:51:19.851513Z"
    }
   },
   "cell_type": "code",
   "source": [
    "def calculate_PV(cashflows, rate):\n",
    "    '''\n",
    "    Calculates the Present Value of a company based on the projection of the cashflow\n",
    "    cashflows: list[float]\n",
    "    rate: float\n",
    "    constant rate utilized, can be WACC\n",
    "    '''\n",
    "    PV = sum([cf / ((1 + rate) ** (i + 1)) for i, cf in enumerate(cashflows)])\n",
    "    return PV\n",
    "\n",
    "def calculate_PV_perpetuity(cashflow_t, rate, g, t):\n",
    "    '''\n",
    "    Calculates the Present Value of a perpetuity based on the projection of the cashflow\n",
    "    cashflow_t: float\n",
    "    cashflow at time t\n",
    "    rate: float\n",
    "    constant rate utilized, can be WACC or cost of equity (k_u)\n",
    "    g: float\n",
    "    growth rate\n",
    "    t: int\n",
    "    number of periods\n",
    "    '''\n",
    "    PV = cashflow_t * (1 + g) / ((rate - g) * (1 + rate) ** t) \n",
    "    return PV\n",
    "\n",
    "def calculate_PV_interest_tax_shields(interest_expenses, rate, tau):\n",
    "    '''\n",
    "    Calculates the Present Value of the interest tax shields\n",
    "    interest_expenses: list[float]\n",
    "    rate: float\n",
    "    constant rate utilized, can be WACC or cost of debt (k_d)\n",
    "    tau: float\n",
    "    tax rate (0 < tau < 1)\n",
    "    '''\n",
    "    PV = sum([interest * tau / ((1 + rate) ** (i + 1)) for i, interest in enumerate(interest_expenses)])\n",
    "    return PV\n",
    "\n",
    "def calculate_PV_tax_shields_perpetuity(FCFF, g, WACC, n):\n",
    "    '''\n",
    "    Calculates the Present Value of the tax shields beyond a certain year in perpetuity\n",
    "    FCFF: float\n",
    "        Free Cash Flow to the Firm at the final projected year\n",
    "    g: float\n",
    "        Growth rate of the cash flows\n",
    "    WACC: float\n",
    "        Weighted Average Cost of Capital\n",
    "    n: int\n",
    "        Number of years till the final projected year\n",
    "    '''\n",
    "    TVL = (FCFF * (1 + g)) / (WACC - g)\n",
    "    PV_TS = TVL / ((1 + WACC) ** n)\n",
    "    return PV_TS\n",
    "\n",
    "def calculate_firm_value(V_U, PV_TS):\n",
    "    '''\n",
    "    Calculates the total value of the levered firm\n",
    "    V_U: float\n",
    "        Value of the unlevered firm\n",
    "    PV_TS: float\n",
    "        Present Value of the Tax Shields\n",
    "    '''\n",
    "    V_L = V_U + PV_TS\n",
    "    return V_L\n",
    "\n",
    "def calculate_equity_value(V_L, V_D, shares_outstanding):\n",
    "    '''\n",
    "    Calculates the equity value and value per share\n",
    "    V_L: float\n",
    "        Value of the levered firm\n",
    "    V_D: float\n",
    "        Value of the firm's debt\n",
    "    shares_outstanding: float\n",
    "        Number of shares outstanding\n",
    "    '''\n",
    "    V_E = V_L - V_D\n",
    "    value_per_share = V_E / shares_outstanding\n",
    "    return V_E, value_per_share"
   ],
   "id": "1533b62519dd18c8",
   "outputs": [],
   "execution_count": 11
  },
  {
   "metadata": {
    "ExecuteTime": {
     "end_time": "2024-07-31T11:52:37.881487Z",
     "start_time": "2024-07-31T11:52:37.878606Z"
    }
   },
   "cell_type": "code",
   "source": [
    "cashflows = [-397.6, 156.0, 32.9, 176.9, 315.2, 400.4, 448.8, 436.8, 484, 498.4]\n",
    "rate = 0.1238  # from last code-cell (WACC)\n",
    "PV = calculate_PV(cashflows, rate)\n",
    "print(f\"The present value of the company is {PV:.2f}\")\n"
   ],
   "id": "3b913399a581f87d",
   "outputs": [
    {
     "name": "stdout",
     "output_type": "stream",
     "text": [
      "The present value of the company is 972.82\n",
      "The terminal value is 5947.49\n",
      "The present value of the terminal value is 1851.16\n"
     ]
    }
   ],
   "execution_count": 14
  },
  {
   "metadata": {
    "ExecuteTime": {
     "end_time": "2024-07-31T12:09:52.802498Z",
     "start_time": "2024-07-31T12:09:52.800122Z"
    }
   },
   "cell_type": "code",
   "source": [
    "def get_entity_value_dcf(cashflows, rate, g, pv_debt=None):\n",
    "    # we approximate the cashflow in t+1 with the value at t with growth g and rate\n",
    "    terminal_value = cashflows[-1] * (1 + g) / (rate - g)\n",
    "\n",
    "    # get it to present value\n",
    "    PV_final = terminal_value / (1 + rate) ** (len(cashflows))\n",
    "    PV = calculate_PV(cashflows, rate)\n",
    "    if pv_debt:\n",
    "        V = PV + PV_final - pv_debt\n",
    "    else:\n",
    "        V = PV + PV_final\n",
    "\n",
    "    return {\n",
    "        'terminal_value': terminal_value,\n",
    "        'PV_final': PV_final,\n",
    "        'PV': PV,\n",
    "        'V': V\n",
    "    }"
   ],
   "id": "3f39292606e119e5",
   "outputs": [],
   "execution_count": 39
  },
  {
   "metadata": {
    "ExecuteTime": {
     "end_time": "2024-07-31T12:11:26.740583Z",
     "start_time": "2024-07-31T12:11:26.736424Z"
    }
   },
   "cell_type": "code",
   "source": [
    "cashflows = [-397.6, 156.0, 32.9, 176.9, 315.2, 400.4, 448.8, 436.8, 484, 498.4]\n",
    "# g - growth rate\n",
    "g = .04\n",
    "# re - cost of equity\n",
    "re = .1435\n",
    "# rd - cost of debt\n",
    "rd = .1\n",
    "# Vd - debt\n",
    "Vd = 400\n",
    "\n",
    "debt_equity_ratio = 0.8 / 2.3\n",
    "# Ve - equity\n",
    "Ve = None\n",
    "\n",
    "if not Ve:\n",
    "    Ve = Vd / debt_equity_ratio\n",
    "else:\n",
    "    Vd = Ve * debt_equity_ratio\n",
    "\n",
    "tau = .33\n",
    "\n",
    "WACC = calculate_wacc(re, rd, Ve, Vd, tau)\n",
    "\n",
    "rate = WACC\n",
    "result = get_entity_value_dcf(cashflows, rate, g, Vd)\n",
    "\n",
    "print(f\"The Enterprise Value (Terminal Value) is {result['terminal_value']:.2f}\")\n",
    "print(f\"The Present Value of the Terminal Value is {result['PV_final']:.2f}\")\n",
    "print(f\"The Present Value of the company (equity) is {result['V']:.2f}\")\n",
    "\n"
   ],
   "id": "43b1614d223c3cd9",
   "outputs": [
    {
     "name": "stdout",
     "output_type": "stream",
     "text": [
      "The Enterprise Value (Terminal Value) is 6188.49\n",
      "The Present Value of the Terminal Value is 1926.89\n",
      "The Present Value of the company (equity) is 2500.02\n"
     ]
    }
   ],
   "execution_count": 44
  },
  {
   "metadata": {},
   "cell_type": "markdown",
   "source": [
    "## Specific APV cases"
   ],
   "id": "9dc3c01a952df03c"
  },
  {
   "metadata": {
    "ExecuteTime": {
     "end_time": "2024-07-31T12:45:17.813995Z",
     "start_time": "2024-07-31T12:45:17.810091Z"
    }
   },
   "cell_type": "code",
   "source": [
    "def calculate_apv(re, rd, t, rf, rm, k, Vd=None, Ve=None):\n",
    "    '''\n",
    "    k=0: case I (constant leverage ratio) => rt = ru\n",
    "    k=1: case II (constant debt level) => rt = rd\n",
    "    '''\n",
    "    if Vd:\n",
    "        Ve = 1 - Vd\n",
    "    else:\n",
    "        Vd = 1 - Ve\n",
    "\n",
    "    ru = rd * Vd + re * Ve\n",
    "    WACC = ru - Vd * t * (rd + k * (ru - rd))\n",
    "    betau = (ru - rf) / rm\n",
    "    betae = (re - rf) / rm\n",
    "    betad = (betau - Ve * betae) / Vd\n",
    "\n",
    "    return {\n",
    "        'ru': ru,\n",
    "        'WACC': WACC,\n",
    "        'betau': betau,\n",
    "        'betae': betae,\n",
    "        'betad': betad\n",
    "    }\n"
   ],
   "id": "ecb34146a8b1a3b2",
   "outputs": [],
   "execution_count": 50
  },
  {
   "cell_type": "code",
   "outputs": [
    {
     "name": "stdout",
     "output_type": "stream",
     "text": [
      "The unlevered cost of equity is 0.08\n",
      "The WACC is 6.60%\n",
      "The unlevered beta is 1.00\n",
      "The levered beta is 1.33\n",
      "The beta of the debt is 0.67\n"
     ]
    }
   ],
   "source": [
    "# re - cost of equity\n",
    "re = 0.1\n",
    "# rd - cost of debt\n",
    "rd = 0.06\n",
    "# t - tax rate\n",
    "t = 0.35\n",
    "# rf - risk-free rate\n",
    "rf = 0.02\n",
    "# rm - market return\n",
    "rm = 0.06\n",
    "# k - case (0=constant leverage ratio, 1=constant debt level)\n",
    "k = 1  # \n",
    "\n",
    "result = calculate_apv(re, rd, t, rf, rm, k, Vd=.5)\n",
    "print(f\"The unlevered cost of equity is {result['ru']:.2f}\")\n",
    "print(f\"The WACC is {result['WACC'] * 100:.2f}%\")\n",
    "print(f\"The unlevered beta is {result['betau']:.2f}\")\n",
    "print(f\"The levered beta is {result['betae']:.2f}\")\n",
    "print(f\"The beta of the debt is {result['betad']:.2f}\")\n"
   ],
   "metadata": {
    "collapsed": false,
    "ExecuteTime": {
     "end_time": "2024-07-31T12:45:22.799618Z",
     "start_time": "2024-07-31T12:45:22.796732Z"
    }
   },
   "id": "d33fb36a42c39ccd",
   "execution_count": 53
  },
  {
   "metadata": {},
   "cell_type": "markdown",
   "source": [
    "## Multiple Valuation\n"
   ],
   "id": "e961cb902d1a8514"
  },
  {
   "cell_type": "code",
   "outputs": [],
   "source": [
    "def calculate_multiples(price, revenue, earnings, ebit, ebitda, book_value, debt, num_shares):\n",
    "    '''\n",
    "    Calculates various financial multiples.\n",
    "    Parameters\n",
    "    ----------\n",
    "    price: float\n",
    "        Current stock price\n",
    "    revenue: float\n",
    "        Revenue\n",
    "    earnings: float\n",
    "        Earnings\n",
    "    ebit: float\n",
    "        EBIT\n",
    "    ebitda: float\n",
    "        EBITDA\n",
    "    book_value: float\n",
    "        Book value\n",
    "    debt: float\n",
    "        Debt\n",
    "    num_shares: float\n",
    "        Number of shares outstanding\n",
    "    \n",
    "    Returns\n",
    "    -------\n",
    "    dict\n",
    "        A dictionary containing all calculated multiples\n",
    "    '''\n",
    "   # TODO Implement this\n",
    "    return\n",
    "\n",
    "def calculate_mean_multiples(multiples_list):\n",
    "    '''\n",
    "    Calculates the mean of various financial multiples.\n",
    "    Parameters\n",
    "    ----------\n",
    "    multiples_list: list of dicts\n",
    "        List of dictionaries containing multiples for each company\n",
    "    \n",
    "    Returns\n",
    "    -------\n",
    "    dict\n",
    "        A dictionary containing the mean multiples\n",
    "    '''\n",
    "    # TODO Implement this\n",
    "    return\n",
    "\n",
    "def estimate_stock_price(multiples, target_values, num_shares, debt):\n",
    "    '''\n",
    "    Estimates the stock price of the target company.\n",
    "    Parameters\n",
    "    ----------\n",
    "    multiples: dict\n",
    "        Dictionary of multiples to use for estimation\n",
    "    target_values: dict\n",
    "        Dictionary containing target company values for revenue, earnings, ebit, ebitda, book_value\n",
    "    num_shares: float\n",
    "        Number of shares outstanding\n",
    "    debt: float\n",
    "        Debt of the target company\n",
    "    \n",
    "    Returns\n",
    "    -------\n",
    "    dict\n",
    "        A dictionary containing the estimated stock prices using different multiples\n",
    "    '''\n",
    "    # TODO Implement this\n",
    "    return"
   ],
   "metadata": {
    "collapsed": false,
    "ExecuteTime": {
     "end_time": "2024-07-31T14:31:02.325536Z",
     "start_time": "2024-07-31T14:31:02.322738Z"
    }
   },
   "id": "959eac9c7510619f",
   "execution_count": 69
  },
  {
   "metadata": {
    "ExecuteTime": {
     "end_time": "2024-07-31T14:31:03.879934Z",
     "start_time": "2024-07-31T14:31:03.863926Z"
    }
   },
   "cell_type": "code",
   "source": [
    "companies_data = {\n",
    "        'company1': {\n",
    "            'price': 60.91, \n",
    "            'revenue': 129.872, \n",
    "            'earnings': 9.272, \n",
    "            'ebit': 9.346, \n",
    "            'ebitda': 13.04, \n",
    "            'book_value': 43.665, \n",
    "            'debt': 86.689, \n",
    "            'num_shares': 1069.8\n",
    "        },\n",
    "        'company2': {\n",
    "            'price': 70.09, \n",
    "            'revenue': 80.401, \n",
    "            'earnings': 6.368, \n",
    "            'ebit': 8.99, \n",
    "            'ebitda': 12.992, \n",
    "            'book_value': 37.22, \n",
    "            'debt': 77.506, \n",
    "            'num_shares': 656.5\n",
    "        },\n",
    "        'target_company': {\n",
    "            'price': 95.2, \n",
    "            'revenue': 202.458, \n",
    "            'earnings': 8.896, \n",
    "            'ebit': 11.921, \n",
    "            'ebitda': 20.505, \n",
    "            'book_value': 89.991, \n",
    "            'debt': 108.647, \n",
    "            'num_shares': 501.3\n",
    "        }\n",
    "    }\n",
    "    \n",
    "# Calculate multiples for company1 and company2\n",
    "company1_multiples = calculate_multiples(**companies_data['company1'])\n",
    "company2_multiples = calculate_multiples(**companies_data['company2'])\n",
    "\n",
    "# Print multiples for company1 and company2\n",
    "print(\"Company 1 Multiples:\")\n",
    "for key, value in company1_multiples.items():\n",
    "    print(f\"{key}: {value:.4f}\")\n",
    "\n",
    "print(\"\\nCompany 2 Multiples:\")\n",
    "for key, value in company2_multiples.items():\n",
    "    print(f\"{key}: {value:.4f}\")\n",
    "\n",
    "# Calculate mean multiples\n",
    "mean_multiples = calculate_mean_multiples([company1_multiples, company2_multiples])\n",
    "\n",
    "# Print mean multiples\n",
    "print(\"\\nMean Multiples:\")\n",
    "for key, value in mean_multiples.items():\n",
    "    print(f\"{key}: {value:.4f}\")\n",
    "\n",
    "# Estimate stock price for target company\n",
    "target_values = {\n",
    "    'revenue': companies_data['target_company']['revenue'],\n",
    "    'earnings': companies_data['target_company']['earnings'],\n",
    "    'ebit': companies_data['target_company']['ebit'],\n",
    "    'ebitda': companies_data['target_company']['ebitda'],\n",
    "    'book_value': companies_data['target_company']['book_value']\n",
    "}\n",
    "estimated_prices_company1 = estimate_stock_price(company1_multiples, target_values, companies_data['target_company']['num_shares'], companies_data['target_company']['debt'])\n",
    "estimated_prices_company2 = estimate_stock_price(company2_multiples, target_values, companies_data['target_company']['num_shares'], companies_data['target_company']['debt'])\n",
    "estimated_prices_mean = estimate_stock_price(mean_multiples, target_values, companies_data['target_company']['num_shares'], companies_data['target_company']['debt'])\n",
    "\n",
    "# Print estimated stock prices for target company\n",
    "print(\"\\nEstimated Stock Prices for Target Company using Company 1 Multiples:\")\n",
    "for key, value in estimated_prices_company1.items():\n",
    "    print(f\"{key}: {value:.2f}\")\n",
    "\n",
    "print(\"\\nEstimated Stock Prices for Target Company using Company 2 Multiples:\")\n",
    "for key, value in estimated_prices_company2.items():\n",
    "    print(f\"{key}: {value:.2f}\")\n",
    "\n",
    "print(\"\\nEstimated Stock Prices for Target Company using Mean Multiples:\")\n",
    "for key, value in estimated_prices_mean.items():\n",
    "    print(f\"{key}: {value:.2f}\")"
   ],
   "id": "f8819aae5bbb5edd",
   "outputs": [
    {
     "name": "stdout",
     "output_type": "stream",
     "text": [
      "Company 1 Multiples:\n"
     ]
    },
    {
     "ename": "AttributeError",
     "evalue": "'NoneType' object has no attribute 'items'",
     "output_type": "error",
     "traceback": [
      "\u001B[0;31m---------------------------------------------------------------------------\u001B[0m",
      "\u001B[0;31mAttributeError\u001B[0m                            Traceback (most recent call last)",
      "Cell \u001B[0;32mIn[70], line 40\u001B[0m\n\u001B[1;32m     38\u001B[0m \u001B[38;5;66;03m# Print multiples for company1 and company2\u001B[39;00m\n\u001B[1;32m     39\u001B[0m \u001B[38;5;28mprint\u001B[39m(\u001B[38;5;124m\"\u001B[39m\u001B[38;5;124mCompany 1 Multiples:\u001B[39m\u001B[38;5;124m\"\u001B[39m)\n\u001B[0;32m---> 40\u001B[0m \u001B[38;5;28;01mfor\u001B[39;00m key, value \u001B[38;5;129;01min\u001B[39;00m company1_multiples\u001B[38;5;241m.\u001B[39mitems():\n\u001B[1;32m     41\u001B[0m     \u001B[38;5;28mprint\u001B[39m(\u001B[38;5;124mf\u001B[39m\u001B[38;5;124m\"\u001B[39m\u001B[38;5;132;01m{\u001B[39;00mkey\u001B[38;5;132;01m}\u001B[39;00m\u001B[38;5;124m: \u001B[39m\u001B[38;5;132;01m{\u001B[39;00mvalue\u001B[38;5;132;01m:\u001B[39;00m\u001B[38;5;124m.4f\u001B[39m\u001B[38;5;132;01m}\u001B[39;00m\u001B[38;5;124m\"\u001B[39m)\n\u001B[1;32m     43\u001B[0m \u001B[38;5;28mprint\u001B[39m(\u001B[38;5;124m\"\u001B[39m\u001B[38;5;130;01m\\n\u001B[39;00m\u001B[38;5;124mCompany 2 Multiples:\u001B[39m\u001B[38;5;124m\"\u001B[39m)\n",
      "\u001B[0;31mAttributeError\u001B[0m: 'NoneType' object has no attribute 'items'"
     ]
    }
   ],
   "execution_count": 70
  },
  {
   "metadata": {
    "ExecuteTime": {
     "end_time": "2024-07-29T21:36:27.193811Z",
     "start_time": "2024-07-29T21:36:27.191035Z"
    }
   },
   "cell_type": "code",
   "source": [
    "def calculate_wacc(tau, re, rd, Ve, Vd):\n",
    "    V = Ve + Vd\n",
    "    WACC = (1 - tau) * rd * Vd / V + re * Ve / V\n",
    "    return WACC"
   ],
   "id": "55bcfcc8d0b10dc7",
   "outputs": [],
   "execution_count": 15
  },
  {
   "metadata": {
    "ExecuteTime": {
     "end_time": "2024-07-29T21:36:28.411823Z",
     "start_time": "2024-07-29T21:36:28.408060Z"
    }
   },
   "cell_type": "code",
   "source": [
    "tau = .3\n",
    "re = .1\n",
    "rd = .05\n",
    "Vd = 3\n",
    "Ve = 5\n",
    "calculate_wacc(tau, re, rd, Ve, Vd)"
   ],
   "id": "5cbabeba8c684bd9",
   "outputs": [
    {
     "data": {
      "text/plain": [
       "0.075625"
      ]
     },
     "execution_count": 16,
     "metadata": {},
     "output_type": "execute_result"
    }
   ],
   "execution_count": 16
  }
 ],
 "metadata": {
  "kernelspec": {
   "display_name": "Python 3",
   "language": "python",
   "name": "python3"
  },
  "language_info": {
   "codemirror_mode": {
    "name": "ipython",
    "version": 2
   },
   "file_extension": ".py",
   "mimetype": "text/x-python",
   "name": "python",
   "nbconvert_exporter": "python",
   "pygments_lexer": "ipython2",
   "version": "2.7.6"
  }
 },
 "nbformat": 4,
 "nbformat_minor": 5
}
