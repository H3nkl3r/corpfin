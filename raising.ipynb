{
 "cells": [
  {
   "metadata": {},
   "cell_type": "markdown",
   "source": "# Raising Capital",
   "id": "26e5610656dfcd91"
  },
  {
   "metadata": {},
   "cell_type": "markdown",
   "source": [
    "## Pro IPO\n",
    "Descending by importance\n",
    "* M&A\n",
    "* Establish market price\n",
    "* Image\n",
    "* Minimize cost of capital\n",
    "* Broaden ownership base\n",
    "* Allow principles to diversify\n",
    "* Attract analyst attention\n",
    "* Allow VCs to cash-out\n",
    "* Requires less equity\n",
    "* New dept too expensive\n",
    "\n",
    "## Cons IPO\n",
    "* Maintain control\n",
    "* Avoid ownership dilution\n",
    "* Bad market conditions\n",
    "* Loss of conditionality\n",
    "* Reporting requirements\n",
    "* Have enough capital\n",
    "* Costs/fees\n",
    "* Officer liabilities\n",
    "* Low stock price\n",
    "* Prefer to be acquired\n",
    "* Avoid EPS dillution"
   ],
   "id": "5588feb4d5798ee5"
  },
  {
   "metadata": {},
   "cell_type": "markdown",
   "source": [
    "## European regulatory capital market landscape\n",
    "ToDO"
   ],
   "id": "dbfad72ce9a99122"
  },
  {
   "metadata": {},
   "cell_type": "markdown",
   "source": [
    "## Preparation period for an IPO is around 4-5 months\n",
    "1)\n",
    "* Kick-off\n",
    "* Selection of advisors\n",
    "* Selection of investment bank\n",
    "2)\n",
    "* Due diligence (2-4 weeks)\n",
    "3)\n",
    "* Determination of Prospectus\n",
    "* Preparation analyst presentation\n",
    "4)\n",
    "* Premarketing\n",
    "* Preparation Research (2-3 weeks)\n",
    "* Publication Research\n",
    "* Approval of Prospectus by BaFin (min 20 days)\n",
    "* Print Prospectus\n",
    "5)\n",
    "* Book bilding\n",
    "* Allocation//Pricing\n",
    "6)\n",
    "* First day of trading"
   ],
   "id": "d6eef599a9dab264"
  },
  {
   "metadata": {},
   "cell_type": "markdown",
   "source": [
    "## Listing / post-IPO: Price stabilisation for long-term shareholders\n",
    "\n",
    "**Lock-up period**: 6-12 months\n",
    "* Defines no-sale period for old shareholders\n",
    "* Important for signaling of existing shareholders\n",
    "\n",
    "**Greenshoe option**:\n",
    "* Stabilizes post-IPO price\n",
    "* Also called over-allotment option\n",
    "* Named after company \"Greenshoe Manufacturing\" where first applied in 1963\n",
    "* Underwriter issues a maximum of 15% more stocks than initially available (short position)\n",
    "    * If price falls, underwriter buys back shares\n",
    "    * If price rises, underwriter can increase issue to fulfill demand\n",
    "* Strict regulated\n",
    "\n",
    "**Quiet period:**\n",
    "* Press and brokers can start covering stock after 25th day "
   ],
   "id": "aaeb396fead3ee86"
  },
  {
   "metadata": {},
   "cell_type": "markdown",
   "source": [
    "## SPACs: An alternative IPO procedure\n",
    "* Recently, SPACs (Special Purpose Acquisition Companies) have emerged as an alternative IPO\n",
    "\n",
    "### Characteristics\n",
    "* a pure acquisition company collecting funds via the IPO for an acquisition that eventually takes place at a later date\n",
    "* Typically, this acquisition must be realized within 18 to 24 months\n",
    "* if it is not realized, money (trust value) will be paid back to shareholders\n",
    "* If an acquisition target is identified, shareholders have to vote in favor of the acquisition (qualified majority). Dissenting shareholders can exit the SPAC at the trust value\n",
    "* Typically, SPAC sponsors hold about 20% of the shares at the time of the IPO. After the acquisition is consumed, these shares are converted into ordinary shares (vesting might depend on certain stock price thresholds). This significant dilution for outstanding shareholders.\n",
    "* Moreover, sponsors as well as ordinary shareholders hold warrants allowing them to buy additional shares after the acquisition is consumed.\n",
    "* Analyzing 94 SPACs worldwide, Kaserer/Kornherr (2022) show that their 12-month abnormal buy-and-hold return after the acquisition date is -24%"
   ],
   "id": "5ab3feafbf4cb705"
  },
  {
   "metadata": {},
   "cell_type": "markdown",
   "source": "",
   "id": "daa347192ce2169d"
  },
  {
   "metadata": {},
   "cell_type": "markdown",
   "source": "## Puzzles",
   "id": "334c301bbd67b6ab"
  },
  {
   "metadata": {},
   "cell_type": "markdown",
   "source": [
    "### Underpricing\n",
    "Underpricing represents money \"left on the table\"\n",
    "\n",
    "**Possible explaination:** positively related to degree of asymmetric information\n",
    "* Signaling\n",
    "    * Lemmon market problem and underpricing profit as signal\n",
    "    * Mixed evidence\n",
    "* Ex-ante Uncertainty\n",
    "    * Unknown demand for stock\n",
    "* Winner's curse\n",
    "    * Protection against getting issue exactly when being overoptimistic\n",
    "* Negative cascade\n",
    "    * Investors buy if others buy\n",
    "    * UP induces positive cascade\n",
    "* Institutional aspects of allotment\n",
    "    * Revealing demand at book building will increase final issue price lowering ret.\n",
    "    * UP is compensation for information revelation\n",
    "    * only partial explanation for magnitude\n",
    "* Substitute for market expense\n",
    "    * UP as marketing method\n",
    "    * Only partial explanation for magnitude   \n",
    "\n",
    "**Possible explaination:** Symmetric information and allocation process determinants\n",
    "* Insurance against legal liability\n",
    "    * UP reduces probability of being sued\n",
    "    * Disputed, because UP also outside US\n",
    "* After market support\n",
    "    * UP & oversubscription increase after market trading\n",
    "    * Underwriter benefits from market making fee, issuer if increased liquidity persistent\n",
    "* Conflict of interest between underwriter and issuer\n",
    "    * Underwriters favor buy-side client\n",
    "    * Issuers tolerate if firm is worth more than thought before (prospect theory)\n",
    "* Strategic ownership control\n",
    "    * UP creates oversubscription allowing strategic allotment to specific shareholders\n",
    "* Underwriter reputation\n",
    "    * Institutional provide monitoring small investors provide liquidity\n",
    "    * UP is compensation for reputation   "
   ],
   "id": "b25b11eced551cb"
  },
  {
   "metadata": {},
   "cell_type": "markdown",
   "source": [
    "## Seasoned Equity Offerings (SEOs)\n",
    "\n",
    "* When a public company offers new shares (primary shares) for sale\n",
    "    * Public firms use SEOs to raise additional equity\n",
    "    * When a firm issues stock using an SEO, it follows some of the same steps as for an IPO\n",
    "        * The main difference is that a market price for the stock already exists, so the price-setting process is not necessary\n",
    "        * As a consequence SEOs are much cheaper than IPOs\n",
    "        * Two main ways to offer the shares:\n",
    "            * Rights offering (still common in Europe, especially Germany)\n",
    "            * Cash offering or Book building (common in the US)"
   ],
   "id": "8f3a335c9fce120a"
  },
  {
   "metadata": {},
   "cell_type": "markdown",
   "source": [
    "### The mechanics of SEOs\n",
    "* Primary Shares: New shares issued by a company in an equity offering\n",
    "* Secondary Shares: Shares sold by existing shareholders in an equity offering\n",
    "* Tombstones: A newspaper advertisement in which an underwriter advertises a security issuance"
   ],
   "id": "e4038c6979badb1d"
  },
  {
   "metadata": {},
   "cell_type": "markdown",
   "source": [
    "### Value of the Subscription Right\n",
    "\n",
    "Assume\n",
    "* old = number of shares outstanding before the capital increase\n",
    "* new = number of shares issued in the capital increase\n",
    "* IP = issue price of the new shares\n",
    "* $S_{cum/ex}$ = Stock price immediately before/after the capital increase\n",
    "* SR = Value of the subscription right\n",
    "\n",
    "$$ SR = \\frac{S_{cum} - IP}{1 + \\frac{old}{new}} $$"
   ],
   "id": "83a1cde6a29fbd4"
  }
 ],
 "metadata": {
  "kernelspec": {
   "display_name": "Python 3",
   "language": "python",
   "name": "python3"
  },
  "language_info": {
   "codemirror_mode": {
    "name": "ipython",
    "version": 2
   },
   "file_extension": ".py",
   "mimetype": "text/x-python",
   "name": "python",
   "nbconvert_exporter": "python",
   "pygments_lexer": "ipython2",
   "version": "2.7.6"
  }
 },
 "nbformat": 4,
 "nbformat_minor": 5
}
