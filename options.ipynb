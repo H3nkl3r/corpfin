{
 "cells": [
  {
   "cell_type": "code",
   "execution_count": 1,
   "id": "1a950dbf1a6b7424",
   "metadata": {
    "ExecuteTime": {
     "end_time": "2024-07-30T14:18:10.816534Z",
     "start_time": "2024-07-30T14:18:10.155451Z"
    }
   },
   "outputs": [],
   "source": [
    "import plotly.graph_objects as go\n",
    "from scipy.stats import norm\n",
    "import math\n",
    "import numpy as np"
   ]
  },
  {
   "cell_type": "markdown",
   "id": "c0ba8247d7d23952",
   "metadata": {},
   "source": [
    "# Options"
   ]
  },
  {
   "cell_type": "markdown",
   "id": "6ccae73105642890",
   "metadata": {},
   "source": [
    "**Call** Option = Option to **Buy**\n",
    "\n",
    "**Put** Option = Option to **Sell**"
   ]
  },
  {
   "cell_type": "markdown",
   "id": "7babda38966cdd3e",
   "metadata": {},
   "source": [
    "* $S$ = Current stock price\n",
    "* $X$ = Exercise price (Option value if exercised today $= max(0, CurrentS - x$)\n",
    "* $u$ = Upwards movement\n",
    "* $d$ = Downwards movement\n",
    "* $r_f$ = Risk-free rate\n",
    "\n",
    "In calls: The portfolio is composed of one long stocks and m call options\n",
    "\n",
    "In puts: The portfolio is composed of m long stocks and one long put option\n",
    "\n",
    "Types:\n",
    "* **European**: Can only be exercised at expiration date\n",
    "* **American**: Can be exercised at any time before expiration\n",
    "\n",
    "\n",
    "Phrases:\n",
    "* **In-the-money call**: Call where currently strike X < S\n",
    "* **Out-of-the-money call**: Call where currently strike X > S\n",
    "* **At-the-money call**: Call where currently strike X ≈ S"
   ]
  },
  {
   "cell_type": "markdown",
   "id": "f4731d490578c6c7",
   "metadata": {},
   "source": [
    "## Binomial Tree Option Pricing"
   ]
  },
  {
   "cell_type": "markdown",
   "id": "2e5547fe8b79594c",
   "metadata": {},
   "source": [
    "**Assumptions**\n",
    "* Trading occurs only at dicrete times\n",
    "* Stock price follows multiplicative binomial process (Two possible states of the world in each step)"
   ]
  },
  {
   "cell_type": "markdown",
   "id": "ebf0195b536212ae",
   "metadata": {},
   "source": [
    "**Basic Idea:** Construct risk-free hedge portfolio, composed of\n",
    "* one share of stock\n",
    "* m shares of call option on stock\n",
    "\n",
    "For the portfolio to be risk-free, end-of-period payoffs must be equal in each state\n",
    "* $uS -mc_u = dS - mc_d$\n",
    "m is number of options needed for hedge (hedge ratio)\n",
    "* $m = \\frac{uS - dS}{c_u - c_d} = \\frac{S(u - d)}{c_u - c_d}$\n",
    "Because hedge portfolio is constructed to be risk-less it must hold\n",
    "* $(1+ r_f )(S - mc) = uS - mc_u$\n",
    "* $\\Leftrightarrow c = \\frac{S[(1+r_f)-u]+ mc_u}{m(1+r_f)}$\n",
    "Substituting the hedge ratio m into this pricing equation yields\n",
    "* $c = \\left[c_u\\left(\\frac{(1+r_f)-d}{u-d}\\right)+c_d\\left(\\frac{u-(1+r_f)}{u-d}\\right)\\right]\\div(1+r_f)$\n",
    "* $\\underbrace{\\frac{(1+r_f)-d}{u-d}}_{=p}$ $\\underbrace{\\frac{u-(1+r_f)}{u-d}}_{=(1-p)}$\n",
    "Defining $p$ and $1-p$ as risk-neutral probabilities,\n",
    "gives a simplified formula for the value of the call c\n",
    "* $c = \\frac{pc_u + (1-p)c_d}{1+r_f}$\n",
    "\n",
    "**Two step:**\n",
    "\n",
    "Substituting the values of c_u and c_d\n",
    "* $c = [p^2c_{uu} + 2p(1-p)c_{ud} + (1-p)^2 pc_{dd}] \\div (1+r_f)^2$\n",
    "\n",
    "Where\n",
    "* $c_{uu} = MAX[0,u^2S - X]$\n",
    "* $c_{ud} = c_{du} = MAX[0,udS - X]$\n",
    "* $c_{dd} = MAX[0,d^2S - X]$\n",
    "\n",
    "For the numerical example given above we get\n",
    "* $c = [p^2c_{uu} + 2p(1-p)c_{ud} + (1-p)^2 c_{dd}] \\div (1+r_f)^2$"
   ]
  },
  {
   "cell_type": "code",
   "execution_count": 49,
   "id": "initial_id",
   "metadata": {
    "ExecuteTime": {
     "end_time": "2024-07-31T08:09:49.840271Z",
     "start_time": "2024-07-31T08:09:49.834853Z"
    },
    "collapsed": true
   },
   "outputs": [],
   "source": [
    "def calculate_option(S, X, u, d, rf, tp, ct):\n",
    "    # Risk neutral probability\n",
    "    p = (1 + rf - d) / (u - d)\n",
    "    \n",
    "    # Stock prices at different nodes\n",
    "    Su = u * S\n",
    "    Sd = d * S\n",
    "    Suu = u * Su\n",
    "    Sud = d * Su\n",
    "    Sdd = d * Sd\n",
    "    \n",
    "    multiplier = 1 if tp == 'call' else -1\n",
    "    \n",
    "    # Option values at final nodes\n",
    "    cuu = max(0, multiplier * (Suu - X))\n",
    "    cud = max(0, multiplier * (Sud - X))\n",
    "    cdd = max(0, multiplier * (Sdd - X))\n",
    "    \n",
    "    # Option values at intermediate nodes\n",
    "    cu = (p * cuu + (1 - p) * cud) / (1 + rf)\n",
    "    cd = (p * cud + (1 - p) * cdd) / (1 + rf)\n",
    "    \n",
    "    if (tp == 'call' and ct == 'european') or (tp == 'put' and ct == 'american'):\n",
    "        cu = max(multiplier * (Su - X), cu)\n",
    "        cd = max(multiplier * (Sd - X), cd)\n",
    "    \n",
    "    # Option value at initial node\n",
    "    c0 = (p * cu + (1 - p) * cd) / (1 + rf)\n",
    "    if tp == 'call':\n",
    "        c0 = c0 if ct == 'american' else max(S - X, c0)\n",
    "    else:\n",
    "        c0 = max(X - S, c0) if ct == 'american' else max(0, c0)\n",
    "        \n",
    "    # Calculate m (option's delta)\n",
    "    cu_0 = max(multiplier * (Su - X), 0)\n",
    "    cd_0 = max(multiplier * (Sd - X), 0)\n",
    "    p1 = S * (u - d)\n",
    "    p2 = multiplier * (cu_0 - cd_0)\n",
    "    m = p1 / p2 if tp == 'call' else p2 / p1\n",
    "    \n",
    "    return {\n",
    "        'c0': c0,\n",
    "        'cu': cu,\n",
    "        'cd': cd,\n",
    "        'cu_0': cu_0,\n",
    "        'cd_0': cd_0,\n",
    "        'cuu': cuu, \n",
    "        'cud': cud, \n",
    "        'cdd': cdd, \n",
    "        'p': p, \n",
    "        'm': m, \n",
    "    }"
   ]
  },
  {
   "cell_type": "code",
   "execution_count": 48,
   "id": "7bc5a86b4707ae74",
   "metadata": {
    "ExecuteTime": {
     "end_time": "2024-07-31T08:09:51.614430Z",
     "start_time": "2024-07-31T08:09:51.609387Z"
    }
   },
   "outputs": [],
   "source": [
    "def plot_binomial_tree(result):\n",
    "    # Create nodes (swapping x and y coordinates for horizontal orientation)\n",
    "    nodes = [\n",
    "        (0, 0, f\"{result['c0']:.2f}\"),\n",
    "        (1, 1, f\"{result['cu']:.2f}\"), (1, -1, f\"{result['cd']:.2f}\"),\n",
    "        (2, 2, f\"{result['cuu']:.2f}\"), (2, 0, f\"{result['cud']:.2f}\"), (2, -2, f\"{result['cdd']:.2f}\")\n",
    "    ]\n",
    "\n",
    "    # Create edges\n",
    "    edges = [\n",
    "        (0, 1), (0, 2), (1, 3), (1, 4), (2, 4), (2, 5)\n",
    "    ]\n",
    "\n",
    "    # Create figure\n",
    "    fig = go.Figure()\n",
    "\n",
    "    # Add nodes\n",
    "    node_x, node_y, node_text = zip(*nodes)\n",
    "    fig.add_trace(go.Scatter(\n",
    "        x=node_x, y=node_y,\n",
    "        mode='markers+text',\n",
    "        marker=dict(size=30, color='skyblue'),\n",
    "        text=node_text,\n",
    "        textposition='middle center'\n",
    "    ))\n",
    "\n",
    "    # Add edges\n",
    "    for edge in edges:\n",
    "        fig.add_trace(go.Scatter(\n",
    "            x=[nodes[edge[0]][0], nodes[edge[1]][0]],\n",
    "            y=[nodes[edge[0]][1], nodes[edge[1]][1]],\n",
    "            mode='lines',\n",
    "            line=dict(color='grey', width=1)\n",
    "        ))\n",
    "\n",
    "    # Update layout\n",
    "    fig.update_layout(\n",
    "        title='Binomial Tree Option Pricing',\n",
    "        showlegend=False,\n",
    "        hovermode='closest',\n",
    "        xaxis=dict(showgrid=False, zeroline=False, showticklabels=False),\n",
    "        yaxis=dict(showgrid=False, zeroline=False, showticklabels=False),\n",
    "        yaxis_range=[-2.5, 2.5],  # Adjust this to control vertical spread\n",
    "        xaxis_range=[-0.5, 2.5]  # Adjust this to control horizontal spread\n",
    "    )\n",
    "\n",
    "    return fig"
   ]
  },
  {
   "cell_type": "code",
   "execution_count": 46,
   "id": "7cbf501a88dcaad",
   "metadata": {
    "ExecuteTime": {
     "end_time": "2024-07-31T08:09:54.490385Z",
     "start_time": "2024-07-31T08:09:54.480340Z"
    }
   },
   "outputs": [
    {
     "data": {
      "application/vnd.plotly.v1+json": {
       "config": {
        "plotlyServerURL": "https://plot.ly"
       },
       "data": [
        {
         "marker": {
          "color": "skyblue",
          "size": 30
         },
         "mode": "markers+text",
         "text": [
          "4.64",
          "2.12",
          "20.00",
          "0.00",
          "14.00",
          "32.00"
         ],
         "textposition": "middle center",
         "type": "scatter",
         "x": [
          0,
          1,
          1,
          2,
          2,
          2
         ],
         "y": [
          0,
          -1,
          1,
          -2,
          0,
          2
         ]
        },
        {
         "line": {
          "color": "grey",
          "width": 1
         },
         "mode": "lines",
         "type": "scatter",
         "x": [
          0,
          1
         ],
         "y": [
          0,
          -1
         ]
        },
        {
         "line": {
          "color": "grey",
          "width": 1
         },
         "mode": "lines",
         "type": "scatter",
         "x": [
          0,
          1
         ],
         "y": [
          0,
          1
         ]
        },
        {
         "line": {
          "color": "grey",
          "width": 1
         },
         "mode": "lines",
         "type": "scatter",
         "x": [
          1,
          2
         ],
         "y": [
          -1,
          -2
         ]
        },
        {
         "line": {
          "color": "grey",
          "width": 1
         },
         "mode": "lines",
         "type": "scatter",
         "x": [
          1,
          2
         ],
         "y": [
          -1,
          0
         ]
        },
        {
         "line": {
          "color": "grey",
          "width": 1
         },
         "mode": "lines",
         "type": "scatter",
         "x": [
          1,
          2
         ],
         "y": [
          1,
          0
         ]
        },
        {
         "line": {
          "color": "grey",
          "width": 1
         },
         "mode": "lines",
         "type": "scatter",
         "x": [
          1,
          2
         ],
         "y": [
          1,
          2
         ]
        }
       ],
       "layout": {
        "hovermode": "closest",
        "showlegend": false,
        "template": {
         "data": {
          "bar": [
           {
            "error_x": {
             "color": "#2a3f5f"
            },
            "error_y": {
             "color": "#2a3f5f"
            },
            "marker": {
             "line": {
              "color": "#E5ECF6",
              "width": 0.5
             },
             "pattern": {
              "fillmode": "overlay",
              "size": 10,
              "solidity": 0.2
             }
            },
            "type": "bar"
           }
          ],
          "barpolar": [
           {
            "marker": {
             "line": {
              "color": "#E5ECF6",
              "width": 0.5
             },
             "pattern": {
              "fillmode": "overlay",
              "size": 10,
              "solidity": 0.2
             }
            },
            "type": "barpolar"
           }
          ],
          "carpet": [
           {
            "aaxis": {
             "endlinecolor": "#2a3f5f",
             "gridcolor": "white",
             "linecolor": "white",
             "minorgridcolor": "white",
             "startlinecolor": "#2a3f5f"
            },
            "baxis": {
             "endlinecolor": "#2a3f5f",
             "gridcolor": "white",
             "linecolor": "white",
             "minorgridcolor": "white",
             "startlinecolor": "#2a3f5f"
            },
            "type": "carpet"
           }
          ],
          "choropleth": [
           {
            "colorbar": {
             "outlinewidth": 0,
             "ticks": ""
            },
            "type": "choropleth"
           }
          ],
          "contour": [
           {
            "colorbar": {
             "outlinewidth": 0,
             "ticks": ""
            },
            "colorscale": [
             [
              0,
              "#0d0887"
             ],
             [
              0.1111111111111111,
              "#46039f"
             ],
             [
              0.2222222222222222,
              "#7201a8"
             ],
             [
              0.3333333333333333,
              "#9c179e"
             ],
             [
              0.4444444444444444,
              "#bd3786"
             ],
             [
              0.5555555555555556,
              "#d8576b"
             ],
             [
              0.6666666666666666,
              "#ed7953"
             ],
             [
              0.7777777777777778,
              "#fb9f3a"
             ],
             [
              0.8888888888888888,
              "#fdca26"
             ],
             [
              1,
              "#f0f921"
             ]
            ],
            "type": "contour"
           }
          ],
          "contourcarpet": [
           {
            "colorbar": {
             "outlinewidth": 0,
             "ticks": ""
            },
            "type": "contourcarpet"
           }
          ],
          "heatmap": [
           {
            "colorbar": {
             "outlinewidth": 0,
             "ticks": ""
            },
            "colorscale": [
             [
              0,
              "#0d0887"
             ],
             [
              0.1111111111111111,
              "#46039f"
             ],
             [
              0.2222222222222222,
              "#7201a8"
             ],
             [
              0.3333333333333333,
              "#9c179e"
             ],
             [
              0.4444444444444444,
              "#bd3786"
             ],
             [
              0.5555555555555556,
              "#d8576b"
             ],
             [
              0.6666666666666666,
              "#ed7953"
             ],
             [
              0.7777777777777778,
              "#fb9f3a"
             ],
             [
              0.8888888888888888,
              "#fdca26"
             ],
             [
              1,
              "#f0f921"
             ]
            ],
            "type": "heatmap"
           }
          ],
          "heatmapgl": [
           {
            "colorbar": {
             "outlinewidth": 0,
             "ticks": ""
            },
            "colorscale": [
             [
              0,
              "#0d0887"
             ],
             [
              0.1111111111111111,
              "#46039f"
             ],
             [
              0.2222222222222222,
              "#7201a8"
             ],
             [
              0.3333333333333333,
              "#9c179e"
             ],
             [
              0.4444444444444444,
              "#bd3786"
             ],
             [
              0.5555555555555556,
              "#d8576b"
             ],
             [
              0.6666666666666666,
              "#ed7953"
             ],
             [
              0.7777777777777778,
              "#fb9f3a"
             ],
             [
              0.8888888888888888,
              "#fdca26"
             ],
             [
              1,
              "#f0f921"
             ]
            ],
            "type": "heatmapgl"
           }
          ],
          "histogram": [
           {
            "marker": {
             "pattern": {
              "fillmode": "overlay",
              "size": 10,
              "solidity": 0.2
             }
            },
            "type": "histogram"
           }
          ],
          "histogram2d": [
           {
            "colorbar": {
             "outlinewidth": 0,
             "ticks": ""
            },
            "colorscale": [
             [
              0,
              "#0d0887"
             ],
             [
              0.1111111111111111,
              "#46039f"
             ],
             [
              0.2222222222222222,
              "#7201a8"
             ],
             [
              0.3333333333333333,
              "#9c179e"
             ],
             [
              0.4444444444444444,
              "#bd3786"
             ],
             [
              0.5555555555555556,
              "#d8576b"
             ],
             [
              0.6666666666666666,
              "#ed7953"
             ],
             [
              0.7777777777777778,
              "#fb9f3a"
             ],
             [
              0.8888888888888888,
              "#fdca26"
             ],
             [
              1,
              "#f0f921"
             ]
            ],
            "type": "histogram2d"
           }
          ],
          "histogram2dcontour": [
           {
            "colorbar": {
             "outlinewidth": 0,
             "ticks": ""
            },
            "colorscale": [
             [
              0,
              "#0d0887"
             ],
             [
              0.1111111111111111,
              "#46039f"
             ],
             [
              0.2222222222222222,
              "#7201a8"
             ],
             [
              0.3333333333333333,
              "#9c179e"
             ],
             [
              0.4444444444444444,
              "#bd3786"
             ],
             [
              0.5555555555555556,
              "#d8576b"
             ],
             [
              0.6666666666666666,
              "#ed7953"
             ],
             [
              0.7777777777777778,
              "#fb9f3a"
             ],
             [
              0.8888888888888888,
              "#fdca26"
             ],
             [
              1,
              "#f0f921"
             ]
            ],
            "type": "histogram2dcontour"
           }
          ],
          "mesh3d": [
           {
            "colorbar": {
             "outlinewidth": 0,
             "ticks": ""
            },
            "type": "mesh3d"
           }
          ],
          "parcoords": [
           {
            "line": {
             "colorbar": {
              "outlinewidth": 0,
              "ticks": ""
             }
            },
            "type": "parcoords"
           }
          ],
          "pie": [
           {
            "automargin": true,
            "type": "pie"
           }
          ],
          "scatter": [
           {
            "fillpattern": {
             "fillmode": "overlay",
             "size": 10,
             "solidity": 0.2
            },
            "type": "scatter"
           }
          ],
          "scatter3d": [
           {
            "line": {
             "colorbar": {
              "outlinewidth": 0,
              "ticks": ""
             }
            },
            "marker": {
             "colorbar": {
              "outlinewidth": 0,
              "ticks": ""
             }
            },
            "type": "scatter3d"
           }
          ],
          "scattercarpet": [
           {
            "marker": {
             "colorbar": {
              "outlinewidth": 0,
              "ticks": ""
             }
            },
            "type": "scattercarpet"
           }
          ],
          "scattergeo": [
           {
            "marker": {
             "colorbar": {
              "outlinewidth": 0,
              "ticks": ""
             }
            },
            "type": "scattergeo"
           }
          ],
          "scattergl": [
           {
            "marker": {
             "colorbar": {
              "outlinewidth": 0,
              "ticks": ""
             }
            },
            "type": "scattergl"
           }
          ],
          "scattermapbox": [
           {
            "marker": {
             "colorbar": {
              "outlinewidth": 0,
              "ticks": ""
             }
            },
            "type": "scattermapbox"
           }
          ],
          "scatterpolar": [
           {
            "marker": {
             "colorbar": {
              "outlinewidth": 0,
              "ticks": ""
             }
            },
            "type": "scatterpolar"
           }
          ],
          "scatterpolargl": [
           {
            "marker": {
             "colorbar": {
              "outlinewidth": 0,
              "ticks": ""
             }
            },
            "type": "scatterpolargl"
           }
          ],
          "scatterternary": [
           {
            "marker": {
             "colorbar": {
              "outlinewidth": 0,
              "ticks": ""
             }
            },
            "type": "scatterternary"
           }
          ],
          "surface": [
           {
            "colorbar": {
             "outlinewidth": 0,
             "ticks": ""
            },
            "colorscale": [
             [
              0,
              "#0d0887"
             ],
             [
              0.1111111111111111,
              "#46039f"
             ],
             [
              0.2222222222222222,
              "#7201a8"
             ],
             [
              0.3333333333333333,
              "#9c179e"
             ],
             [
              0.4444444444444444,
              "#bd3786"
             ],
             [
              0.5555555555555556,
              "#d8576b"
             ],
             [
              0.6666666666666666,
              "#ed7953"
             ],
             [
              0.7777777777777778,
              "#fb9f3a"
             ],
             [
              0.8888888888888888,
              "#fdca26"
             ],
             [
              1,
              "#f0f921"
             ]
            ],
            "type": "surface"
           }
          ],
          "table": [
           {
            "cells": {
             "fill": {
              "color": "#EBF0F8"
             },
             "line": {
              "color": "white"
             }
            },
            "header": {
             "fill": {
              "color": "#C8D4E3"
             },
             "line": {
              "color": "white"
             }
            },
            "type": "table"
           }
          ]
         },
         "layout": {
          "annotationdefaults": {
           "arrowcolor": "#2a3f5f",
           "arrowhead": 0,
           "arrowwidth": 1
          },
          "autotypenumbers": "strict",
          "coloraxis": {
           "colorbar": {
            "outlinewidth": 0,
            "ticks": ""
           }
          },
          "colorscale": {
           "diverging": [
            [
             0,
             "#8e0152"
            ],
            [
             0.1,
             "#c51b7d"
            ],
            [
             0.2,
             "#de77ae"
            ],
            [
             0.3,
             "#f1b6da"
            ],
            [
             0.4,
             "#fde0ef"
            ],
            [
             0.5,
             "#f7f7f7"
            ],
            [
             0.6,
             "#e6f5d0"
            ],
            [
             0.7,
             "#b8e186"
            ],
            [
             0.8,
             "#7fbc41"
            ],
            [
             0.9,
             "#4d9221"
            ],
            [
             1,
             "#276419"
            ]
           ],
           "sequential": [
            [
             0,
             "#0d0887"
            ],
            [
             0.1111111111111111,
             "#46039f"
            ],
            [
             0.2222222222222222,
             "#7201a8"
            ],
            [
             0.3333333333333333,
             "#9c179e"
            ],
            [
             0.4444444444444444,
             "#bd3786"
            ],
            [
             0.5555555555555556,
             "#d8576b"
            ],
            [
             0.6666666666666666,
             "#ed7953"
            ],
            [
             0.7777777777777778,
             "#fb9f3a"
            ],
            [
             0.8888888888888888,
             "#fdca26"
            ],
            [
             1,
             "#f0f921"
            ]
           ],
           "sequentialminus": [
            [
             0,
             "#0d0887"
            ],
            [
             0.1111111111111111,
             "#46039f"
            ],
            [
             0.2222222222222222,
             "#7201a8"
            ],
            [
             0.3333333333333333,
             "#9c179e"
            ],
            [
             0.4444444444444444,
             "#bd3786"
            ],
            [
             0.5555555555555556,
             "#d8576b"
            ],
            [
             0.6666666666666666,
             "#ed7953"
            ],
            [
             0.7777777777777778,
             "#fb9f3a"
            ],
            [
             0.8888888888888888,
             "#fdca26"
            ],
            [
             1,
             "#f0f921"
            ]
           ]
          },
          "colorway": [
           "#636efa",
           "#EF553B",
           "#00cc96",
           "#ab63fa",
           "#FFA15A",
           "#19d3f3",
           "#FF6692",
           "#B6E880",
           "#FF97FF",
           "#FECB52"
          ],
          "font": {
           "color": "#2a3f5f"
          },
          "geo": {
           "bgcolor": "white",
           "lakecolor": "white",
           "landcolor": "#E5ECF6",
           "showlakes": true,
           "showland": true,
           "subunitcolor": "white"
          },
          "hoverlabel": {
           "align": "left"
          },
          "hovermode": "closest",
          "mapbox": {
           "style": "light"
          },
          "paper_bgcolor": "white",
          "plot_bgcolor": "#E5ECF6",
          "polar": {
           "angularaxis": {
            "gridcolor": "white",
            "linecolor": "white",
            "ticks": ""
           },
           "bgcolor": "#E5ECF6",
           "radialaxis": {
            "gridcolor": "white",
            "linecolor": "white",
            "ticks": ""
           }
          },
          "scene": {
           "xaxis": {
            "backgroundcolor": "#E5ECF6",
            "gridcolor": "white",
            "gridwidth": 2,
            "linecolor": "white",
            "showbackground": true,
            "ticks": "",
            "zerolinecolor": "white"
           },
           "yaxis": {
            "backgroundcolor": "#E5ECF6",
            "gridcolor": "white",
            "gridwidth": 2,
            "linecolor": "white",
            "showbackground": true,
            "ticks": "",
            "zerolinecolor": "white"
           },
           "zaxis": {
            "backgroundcolor": "#E5ECF6",
            "gridcolor": "white",
            "gridwidth": 2,
            "linecolor": "white",
            "showbackground": true,
            "ticks": "",
            "zerolinecolor": "white"
           }
          },
          "shapedefaults": {
           "line": {
            "color": "#2a3f5f"
           }
          },
          "ternary": {
           "aaxis": {
            "gridcolor": "white",
            "linecolor": "white",
            "ticks": ""
           },
           "baxis": {
            "gridcolor": "white",
            "linecolor": "white",
            "ticks": ""
           },
           "bgcolor": "#E5ECF6",
           "caxis": {
            "gridcolor": "white",
            "linecolor": "white",
            "ticks": ""
           }
          },
          "title": {
           "x": 0.05
          },
          "xaxis": {
           "automargin": true,
           "gridcolor": "white",
           "linecolor": "white",
           "ticks": "",
           "title": {
            "standoff": 15
           },
           "zerolinecolor": "white",
           "zerolinewidth": 2
          },
          "yaxis": {
           "automargin": true,
           "gridcolor": "white",
           "linecolor": "white",
           "ticks": "",
           "title": {
            "standoff": 15
           },
           "zerolinecolor": "white",
           "zerolinewidth": 2
          }
         }
        },
        "title": {
         "text": "Binomial Tree Option Pricing"
        },
        "xaxis": {
         "range": [
          -0.5,
          2.5
         ],
         "showgrid": false,
         "showticklabels": false,
         "zeroline": false
        },
        "yaxis": {
         "range": [
          -2.5,
          2.5
         ],
         "showgrid": false,
         "showticklabels": false,
         "zeroline": false
        }
       }
      }
     },
     "metadata": {},
     "output_type": "display_data"
    },
    {
     "name": "stdout",
     "output_type": "stream",
     "text": [
      "Value of hedge ratio (m): 0.67\n",
      "One-period hedge portfolio payoffs: 40.00 or 40.00\n",
      "Option Value in t=0 (P0): 4.64\n",
      "Risk-Neutral Probability (p): 0.83 and (p-1): 0.17\n",
      "Payoffs for 2-period American Put option:\n",
      "  - Up-Up: 0.00\n",
      "  - Up-Down: 14.00\n",
      "  - Down-Down: 32.00\n"
     ]
    }
   ],
   "source": [
    "# Example usage\n",
    "S = 50  # current stock price\n",
    "X = 50  # exercise price\n",
    "u = 1.2  # upwards movement\n",
    "d = 0.6  # downwards movement\n",
    "rf = 0.1  # risk-free rate\n",
    "tp = 'put'  # option type 'call' or 'put'\n",
    "ct = 'american'  # contract type 'american' or 'european'\n",
    "\n",
    "result = calculate_option(S, X, u, d, rf, tp, ct)\n",
    "fig = plot_binomial_tree(result)\n",
    "fig.show()\n",
    "\n",
    "print(f\"Value of hedge ratio (m): {result['m']:.2f}\")\n",
    "print(\n",
    "    f\"One-period hedge portfolio payoffs: {result['m'] * S * u + result['cu_0']:.2f} or {result['m'] * S * d + result['cd_0']:.2f}\")\n",
    "print(f\"Option Value in t=0 (P0): {result['c0']:.2f}\")\n",
    "print(f\"Risk-Neutral Probability (p): {result['p']:.2f} and (p-1): {1 - result['p']:,.2f}\")\n",
    "print(f\"Payoffs for 2-period {f'{ct.title()} {tp.title()}'} option:\")\n",
    "print(f\"  - Up-Up: {result['cuu']:.2f}\")\n",
    "print(f\"  - Up-Down: {result['cud']:.2f}\")\n",
    "print(f\"  - Down-Down: {result['cdd']:.2f}\")"
   ]
  },
  {
   "cell_type": "markdown",
   "id": "ca3a01112aecaed3",
   "metadata": {},
   "source": [
    "## Black-Scholes Model"
   ]
  },
  {
   "cell_type": "markdown",
   "id": "f55c4359896337d2",
   "metadata": {},
   "source": [
    "**Assumptions:**\n",
    "* Stock price moves randomly in continuous time\n",
    "    * Stock price modeled as geometric Brownian motion (return normally distributed, constant volatility)\n",
    "* No dividends\n",
    "* No market frictions: No arbitrage opportunities, no transaction costs, constant interest rate, no short-sale restrictions\n",
    " \n",
    "**Variables:**\n",
    "* $S$ = Current stock price\n",
    "* $X$ = Exercise price\n",
    "* $T$ = Time to expiration (in years)\n",
    "* $r_f$ = Risk-free rate\n",
    "* $\\sigma$ = Firm asset volatility\n",
    "* $\\sigma^2$ = Variance of firm asset returns (per year)\n",
    "\n",
    "$c = S N(d_1) - X e^{-r_f T} N(d_2)$\n",
    "\n",
    "where \n",
    "* $d_1 = \\frac{\\ln(S/X)+r_fT}{\\sigma\\sqrt{T}} + \\frac{1}{2}\\sigma\\sqrt{T}$ \n",
    "* $d_2 = d_1 - \\sigma\\sqrt{T}$\n",
    "\n",
    "Note, BSM is equivalent to Binomial model, if a large number of steps is used and the following holds: $u = e^{\\sigma\\sqrt{\\Delta T}}$"
   ]
  },
  {
   "cell_type": "code",
   "execution_count": 5,
   "id": "bab9b82458ccedef",
   "metadata": {
    "ExecuteTime": {
     "end_time": "2024-07-31T08:09:59.364349Z",
     "start_time": "2024-07-31T08:09:59.361721Z"
    }
   },
   "outputs": [],
   "source": [
    "def black_scholes(S, X, rf, T, sig, tp):\n",
    "    d1 = (math.log(S / X) + (rf * T)) / (sig * math.sqrt(T)) + 0.5 * sig * math.sqrt(T)\n",
    "    d2 = d1 - sig * math.sqrt(T)\n",
    "    \n",
    "    multiplier = 1 if tp == 'call' else -1\n",
    "    \n",
    "    N1 = norm.cdf(multiplier * d1)\n",
    "    N2 = norm.cdf(multiplier * d2)\n",
    "    \n",
    "    c0 = multiplier * (S * N1 - X * math.exp(-rf * T) * N2) # continuous time\n",
    "    #c0 = multiplier * (S * N1 - (X / (1 + rf)**T) * N2) # discrete time\n",
    "    \n",
    "    neg = {1: '', -1: '-'}[multiplier]\n",
    "    \n",
    "    return {\n",
    "        'd1': d1,\n",
    "        'd2': d2,\n",
    "        'N-d1': (f\"N({neg}d1)\", N1), \n",
    "        'N-d2': (f\"N({neg}d2)\", N2),\n",
    "        'c0': c0\n",
    "    }"
   ]
  },
  {
   "cell_type": "code",
   "execution_count": 6,
   "id": "7fb94ccafd50cebe",
   "metadata": {
    "ExecuteTime": {
     "end_time": "2024-07-31T08:10:01.285322Z",
     "start_time": "2024-07-31T08:10:01.279670Z"
    }
   },
   "outputs": [
    {
     "name": "stdout",
     "output_type": "stream",
     "text": [
      "Value of European Call option: 3.70\n",
      "--------------------------------------------------\n",
      "d1: 0.31, d2: -0.12\n",
      "N(d1)=0.6204, N(d2)=0.4531\n"
     ]
    }
   ],
   "source": [
    "#!TODO THIS DOESN'T WORK Currently with Tutorial 1 Question 3 someone please look into this\n",
    "\n",
    "\n",
    "# S - Current stock price\n",
    "S = 20\n",
    "# X - Exercise price\n",
    "X = 20\n",
    "# T - Time to expiration (in years) calculated from:\n",
    "\n",
    "# maturity in\n",
    "days = 0\n",
    "months = 6\n",
    "years = 0\n",
    "\n",
    "total_days = days + months * 365/12 + years * 365\n",
    "T = total_days / 365\n",
    "\n",
    "# rf - Risk-free rate\n",
    "rf = 0.08\n",
    "# variance - Variance of firm asset returns (per year)\n",
    "variance = 0.36\n",
    "# sig - Firm asset volatility\n",
    "sig = None\n",
    "tp = 'call' # option type 'call' or 'put'\n",
    "\n",
    "if sig and variance:\n",
    "    raise ValueError(\"Only one of sigma or variance should be provided\")\n",
    "elif variance:\n",
    "    sig = math.sqrt(variance)\n",
    "    \n",
    "result = black_scholes(S, X, rf, T, sig, tp)\n",
    "\n",
    "print(f\"Value of European {tp.title()} option: {result['c0']:.2f}\")\n",
    "print('-' * 50)\n",
    "print(f\"d1: {result['d1']:.2f}, d2: {result['d2']:.2f}\")\n",
    "print(f\"{result['N-d1'][0]}={result['N-d1'][1]:.4f}, {result['N-d2'][0]}={result['N-d2'][1]:.4f}\")"
   ]
  },
  {
   "cell_type": "markdown",
   "id": "64dd83bf60351a04",
   "metadata": {},
   "source": [
    "# Merton Model\n",
    "Equity is call option on market value of firm with debt value as strike"
   ]
  },
  {
   "cell_type": "markdown",
   "id": "80b436e454c0281a",
   "metadata": {},
   "source": [
    "**Setting:**\n",
    "* Firm with firm value V\n",
    "    * Consisting of risky equity S and debt\n",
    "* Debt is zero coupon bond\n",
    "    * With face value D and maturity in T years from now\n",
    "* Debt is secured by assets of firm\n",
    "* Firm pays no dividends\n",
    "\n",
    "Value of equity S at maturity T is given by\n",
    "* $S = max[0, V - D]$\n",
    "* At maturity T, equity holders get value of the firm V in excess of debt value D\n",
    "* If V < D, the firm will default"
   ]
  },
  {
   "cell_type": "markdown",
   "id": "fd4e618dde3b8845",
   "metadata": {},
   "source": [
    "$S = V \\cdot N(d_1) - D \\cdot e^{-r_f T} \\cdot N(d_2)$\n",
    "\n",
    "where:\n",
    "* $d_1 = \\frac{\\ln(V/D) + r_f T}{\\sigma \\sqrt{T}} + \\frac{1}{2} \\sigma \\sqrt{T}$\n",
    "* $d_2 = d_1 - \\sigma \\sqrt{T}$\n",
    "\n",
    "For calculating a firm's value as a call option (YTM = Yield to Maturity):\n",
    "* $YTM = \\sqrt[T]{\\frac{D}{B}} - 1$\n",
    "\n",
    "where:\n",
    "* $D$ = Zero-Bond\n",
    "* $B = V - S$: Value of debt\n",
    "\n",
    "For calculating the Recovery Rate in the risk-neutral world:\n",
    "* $RR_n = \\frac{B \\cdot e^{r_f T} - D \\cdot N(d_2)}{D \\cdot (1 - N(d_2))}$"
   ]
  },
  {
   "cell_type": "code",
   "execution_count": 7,
   "id": "f22d25c2f7504a38",
   "metadata": {
    "ExecuteTime": {
     "end_time": "2024-07-31T08:10:03.724693Z",
     "start_time": "2024-07-31T08:10:03.721622Z"
    }
   },
   "outputs": [],
   "source": [
    "def merton(V, D, T, rf, sig):\n",
    "    '''\n",
    "    Calculates the firma's equity as a call option\n",
    "    Parameters\n",
    "    ----------\n",
    "    V: float\n",
    "    firma's value\n",
    "    D: float\n",
    "    zero-bond\n",
    "    T: float\n",
    "    time to maturity (in years)\n",
    "    rf: float\n",
    "    risk-free rate\n",
    "    sig: float\n",
    "    firma's asset volatility\n",
    "    '''\n",
    "    d1 = (math.log(V / D) + rf * T) / (sig * math.sqrt(T)) + 0.5 * sig * math.sqrt(T)\n",
    "    d2 = d1 - sig * math.sqrt(T)\n",
    "    d1 = round(d1, 2)\n",
    "    d2 = round(d2, 2)\n",
    "    N1 = norm.cdf(d1)\n",
    "    N1 = round(N1, 4)\n",
    "    N2 = norm.cdf(d2)\n",
    "    N2 = round(N2, 4)\n",
    "    S = V * N1 - D * math.exp(-rf * T) * N2\n",
    "    \n",
    "    B = V - S\n",
    "    \n",
    "    RRN = (B * math.exp(rf * T) - D * N2) / (D * (1 - N2))\n",
    "    ytm = (D / B) ** (1 / T) - 1\n",
    "    \n",
    "    return {\n",
    "        'd1': d1,\n",
    "        'd2': d2,\n",
    "        'N-d1': N1,\n",
    "        'N-d2': N2,\n",
    "        'S': S,\n",
    "        'B': B,\n",
    "        'YTM': ytm,\n",
    "        'RRN': RRN\n",
    "    }"
   ]
  },
  {
   "cell_type": "code",
   "execution_count": 8,
   "id": "862cac9d3ccf9d59",
   "metadata": {
    "ExecuteTime": {
     "end_time": "2024-07-31T08:10:05.483129Z",
     "start_time": "2024-07-31T08:10:05.479329Z"
    }
   },
   "outputs": [
    {
     "name": "stdout",
     "output_type": "stream",
     "text": [
      "Value of firm's equity: 4104368.86\n",
      "Value of firm's debt: 895631.14\n",
      "--------------------------------------------------\n",
      "The YTM (Yield to Maturity) is: 0.1614\n",
      "The Recovery Rate in the risk-neutral world is: 0.1966\n",
      "--------------------------------------------------\n",
      "d1: 1.44, d2: -0.79\n",
      "N(d1)=0.9251, N(d2)=0.2148\n"
     ]
    }
   ],
   "source": [
    "V = 5_000_000\n",
    "D = 4_000_000\n",
    "# Zero-bond\n",
    "# Time to maturity\n",
    "days = 0\n",
    "months = 0\n",
    "years = 10\n",
    "\n",
    "total_days = days + months * 365/12 + years * 365\n",
    "T = total_days / 365\n",
    "# Risk-free rate\n",
    "rf = 0.05\n",
    "\n",
    "# Firm asset volatility\n",
    "variance = 0.5\n",
    "sig = None\n",
    "\n",
    "if sig and variance:\n",
    "    raise ValueError(\"Only one of sigma or variance should be provided\")\n",
    "elif variance:\n",
    "    sig = math.sqrt(variance)\n",
    "\n",
    "result = merton(V, D, T, rf, sig)\n",
    "\n",
    "print(f\"Value of firm's equity: {result['S']:.2f}\")\n",
    "print(f\"Value of firm's debt: {result['B']:.2f}\")\n",
    "print('-' * 50)\n",
    "print(f\"The YTM (Yield to Maturity) is: {result['YTM']:.4f}\")\n",
    "print(f\"The Recovery Rate in the risk-neutral world is: {result['RRN']:.4f}\")\n",
    "print('-' * 50)\n",
    "print(f\"d1: {result['d1']:.2f}, d2: {result['d2']:.2f}\")\n",
    "print(f\"N(d1)={result['N-d1']:.4f}, N(d2)={result['N-d2']:.4f}\")\n",
    "\n",
    "\n",
    "\n",
    "\n"
   ]
  },
  {
   "cell_type": "markdown",
   "id": "1ab63b651ec18e99",
   "metadata": {},
   "source": [
    "# Put-Call Parity and Arbitrage\n",
    "\n",
    "Put-call parity is a fundamental principle in options pricing that establishes a relationship between European put options, call options, and their underlying asset.\n",
    "\n",
    "## Key Concepts:\n",
    "\n",
    "1. **Equation**: S + P = C + PV(X)\n",
    "   - S: Current stock price\n",
    "   - P: Put option price\n",
    "   - C: Call option price\n",
    "   - PV(X): Present value of strike price\n",
    "\n",
    "2. **Portfolio Equivalence**: \n",
    "   - Long stock + Long put = Long call + Cash (equal to PV of strike price)\n",
    "\n",
    "3. **Arbitrage-Free Condition**: \n",
    "   - Ensures no risk-free profit opportunities exist\n",
    "\n",
    "4. **Applications**:\n",
    "   - Validating option pricing models\n",
    "   - Identifying mispriced options\n",
    "   - Deriving implied volatility\n",
    "\n",
    "5. **Assumptions**:\n",
    "   - European-style options\n",
    "   - No dividends\n",
    "   - Efficient markets\n",
    "   - No transaction costs"
   ]
  },
  {
   "cell_type": "code",
   "execution_count": 9,
   "id": "adf8aab5ea1ef9d1",
   "metadata": {
    "ExecuteTime": {
     "end_time": "2024-07-31T08:10:10.121125Z",
     "start_time": "2024-07-31T08:10:10.118400Z"
    }
   },
   "outputs": [],
   "source": [
    "def put_call_parity(c0, p0, S0, X, T, rf, tp):\n",
    "    if tp == 'discrete':\n",
    "        P0 = c0 - S0 + X / ((1 + rf) ** T)\n",
    "        C0 = p0 + S0 - X / ((1 + rf) ** T)\n",
    "    else:\n",
    "        P0 = c0 - S0 + X * math.exp(-rf * T)\n",
    "        C0 = p0 + S0 - X * math.exp(-rf * T)\n",
    "\n",
    "    return {\n",
    "        'P0': P0, # Put option value\n",
    "        'C0': C0  # Call option value\n",
    "    }"
   ]
  },
  {
   "cell_type": "code",
   "execution_count": 10,
   "id": "bb6126d1e46b3cd9",
   "metadata": {
    "ExecuteTime": {
     "end_time": "2024-07-31T08:12:52.605210Z",
     "start_time": "2024-07-31T08:12:52.602006Z"
    }
   },
   "outputs": [
    {
     "name": "stdout",
     "output_type": "stream",
     "text": [
      "Value of Put Option (P0): 2.92\n",
      "Value of Call Option (C0): 0.78\n"
     ]
    }
   ],
   "source": [
    "# c0 - Call option value\n",
    "c0 = 3.7\n",
    "# p0 - Put option value\n",
    "p0 = 0\n",
    "# S0 - Current stock price\n",
    "S0 = 20\n",
    "# X - Exercise price\n",
    "X = 20\n",
    "# T - Time to maturity (in years)\n",
    "T = 0.5\n",
    "# rf - Risk-free rate\n",
    "rf = 0.08\n",
    "# tp - Type of parity\n",
    "# tp = 'discrete'\n",
    "tp = 'continuous'\n",
    "result = put_call_parity(c0, p0, S0, X, T, rf, tp)\n",
    "\n",
    "\n",
    "print(f\"Value of Put Option (P0): {result['P0']:.2f}\")\n",
    "print(f\"Value of Call Option (C0): {result['C0']:.2f}\")"
   ]
  },
  {
   "cell_type": "markdown",
   "id": "5a9f752002b58e3d",
   "metadata": {},
   "source": [
    "# Net Present Value (NPV)"
   ]
  },
  {
   "cell_type": "markdown",
   "id": "3b1116278deaa3af",
   "metadata": {},
   "source": [
    "$NPV = -I_0 + \\sum_{t=1}^{n} \\frac{E(FCF_t)}{(1 + WACC)^t} > 0$\n",
    "\n",
    "where:\n",
    "* $I_0$: Initial investment\n",
    "* $FCF_t$: Free cash flow at time $t$\n",
    "* $WACC$: Weighted average cost of capital\n",
    "* $n$: Number of periods\n",
    "\n",
    "**Advantages**:\n",
    "* Simple to implement\n",
    "\n",
    "**Disadvantages**:\n",
    "* No flexibility after investment decision\n",
    "* Underestimates the value of a project\n",
    "\n",
    "**Implicit assumption: Pre-commitment to a deterministic course of action**\n",
    "* NPV-method not suitable for flexible, multi-period decision making under uncertainty\n",
    "* Real option explicitly model this flexibility"
   ]
  },
  {
   "cell_type": "code",
   "execution_count": 11,
   "id": "2f9fe0d187e7cd70",
   "metadata": {
    "ExecuteTime": {
     "end_time": "2024-07-30T11:40:58.335552Z",
     "start_time": "2024-07-30T11:40:58.331836Z"
    }
   },
   "outputs": [],
   "source": [
    "def calculate_NPV_no_expansion(I, sig, V, T, n):\n",
    "    '''\n",
    "    Calculates the NPV and node values for a binomial tree without expansion\n",
    "    Parameters\n",
    "    ----------\n",
    "    I: float\n",
    "        initial investment\n",
    "    sig: float\n",
    "        volatility\n",
    "    V: float\n",
    "        present value w/o flexibility\n",
    "    T: float\n",
    "        time to maturity (in years)\n",
    "    n: int\n",
    "        steps in the tree\n",
    "    \n",
    "    Returns\n",
    "    -------\n",
    "    dict\n",
    "        A dictionary containing all calculated values\n",
    "    '''\n",
    "    npv = V - I\n",
    "    u = math.exp(sig * math.sqrt(T / n))\n",
    "    u = round(u, 2)\n",
    "    d = 1 / u\n",
    "    d = round(d, 2)\n",
    "    uV = u * V\n",
    "    uV = round(uV, 2)\n",
    "    dV = d * V\n",
    "    dV = round(dV, 2)\n",
    "    udV = uV * d\n",
    "    udV = round(udV, 2)\n",
    "    uuV = uV * u\n",
    "    uuV = round(uuV, 2)\n",
    "    ddV = dV * d\n",
    "\n",
    "    return {\n",
    "        'npv': npv,\n",
    "        'u': u,\n",
    "        'd': d, \n",
    "        'V': V, \n",
    "        'uV':uV, \n",
    "        'dV':dV, \n",
    "        'uuV':uuV, \n",
    "        'udV':udV, \n",
    "        'ddV':ddV,\n",
    "    }"
   ]
  },
  {
   "cell_type": "code",
   "execution_count": 12,
   "id": "16a2cf0b03514dbc",
   "metadata": {
    "ExecuteTime": {
     "end_time": "2024-07-30T11:41:00.301781Z",
     "start_time": "2024-07-30T11:41:00.297230Z"
    }
   },
   "outputs": [],
   "source": [
    "def plot_binomial_tree(results):\n",
    "    '''\n",
    "    Plots the binomial tree using Plotly\n",
    "    Parameters\n",
    "    ----------\n",
    "    results: dict\n",
    "        Dictionary containing the calculated values from calculate_NPV_no_expansion\n",
    "    '''\n",
    "    # Create nodes for the tree\n",
    "    nodes = [\n",
    "        (0, 0, f\"{results['V']:.2f}\"),\n",
    "        (1, 1, f\"{results['uV']:.2f}\"), (1, -1, f\"{results['dV']:.2f}\"),\n",
    "        (2, 2, f\"{results['uuV']:.2f}\"), (2, 0, f\"{results['udV']:.2f}\"), (2, -2, f\"{results['ddV']:.2f}\")\n",
    "    ]\n",
    "\n",
    "    # Create edges\n",
    "    edges = [\n",
    "        (0, 1), (0, 2), (1, 3), (1, 4), (2, 4), (2, 5)\n",
    "    ]\n",
    "\n",
    "    # Create figure\n",
    "    fig = go.Figure()\n",
    "\n",
    "    # Add nodes\n",
    "    node_x, node_y, node_text = zip(*nodes)\n",
    "    fig.add_trace(go.Scatter(\n",
    "        x=node_x, y=node_y,\n",
    "        mode='markers+text',\n",
    "        marker=dict(size=30, color='skyblue'),\n",
    "        text=node_text,\n",
    "        textposition='middle center'\n",
    "    ))\n",
    "\n",
    "    # Add edges\n",
    "    for edge in edges:\n",
    "        fig.add_trace(go.Scatter(\n",
    "            x=[nodes[edge[0]][0], nodes[edge[1]][0]],\n",
    "            y=[nodes[edge[0]][1], nodes[edge[1]][1]],\n",
    "            mode='lines',\n",
    "            line=dict(color='grey', width=1)\n",
    "        ))\n",
    "\n",
    "    # Update layout\n",
    "    fig.update_layout(\n",
    "        title='Binomial Tree - NPV No Expansion',\n",
    "        showlegend=False,\n",
    "        hovermode='closest',\n",
    "        xaxis=dict(showgrid=False, zeroline=False, showticklabels=False, range=[-0.5, 2.5]),\n",
    "        yaxis=dict(showgrid=False, zeroline=False, showticklabels=False, range=[-2.5, 2.5]),\n",
    "        annotations=[\n",
    "            dict(x=1, y=2.5, xref=\"x\", yref=\"y\", text=f\"u={results['u']:.2f}\", showarrow=False),\n",
    "            dict(x=1, y=-2.5, xref=\"x\", yref=\"y\", text=f\"d={results['d']:.2f}\", showarrow=False)\n",
    "        ]\n",
    "    )\n",
    "\n",
    "    # Show the plot\n",
    "    fig.show()\n"
   ]
  },
  {
   "cell_type": "code",
   "execution_count": 13,
   "id": "74c97c941aac95e",
   "metadata": {
    "ExecuteTime": {
     "end_time": "2024-07-30T11:41:03.289978Z",
     "start_time": "2024-07-30T11:41:03.281584Z"
    }
   },
   "outputs": [
    {
     "name": "stdout",
     "output_type": "stream",
     "text": [
      "The NPV without expansion is: 10.00\n"
     ]
    },
    {
     "data": {
      "application/vnd.plotly.v1+json": {
       "config": {
        "plotlyServerURL": "https://plot.ly"
       },
       "data": [
        {
         "marker": {
          "color": "skyblue",
          "size": 30
         },
         "mode": "markers+text",
         "text": [
          "30.00",
          "34.80",
          "25.80",
          "40.37",
          "29.93",
          "22.19"
         ],
         "textposition": "middle center",
         "type": "scatter",
         "x": [
          0,
          1,
          1,
          2,
          2,
          2
         ],
         "y": [
          0,
          1,
          -1,
          2,
          0,
          -2
         ]
        },
        {
         "line": {
          "color": "grey",
          "width": 1
         },
         "mode": "lines",
         "type": "scatter",
         "x": [
          0,
          1
         ],
         "y": [
          0,
          1
         ]
        },
        {
         "line": {
          "color": "grey",
          "width": 1
         },
         "mode": "lines",
         "type": "scatter",
         "x": [
          0,
          1
         ],
         "y": [
          0,
          -1
         ]
        },
        {
         "line": {
          "color": "grey",
          "width": 1
         },
         "mode": "lines",
         "type": "scatter",
         "x": [
          1,
          2
         ],
         "y": [
          1,
          2
         ]
        },
        {
         "line": {
          "color": "grey",
          "width": 1
         },
         "mode": "lines",
         "type": "scatter",
         "x": [
          1,
          2
         ],
         "y": [
          1,
          0
         ]
        },
        {
         "line": {
          "color": "grey",
          "width": 1
         },
         "mode": "lines",
         "type": "scatter",
         "x": [
          1,
          2
         ],
         "y": [
          -1,
          0
         ]
        },
        {
         "line": {
          "color": "grey",
          "width": 1
         },
         "mode": "lines",
         "type": "scatter",
         "x": [
          1,
          2
         ],
         "y": [
          -1,
          -2
         ]
        }
       ],
       "layout": {
        "annotations": [
         {
          "showarrow": false,
          "text": "u=1.16",
          "x": 1,
          "xref": "x",
          "y": 2.5,
          "yref": "y"
         },
         {
          "showarrow": false,
          "text": "d=0.86",
          "x": 1,
          "xref": "x",
          "y": -2.5,
          "yref": "y"
         }
        ],
        "hovermode": "closest",
        "showlegend": false,
        "template": {
         "data": {
          "bar": [
           {
            "error_x": {
             "color": "#2a3f5f"
            },
            "error_y": {
             "color": "#2a3f5f"
            },
            "marker": {
             "line": {
              "color": "#E5ECF6",
              "width": 0.5
             },
             "pattern": {
              "fillmode": "overlay",
              "size": 10,
              "solidity": 0.2
             }
            },
            "type": "bar"
           }
          ],
          "barpolar": [
           {
            "marker": {
             "line": {
              "color": "#E5ECF6",
              "width": 0.5
             },
             "pattern": {
              "fillmode": "overlay",
              "size": 10,
              "solidity": 0.2
             }
            },
            "type": "barpolar"
           }
          ],
          "carpet": [
           {
            "aaxis": {
             "endlinecolor": "#2a3f5f",
             "gridcolor": "white",
             "linecolor": "white",
             "minorgridcolor": "white",
             "startlinecolor": "#2a3f5f"
            },
            "baxis": {
             "endlinecolor": "#2a3f5f",
             "gridcolor": "white",
             "linecolor": "white",
             "minorgridcolor": "white",
             "startlinecolor": "#2a3f5f"
            },
            "type": "carpet"
           }
          ],
          "choropleth": [
           {
            "colorbar": {
             "outlinewidth": 0,
             "ticks": ""
            },
            "type": "choropleth"
           }
          ],
          "contour": [
           {
            "colorbar": {
             "outlinewidth": 0,
             "ticks": ""
            },
            "colorscale": [
             [
              0,
              "#0d0887"
             ],
             [
              0.1111111111111111,
              "#46039f"
             ],
             [
              0.2222222222222222,
              "#7201a8"
             ],
             [
              0.3333333333333333,
              "#9c179e"
             ],
             [
              0.4444444444444444,
              "#bd3786"
             ],
             [
              0.5555555555555556,
              "#d8576b"
             ],
             [
              0.6666666666666666,
              "#ed7953"
             ],
             [
              0.7777777777777778,
              "#fb9f3a"
             ],
             [
              0.8888888888888888,
              "#fdca26"
             ],
             [
              1,
              "#f0f921"
             ]
            ],
            "type": "contour"
           }
          ],
          "contourcarpet": [
           {
            "colorbar": {
             "outlinewidth": 0,
             "ticks": ""
            },
            "type": "contourcarpet"
           }
          ],
          "heatmap": [
           {
            "colorbar": {
             "outlinewidth": 0,
             "ticks": ""
            },
            "colorscale": [
             [
              0,
              "#0d0887"
             ],
             [
              0.1111111111111111,
              "#46039f"
             ],
             [
              0.2222222222222222,
              "#7201a8"
             ],
             [
              0.3333333333333333,
              "#9c179e"
             ],
             [
              0.4444444444444444,
              "#bd3786"
             ],
             [
              0.5555555555555556,
              "#d8576b"
             ],
             [
              0.6666666666666666,
              "#ed7953"
             ],
             [
              0.7777777777777778,
              "#fb9f3a"
             ],
             [
              0.8888888888888888,
              "#fdca26"
             ],
             [
              1,
              "#f0f921"
             ]
            ],
            "type": "heatmap"
           }
          ],
          "heatmapgl": [
           {
            "colorbar": {
             "outlinewidth": 0,
             "ticks": ""
            },
            "colorscale": [
             [
              0,
              "#0d0887"
             ],
             [
              0.1111111111111111,
              "#46039f"
             ],
             [
              0.2222222222222222,
              "#7201a8"
             ],
             [
              0.3333333333333333,
              "#9c179e"
             ],
             [
              0.4444444444444444,
              "#bd3786"
             ],
             [
              0.5555555555555556,
              "#d8576b"
             ],
             [
              0.6666666666666666,
              "#ed7953"
             ],
             [
              0.7777777777777778,
              "#fb9f3a"
             ],
             [
              0.8888888888888888,
              "#fdca26"
             ],
             [
              1,
              "#f0f921"
             ]
            ],
            "type": "heatmapgl"
           }
          ],
          "histogram": [
           {
            "marker": {
             "pattern": {
              "fillmode": "overlay",
              "size": 10,
              "solidity": 0.2
             }
            },
            "type": "histogram"
           }
          ],
          "histogram2d": [
           {
            "colorbar": {
             "outlinewidth": 0,
             "ticks": ""
            },
            "colorscale": [
             [
              0,
              "#0d0887"
             ],
             [
              0.1111111111111111,
              "#46039f"
             ],
             [
              0.2222222222222222,
              "#7201a8"
             ],
             [
              0.3333333333333333,
              "#9c179e"
             ],
             [
              0.4444444444444444,
              "#bd3786"
             ],
             [
              0.5555555555555556,
              "#d8576b"
             ],
             [
              0.6666666666666666,
              "#ed7953"
             ],
             [
              0.7777777777777778,
              "#fb9f3a"
             ],
             [
              0.8888888888888888,
              "#fdca26"
             ],
             [
              1,
              "#f0f921"
             ]
            ],
            "type": "histogram2d"
           }
          ],
          "histogram2dcontour": [
           {
            "colorbar": {
             "outlinewidth": 0,
             "ticks": ""
            },
            "colorscale": [
             [
              0,
              "#0d0887"
             ],
             [
              0.1111111111111111,
              "#46039f"
             ],
             [
              0.2222222222222222,
              "#7201a8"
             ],
             [
              0.3333333333333333,
              "#9c179e"
             ],
             [
              0.4444444444444444,
              "#bd3786"
             ],
             [
              0.5555555555555556,
              "#d8576b"
             ],
             [
              0.6666666666666666,
              "#ed7953"
             ],
             [
              0.7777777777777778,
              "#fb9f3a"
             ],
             [
              0.8888888888888888,
              "#fdca26"
             ],
             [
              1,
              "#f0f921"
             ]
            ],
            "type": "histogram2dcontour"
           }
          ],
          "mesh3d": [
           {
            "colorbar": {
             "outlinewidth": 0,
             "ticks": ""
            },
            "type": "mesh3d"
           }
          ],
          "parcoords": [
           {
            "line": {
             "colorbar": {
              "outlinewidth": 0,
              "ticks": ""
             }
            },
            "type": "parcoords"
           }
          ],
          "pie": [
           {
            "automargin": true,
            "type": "pie"
           }
          ],
          "scatter": [
           {
            "fillpattern": {
             "fillmode": "overlay",
             "size": 10,
             "solidity": 0.2
            },
            "type": "scatter"
           }
          ],
          "scatter3d": [
           {
            "line": {
             "colorbar": {
              "outlinewidth": 0,
              "ticks": ""
             }
            },
            "marker": {
             "colorbar": {
              "outlinewidth": 0,
              "ticks": ""
             }
            },
            "type": "scatter3d"
           }
          ],
          "scattercarpet": [
           {
            "marker": {
             "colorbar": {
              "outlinewidth": 0,
              "ticks": ""
             }
            },
            "type": "scattercarpet"
           }
          ],
          "scattergeo": [
           {
            "marker": {
             "colorbar": {
              "outlinewidth": 0,
              "ticks": ""
             }
            },
            "type": "scattergeo"
           }
          ],
          "scattergl": [
           {
            "marker": {
             "colorbar": {
              "outlinewidth": 0,
              "ticks": ""
             }
            },
            "type": "scattergl"
           }
          ],
          "scattermapbox": [
           {
            "marker": {
             "colorbar": {
              "outlinewidth": 0,
              "ticks": ""
             }
            },
            "type": "scattermapbox"
           }
          ],
          "scatterpolar": [
           {
            "marker": {
             "colorbar": {
              "outlinewidth": 0,
              "ticks": ""
             }
            },
            "type": "scatterpolar"
           }
          ],
          "scatterpolargl": [
           {
            "marker": {
             "colorbar": {
              "outlinewidth": 0,
              "ticks": ""
             }
            },
            "type": "scatterpolargl"
           }
          ],
          "scatterternary": [
           {
            "marker": {
             "colorbar": {
              "outlinewidth": 0,
              "ticks": ""
             }
            },
            "type": "scatterternary"
           }
          ],
          "surface": [
           {
            "colorbar": {
             "outlinewidth": 0,
             "ticks": ""
            },
            "colorscale": [
             [
              0,
              "#0d0887"
             ],
             [
              0.1111111111111111,
              "#46039f"
             ],
             [
              0.2222222222222222,
              "#7201a8"
             ],
             [
              0.3333333333333333,
              "#9c179e"
             ],
             [
              0.4444444444444444,
              "#bd3786"
             ],
             [
              0.5555555555555556,
              "#d8576b"
             ],
             [
              0.6666666666666666,
              "#ed7953"
             ],
             [
              0.7777777777777778,
              "#fb9f3a"
             ],
             [
              0.8888888888888888,
              "#fdca26"
             ],
             [
              1,
              "#f0f921"
             ]
            ],
            "type": "surface"
           }
          ],
          "table": [
           {
            "cells": {
             "fill": {
              "color": "#EBF0F8"
             },
             "line": {
              "color": "white"
             }
            },
            "header": {
             "fill": {
              "color": "#C8D4E3"
             },
             "line": {
              "color": "white"
             }
            },
            "type": "table"
           }
          ]
         },
         "layout": {
          "annotationdefaults": {
           "arrowcolor": "#2a3f5f",
           "arrowhead": 0,
           "arrowwidth": 1
          },
          "autotypenumbers": "strict",
          "coloraxis": {
           "colorbar": {
            "outlinewidth": 0,
            "ticks": ""
           }
          },
          "colorscale": {
           "diverging": [
            [
             0,
             "#8e0152"
            ],
            [
             0.1,
             "#c51b7d"
            ],
            [
             0.2,
             "#de77ae"
            ],
            [
             0.3,
             "#f1b6da"
            ],
            [
             0.4,
             "#fde0ef"
            ],
            [
             0.5,
             "#f7f7f7"
            ],
            [
             0.6,
             "#e6f5d0"
            ],
            [
             0.7,
             "#b8e186"
            ],
            [
             0.8,
             "#7fbc41"
            ],
            [
             0.9,
             "#4d9221"
            ],
            [
             1,
             "#276419"
            ]
           ],
           "sequential": [
            [
             0,
             "#0d0887"
            ],
            [
             0.1111111111111111,
             "#46039f"
            ],
            [
             0.2222222222222222,
             "#7201a8"
            ],
            [
             0.3333333333333333,
             "#9c179e"
            ],
            [
             0.4444444444444444,
             "#bd3786"
            ],
            [
             0.5555555555555556,
             "#d8576b"
            ],
            [
             0.6666666666666666,
             "#ed7953"
            ],
            [
             0.7777777777777778,
             "#fb9f3a"
            ],
            [
             0.8888888888888888,
             "#fdca26"
            ],
            [
             1,
             "#f0f921"
            ]
           ],
           "sequentialminus": [
            [
             0,
             "#0d0887"
            ],
            [
             0.1111111111111111,
             "#46039f"
            ],
            [
             0.2222222222222222,
             "#7201a8"
            ],
            [
             0.3333333333333333,
             "#9c179e"
            ],
            [
             0.4444444444444444,
             "#bd3786"
            ],
            [
             0.5555555555555556,
             "#d8576b"
            ],
            [
             0.6666666666666666,
             "#ed7953"
            ],
            [
             0.7777777777777778,
             "#fb9f3a"
            ],
            [
             0.8888888888888888,
             "#fdca26"
            ],
            [
             1,
             "#f0f921"
            ]
           ]
          },
          "colorway": [
           "#636efa",
           "#EF553B",
           "#00cc96",
           "#ab63fa",
           "#FFA15A",
           "#19d3f3",
           "#FF6692",
           "#B6E880",
           "#FF97FF",
           "#FECB52"
          ],
          "font": {
           "color": "#2a3f5f"
          },
          "geo": {
           "bgcolor": "white",
           "lakecolor": "white",
           "landcolor": "#E5ECF6",
           "showlakes": true,
           "showland": true,
           "subunitcolor": "white"
          },
          "hoverlabel": {
           "align": "left"
          },
          "hovermode": "closest",
          "mapbox": {
           "style": "light"
          },
          "paper_bgcolor": "white",
          "plot_bgcolor": "#E5ECF6",
          "polar": {
           "angularaxis": {
            "gridcolor": "white",
            "linecolor": "white",
            "ticks": ""
           },
           "bgcolor": "#E5ECF6",
           "radialaxis": {
            "gridcolor": "white",
            "linecolor": "white",
            "ticks": ""
           }
          },
          "scene": {
           "xaxis": {
            "backgroundcolor": "#E5ECF6",
            "gridcolor": "white",
            "gridwidth": 2,
            "linecolor": "white",
            "showbackground": true,
            "ticks": "",
            "zerolinecolor": "white"
           },
           "yaxis": {
            "backgroundcolor": "#E5ECF6",
            "gridcolor": "white",
            "gridwidth": 2,
            "linecolor": "white",
            "showbackground": true,
            "ticks": "",
            "zerolinecolor": "white"
           },
           "zaxis": {
            "backgroundcolor": "#E5ECF6",
            "gridcolor": "white",
            "gridwidth": 2,
            "linecolor": "white",
            "showbackground": true,
            "ticks": "",
            "zerolinecolor": "white"
           }
          },
          "shapedefaults": {
           "line": {
            "color": "#2a3f5f"
           }
          },
          "ternary": {
           "aaxis": {
            "gridcolor": "white",
            "linecolor": "white",
            "ticks": ""
           },
           "baxis": {
            "gridcolor": "white",
            "linecolor": "white",
            "ticks": ""
           },
           "bgcolor": "#E5ECF6",
           "caxis": {
            "gridcolor": "white",
            "linecolor": "white",
            "ticks": ""
           }
          },
          "title": {
           "x": 0.05
          },
          "xaxis": {
           "automargin": true,
           "gridcolor": "white",
           "linecolor": "white",
           "ticks": "",
           "title": {
            "standoff": 15
           },
           "zerolinecolor": "white",
           "zerolinewidth": 2
          },
          "yaxis": {
           "automargin": true,
           "gridcolor": "white",
           "linecolor": "white",
           "ticks": "",
           "title": {
            "standoff": 15
           },
           "zerolinecolor": "white",
           "zerolinewidth": 2
          }
         }
        },
        "title": {
         "text": "Binomial Tree - NPV No Expansion"
        },
        "xaxis": {
         "range": [
          -0.5,
          2.5
         ],
         "showgrid": false,
         "showticklabels": false,
         "zeroline": false
        },
        "yaxis": {
         "range": [
          -2.5,
          2.5
         ],
         "showgrid": false,
         "showticklabels": false,
         "zeroline": false
        }
       }
      }
     },
     "metadata": {},
     "output_type": "display_data"
    }
   ],
   "source": [
    "# Example usage\n",
    "I = 20\n",
    "sig = 0.15\n",
    "V = 30\n",
    "T = 2\n",
    "n = 2\n",
    "\n",
    "# Calculate the NPV and tree values\n",
    "results = calculate_NPV_no_expansion(I, sig, V, T, n)\n",
    "\n",
    "# Print the NPV\n",
    "print(f\"The NPV without expansion is: {results['npv']:.2f}\")\n",
    "\n",
    "# Plot the binomial tree\n",
    "plot_binomial_tree(results)"
   ]
  },
  {
   "cell_type": "markdown",
   "id": "98f57832876101f3",
   "metadata": {},
   "source": [
    "# Real Options Analysis (ROA)"
   ]
  },
  {
   "cell_type": "markdown",
   "id": "38532b85cbb45ad0",
   "metadata": {},
   "source": [
    "Types of Real Options:\n",
    "* **Expansion option**: Growth option on an underlying asset that assumes precommitment of\n",
    "a series of investments to growing demand over time\n",
    "    * American call with 'cost of expandable investment' as exercise price and 'multiple of\n",
    "the value of the underlying risky asset' as option value\n",
    "* **Contraction option**: Option to receive cash for partially giving up the use of asset\n",
    "    * American put with present value of cash as exercise price and fraction of the value of\n",
    "operations given up as value of the underlying\n",
    "* **Abandonment option**: Right to sell an asset for given price, which can change through\n",
    "time rather than continuing to hold it (American put)\n",
    "* **Extension option**: Allows manager to pay a cost for the ability to extend the life of a\n",
    "project (European call with cost of extension as exercise price)\n",
    "* **Deferral option**: Right to postpone the start of a project (American call)\n",
    "* **Switching option**: Right to turn a project on and off\n",
    "* **Compound options**: Options on options\n",
    "\n",
    "**Advantages:**\n",
    "* Incorporates flexibility\n",
    "* Arbitrage-free valuation\n",
    "* Valuation is not based on physical probabilities"
   ]
  },
  {
   "cell_type": "code",
   "execution_count": 14,
   "id": "f6f444241465b1b0",
   "metadata": {
    "ExecuteTime": {
     "end_time": "2024-07-30T11:45:29.505642Z",
     "start_time": "2024-07-30T11:45:29.501038Z"
    }
   },
   "outputs": [],
   "source": [
    "def calculate_ROA(sig, V, T, n, rf, A, i):\n",
    "    '''\n",
    "    Calculates the Real Options Analysis (ROA) decision tree\n",
    "    Parameters\n",
    "    ----------\n",
    "    sig: float\n",
    "        volatility\n",
    "    V: float\n",
    "        present value w/o flexibility\n",
    "    T: float\n",
    "        time to maturity (in years)\n",
    "    n: int\n",
    "        steps in the tree\n",
    "    rf: float\n",
    "        risk-free rate\n",
    "    A: float\n",
    "        additional investment\n",
    "    i: float\n",
    "        increase in value caused by investment A\n",
    "    \n",
    "    Returns\n",
    "    -------\n",
    "    dict\n",
    "        A dictionary containing all calculated values and decisions\n",
    "    '''\n",
    "    u = round(math.exp(sig * math.sqrt(T / n)), 2)\n",
    "    d = round(1 / u, 2)\n",
    "\n",
    "    uV = round(u * V, 2)\n",
    "    dV = round(d * V, 2)\n",
    "    uuV = round(u * uV, 2)\n",
    "    udV = round(u * dV, 2)\n",
    "    ddV = round(d * dV, 2)\n",
    "\n",
    "    p = round((1 + rf - d) / (u - d), 2)\n",
    "\n",
    "    ROAuu = round(max(uuV, i * uuV - A), 2)\n",
    "    print(udV)\n",
    "    ROAud = round(max(udV, i * udV - A), 2)\n",
    "    ROAdd = round(max(ddV, i * ddV - A), 2)\n",
    "\n",
    "    uucmd = \"don't expand\" if ROAuu > i * uuV - A else \"expand\"\n",
    "    udcmd = \"don't expand\" if ROAud > i * udV - A else \"expand\"\n",
    "    ddcmd = \"don't expand\" if ROAdd > i * ddV - A else \"expand\"\n",
    "\n",
    "    ROAu = round(max((p * ROAuu + (1 - p) * ROAud) / (1 + rf), i * uV - A), 2)\n",
    "    ROAd = round(max((p * ROAud + (1 - p) * ROAdd) / (1 + rf), i * dV - A), 2)\n",
    "\n",
    "    ucmd = \"don't expand\" if ROAu > i * uV - A else \"expand\"\n",
    "    dcmd = \"don't expand\" if ROAd > i * dV - A else \"expand\"\n",
    "\n",
    "    ROA = round((p * ROAu + (1 - p) * ROAd) / (1 + rf), 2)\n",
    "\n",
    "    return {\n",
    "        'ROA': round(ROA, 2),\n",
    "        'u': round(u, 2), 'd': round(d, 2), 'p': round(p, 2),\n",
    "        'uV': uV, 'dV': dV, 'uuV': uuV, 'udV': udV, 'ddV': ddV,\n",
    "        'ROAu': ROAu, 'ROAd': ROAd, 'ROAuu': ROAuu, 'ROAud': ROAud, 'ROAdd': ROAdd,\n",
    "        'ucmd': ucmd, 'dcmd': dcmd, 'uucmd': uucmd, 'udcmd': udcmd, 'ddcmd': ddcmd\n",
    "    }"
   ]
  },
  {
   "cell_type": "code",
   "execution_count": 15,
   "id": "230a72e91f4b1fbf",
   "metadata": {
    "ExecuteTime": {
     "end_time": "2024-07-30T11:45:31.211423Z",
     "start_time": "2024-07-30T11:45:31.206366Z"
    }
   },
   "outputs": [],
   "source": [
    "def plot_ROA_tree(results):\n",
    "    '''\n",
    "    Plots the ROA decision tree using Plotly\n",
    "    Parameters\n",
    "    ----------\n",
    "    results: dict\n",
    "        Dictionary containing the calculated values from calculate_ROA\n",
    "    '''\n",
    "    # Create nodes for the tree\n",
    "    nodes = [\n",
    "        (0, 0, f\"{results['ROA']:.2f}\"),\n",
    "        (1, 1, f\"{results['ROAu']:.2f}\\n{results['ucmd']}\"),\n",
    "        (1, -1, f\"{results['ROAd']:.2f}\\n{results['dcmd']}\"),\n",
    "        (2, 2, f\"{results['ROAuu']:.2f}\\n{results['uucmd']}\"),\n",
    "        (2, 0, f\"{results['ROAud']:.2f}\\n{results['udcmd']}\"),\n",
    "        (2, -2, f\"{results['ROAdd']:.2f}\\n{results['ddcmd']}\")\n",
    "    ]\n",
    "\n",
    "    # Create edges\n",
    "    edges = [\n",
    "        (0, 1), (0, 2), (1, 3), (1, 4), (2, 4), (2, 5)\n",
    "    ]\n",
    "\n",
    "    # Create figure\n",
    "    fig = go.Figure()\n",
    "\n",
    "    # Add nodes\n",
    "    node_x, node_y, node_text = zip(*nodes)\n",
    "    fig.add_trace(go.Scatter(\n",
    "        x=node_x, y=node_y,\n",
    "        mode='markers+text',\n",
    "        marker=dict(size=40, color='lightblue'),\n",
    "        text=node_text,\n",
    "        textposition='middle center'\n",
    "    ))\n",
    "\n",
    "    # Add edges\n",
    "    for edge in edges:\n",
    "        fig.add_trace(go.Scatter(\n",
    "            x=[nodes[edge[0]][0], nodes[edge[1]][0]],\n",
    "            y=[nodes[edge[0]][1], nodes[edge[1]][1]],\n",
    "            mode='lines',\n",
    "            line=dict(color='grey', width=1)\n",
    "        ))\n",
    "\n",
    "    # Update layout\n",
    "    fig.update_layout(\n",
    "        title='ROA Decision Tree',\n",
    "        showlegend=False,\n",
    "        hovermode='closest',\n",
    "        xaxis=dict(showgrid=False, zeroline=False, showticklabels=False, range=[-0.5, 2.5]),\n",
    "        yaxis=dict(showgrid=False, zeroline=False, showticklabels=False, range=[-2.5, 2.5]),\n",
    "        annotations=[\n",
    "            dict(x=1, y=2.5, xref=\"x\", yref=\"y\", text=f\"u={results['u']:.4f}, p={results['p']:.4f}\", showarrow=False),\n",
    "            dict(x=1, y=-2.5, xref=\"x\", yref=\"y\", text=f\"d={results['d']:.4f}, 1-p={1 - results['p']:.4f}\",\n",
    "                 showarrow=False)\n",
    "        ]\n",
    "    )\n",
    "\n",
    "    # Show the plot\n",
    "    fig.show()"
   ]
  },
  {
   "cell_type": "code",
   "execution_count": 16,
   "id": "653b18255fa728c1",
   "metadata": {
    "ExecuteTime": {
     "end_time": "2024-07-31T08:09:23.191725Z",
     "start_time": "2024-07-31T08:09:23.165446Z"
    }
   },
   "outputs": [
    {
     "name": "stdout",
     "output_type": "stream",
     "text": [
      "29.93\n",
      "ROA = 31.47\n",
      "u = 1.16, d = 0.86\n",
      "p = 0.63\n",
      "ROA NPV: 11.47\n"
     ]
    },
    {
     "data": {
      "application/vnd.plotly.v1+json": {
       "config": {
        "plotlyServerURL": "https://plot.ly"
       },
       "data": [
        {
         "marker": {
          "color": "lightblue",
          "size": 40
         },
         "mode": "markers+text",
         "text": [
          "31.47",
          "36.96\ndon't expand",
          "26.37\ndon't expand",
          "43.44\nexpand",
          "30.92\ndon't expand",
          "22.19\ndon't expand"
         ],
         "textposition": "middle center",
         "type": "scatter",
         "x": [
          0,
          1,
          1,
          2,
          2,
          2
         ],
         "y": [
          0,
          1,
          -1,
          2,
          0,
          -2
         ]
        },
        {
         "line": {
          "color": "grey",
          "width": 1
         },
         "mode": "lines",
         "type": "scatter",
         "x": [
          0,
          1
         ],
         "y": [
          0,
          1
         ]
        },
        {
         "line": {
          "color": "grey",
          "width": 1
         },
         "mode": "lines",
         "type": "scatter",
         "x": [
          0,
          1
         ],
         "y": [
          0,
          -1
         ]
        },
        {
         "line": {
          "color": "grey",
          "width": 1
         },
         "mode": "lines",
         "type": "scatter",
         "x": [
          1,
          2
         ],
         "y": [
          1,
          2
         ]
        },
        {
         "line": {
          "color": "grey",
          "width": 1
         },
         "mode": "lines",
         "type": "scatter",
         "x": [
          1,
          2
         ],
         "y": [
          1,
          0
         ]
        },
        {
         "line": {
          "color": "grey",
          "width": 1
         },
         "mode": "lines",
         "type": "scatter",
         "x": [
          1,
          2
         ],
         "y": [
          -1,
          0
         ]
        },
        {
         "line": {
          "color": "grey",
          "width": 1
         },
         "mode": "lines",
         "type": "scatter",
         "x": [
          1,
          2
         ],
         "y": [
          -1,
          -2
         ]
        }
       ],
       "layout": {
        "annotations": [
         {
          "showarrow": false,
          "text": "u=1.1600, p=0.6300",
          "x": 1,
          "xref": "x",
          "y": 2.5,
          "yref": "y"
         },
         {
          "showarrow": false,
          "text": "d=0.8600, 1-p=0.3700",
          "x": 1,
          "xref": "x",
          "y": -2.5,
          "yref": "y"
         }
        ],
        "hovermode": "closest",
        "showlegend": false,
        "template": {
         "data": {
          "bar": [
           {
            "error_x": {
             "color": "#2a3f5f"
            },
            "error_y": {
             "color": "#2a3f5f"
            },
            "marker": {
             "line": {
              "color": "#E5ECF6",
              "width": 0.5
             },
             "pattern": {
              "fillmode": "overlay",
              "size": 10,
              "solidity": 0.2
             }
            },
            "type": "bar"
           }
          ],
          "barpolar": [
           {
            "marker": {
             "line": {
              "color": "#E5ECF6",
              "width": 0.5
             },
             "pattern": {
              "fillmode": "overlay",
              "size": 10,
              "solidity": 0.2
             }
            },
            "type": "barpolar"
           }
          ],
          "carpet": [
           {
            "aaxis": {
             "endlinecolor": "#2a3f5f",
             "gridcolor": "white",
             "linecolor": "white",
             "minorgridcolor": "white",
             "startlinecolor": "#2a3f5f"
            },
            "baxis": {
             "endlinecolor": "#2a3f5f",
             "gridcolor": "white",
             "linecolor": "white",
             "minorgridcolor": "white",
             "startlinecolor": "#2a3f5f"
            },
            "type": "carpet"
           }
          ],
          "choropleth": [
           {
            "colorbar": {
             "outlinewidth": 0,
             "ticks": ""
            },
            "type": "choropleth"
           }
          ],
          "contour": [
           {
            "colorbar": {
             "outlinewidth": 0,
             "ticks": ""
            },
            "colorscale": [
             [
              0,
              "#0d0887"
             ],
             [
              0.1111111111111111,
              "#46039f"
             ],
             [
              0.2222222222222222,
              "#7201a8"
             ],
             [
              0.3333333333333333,
              "#9c179e"
             ],
             [
              0.4444444444444444,
              "#bd3786"
             ],
             [
              0.5555555555555556,
              "#d8576b"
             ],
             [
              0.6666666666666666,
              "#ed7953"
             ],
             [
              0.7777777777777778,
              "#fb9f3a"
             ],
             [
              0.8888888888888888,
              "#fdca26"
             ],
             [
              1,
              "#f0f921"
             ]
            ],
            "type": "contour"
           }
          ],
          "contourcarpet": [
           {
            "colorbar": {
             "outlinewidth": 0,
             "ticks": ""
            },
            "type": "contourcarpet"
           }
          ],
          "heatmap": [
           {
            "colorbar": {
             "outlinewidth": 0,
             "ticks": ""
            },
            "colorscale": [
             [
              0,
              "#0d0887"
             ],
             [
              0.1111111111111111,
              "#46039f"
             ],
             [
              0.2222222222222222,
              "#7201a8"
             ],
             [
              0.3333333333333333,
              "#9c179e"
             ],
             [
              0.4444444444444444,
              "#bd3786"
             ],
             [
              0.5555555555555556,
              "#d8576b"
             ],
             [
              0.6666666666666666,
              "#ed7953"
             ],
             [
              0.7777777777777778,
              "#fb9f3a"
             ],
             [
              0.8888888888888888,
              "#fdca26"
             ],
             [
              1,
              "#f0f921"
             ]
            ],
            "type": "heatmap"
           }
          ],
          "heatmapgl": [
           {
            "colorbar": {
             "outlinewidth": 0,
             "ticks": ""
            },
            "colorscale": [
             [
              0,
              "#0d0887"
             ],
             [
              0.1111111111111111,
              "#46039f"
             ],
             [
              0.2222222222222222,
              "#7201a8"
             ],
             [
              0.3333333333333333,
              "#9c179e"
             ],
             [
              0.4444444444444444,
              "#bd3786"
             ],
             [
              0.5555555555555556,
              "#d8576b"
             ],
             [
              0.6666666666666666,
              "#ed7953"
             ],
             [
              0.7777777777777778,
              "#fb9f3a"
             ],
             [
              0.8888888888888888,
              "#fdca26"
             ],
             [
              1,
              "#f0f921"
             ]
            ],
            "type": "heatmapgl"
           }
          ],
          "histogram": [
           {
            "marker": {
             "pattern": {
              "fillmode": "overlay",
              "size": 10,
              "solidity": 0.2
             }
            },
            "type": "histogram"
           }
          ],
          "histogram2d": [
           {
            "colorbar": {
             "outlinewidth": 0,
             "ticks": ""
            },
            "colorscale": [
             [
              0,
              "#0d0887"
             ],
             [
              0.1111111111111111,
              "#46039f"
             ],
             [
              0.2222222222222222,
              "#7201a8"
             ],
             [
              0.3333333333333333,
              "#9c179e"
             ],
             [
              0.4444444444444444,
              "#bd3786"
             ],
             [
              0.5555555555555556,
              "#d8576b"
             ],
             [
              0.6666666666666666,
              "#ed7953"
             ],
             [
              0.7777777777777778,
              "#fb9f3a"
             ],
             [
              0.8888888888888888,
              "#fdca26"
             ],
             [
              1,
              "#f0f921"
             ]
            ],
            "type": "histogram2d"
           }
          ],
          "histogram2dcontour": [
           {
            "colorbar": {
             "outlinewidth": 0,
             "ticks": ""
            },
            "colorscale": [
             [
              0,
              "#0d0887"
             ],
             [
              0.1111111111111111,
              "#46039f"
             ],
             [
              0.2222222222222222,
              "#7201a8"
             ],
             [
              0.3333333333333333,
              "#9c179e"
             ],
             [
              0.4444444444444444,
              "#bd3786"
             ],
             [
              0.5555555555555556,
              "#d8576b"
             ],
             [
              0.6666666666666666,
              "#ed7953"
             ],
             [
              0.7777777777777778,
              "#fb9f3a"
             ],
             [
              0.8888888888888888,
              "#fdca26"
             ],
             [
              1,
              "#f0f921"
             ]
            ],
            "type": "histogram2dcontour"
           }
          ],
          "mesh3d": [
           {
            "colorbar": {
             "outlinewidth": 0,
             "ticks": ""
            },
            "type": "mesh3d"
           }
          ],
          "parcoords": [
           {
            "line": {
             "colorbar": {
              "outlinewidth": 0,
              "ticks": ""
             }
            },
            "type": "parcoords"
           }
          ],
          "pie": [
           {
            "automargin": true,
            "type": "pie"
           }
          ],
          "scatter": [
           {
            "fillpattern": {
             "fillmode": "overlay",
             "size": 10,
             "solidity": 0.2
            },
            "type": "scatter"
           }
          ],
          "scatter3d": [
           {
            "line": {
             "colorbar": {
              "outlinewidth": 0,
              "ticks": ""
             }
            },
            "marker": {
             "colorbar": {
              "outlinewidth": 0,
              "ticks": ""
             }
            },
            "type": "scatter3d"
           }
          ],
          "scattercarpet": [
           {
            "marker": {
             "colorbar": {
              "outlinewidth": 0,
              "ticks": ""
             }
            },
            "type": "scattercarpet"
           }
          ],
          "scattergeo": [
           {
            "marker": {
             "colorbar": {
              "outlinewidth": 0,
              "ticks": ""
             }
            },
            "type": "scattergeo"
           }
          ],
          "scattergl": [
           {
            "marker": {
             "colorbar": {
              "outlinewidth": 0,
              "ticks": ""
             }
            },
            "type": "scattergl"
           }
          ],
          "scattermapbox": [
           {
            "marker": {
             "colorbar": {
              "outlinewidth": 0,
              "ticks": ""
             }
            },
            "type": "scattermapbox"
           }
          ],
          "scatterpolar": [
           {
            "marker": {
             "colorbar": {
              "outlinewidth": 0,
              "ticks": ""
             }
            },
            "type": "scatterpolar"
           }
          ],
          "scatterpolargl": [
           {
            "marker": {
             "colorbar": {
              "outlinewidth": 0,
              "ticks": ""
             }
            },
            "type": "scatterpolargl"
           }
          ],
          "scatterternary": [
           {
            "marker": {
             "colorbar": {
              "outlinewidth": 0,
              "ticks": ""
             }
            },
            "type": "scatterternary"
           }
          ],
          "surface": [
           {
            "colorbar": {
             "outlinewidth": 0,
             "ticks": ""
            },
            "colorscale": [
             [
              0,
              "#0d0887"
             ],
             [
              0.1111111111111111,
              "#46039f"
             ],
             [
              0.2222222222222222,
              "#7201a8"
             ],
             [
              0.3333333333333333,
              "#9c179e"
             ],
             [
              0.4444444444444444,
              "#bd3786"
             ],
             [
              0.5555555555555556,
              "#d8576b"
             ],
             [
              0.6666666666666666,
              "#ed7953"
             ],
             [
              0.7777777777777778,
              "#fb9f3a"
             ],
             [
              0.8888888888888888,
              "#fdca26"
             ],
             [
              1,
              "#f0f921"
             ]
            ],
            "type": "surface"
           }
          ],
          "table": [
           {
            "cells": {
             "fill": {
              "color": "#EBF0F8"
             },
             "line": {
              "color": "white"
             }
            },
            "header": {
             "fill": {
              "color": "#C8D4E3"
             },
             "line": {
              "color": "white"
             }
            },
            "type": "table"
           }
          ]
         },
         "layout": {
          "annotationdefaults": {
           "arrowcolor": "#2a3f5f",
           "arrowhead": 0,
           "arrowwidth": 1
          },
          "autotypenumbers": "strict",
          "coloraxis": {
           "colorbar": {
            "outlinewidth": 0,
            "ticks": ""
           }
          },
          "colorscale": {
           "diverging": [
            [
             0,
             "#8e0152"
            ],
            [
             0.1,
             "#c51b7d"
            ],
            [
             0.2,
             "#de77ae"
            ],
            [
             0.3,
             "#f1b6da"
            ],
            [
             0.4,
             "#fde0ef"
            ],
            [
             0.5,
             "#f7f7f7"
            ],
            [
             0.6,
             "#e6f5d0"
            ],
            [
             0.7,
             "#b8e186"
            ],
            [
             0.8,
             "#7fbc41"
            ],
            [
             0.9,
             "#4d9221"
            ],
            [
             1,
             "#276419"
            ]
           ],
           "sequential": [
            [
             0,
             "#0d0887"
            ],
            [
             0.1111111111111111,
             "#46039f"
            ],
            [
             0.2222222222222222,
             "#7201a8"
            ],
            [
             0.3333333333333333,
             "#9c179e"
            ],
            [
             0.4444444444444444,
             "#bd3786"
            ],
            [
             0.5555555555555556,
             "#d8576b"
            ],
            [
             0.6666666666666666,
             "#ed7953"
            ],
            [
             0.7777777777777778,
             "#fb9f3a"
            ],
            [
             0.8888888888888888,
             "#fdca26"
            ],
            [
             1,
             "#f0f921"
            ]
           ],
           "sequentialminus": [
            [
             0,
             "#0d0887"
            ],
            [
             0.1111111111111111,
             "#46039f"
            ],
            [
             0.2222222222222222,
             "#7201a8"
            ],
            [
             0.3333333333333333,
             "#9c179e"
            ],
            [
             0.4444444444444444,
             "#bd3786"
            ],
            [
             0.5555555555555556,
             "#d8576b"
            ],
            [
             0.6666666666666666,
             "#ed7953"
            ],
            [
             0.7777777777777778,
             "#fb9f3a"
            ],
            [
             0.8888888888888888,
             "#fdca26"
            ],
            [
             1,
             "#f0f921"
            ]
           ]
          },
          "colorway": [
           "#636efa",
           "#EF553B",
           "#00cc96",
           "#ab63fa",
           "#FFA15A",
           "#19d3f3",
           "#FF6692",
           "#B6E880",
           "#FF97FF",
           "#FECB52"
          ],
          "font": {
           "color": "#2a3f5f"
          },
          "geo": {
           "bgcolor": "white",
           "lakecolor": "white",
           "landcolor": "#E5ECF6",
           "showlakes": true,
           "showland": true,
           "subunitcolor": "white"
          },
          "hoverlabel": {
           "align": "left"
          },
          "hovermode": "closest",
          "mapbox": {
           "style": "light"
          },
          "paper_bgcolor": "white",
          "plot_bgcolor": "#E5ECF6",
          "polar": {
           "angularaxis": {
            "gridcolor": "white",
            "linecolor": "white",
            "ticks": ""
           },
           "bgcolor": "#E5ECF6",
           "radialaxis": {
            "gridcolor": "white",
            "linecolor": "white",
            "ticks": ""
           }
          },
          "scene": {
           "xaxis": {
            "backgroundcolor": "#E5ECF6",
            "gridcolor": "white",
            "gridwidth": 2,
            "linecolor": "white",
            "showbackground": true,
            "ticks": "",
            "zerolinecolor": "white"
           },
           "yaxis": {
            "backgroundcolor": "#E5ECF6",
            "gridcolor": "white",
            "gridwidth": 2,
            "linecolor": "white",
            "showbackground": true,
            "ticks": "",
            "zerolinecolor": "white"
           },
           "zaxis": {
            "backgroundcolor": "#E5ECF6",
            "gridcolor": "white",
            "gridwidth": 2,
            "linecolor": "white",
            "showbackground": true,
            "ticks": "",
            "zerolinecolor": "white"
           }
          },
          "shapedefaults": {
           "line": {
            "color": "#2a3f5f"
           }
          },
          "ternary": {
           "aaxis": {
            "gridcolor": "white",
            "linecolor": "white",
            "ticks": ""
           },
           "baxis": {
            "gridcolor": "white",
            "linecolor": "white",
            "ticks": ""
           },
           "bgcolor": "#E5ECF6",
           "caxis": {
            "gridcolor": "white",
            "linecolor": "white",
            "ticks": ""
           }
          },
          "title": {
           "x": 0.05
          },
          "xaxis": {
           "automargin": true,
           "gridcolor": "white",
           "linecolor": "white",
           "ticks": "",
           "title": {
            "standoff": 15
           },
           "zerolinecolor": "white",
           "zerolinewidth": 2
          },
          "yaxis": {
           "automargin": true,
           "gridcolor": "white",
           "linecolor": "white",
           "ticks": "",
           "title": {
            "standoff": 15
           },
           "zerolinecolor": "white",
           "zerolinewidth": 2
          }
         }
        },
        "title": {
         "text": "ROA Decision Tree"
        },
        "xaxis": {
         "range": [
          -0.5,
          2.5
         ],
         "showgrid": false,
         "showticklabels": false,
         "zeroline": false
        },
        "yaxis": {
         "range": [
          -2.5,
          2.5
         ],
         "showgrid": false,
         "showticklabels": false,
         "zeroline": false
        }
       }
      }
     },
     "metadata": {},
     "output_type": "display_data"
    }
   ],
   "source": [
    "# Example usage\n",
    "# I - Initial investment\n",
    "I = 20\n",
    "# sig - volatility\n",
    "sig = 0.15\n",
    "# V - present value w/o flexibility\n",
    "V = 30\n",
    "# T - time to maturity (in years)\n",
    "T = 2\n",
    "# n - steps in the tree\n",
    "n = 2\n",
    "# rf - risk-free rate\n",
    "rf = 0.05\n",
    "# A - additional investment\n",
    "A = 5\n",
    "# i - increase in value caused by investment A (20% increase -> 1.2)\n",
    "i = 1.2\n",
    "\n",
    "# Calculate ROA\n",
    "results = calculate_ROA(sig, V, T, n, rf, A, i)\n",
    "\n",
    "# Print results\n",
    "print(f\"ROA = {results['ROA']:.2f}\")\n",
    "print(f\"u = {results['u']:.2f}, d = {results['d']:.2f}\")\n",
    "print(f\"p = {results['p']:.2f}\")\n",
    "print(f\"ROA NPV: {results['ROA'] - I:.2f}\")\n",
    "\n",
    "# Plot the ROA decision tree\n",
    "plot_ROA_tree(results)"
   ]
  },
  {
   "cell_type": "markdown",
   "id": "21b8cd27b0313eea",
   "metadata": {},
   "source": [
    "## Decision Tree Analysis (DTA)"
   ]
  },
  {
   "cell_type": "markdown",
   "id": "59c26345c2133bf5",
   "metadata": {},
   "source": [
    "Note that the following relationship must hold on an efficient market for the asset values of any firm:\n",
    "* $V_0 = \\frac{qV_q + (1 - q)V_d}{1 + WACC}$\n",
    "\n",
    "The relationship can be re-written as\n",
    "* $q = \\frac{1 + WACC - d}{u -d}$\n",
    "or\n",
    "* $1 + WACC = q * u + (1 - q) * d$\n",
    "\n",
    "**Advantages**:\n",
    "* Incorporates flexibility\n",
    "\n",
    "**Disadvantages**:\n",
    "* Does not obey to the law of one price\n",
    "* A constant WACC is assumed\n",
    "* Physical probabilities are used"
   ]
  },
  {
   "cell_type": "code",
   "execution_count": 17,
   "id": "f4b5b4c1b598199",
   "metadata": {
    "ExecuteTime": {
     "end_time": "2024-07-31T13:39:08.898701Z",
     "start_time": "2024-07-31T13:39:08.890556Z"
    }
   },
   "outputs": [],
   "source": [
    "def calc_p(rf, u, d):\n",
    "    return (1 + rf - d) / (u - d)\n",
    "\n",
    "def calc_adjusted_rf(q, u, d):\n",
    "    return q * (u - d) + d - 1\n",
    "\n",
    "def multi_period_PV(uI, dI, uO, dO, In, Out, rf, periods, q=None, risk_type='neutral', flexibility=False):\n",
    "    def calculate_cashflow(amount, up_factor, down_factor, period):\n",
    "        return [amount * (up_factor ** (period - i)) * (down_factor ** i) for i in range(period + 1)]\n",
    "\n",
    "    def calculate_probability(p, period):\n",
    "        return [math.comb(period, i) * (p ** (period - i)) * ((1 - p) ** i) for i in range(period + 1)]\n",
    "\n",
    "    pIn = calc_p(rf, uI, dI)\n",
    "    pOut = calc_p(rf, uO, dO)\n",
    "    rf_In = rf\n",
    "    rf_Out = rf\n",
    "\n",
    "    if risk_type == 'adjusted':\n",
    "        if q is None:\n",
    "            raise ValueError(\"q must be provided for risk-adjusted calculations\")\n",
    "        rf_In = calc_adjusted_rf(q, uI, dI)\n",
    "        rf_Out = calc_adjusted_rf(q, uO, dO)\n",
    "        pIn = pOut = q\n",
    "\n",
    "    PV_In = 0\n",
    "    PV_Out = 0\n",
    "\n",
    "    for period in range(periods + 1):\n",
    "        cashflows_in = calculate_cashflow(In, uI, dI, period)\n",
    "        cashflows_out = calculate_cashflow(Out, uO, dO, period)\n",
    "        probabilities_in = calculate_probability(pIn, period)\n",
    "        probabilities_out = calculate_probability(pOut, period)\n",
    "\n",
    "        if flexibility:\n",
    "            net_cashflows = [out - inp for out, inp in zip(cashflows_out, cashflows_in)]\n",
    "            PV_this_period = sum(max(0, cf) * prob / (1 + rf_Out) ** period \n",
    "                                 for cf, prob in zip(net_cashflows, probabilities_out))\n",
    "            PV_Out += PV_this_period\n",
    "        else:\n",
    "            PV_In += sum(cf * prob / (1 + rf_In) ** period for cf, prob in zip(cashflows_in, probabilities_in))\n",
    "            PV_Out += sum(cf * prob / (1 + rf_Out) ** period for cf, prob in zip(cashflows_out, probabilities_out))\n",
    "\n",
    "    return PV_Out - PV_In if not flexibility else PV_Out"
   ]
  },
  {
   "cell_type": "code",
   "execution_count": 18,
   "id": "3faaa4442637ee4c",
   "metadata": {
    "ExecuteTime": {
     "end_time": "2024-07-31T13:39:09.629400Z",
     "start_time": "2024-07-31T13:39:09.625776Z"
    }
   },
   "outputs": [
    {
     "name": "stdout",
     "output_type": "stream",
     "text": [
      "PV difference over 2 periods: 45.0\n",
      "Risk-adjusted PV difference over 2 periods: 45.0\n",
      "PV difference with flexibility over 2 periods: 55.123456790123456\n"
     ]
    }
   ],
   "source": [
    "uI = 1.5\n",
    "dI = 0.8\n",
    "uO = 1.8\n",
    "dO = 0.6\n",
    "In = 85\n",
    "Out = 100\n",
    "rf = 0.08\n",
    "periods=2\n",
    "\n",
    "result = multi_period_PV(uI, dI, uO, dO, In, Out, rf, periods)\n",
    "print(f\"PV difference over {periods} periods: {result}\")\n",
    "\n",
    "# For risk-adjusted calculation\n",
    "q = 0.5\n",
    "result_adjusted = multi_period_PV(uI, dI, uO, dO, In, Out, rf, periods, q=q, risk_type='adjusted')\n",
    "print(f\"Risk-adjusted PV difference over {periods} periods: {result_adjusted}\")\n",
    "\n",
    "# With flexibility\n",
    "result_flexible = multi_period_PV(uI, dI, uO, dO, In, Out, rf, periods, flexibility=True)\n",
    "print(f\"PV difference with flexibility over {periods} periods: {result_flexible}\")"
   ]
  },
  {
   "cell_type": "code",
   "execution_count": 19,
   "id": "6221eb31eb0b71b1",
   "metadata": {
    "ExecuteTime": {
     "end_time": "2024-07-31T11:45:10.269935Z",
     "start_time": "2024-07-31T11:45:10.266320Z"
    }
   },
   "outputs": [],
   "source": [
    "def calculate_DTA_no_flex(V0, sig, T, n, WACC):\n",
    "    '''\n",
    "    Calculates the DTA tree without flexibility\n",
    "    Parameters\n",
    "    ----------\n",
    "    V0: float\n",
    "        present fair-value of the project\n",
    "    sig: float\n",
    "        volatility\n",
    "    T: float\n",
    "        time (in years)\n",
    "    n: int\n",
    "        steps in the tree\n",
    "    WACC: float\n",
    "        risk-neutral rate\n",
    "    \n",
    "    Returns\n",
    "    -------\n",
    "    dict\n",
    "        A dictionary containing all calculated values\n",
    "    '''\n",
    "    u = round(math.exp(sig * math.sqrt(T / n)), 4)\n",
    "    d = round(1 / u, 4)\n",
    "\n",
    "    uV = round(u * V0, 2)\n",
    "    dV = round(d * V0, 2)\n",
    "    uuV = round(u * uV, 2)\n",
    "    udV = round(u * dV, 2)\n",
    "    ddV = round(d * dV, 2)\n",
    "\n",
    "    q = round((1 + WACC - d) / (u - d), 4)\n",
    "\n",
    "    return {\n",
    "        'V0': round(V0, 2),\n",
    "        'u': round(u, 4), 'd': round(d, 4), 'q': round(q, 4),\n",
    "        'uV': round(uV), 'dV': round(dV, 2),\n",
    "        'uuV': round(uuV, 2), 'udV': round(udV, 2), 'ddV': round(ddV, 2)\n",
    "    }"
   ]
  },
  {
   "cell_type": "code",
   "execution_count": 20,
   "id": "ca5b1944148fe149",
   "metadata": {
    "ExecuteTime": {
     "end_time": "2024-07-31T11:45:12.224109Z",
     "start_time": "2024-07-31T11:45:12.218526Z"
    }
   },
   "outputs": [],
   "source": [
    "def plot_DTA_no_flex(results):\n",
    "    '''\n",
    "    Plots the DTA tree without flexibility using Plotly\n",
    "    Parameters\n",
    "    ----------\n",
    "    results: dict\n",
    "        Dictionary containing the calculated values from calculate_DTA_no_flex\n",
    "    '''\n",
    "    # Create nodes for the tree\n",
    "    nodes = [\n",
    "        (0, 0, f\"{results['V0']:.2f}\"),\n",
    "        (1, 1, f\"{results['uV']:.2f}\"),\n",
    "        (1, -1, f\"{results['dV']:.2f}\"),\n",
    "        (2, 2, f\"{results['uuV']:.2f}\"),\n",
    "        (2, 0, f\"{results['udV']:.2f}\"),\n",
    "        (2, -2, f\"{results['ddV']:.2f}\")\n",
    "    ]\n",
    "\n",
    "    # Create edges\n",
    "    edges = [\n",
    "        (0, 1), (0, 2), (1, 3), (1, 4), (2, 4), (2, 5)\n",
    "    ]\n",
    "\n",
    "    # Create figure\n",
    "    fig = go.Figure()\n",
    "\n",
    "    # Add nodes\n",
    "    node_x, node_y, node_text = zip(*nodes)\n",
    "    fig.add_trace(go.Scatter(\n",
    "        x=node_x, y=node_y,\n",
    "        mode='markers+text',\n",
    "        marker=dict(size=40, color='lightgreen'),\n",
    "        text=node_text,\n",
    "        textposition='middle center'\n",
    "    ))\n",
    "\n",
    "    # Add edges\n",
    "    for edge in edges:\n",
    "        fig.add_trace(go.Scatter(\n",
    "            x=[nodes[edge[0]][0], nodes[edge[1]][0]],\n",
    "            y=[nodes[edge[0]][1], nodes[edge[1]][1]],\n",
    "            mode='lines',\n",
    "            line=dict(color='grey', width=1)\n",
    "        ))\n",
    "\n",
    "    # Update layout\n",
    "    fig.update_layout(\n",
    "        title='DTA Tree without Flexibility',\n",
    "        showlegend=False,\n",
    "        hovermode='closest',\n",
    "        xaxis=dict(showgrid=False, zeroline=False, showticklabels=False, range=[-0.5, 2.5]),\n",
    "        yaxis=dict(showgrid=False, zeroline=False, showticklabels=False, range=[-2.5, 2.5]),\n",
    "        annotations=[\n",
    "            dict(x=1, y=2.5, xref=\"x\", yref=\"y\", text=f\"u={results['u']:.4f}, q={results['q']:.4f}\", showarrow=False),\n",
    "            dict(x=1, y=-2.5, xref=\"x\", yref=\"y\", text=f\"d={results['d']:.4f}, 1-q={1 - results['q']:.4f}\",\n",
    "                 showarrow=False)\n",
    "        ]\n",
    "    )\n",
    "\n",
    "    # Show the plot\n",
    "    fig.show()"
   ]
  },
  {
   "cell_type": "code",
   "execution_count": 21,
   "id": "74a26995aa373e88",
   "metadata": {
    "ExecuteTime": {
     "end_time": "2024-07-31T11:45:13.626805Z",
     "start_time": "2024-07-31T11:45:13.479208Z"
    }
   },
   "outputs": [
    {
     "name": "stdout",
     "output_type": "stream",
     "text": [
      "NPV = 20.00\n",
      "--------------------------------------------------\n",
      "The objective probabilities are:\n",
      "q = 0.5474 and 1-q = 0.4526\n",
      "--------------------------------------------------\n",
      "u = 1.4918 and d = 0.6703\n"
     ]
    },
    {
     "data": {
      "application/vnd.plotly.v1+json": {
       "config": {
        "plotlyServerURL": "https://plot.ly"
       },
       "data": [
        {
         "marker": {
          "color": "lightgreen",
          "size": 40
         },
         "mode": "markers+text",
         "text": [
          "100.00",
          "149.00",
          "67.03",
          "222.55",
          "100.00",
          "44.93"
         ],
         "textposition": "middle center",
         "type": "scatter",
         "x": [
          0,
          1,
          1,
          2,
          2,
          2
         ],
         "y": [
          0,
          1,
          -1,
          2,
          0,
          -2
         ]
        },
        {
         "line": {
          "color": "grey",
          "width": 1
         },
         "mode": "lines",
         "type": "scatter",
         "x": [
          0,
          1
         ],
         "y": [
          0,
          1
         ]
        },
        {
         "line": {
          "color": "grey",
          "width": 1
         },
         "mode": "lines",
         "type": "scatter",
         "x": [
          0,
          1
         ],
         "y": [
          0,
          -1
         ]
        },
        {
         "line": {
          "color": "grey",
          "width": 1
         },
         "mode": "lines",
         "type": "scatter",
         "x": [
          1,
          2
         ],
         "y": [
          1,
          2
         ]
        },
        {
         "line": {
          "color": "grey",
          "width": 1
         },
         "mode": "lines",
         "type": "scatter",
         "x": [
          1,
          2
         ],
         "y": [
          1,
          0
         ]
        },
        {
         "line": {
          "color": "grey",
          "width": 1
         },
         "mode": "lines",
         "type": "scatter",
         "x": [
          1,
          2
         ],
         "y": [
          -1,
          0
         ]
        },
        {
         "line": {
          "color": "grey",
          "width": 1
         },
         "mode": "lines",
         "type": "scatter",
         "x": [
          1,
          2
         ],
         "y": [
          -1,
          -2
         ]
        }
       ],
       "layout": {
        "annotations": [
         {
          "showarrow": false,
          "text": "u=1.4918, q=0.5474",
          "x": 1,
          "xref": "x",
          "y": 2.5,
          "yref": "y"
         },
         {
          "showarrow": false,
          "text": "d=0.6703, 1-q=0.4526",
          "x": 1,
          "xref": "x",
          "y": -2.5,
          "yref": "y"
         }
        ],
        "hovermode": "closest",
        "showlegend": false,
        "template": {
         "data": {
          "bar": [
           {
            "error_x": {
             "color": "#2a3f5f"
            },
            "error_y": {
             "color": "#2a3f5f"
            },
            "marker": {
             "line": {
              "color": "#E5ECF6",
              "width": 0.5
             },
             "pattern": {
              "fillmode": "overlay",
              "size": 10,
              "solidity": 0.2
             }
            },
            "type": "bar"
           }
          ],
          "barpolar": [
           {
            "marker": {
             "line": {
              "color": "#E5ECF6",
              "width": 0.5
             },
             "pattern": {
              "fillmode": "overlay",
              "size": 10,
              "solidity": 0.2
             }
            },
            "type": "barpolar"
           }
          ],
          "carpet": [
           {
            "aaxis": {
             "endlinecolor": "#2a3f5f",
             "gridcolor": "white",
             "linecolor": "white",
             "minorgridcolor": "white",
             "startlinecolor": "#2a3f5f"
            },
            "baxis": {
             "endlinecolor": "#2a3f5f",
             "gridcolor": "white",
             "linecolor": "white",
             "minorgridcolor": "white",
             "startlinecolor": "#2a3f5f"
            },
            "type": "carpet"
           }
          ],
          "choropleth": [
           {
            "colorbar": {
             "outlinewidth": 0,
             "ticks": ""
            },
            "type": "choropleth"
           }
          ],
          "contour": [
           {
            "colorbar": {
             "outlinewidth": 0,
             "ticks": ""
            },
            "colorscale": [
             [
              0,
              "#0d0887"
             ],
             [
              0.1111111111111111,
              "#46039f"
             ],
             [
              0.2222222222222222,
              "#7201a8"
             ],
             [
              0.3333333333333333,
              "#9c179e"
             ],
             [
              0.4444444444444444,
              "#bd3786"
             ],
             [
              0.5555555555555556,
              "#d8576b"
             ],
             [
              0.6666666666666666,
              "#ed7953"
             ],
             [
              0.7777777777777778,
              "#fb9f3a"
             ],
             [
              0.8888888888888888,
              "#fdca26"
             ],
             [
              1,
              "#f0f921"
             ]
            ],
            "type": "contour"
           }
          ],
          "contourcarpet": [
           {
            "colorbar": {
             "outlinewidth": 0,
             "ticks": ""
            },
            "type": "contourcarpet"
           }
          ],
          "heatmap": [
           {
            "colorbar": {
             "outlinewidth": 0,
             "ticks": ""
            },
            "colorscale": [
             [
              0,
              "#0d0887"
             ],
             [
              0.1111111111111111,
              "#46039f"
             ],
             [
              0.2222222222222222,
              "#7201a8"
             ],
             [
              0.3333333333333333,
              "#9c179e"
             ],
             [
              0.4444444444444444,
              "#bd3786"
             ],
             [
              0.5555555555555556,
              "#d8576b"
             ],
             [
              0.6666666666666666,
              "#ed7953"
             ],
             [
              0.7777777777777778,
              "#fb9f3a"
             ],
             [
              0.8888888888888888,
              "#fdca26"
             ],
             [
              1,
              "#f0f921"
             ]
            ],
            "type": "heatmap"
           }
          ],
          "heatmapgl": [
           {
            "colorbar": {
             "outlinewidth": 0,
             "ticks": ""
            },
            "colorscale": [
             [
              0,
              "#0d0887"
             ],
             [
              0.1111111111111111,
              "#46039f"
             ],
             [
              0.2222222222222222,
              "#7201a8"
             ],
             [
              0.3333333333333333,
              "#9c179e"
             ],
             [
              0.4444444444444444,
              "#bd3786"
             ],
             [
              0.5555555555555556,
              "#d8576b"
             ],
             [
              0.6666666666666666,
              "#ed7953"
             ],
             [
              0.7777777777777778,
              "#fb9f3a"
             ],
             [
              0.8888888888888888,
              "#fdca26"
             ],
             [
              1,
              "#f0f921"
             ]
            ],
            "type": "heatmapgl"
           }
          ],
          "histogram": [
           {
            "marker": {
             "pattern": {
              "fillmode": "overlay",
              "size": 10,
              "solidity": 0.2
             }
            },
            "type": "histogram"
           }
          ],
          "histogram2d": [
           {
            "colorbar": {
             "outlinewidth": 0,
             "ticks": ""
            },
            "colorscale": [
             [
              0,
              "#0d0887"
             ],
             [
              0.1111111111111111,
              "#46039f"
             ],
             [
              0.2222222222222222,
              "#7201a8"
             ],
             [
              0.3333333333333333,
              "#9c179e"
             ],
             [
              0.4444444444444444,
              "#bd3786"
             ],
             [
              0.5555555555555556,
              "#d8576b"
             ],
             [
              0.6666666666666666,
              "#ed7953"
             ],
             [
              0.7777777777777778,
              "#fb9f3a"
             ],
             [
              0.8888888888888888,
              "#fdca26"
             ],
             [
              1,
              "#f0f921"
             ]
            ],
            "type": "histogram2d"
           }
          ],
          "histogram2dcontour": [
           {
            "colorbar": {
             "outlinewidth": 0,
             "ticks": ""
            },
            "colorscale": [
             [
              0,
              "#0d0887"
             ],
             [
              0.1111111111111111,
              "#46039f"
             ],
             [
              0.2222222222222222,
              "#7201a8"
             ],
             [
              0.3333333333333333,
              "#9c179e"
             ],
             [
              0.4444444444444444,
              "#bd3786"
             ],
             [
              0.5555555555555556,
              "#d8576b"
             ],
             [
              0.6666666666666666,
              "#ed7953"
             ],
             [
              0.7777777777777778,
              "#fb9f3a"
             ],
             [
              0.8888888888888888,
              "#fdca26"
             ],
             [
              1,
              "#f0f921"
             ]
            ],
            "type": "histogram2dcontour"
           }
          ],
          "mesh3d": [
           {
            "colorbar": {
             "outlinewidth": 0,
             "ticks": ""
            },
            "type": "mesh3d"
           }
          ],
          "parcoords": [
           {
            "line": {
             "colorbar": {
              "outlinewidth": 0,
              "ticks": ""
             }
            },
            "type": "parcoords"
           }
          ],
          "pie": [
           {
            "automargin": true,
            "type": "pie"
           }
          ],
          "scatter": [
           {
            "fillpattern": {
             "fillmode": "overlay",
             "size": 10,
             "solidity": 0.2
            },
            "type": "scatter"
           }
          ],
          "scatter3d": [
           {
            "line": {
             "colorbar": {
              "outlinewidth": 0,
              "ticks": ""
             }
            },
            "marker": {
             "colorbar": {
              "outlinewidth": 0,
              "ticks": ""
             }
            },
            "type": "scatter3d"
           }
          ],
          "scattercarpet": [
           {
            "marker": {
             "colorbar": {
              "outlinewidth": 0,
              "ticks": ""
             }
            },
            "type": "scattercarpet"
           }
          ],
          "scattergeo": [
           {
            "marker": {
             "colorbar": {
              "outlinewidth": 0,
              "ticks": ""
             }
            },
            "type": "scattergeo"
           }
          ],
          "scattergl": [
           {
            "marker": {
             "colorbar": {
              "outlinewidth": 0,
              "ticks": ""
             }
            },
            "type": "scattergl"
           }
          ],
          "scattermapbox": [
           {
            "marker": {
             "colorbar": {
              "outlinewidth": 0,
              "ticks": ""
             }
            },
            "type": "scattermapbox"
           }
          ],
          "scatterpolar": [
           {
            "marker": {
             "colorbar": {
              "outlinewidth": 0,
              "ticks": ""
             }
            },
            "type": "scatterpolar"
           }
          ],
          "scatterpolargl": [
           {
            "marker": {
             "colorbar": {
              "outlinewidth": 0,
              "ticks": ""
             }
            },
            "type": "scatterpolargl"
           }
          ],
          "scatterternary": [
           {
            "marker": {
             "colorbar": {
              "outlinewidth": 0,
              "ticks": ""
             }
            },
            "type": "scatterternary"
           }
          ],
          "surface": [
           {
            "colorbar": {
             "outlinewidth": 0,
             "ticks": ""
            },
            "colorscale": [
             [
              0,
              "#0d0887"
             ],
             [
              0.1111111111111111,
              "#46039f"
             ],
             [
              0.2222222222222222,
              "#7201a8"
             ],
             [
              0.3333333333333333,
              "#9c179e"
             ],
             [
              0.4444444444444444,
              "#bd3786"
             ],
             [
              0.5555555555555556,
              "#d8576b"
             ],
             [
              0.6666666666666666,
              "#ed7953"
             ],
             [
              0.7777777777777778,
              "#fb9f3a"
             ],
             [
              0.8888888888888888,
              "#fdca26"
             ],
             [
              1,
              "#f0f921"
             ]
            ],
            "type": "surface"
           }
          ],
          "table": [
           {
            "cells": {
             "fill": {
              "color": "#EBF0F8"
             },
             "line": {
              "color": "white"
             }
            },
            "header": {
             "fill": {
              "color": "#C8D4E3"
             },
             "line": {
              "color": "white"
             }
            },
            "type": "table"
           }
          ]
         },
         "layout": {
          "annotationdefaults": {
           "arrowcolor": "#2a3f5f",
           "arrowhead": 0,
           "arrowwidth": 1
          },
          "autotypenumbers": "strict",
          "coloraxis": {
           "colorbar": {
            "outlinewidth": 0,
            "ticks": ""
           }
          },
          "colorscale": {
           "diverging": [
            [
             0,
             "#8e0152"
            ],
            [
             0.1,
             "#c51b7d"
            ],
            [
             0.2,
             "#de77ae"
            ],
            [
             0.3,
             "#f1b6da"
            ],
            [
             0.4,
             "#fde0ef"
            ],
            [
             0.5,
             "#f7f7f7"
            ],
            [
             0.6,
             "#e6f5d0"
            ],
            [
             0.7,
             "#b8e186"
            ],
            [
             0.8,
             "#7fbc41"
            ],
            [
             0.9,
             "#4d9221"
            ],
            [
             1,
             "#276419"
            ]
           ],
           "sequential": [
            [
             0,
             "#0d0887"
            ],
            [
             0.1111111111111111,
             "#46039f"
            ],
            [
             0.2222222222222222,
             "#7201a8"
            ],
            [
             0.3333333333333333,
             "#9c179e"
            ],
            [
             0.4444444444444444,
             "#bd3786"
            ],
            [
             0.5555555555555556,
             "#d8576b"
            ],
            [
             0.6666666666666666,
             "#ed7953"
            ],
            [
             0.7777777777777778,
             "#fb9f3a"
            ],
            [
             0.8888888888888888,
             "#fdca26"
            ],
            [
             1,
             "#f0f921"
            ]
           ],
           "sequentialminus": [
            [
             0,
             "#0d0887"
            ],
            [
             0.1111111111111111,
             "#46039f"
            ],
            [
             0.2222222222222222,
             "#7201a8"
            ],
            [
             0.3333333333333333,
             "#9c179e"
            ],
            [
             0.4444444444444444,
             "#bd3786"
            ],
            [
             0.5555555555555556,
             "#d8576b"
            ],
            [
             0.6666666666666666,
             "#ed7953"
            ],
            [
             0.7777777777777778,
             "#fb9f3a"
            ],
            [
             0.8888888888888888,
             "#fdca26"
            ],
            [
             1,
             "#f0f921"
            ]
           ]
          },
          "colorway": [
           "#636efa",
           "#EF553B",
           "#00cc96",
           "#ab63fa",
           "#FFA15A",
           "#19d3f3",
           "#FF6692",
           "#B6E880",
           "#FF97FF",
           "#FECB52"
          ],
          "font": {
           "color": "#2a3f5f"
          },
          "geo": {
           "bgcolor": "white",
           "lakecolor": "white",
           "landcolor": "#E5ECF6",
           "showlakes": true,
           "showland": true,
           "subunitcolor": "white"
          },
          "hoverlabel": {
           "align": "left"
          },
          "hovermode": "closest",
          "mapbox": {
           "style": "light"
          },
          "paper_bgcolor": "white",
          "plot_bgcolor": "#E5ECF6",
          "polar": {
           "angularaxis": {
            "gridcolor": "white",
            "linecolor": "white",
            "ticks": ""
           },
           "bgcolor": "#E5ECF6",
           "radialaxis": {
            "gridcolor": "white",
            "linecolor": "white",
            "ticks": ""
           }
          },
          "scene": {
           "xaxis": {
            "backgroundcolor": "#E5ECF6",
            "gridcolor": "white",
            "gridwidth": 2,
            "linecolor": "white",
            "showbackground": true,
            "ticks": "",
            "zerolinecolor": "white"
           },
           "yaxis": {
            "backgroundcolor": "#E5ECF6",
            "gridcolor": "white",
            "gridwidth": 2,
            "linecolor": "white",
            "showbackground": true,
            "ticks": "",
            "zerolinecolor": "white"
           },
           "zaxis": {
            "backgroundcolor": "#E5ECF6",
            "gridcolor": "white",
            "gridwidth": 2,
            "linecolor": "white",
            "showbackground": true,
            "ticks": "",
            "zerolinecolor": "white"
           }
          },
          "shapedefaults": {
           "line": {
            "color": "#2a3f5f"
           }
          },
          "ternary": {
           "aaxis": {
            "gridcolor": "white",
            "linecolor": "white",
            "ticks": ""
           },
           "baxis": {
            "gridcolor": "white",
            "linecolor": "white",
            "ticks": ""
           },
           "bgcolor": "#E5ECF6",
           "caxis": {
            "gridcolor": "white",
            "linecolor": "white",
            "ticks": ""
           }
          },
          "title": {
           "x": 0.05
          },
          "xaxis": {
           "automargin": true,
           "gridcolor": "white",
           "linecolor": "white",
           "ticks": "",
           "title": {
            "standoff": 15
           },
           "zerolinecolor": "white",
           "zerolinewidth": 2
          },
          "yaxis": {
           "automargin": true,
           "gridcolor": "white",
           "linecolor": "white",
           "ticks": "",
           "title": {
            "standoff": 15
           },
           "zerolinecolor": "white",
           "zerolinewidth": 2
          }
         }
        },
        "title": {
         "text": "DTA Tree without Flexibility"
        },
        "xaxis": {
         "range": [
          -0.5,
          2.5
         ],
         "showgrid": false,
         "showticklabels": false,
         "zeroline": false
        },
        "yaxis": {
         "range": [
          -2.5,
          2.5
         ],
         "showgrid": false,
         "showticklabels": false,
         "zeroline": false
        }
       }
      }
     },
     "metadata": {},
     "output_type": "display_data"
    }
   ],
   "source": [
    "# Example usage\n",
    "WACC = 0.12\n",
    "i = 80  # investment\n",
    "T = 2  # years\n",
    "n = 2  # steps in the tree\n",
    "V0 = 100  # initial projected value of the project\n",
    "sig = 0.4  # volatility\n",
    "rf = 0.05  # risk-free\n",
    "\n",
    "# Calculate DTA without flexibility\n",
    "results = calculate_DTA_no_flex(V0, sig, T, n, WACC)\n",
    "\n",
    "# Print results\n",
    "print(f'NPV = {results[\"V0\"] - i:.2f}')\n",
    "print('-' * 50)\n",
    "print(f'The objective probabilities are:')\n",
    "print(f'q = {results[\"q\"]:.4f} and 1-q = {1 - results[\"q\"]:.4f}')\n",
    "print('-' * 50)\n",
    "print(f'u = {results[\"u\"]:.4f} and d = {results[\"d\"]:.4f}')\n",
    "\n",
    "# Plot the DTA tree without flexibility\n",
    "plot_DTA_no_flex(results)"
   ]
  },
  {
   "cell_type": "code",
   "execution_count": 22,
   "id": "1cabf22bc61e06ff",
   "metadata": {
    "ExecuteTime": {
     "end_time": "2024-07-31T11:46:15.825827Z",
     "start_time": "2024-07-31T11:46:15.819926Z"
    }
   },
   "outputs": [],
   "source": [
    "def realize_option(V, DTA, expansion, price):\n",
    "    return max(DTA, expansion * V - price), \"expand\" if DTA < expansion * V - price else \"don't expand\"\n",
    "\n",
    "def expansion_threshold(expansion, price):\n",
    "    return price / (expansion - 1)\n",
    "\n",
    "def calculate_next_step(Vu, Vd, WACC, q):\n",
    "    return (q * Vu + (1 - q) * Vd) / (1 + WACC)\n",
    "\n",
    "def calculate_DTA_flex(V0, sig, T, n, WACC, expansion, price):\n",
    "    '''\n",
    "    Calculates the DTA tree with flexibility\n",
    "    Parameters\n",
    "    ----------\n",
    "    V0: float\n",
    "        present fair-value of the project\n",
    "    sig: float\n",
    "        volatility\n",
    "    T: float\n",
    "        time (in years)\n",
    "    n: int\n",
    "        steps in the tree\n",
    "    WACC: float\n",
    "        risk-neutral rate\n",
    "    expansion: float\n",
    "        expansion rate (if contraction: <1)\n",
    "    price: float\n",
    "        price of expansion (if contraction: <0)\n",
    "    \n",
    "    Returns\n",
    "    -------\n",
    "    dict\n",
    "        A dictionary containing all calculated values and decisions\n",
    "    '''\n",
    "    u = round(math.exp(sig * math.sqrt(T / n)), 4)\n",
    "    d = round(1 / u, 4)\n",
    "\n",
    "    # Calculate stock prices at different nodes\n",
    "    uV = round(u * V0, 2)\n",
    "    dV = round(d * V0, 2)\n",
    "    uuV = round(u * uV, 2)\n",
    "    udV = round(u * dV, 2)\n",
    "    ddV = round(d * dV, 2)\n",
    "\n",
    "    q = round((1 + WACC - d) / (u - d), 4)\n",
    "\n",
    "    # Calculate DTA at final nodes\n",
    "    uuDTA, uucmd = realize_option(uuV, uuV, expansion, price)\n",
    "    udDTA, udcmd = realize_option(udV, udV, expansion, price)\n",
    "    ddDTA, ddcmd = realize_option(ddV, ddV, expansion, price)\n",
    "\n",
    "    # Calculate DTA at intermediate nodes\n",
    "    uDTA_next = calculate_next_step(uuDTA, udDTA, WACC, q)\n",
    "    dDTA_next = calculate_next_step(udDTA, ddDTA, WACC, q)\n",
    "\n",
    "    uDTA, ucmd = realize_option(uV, uDTA_next, expansion, price)\n",
    "    dDTA, dcmd = realize_option(dV, dDTA_next, expansion, price)\n",
    "\n",
    "    # Calculate overall DTA\n",
    "    DTA = calculate_next_step(uDTA, dDTA, WACC, q)\n",
    "\n",
    "    return {\n",
    "        'V0': V0, 'DTA': round(DTA, 2),\n",
    "        'u': u, 'd': d, 'q': q,\n",
    "        'uV': uV, 'dV': dV,\n",
    "        'uuV': uuV, 'udV': udV, 'ddV': ddV,\n",
    "        'uDTA': round(uDTA, 2), 'dDTA': round(dDTA, 2),\n",
    "        'uuDTA': round(uuDTA, 2), 'udDTA': round(udDTA, 2), 'ddDTA': round(ddDTA, 2),\n",
    "        'ucmd': ucmd, 'dcmd': dcmd,\n",
    "        'uucmd': uucmd, 'udcmd': udcmd, 'ddcmd': ddcmd\n",
    "    }"
   ]
  },
  {
   "cell_type": "code",
   "execution_count": 23,
   "id": "c3dcbf59491a24a9",
   "metadata": {
    "ExecuteTime": {
     "end_time": "2024-07-31T11:46:17.828519Z",
     "start_time": "2024-07-31T11:46:17.823528Z"
    }
   },
   "outputs": [],
   "source": [
    "def plot_DTA_flex(results):\n",
    "    '''\n",
    "    Plots the DTA tree with flexibility using Plotly\n",
    "    Parameters\n",
    "    ----------\n",
    "    results: dict\n",
    "        Dictionary containing the calculated values from calculate_DTA_flex\n",
    "    '''\n",
    "    # Create nodes for the tree\n",
    "    nodes = [\n",
    "        (0, 0, f\"{results['DTA']:.2f}\"),\n",
    "        (1, 1, f\"{results['uDTA']:.2f}\\n{results['ucmd']}\"),\n",
    "        (1, -1, f\"{results['dDTA']:.2f}\\n{results['dcmd']}\"),\n",
    "        (2, 2, f\"{results['uuDTA']:.2f}\\n{results['uucmd']}\"),\n",
    "        (2, 0, f\"{results['udDTA']:.2f}\\n{results['udcmd']}\"),\n",
    "        (2, -2, f\"{results['ddDTA']:.2f}\\n{results['ddcmd']}\")\n",
    "    ]\n",
    "\n",
    "    # Create edges\n",
    "    edges = [\n",
    "        (0, 1), (0, 2), (1, 3), (1, 4), (2, 4), (2, 5)\n",
    "    ]\n",
    "\n",
    "    # Create figure\n",
    "    fig = go.Figure()\n",
    "\n",
    "    # Add nodes\n",
    "    node_x, node_y, node_text = zip(*nodes)\n",
    "    fig.add_trace(go.Scatter(\n",
    "        x=node_x, y=node_y,\n",
    "        mode='markers+text',\n",
    "        marker=dict(size=40, color='lightyellow'),\n",
    "        text=node_text,\n",
    "        textposition='middle center'\n",
    "    ))\n",
    "\n",
    "    # Add edges\n",
    "    for edge in edges:\n",
    "        fig.add_trace(go.Scatter(\n",
    "            x=[nodes[edge[0]][0], nodes[edge[1]][0]],\n",
    "            y=[nodes[edge[0]][1], nodes[edge[1]][1]],\n",
    "            mode='lines',\n",
    "            line=dict(color='grey', width=1)\n",
    "        ))\n",
    "\n",
    "    # Update layout\n",
    "    fig.update_layout(\n",
    "        title='DTA Tree with Flexibility',\n",
    "        showlegend=False,\n",
    "        hovermode='closest',\n",
    "        xaxis=dict(showgrid=False, zeroline=False, showticklabels=False, range=[-0.5, 2.5]),\n",
    "        yaxis=dict(showgrid=False, zeroline=False, showticklabels=False, range=[-2.5, 2.5]),\n",
    "        annotations=[\n",
    "            dict(x=1, y=2.5, xref=\"x\", yref=\"y\", text=f\"u={results['u']:.4f}, q={results['q']:.4f}\", showarrow=False),\n",
    "            dict(x=1, y=-2.5, xref=\"x\", yref=\"y\", text=f\"d={results['d']:.4f}, 1-q={1 - results['q']:.4f}\",\n",
    "                 showarrow=False)\n",
    "        ]\n",
    "    )\n",
    "\n",
    "    # Show the plot\n",
    "    fig.show()"
   ]
  },
  {
   "cell_type": "code",
   "execution_count": 24,
   "id": "5ac44459d663e0fc",
   "metadata": {
    "ExecuteTime": {
     "end_time": "2024-07-31T12:02:16.786950Z",
     "start_time": "2024-07-31T12:02:16.777557Z"
    }
   },
   "outputs": [
    {
     "name": "stdout",
     "output_type": "stream",
     "text": [
      "The DTA NPV with flexibility is: 22.38\n",
      "--------------------------------------------------\n",
      "The objective probabilities are:\n",
      "q = 0.7482 and 1-q = 0.2518\n",
      "Expansion threshold: 105.00\n",
      "The Option Value is: 2.38\n",
      "--------------------------------------------------\n",
      "u = 1.2214 and d = 0.8187\n"
     ]
    },
    {
     "data": {
      "application/vnd.plotly.v1+json": {
       "config": {
        "plotlyServerURL": "https://plot.ly"
       },
       "data": [
        {
         "marker": {
          "color": "lightyellow",
          "size": 40
         },
         "mode": "markers+text",
         "text": [
          "102.38",
          "122.59\ndon't expand",
          "91.12\nexpand",
          "149.18\ndon't expand",
          "102.00\nexpand",
          "82.22\nexpand"
         ],
         "textposition": "middle center",
         "type": "scatter",
         "x": [
          0,
          1,
          1,
          2,
          2,
          2
         ],
         "y": [
          0,
          1,
          -1,
          2,
          0,
          -2
         ]
        },
        {
         "line": {
          "color": "grey",
          "width": 1
         },
         "mode": "lines",
         "type": "scatter",
         "x": [
          0,
          1
         ],
         "y": [
          0,
          1
         ]
        },
        {
         "line": {
          "color": "grey",
          "width": 1
         },
         "mode": "lines",
         "type": "scatter",
         "x": [
          0,
          1
         ],
         "y": [
          0,
          -1
         ]
        },
        {
         "line": {
          "color": "grey",
          "width": 1
         },
         "mode": "lines",
         "type": "scatter",
         "x": [
          1,
          2
         ],
         "y": [
          1,
          2
         ]
        },
        {
         "line": {
          "color": "grey",
          "width": 1
         },
         "mode": "lines",
         "type": "scatter",
         "x": [
          1,
          2
         ],
         "y": [
          1,
          0
         ]
        },
        {
         "line": {
          "color": "grey",
          "width": 1
         },
         "mode": "lines",
         "type": "scatter",
         "x": [
          1,
          2
         ],
         "y": [
          -1,
          0
         ]
        },
        {
         "line": {
          "color": "grey",
          "width": 1
         },
         "mode": "lines",
         "type": "scatter",
         "x": [
          1,
          2
         ],
         "y": [
          -1,
          -2
         ]
        }
       ],
       "layout": {
        "annotations": [
         {
          "showarrow": false,
          "text": "u=1.2214, q=0.7482",
          "x": 1,
          "xref": "x",
          "y": 2.5,
          "yref": "y"
         },
         {
          "showarrow": false,
          "text": "d=0.8187, 1-q=0.2518",
          "x": 1,
          "xref": "x",
          "y": -2.5,
          "yref": "y"
         }
        ],
        "hovermode": "closest",
        "showlegend": false,
        "template": {
         "data": {
          "bar": [
           {
            "error_x": {
             "color": "#2a3f5f"
            },
            "error_y": {
             "color": "#2a3f5f"
            },
            "marker": {
             "line": {
              "color": "#E5ECF6",
              "width": 0.5
             },
             "pattern": {
              "fillmode": "overlay",
              "size": 10,
              "solidity": 0.2
             }
            },
            "type": "bar"
           }
          ],
          "barpolar": [
           {
            "marker": {
             "line": {
              "color": "#E5ECF6",
              "width": 0.5
             },
             "pattern": {
              "fillmode": "overlay",
              "size": 10,
              "solidity": 0.2
             }
            },
            "type": "barpolar"
           }
          ],
          "carpet": [
           {
            "aaxis": {
             "endlinecolor": "#2a3f5f",
             "gridcolor": "white",
             "linecolor": "white",
             "minorgridcolor": "white",
             "startlinecolor": "#2a3f5f"
            },
            "baxis": {
             "endlinecolor": "#2a3f5f",
             "gridcolor": "white",
             "linecolor": "white",
             "minorgridcolor": "white",
             "startlinecolor": "#2a3f5f"
            },
            "type": "carpet"
           }
          ],
          "choropleth": [
           {
            "colorbar": {
             "outlinewidth": 0,
             "ticks": ""
            },
            "type": "choropleth"
           }
          ],
          "contour": [
           {
            "colorbar": {
             "outlinewidth": 0,
             "ticks": ""
            },
            "colorscale": [
             [
              0,
              "#0d0887"
             ],
             [
              0.1111111111111111,
              "#46039f"
             ],
             [
              0.2222222222222222,
              "#7201a8"
             ],
             [
              0.3333333333333333,
              "#9c179e"
             ],
             [
              0.4444444444444444,
              "#bd3786"
             ],
             [
              0.5555555555555556,
              "#d8576b"
             ],
             [
              0.6666666666666666,
              "#ed7953"
             ],
             [
              0.7777777777777778,
              "#fb9f3a"
             ],
             [
              0.8888888888888888,
              "#fdca26"
             ],
             [
              1,
              "#f0f921"
             ]
            ],
            "type": "contour"
           }
          ],
          "contourcarpet": [
           {
            "colorbar": {
             "outlinewidth": 0,
             "ticks": ""
            },
            "type": "contourcarpet"
           }
          ],
          "heatmap": [
           {
            "colorbar": {
             "outlinewidth": 0,
             "ticks": ""
            },
            "colorscale": [
             [
              0,
              "#0d0887"
             ],
             [
              0.1111111111111111,
              "#46039f"
             ],
             [
              0.2222222222222222,
              "#7201a8"
             ],
             [
              0.3333333333333333,
              "#9c179e"
             ],
             [
              0.4444444444444444,
              "#bd3786"
             ],
             [
              0.5555555555555556,
              "#d8576b"
             ],
             [
              0.6666666666666666,
              "#ed7953"
             ],
             [
              0.7777777777777778,
              "#fb9f3a"
             ],
             [
              0.8888888888888888,
              "#fdca26"
             ],
             [
              1,
              "#f0f921"
             ]
            ],
            "type": "heatmap"
           }
          ],
          "heatmapgl": [
           {
            "colorbar": {
             "outlinewidth": 0,
             "ticks": ""
            },
            "colorscale": [
             [
              0,
              "#0d0887"
             ],
             [
              0.1111111111111111,
              "#46039f"
             ],
             [
              0.2222222222222222,
              "#7201a8"
             ],
             [
              0.3333333333333333,
              "#9c179e"
             ],
             [
              0.4444444444444444,
              "#bd3786"
             ],
             [
              0.5555555555555556,
              "#d8576b"
             ],
             [
              0.6666666666666666,
              "#ed7953"
             ],
             [
              0.7777777777777778,
              "#fb9f3a"
             ],
             [
              0.8888888888888888,
              "#fdca26"
             ],
             [
              1,
              "#f0f921"
             ]
            ],
            "type": "heatmapgl"
           }
          ],
          "histogram": [
           {
            "marker": {
             "pattern": {
              "fillmode": "overlay",
              "size": 10,
              "solidity": 0.2
             }
            },
            "type": "histogram"
           }
          ],
          "histogram2d": [
           {
            "colorbar": {
             "outlinewidth": 0,
             "ticks": ""
            },
            "colorscale": [
             [
              0,
              "#0d0887"
             ],
             [
              0.1111111111111111,
              "#46039f"
             ],
             [
              0.2222222222222222,
              "#7201a8"
             ],
             [
              0.3333333333333333,
              "#9c179e"
             ],
             [
              0.4444444444444444,
              "#bd3786"
             ],
             [
              0.5555555555555556,
              "#d8576b"
             ],
             [
              0.6666666666666666,
              "#ed7953"
             ],
             [
              0.7777777777777778,
              "#fb9f3a"
             ],
             [
              0.8888888888888888,
              "#fdca26"
             ],
             [
              1,
              "#f0f921"
             ]
            ],
            "type": "histogram2d"
           }
          ],
          "histogram2dcontour": [
           {
            "colorbar": {
             "outlinewidth": 0,
             "ticks": ""
            },
            "colorscale": [
             [
              0,
              "#0d0887"
             ],
             [
              0.1111111111111111,
              "#46039f"
             ],
             [
              0.2222222222222222,
              "#7201a8"
             ],
             [
              0.3333333333333333,
              "#9c179e"
             ],
             [
              0.4444444444444444,
              "#bd3786"
             ],
             [
              0.5555555555555556,
              "#d8576b"
             ],
             [
              0.6666666666666666,
              "#ed7953"
             ],
             [
              0.7777777777777778,
              "#fb9f3a"
             ],
             [
              0.8888888888888888,
              "#fdca26"
             ],
             [
              1,
              "#f0f921"
             ]
            ],
            "type": "histogram2dcontour"
           }
          ],
          "mesh3d": [
           {
            "colorbar": {
             "outlinewidth": 0,
             "ticks": ""
            },
            "type": "mesh3d"
           }
          ],
          "parcoords": [
           {
            "line": {
             "colorbar": {
              "outlinewidth": 0,
              "ticks": ""
             }
            },
            "type": "parcoords"
           }
          ],
          "pie": [
           {
            "automargin": true,
            "type": "pie"
           }
          ],
          "scatter": [
           {
            "fillpattern": {
             "fillmode": "overlay",
             "size": 10,
             "solidity": 0.2
            },
            "type": "scatter"
           }
          ],
          "scatter3d": [
           {
            "line": {
             "colorbar": {
              "outlinewidth": 0,
              "ticks": ""
             }
            },
            "marker": {
             "colorbar": {
              "outlinewidth": 0,
              "ticks": ""
             }
            },
            "type": "scatter3d"
           }
          ],
          "scattercarpet": [
           {
            "marker": {
             "colorbar": {
              "outlinewidth": 0,
              "ticks": ""
             }
            },
            "type": "scattercarpet"
           }
          ],
          "scattergeo": [
           {
            "marker": {
             "colorbar": {
              "outlinewidth": 0,
              "ticks": ""
             }
            },
            "type": "scattergeo"
           }
          ],
          "scattergl": [
           {
            "marker": {
             "colorbar": {
              "outlinewidth": 0,
              "ticks": ""
             }
            },
            "type": "scattergl"
           }
          ],
          "scattermapbox": [
           {
            "marker": {
             "colorbar": {
              "outlinewidth": 0,
              "ticks": ""
             }
            },
            "type": "scattermapbox"
           }
          ],
          "scatterpolar": [
           {
            "marker": {
             "colorbar": {
              "outlinewidth": 0,
              "ticks": ""
             }
            },
            "type": "scatterpolar"
           }
          ],
          "scatterpolargl": [
           {
            "marker": {
             "colorbar": {
              "outlinewidth": 0,
              "ticks": ""
             }
            },
            "type": "scatterpolargl"
           }
          ],
          "scatterternary": [
           {
            "marker": {
             "colorbar": {
              "outlinewidth": 0,
              "ticks": ""
             }
            },
            "type": "scatterternary"
           }
          ],
          "surface": [
           {
            "colorbar": {
             "outlinewidth": 0,
             "ticks": ""
            },
            "colorscale": [
             [
              0,
              "#0d0887"
             ],
             [
              0.1111111111111111,
              "#46039f"
             ],
             [
              0.2222222222222222,
              "#7201a8"
             ],
             [
              0.3333333333333333,
              "#9c179e"
             ],
             [
              0.4444444444444444,
              "#bd3786"
             ],
             [
              0.5555555555555556,
              "#d8576b"
             ],
             [
              0.6666666666666666,
              "#ed7953"
             ],
             [
              0.7777777777777778,
              "#fb9f3a"
             ],
             [
              0.8888888888888888,
              "#fdca26"
             ],
             [
              1,
              "#f0f921"
             ]
            ],
            "type": "surface"
           }
          ],
          "table": [
           {
            "cells": {
             "fill": {
              "color": "#EBF0F8"
             },
             "line": {
              "color": "white"
             }
            },
            "header": {
             "fill": {
              "color": "#C8D4E3"
             },
             "line": {
              "color": "white"
             }
            },
            "type": "table"
           }
          ]
         },
         "layout": {
          "annotationdefaults": {
           "arrowcolor": "#2a3f5f",
           "arrowhead": 0,
           "arrowwidth": 1
          },
          "autotypenumbers": "strict",
          "coloraxis": {
           "colorbar": {
            "outlinewidth": 0,
            "ticks": ""
           }
          },
          "colorscale": {
           "diverging": [
            [
             0,
             "#8e0152"
            ],
            [
             0.1,
             "#c51b7d"
            ],
            [
             0.2,
             "#de77ae"
            ],
            [
             0.3,
             "#f1b6da"
            ],
            [
             0.4,
             "#fde0ef"
            ],
            [
             0.5,
             "#f7f7f7"
            ],
            [
             0.6,
             "#e6f5d0"
            ],
            [
             0.7,
             "#b8e186"
            ],
            [
             0.8,
             "#7fbc41"
            ],
            [
             0.9,
             "#4d9221"
            ],
            [
             1,
             "#276419"
            ]
           ],
           "sequential": [
            [
             0,
             "#0d0887"
            ],
            [
             0.1111111111111111,
             "#46039f"
            ],
            [
             0.2222222222222222,
             "#7201a8"
            ],
            [
             0.3333333333333333,
             "#9c179e"
            ],
            [
             0.4444444444444444,
             "#bd3786"
            ],
            [
             0.5555555555555556,
             "#d8576b"
            ],
            [
             0.6666666666666666,
             "#ed7953"
            ],
            [
             0.7777777777777778,
             "#fb9f3a"
            ],
            [
             0.8888888888888888,
             "#fdca26"
            ],
            [
             1,
             "#f0f921"
            ]
           ],
           "sequentialminus": [
            [
             0,
             "#0d0887"
            ],
            [
             0.1111111111111111,
             "#46039f"
            ],
            [
             0.2222222222222222,
             "#7201a8"
            ],
            [
             0.3333333333333333,
             "#9c179e"
            ],
            [
             0.4444444444444444,
             "#bd3786"
            ],
            [
             0.5555555555555556,
             "#d8576b"
            ],
            [
             0.6666666666666666,
             "#ed7953"
            ],
            [
             0.7777777777777778,
             "#fb9f3a"
            ],
            [
             0.8888888888888888,
             "#fdca26"
            ],
            [
             1,
             "#f0f921"
            ]
           ]
          },
          "colorway": [
           "#636efa",
           "#EF553B",
           "#00cc96",
           "#ab63fa",
           "#FFA15A",
           "#19d3f3",
           "#FF6692",
           "#B6E880",
           "#FF97FF",
           "#FECB52"
          ],
          "font": {
           "color": "#2a3f5f"
          },
          "geo": {
           "bgcolor": "white",
           "lakecolor": "white",
           "landcolor": "#E5ECF6",
           "showlakes": true,
           "showland": true,
           "subunitcolor": "white"
          },
          "hoverlabel": {
           "align": "left"
          },
          "hovermode": "closest",
          "mapbox": {
           "style": "light"
          },
          "paper_bgcolor": "white",
          "plot_bgcolor": "#E5ECF6",
          "polar": {
           "angularaxis": {
            "gridcolor": "white",
            "linecolor": "white",
            "ticks": ""
           },
           "bgcolor": "#E5ECF6",
           "radialaxis": {
            "gridcolor": "white",
            "linecolor": "white",
            "ticks": ""
           }
          },
          "scene": {
           "xaxis": {
            "backgroundcolor": "#E5ECF6",
            "gridcolor": "white",
            "gridwidth": 2,
            "linecolor": "white",
            "showbackground": true,
            "ticks": "",
            "zerolinecolor": "white"
           },
           "yaxis": {
            "backgroundcolor": "#E5ECF6",
            "gridcolor": "white",
            "gridwidth": 2,
            "linecolor": "white",
            "showbackground": true,
            "ticks": "",
            "zerolinecolor": "white"
           },
           "zaxis": {
            "backgroundcolor": "#E5ECF6",
            "gridcolor": "white",
            "gridwidth": 2,
            "linecolor": "white",
            "showbackground": true,
            "ticks": "",
            "zerolinecolor": "white"
           }
          },
          "shapedefaults": {
           "line": {
            "color": "#2a3f5f"
           }
          },
          "ternary": {
           "aaxis": {
            "gridcolor": "white",
            "linecolor": "white",
            "ticks": ""
           },
           "baxis": {
            "gridcolor": "white",
            "linecolor": "white",
            "ticks": ""
           },
           "bgcolor": "#E5ECF6",
           "caxis": {
            "gridcolor": "white",
            "linecolor": "white",
            "ticks": ""
           }
          },
          "title": {
           "x": 0.05
          },
          "xaxis": {
           "automargin": true,
           "gridcolor": "white",
           "linecolor": "white",
           "ticks": "",
           "title": {
            "standoff": 15
           },
           "zerolinecolor": "white",
           "zerolinewidth": 2
          },
          "yaxis": {
           "automargin": true,
           "gridcolor": "white",
           "linecolor": "white",
           "ticks": "",
           "title": {
            "standoff": 15
           },
           "zerolinecolor": "white",
           "zerolinewidth": 2
          }
         }
        },
        "title": {
         "text": "DTA Tree with Flexibility"
        },
        "xaxis": {
         "range": [
          -0.5,
          2.5
         ],
         "showgrid": false,
         "showticklabels": false,
         "zeroline": false
        },
        "yaxis": {
         "range": [
          -2.5,
          2.5
         ],
         "showgrid": false,
         "showticklabels": false,
         "zeroline": false
        }
       }
      }
     },
     "metadata": {},
     "output_type": "display_data"
    }
   ],
   "source": [
    "# Example usage\n",
    "WACC = 0.12\n",
    "i = 80  # investment\n",
    "T = 2  # years\n",
    "n = 2  # steps in the tree\n",
    "V0 = 100  # initial projected value of the project\n",
    "sig = 0.2  # volatility\n",
    "rf = 0.05  # risk-free\n",
    "expansion = 0.6\n",
    "price = -42\n",
    "\n",
    "# Calculate DTA with flexibility\n",
    "results = calculate_DTA_flex(V0, sig, T, n, WACC, expansion, price)\n",
    "\n",
    "print(f'The DTA NPV with flexibility is: {results[\"DTA\"] - i:.2f}')\n",
    "print('-' * 50)\n",
    "print(f'The objective probabilities are:')\n",
    "print(f'q = {results[\"q\"]:.4f} and 1-q = {1 - results[\"q\"]:.4f}')\n",
    "print(f'Expansion threshold: {expansion_threshold(expansion, price):.2f}')\n",
    "print(f'The Option Value is: {results[\"DTA\"] - results[\"V0\"]:.2f}')\n",
    "print('-' * 50)\n",
    "print(f'u = {results[\"u\"]:.4f} and d = {results[\"d\"]:.4f}')\n",
    "\n",
    "\n",
    "      \n",
    "\n",
    "# Plot the DTA tree with flexibility\n",
    "plot_DTA_flex(results)"
   ]
  },
  {
   "cell_type": "markdown",
   "id": "9fe11bf64c9687bb",
   "metadata": {},
   "source": [
    "## DTA x ROA"
   ]
  },
  {
   "cell_type": "markdown",
   "id": "63f0f812baf92328",
   "metadata": {},
   "source": [
    "**Difference to decision tree is branch-dependent discount rate**\n",
    "\n",
    "* Note, decision tree approach (DTA) adjusts discount rate for risk (by using the WACC) and uses physical probabilities\n",
    "* Real options approach (ROA) discounts with risk-free discount rate and adjusts probabilities for risk by using the risk-neutral probability\n",
    "* Note, call value formula can be modified to\n",
    "\n",
    "$C = \\frac{pC_u}{1+r_f} + \\frac{(1-p)C_d}{1+r_f} = \\frac{qC_u}{(1+r_f)\\frac{q}{p}} + \\frac{(1-q)C_d}{(1+r_f)\\frac{(1-q)}{(1-p)}} = \\frac{qC_u}{(1+r_u)} + \\frac{(1-q)C_d}{(1+r_d)}$\n",
    "\n",
    "* Decision tree method uses single discount rate for both branches real option approach implicitly uses branch-dependent discount rates ($r_u$ and $r_d$)\n",
    "\n",
    "**How to choose?**\n",
    "1) In principle ROA is always the better choice as it is the only consistent (arbitrage free)\n",
    "approach to value flexibility.\n",
    "2) Problem: there must be an observable market price for the project without flexibility. This is\n",
    "often not the case (think about innovations, which are not yet traded by definition).\n",
    "3) In such case the only solution is to use DTA, even though one has to be aware of all the\n",
    "problems associated with this method. But most likely it is better to accept this problem\n",
    "rather to ignore flexibility at all.\n",
    "4) In practice, must approaches labelled as real options, in reality, are a DTA."
   ]
  },
  {
   "cell_type": "markdown",
   "id": "c89a75f3f7319520",
   "metadata": {},
   "source": [
    "Call value formula: \n",
    "\n",
    "$C = \\frac{pC_u}{1 + r_f} + \\frac{(1 - p)C_d}{1 + r_f} = \\frac{qC_u}{1 + r_f} + \\frac{(1 - q)C_d}{1 + ru} + \\frac{(1 - q)C_d}{1 + rd}$"
   ]
  },
  {
   "cell_type": "markdown",
   "id": "a6ab62ebf397685c",
   "metadata": {},
   "source": [
    "# Staging Investments"
   ]
  },
  {
   "cell_type": "markdown",
   "id": "629755b786383889",
   "metadata": {},
   "source": [
    "* Companies often have to stage investment tranches, because of technological or capacity reasons. This is a typical problem in R&D investments.\n",
    "* By doing so real options are realized (deferral, abandonment, expansion, etc.).\n",
    "* Of course, there is also a downside, for instance because there is a loss in the time value of money of future cash flows. Moreover, it could also be that future investments become more expensive or that a competitive advantage is lost.\n",
    "* However, staging give additional flexibility leading to a potential additional value.\n",
    "* The company has to find a way to maximize this value."
   ]
  },
  {
   "cell_type": "markdown",
   "id": "95a53149035bdcc8",
   "metadata": {},
   "source": [
    "General Idea:\n",
    "* it's not a good idea to start with the most expensive stage.\n",
    "* It's better to start with the most risky (least successful) investment stage, as the outcome of\n",
    "this stage is most informative regarding the overall viability of the project.\n",
    "* starting with the most lengthy project tends to be an advantage as the PV of the\n",
    "investments for the succeeding stages is smaller (provided that there is no cost of\n",
    "postponing, which is not so clear, for instance because of inflation).\n",
    "* it seems to be beneficial to invest in less capital intensive, riskier and lengthier projects first.\n",
    "* Typically it will be impossible to monotonically order the projects according to the three criteria\n",
    "mentioned before. \n",
    "* Therefore, we are looking for an ordering taking all three dimensions into\n",
    "account. This is fulfilled by the following failure cost criteria:\n",
    "\n",
    "$\\frac{1 - PV(success)}{PV(investment)}$\n",
    "\n",
    "* $PV(success)$: is the expected marginal present value contribution of 1 dollar revenue\n",
    "(which will only be generated, if the overall project is successful).\n",
    "* $(PV investment)$: is the present value of the necessary investment for the specific stage.\n",
    "* Note that this rule is similar to the profitability index, which was defined as\n",
    "NPV/Investment.\n",
    "\n",
    "The approach can be used in a ROA or DTA setting.\n",
    "* $PV(investment) =$ cost of project\n",
    "* $PV(success) = \\frac{Prob(Project)}{(1 + WACC)^T}$\n"
   ]
  },
  {
   "cell_type": "code",
   "execution_count": 25,
   "id": "956816d92f113055",
   "metadata": {
    "ExecuteTime": {
     "end_time": "2024-07-31T09:38:27.824807Z",
     "start_time": "2024-07-31T09:38:27.821704Z"
    }
   },
   "outputs": [],
   "source": [
    "def calculate_final_npv(rf_yields, cost, profit, sucess_p, yields_p=None):\n",
    "    '''\n",
    "    Calculates the NPV at the final step\n",
    "    Parameters\n",
    "    ----------\n",
    "    rf_yields: list[float]\n",
    "    yield of the risk-free rate, list of possible yields\n",
    "    cost: float\n",
    "    cost at the final step of project (factory cost)\n",
    "    profit: float\n",
    "    profit per year after the project is done and is sucessfull\n",
    "    sucess_p: float\n",
    "    probability of sucess of project\n",
    "    yields_p: list[float]\n",
    "    probability of each yield\n",
    "    '''\n",
    "    return sucess_p * np.average(np.maximum(0, profit / np.array(rf_yields) - cost), weights=yields_p)\n",
    "\n",
    "\n",
    "def calculate_initial_npv(yearly_cost, rf, final_npv, t):\n",
    "    '''\n",
    "    Calculates the NPV at t=0\n",
    "    Parameters\n",
    "    ----------\n",
    "    yearly_cost: float\n",
    "    cost (per year) of R and D\n",
    "    rf: float\n",
    "    risk-free rate\n",
    "    final_npv: float\n",
    "    NPV at final time step, calculated with ```calcute_final_npv()```\n",
    "    t: int\n",
    "    time steps\n",
    "    '''\n",
    "    NPV = 0\n",
    "    for i in range(t):\n",
    "        NPV -= yearly_cost / (1 + rf) ** i\n",
    "    NPV += final_npv / (1 + rf) ** (t)\n",
    "\n",
    "    return NPV"
   ]
  },
  {
   "cell_type": "code",
   "execution_count": 26,
   "id": "bf9bd1b182e22ec",
   "metadata": {
    "ExecuteTime": {
     "end_time": "2024-07-31T09:41:51.574702Z",
     "start_time": "2024-07-31T09:41:51.571955Z"
    }
   },
   "outputs": [
    {
     "name": "stdout",
     "output_type": "stream",
     "text": [
      "There is a 25.0% chance of success so that the expected value at time 5 is: 78.1250\n",
      "The NPV of the development opportunity at time 0 is therefore: 6.8108\n"
     ]
    }
   ],
   "source": [
    "rf_yields = [.12, .1, .08, .05]\n",
    "cost = 1000\n",
    "profit = 100\n",
    "sucess_p = .25\n",
    "final_npv = calculate_final_npv(rf_yields, cost, profit, sucess_p)\n",
    "yearly_cost = 10\n",
    "rf = .1\n",
    "t = 5\n",
    "NPV = calculate_initial_npv(yearly_cost, rf, final_npv, t)\n",
    "\n",
    "print(f'There is a {sucess_p * 100}% chance of success so that the expected value at time {t} is: {final_npv:.4f}')\n",
    "print(f'The NPV of the development opportunity at time 0 is therefore: {NPV:.4f}')\n"
   ]
  }
 ],
 "metadata": {
  "kernelspec": {
   "display_name": "Python 3",
   "language": "python",
   "name": "python3"
  },
  "language_info": {
   "codemirror_mode": {
    "name": "ipython",
    "version": 3
   },
   "file_extension": ".py",
   "mimetype": "text/x-python",
   "name": "python",
   "nbconvert_exporter": "python",
   "pygments_lexer": "ipython3",
   "version": "3.12.4"
  }
 },
 "nbformat": 4,
 "nbformat_minor": 5
}
