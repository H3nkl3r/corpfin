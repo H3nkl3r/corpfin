{
 "cells": [
  {
   "metadata": {
    "ExecuteTime": {
     "end_time": "2024-07-30T14:18:10.816534Z",
     "start_time": "2024-07-30T14:18:10.155451Z"
    }
   },
   "cell_type": "code",
   "source": [
    "import plotly.graph_objects as go\n",
    "from scipy.stats import norm\n",
    "import math\n",
    "import numpy as np"
   ],
   "id": "1a950dbf1a6b7424",
   "outputs": [],
   "execution_count": 4
  },
  {
   "metadata": {},
   "cell_type": "markdown",
   "source": [
    "# Options"
   ],
   "id": "c0ba8247d7d23952"
  },
  {
   "metadata": {},
   "cell_type": "markdown",
   "source": [
    "* $S$ = Current stock price\n",
    "* $X$ = Exercise price\n",
    "* $u$ = Upwards movement\n",
    "* $d$ = Downwards movement\n",
    "* $r_f$ = Risk-free rate\n",
    "\n",
    "In calls: The portfolio is composed of one long stocks and m call options\n",
    "\n",
    "In puts: The portfolio is composed of m long stocks and one long put option\n",
    "\n",
    "Types:\n",
    "* European: Can only be exercised at expiration date\n",
    "* American: Can be exercised at any time before expiration"
   ],
   "id": "7babda38966cdd3e"
  },
  {
   "cell_type": "code",
   "id": "initial_id",
   "metadata": {
    "collapsed": true,
    "ExecuteTime": {
     "end_time": "2024-07-30T08:55:39.377741Z",
     "start_time": "2024-07-30T08:55:39.374115Z"
    }
   },
   "source": [
    "def calculate_option(S, X, u, d, rf, tp, ct):\n",
    "    # Risk neutral probability\n",
    "    p = (1 + rf - d) / (u - d)\n",
    "    \n",
    "    # Stock prices at different nodes\n",
    "    Su = u * S\n",
    "    Sd = d * S\n",
    "    Suu = u * Su\n",
    "    Sud = d * Su\n",
    "    Sdd = d * Sd\n",
    "    \n",
    "    multiplier = 1 if tp == 'call' else -1\n",
    "    \n",
    "    # Option values at final nodes\n",
    "    cuu = max(0, multiplier * (Suu - X))\n",
    "    cud = max(0, multiplier * (Sud - X))\n",
    "    cdd = max(0, multiplier * (Sdd - X))\n",
    "    \n",
    "    # Option values at intermediate nodes\n",
    "    cu = (p * cuu + (1 - p) * cud) / (1 + rf)\n",
    "    cd = (p * cud + (1 - p) * cdd) / (1 + rf)\n",
    "    \n",
    "    if (tp == 'call' and ct == 'european') or (tp == 'put' and ct == 'american'):\n",
    "        cu = max(multiplier * (Su - X), cu)\n",
    "        cd = max(multiplier * (Sd - X), cd)\n",
    "    \n",
    "    # Option value at initial node\n",
    "    c0 = (p * cu + (1 - p) * cd) / (1 + rf)\n",
    "    if tp == 'call':\n",
    "        c0 = c0 if ct == 'american' else max(S - X, c0)\n",
    "    else:\n",
    "        c0 = max(X - S, c0) if ct == 'american' else max(0, c0)\n",
    "        \n",
    "    # Calculate m (option's delta)\n",
    "    cu_0 = max(multiplier * (Su - X), 0)\n",
    "    cd_0 = max(multiplier * (Sd - X), 0)\n",
    "    p1 = S * (u - d)\n",
    "    p2 = multiplier * (cu_0 - cd_0)\n",
    "    m = p1 / p2 if tp == 'call' else p2 / p1\n",
    "    \n",
    "    return {\n",
    "        'c0': c0,\n",
    "        'cu': cu,\n",
    "        'cd': cd,\n",
    "        'cu_0': cu_0,\n",
    "        'cd_0': cd_0,\n",
    "        'cuu': cuu, \n",
    "        'cud': cud, \n",
    "        'cdd': cdd, \n",
    "        'p': p, \n",
    "        'm': m, \n",
    "    }"
   ],
   "outputs": [],
   "execution_count": 62
  },
  {
   "metadata": {
    "ExecuteTime": {
     "end_time": "2024-07-30T08:55:41.023155Z",
     "start_time": "2024-07-30T08:55:41.019743Z"
    }
   },
   "cell_type": "code",
   "source": [
    "def plot_binomial_tree(result):\n",
    "    # Create nodes (swapping x and y coordinates for horizontal orientation)\n",
    "    nodes = [\n",
    "        (0, 0, f\"{result['c0']:.2f}\"),\n",
    "        (1, -1, f\"{result['cu']:.2f}\"), (1, 1, f\"{result['cd']:.2f}\"),\n",
    "        (2, -2, f\"{result['cuu']:.2f}\"), (2, 0, f\"{result['cud']:.2f}\"), (2, 2, f\"{result['cdd']:.2f}\")\n",
    "    ]\n",
    "\n",
    "    # Create edges\n",
    "    edges = [\n",
    "        (0, 1), (0, 2), (1, 3), (1, 4), (2, 4), (2, 5)\n",
    "    ]\n",
    "\n",
    "    # Create figure\n",
    "    fig = go.Figure()\n",
    "\n",
    "    # Add nodes\n",
    "    node_x, node_y, node_text = zip(*nodes)\n",
    "    fig.add_trace(go.Scatter(\n",
    "        x=node_x, y=node_y,\n",
    "        mode='markers+text',\n",
    "        marker=dict(size=30, color='skyblue'),\n",
    "        text=node_text,\n",
    "        textposition='middle center'\n",
    "    ))\n",
    "\n",
    "    # Add edges\n",
    "    for edge in edges:\n",
    "        fig.add_trace(go.Scatter(\n",
    "            x=[nodes[edge[0]][0], nodes[edge[1]][0]],\n",
    "            y=[nodes[edge[0]][1], nodes[edge[1]][1]],\n",
    "            mode='lines',\n",
    "            line=dict(color='grey', width=1)\n",
    "        ))\n",
    "\n",
    "    # Update layout\n",
    "    fig.update_layout(\n",
    "        title='Binomial Tree Option Pricing',\n",
    "        showlegend=False,\n",
    "        hovermode='closest',\n",
    "        xaxis=dict(showgrid=False, zeroline=False, showticklabels=False),\n",
    "        yaxis=dict(showgrid=False, zeroline=False, showticklabels=False),\n",
    "        yaxis_range=[-2.5, 2.5],  # Adjust this to control vertical spread\n",
    "        xaxis_range=[-0.5, 2.5]  # Adjust this to control horizontal spread\n",
    "    )\n",
    "\n",
    "    return fig"
   ],
   "id": "7bc5a86b4707ae74",
   "outputs": [],
   "execution_count": 63
  },
  {
   "metadata": {
    "ExecuteTime": {
     "end_time": "2024-07-30T08:58:37.259127Z",
     "start_time": "2024-07-30T08:58:37.251571Z"
    }
   },
   "cell_type": "code",
   "source": [
    "# Example usage\n",
    "S = 50  # current stock price\n",
    "X = 50  # exercise price\n",
    "u = 1.2  # upwards movement\n",
    "d = 0.6  # downwards movement\n",
    "rf = 0.1  # risk-free rate\n",
    "tp = 'put'  # option type 'call' or 'put'\n",
    "ct = 'american'  # contract type 'american' or 'european'\n",
    "\n",
    "result = calculate_option(S, X, u, d, rf, tp, ct)\n",
    "fig = plot_binomial_tree(result)\n",
    "fig.show()\n",
    "\n",
    "print(f\"Value of hedge ratio (m): {result['m']:.2f}\")\n",
    "print(\n",
    "    f\"One-period hedge portfolio payoffs: {result['m'] * S * u + result['cu_0']:.2f} or {result['m'] * S * d + result['cd_0']:.2f}\")\n",
    "print(f\"Option Value in t=0 (P0): {result['c0']:.2f}\")\n",
    "print(f\"Risk-Neutral Probability (p): {result['p']:.2f} and (p-1): {1 - result['p']:,.2f}\")\n",
    "print(f\"Payoffs for 2-period {f'{ct.title()} {tp.title()}'} option:\")\n",
    "print(f\"  - Up-Up: {result['cuu']:.2f}\")\n",
    "print(f\"  - Up-Down: {result['cud']:.2f}\")\n",
    "print(f\"  - Down-Down: {result['cdd']:.2f}\")"
   ],
   "id": "7cbf501a88dcaad",
   "outputs": [
    {
     "data": {
      "application/vnd.plotly.v1+json": {
       "data": [
        {
         "marker": {
          "color": "skyblue",
          "size": 30
         },
         "mode": "markers+text",
         "text": [
          "4.64",
          "2.12",
          "20.00",
          "0.00",
          "14.00",
          "32.00"
         ],
         "textposition": "middle center",
         "x": [
          0,
          1,
          1,
          2,
          2,
          2
         ],
         "y": [
          0,
          -1,
          1,
          -2,
          0,
          2
         ],
         "type": "scatter"
        },
        {
         "line": {
          "color": "grey",
          "width": 1
         },
         "mode": "lines",
         "x": [
          0,
          1
         ],
         "y": [
          0,
          -1
         ],
         "type": "scatter"
        },
        {
         "line": {
          "color": "grey",
          "width": 1
         },
         "mode": "lines",
         "x": [
          0,
          1
         ],
         "y": [
          0,
          1
         ],
         "type": "scatter"
        },
        {
         "line": {
          "color": "grey",
          "width": 1
         },
         "mode": "lines",
         "x": [
          1,
          2
         ],
         "y": [
          -1,
          -2
         ],
         "type": "scatter"
        },
        {
         "line": {
          "color": "grey",
          "width": 1
         },
         "mode": "lines",
         "x": [
          1,
          2
         ],
         "y": [
          -1,
          0
         ],
         "type": "scatter"
        },
        {
         "line": {
          "color": "grey",
          "width": 1
         },
         "mode": "lines",
         "x": [
          1,
          2
         ],
         "y": [
          1,
          0
         ],
         "type": "scatter"
        },
        {
         "line": {
          "color": "grey",
          "width": 1
         },
         "mode": "lines",
         "x": [
          1,
          2
         ],
         "y": [
          1,
          2
         ],
         "type": "scatter"
        }
       ],
       "layout": {
        "template": {
         "data": {
          "histogram2dcontour": [
           {
            "type": "histogram2dcontour",
            "colorbar": {
             "outlinewidth": 0,
             "ticks": ""
            },
            "colorscale": [
             [
              0.0,
              "#0d0887"
             ],
             [
              0.1111111111111111,
              "#46039f"
             ],
             [
              0.2222222222222222,
              "#7201a8"
             ],
             [
              0.3333333333333333,
              "#9c179e"
             ],
             [
              0.4444444444444444,
              "#bd3786"
             ],
             [
              0.5555555555555556,
              "#d8576b"
             ],
             [
              0.6666666666666666,
              "#ed7953"
             ],
             [
              0.7777777777777778,
              "#fb9f3a"
             ],
             [
              0.8888888888888888,
              "#fdca26"
             ],
             [
              1.0,
              "#f0f921"
             ]
            ]
           }
          ],
          "choropleth": [
           {
            "type": "choropleth",
            "colorbar": {
             "outlinewidth": 0,
             "ticks": ""
            }
           }
          ],
          "histogram2d": [
           {
            "type": "histogram2d",
            "colorbar": {
             "outlinewidth": 0,
             "ticks": ""
            },
            "colorscale": [
             [
              0.0,
              "#0d0887"
             ],
             [
              0.1111111111111111,
              "#46039f"
             ],
             [
              0.2222222222222222,
              "#7201a8"
             ],
             [
              0.3333333333333333,
              "#9c179e"
             ],
             [
              0.4444444444444444,
              "#bd3786"
             ],
             [
              0.5555555555555556,
              "#d8576b"
             ],
             [
              0.6666666666666666,
              "#ed7953"
             ],
             [
              0.7777777777777778,
              "#fb9f3a"
             ],
             [
              0.8888888888888888,
              "#fdca26"
             ],
             [
              1.0,
              "#f0f921"
             ]
            ]
           }
          ],
          "heatmap": [
           {
            "type": "heatmap",
            "colorbar": {
             "outlinewidth": 0,
             "ticks": ""
            },
            "colorscale": [
             [
              0.0,
              "#0d0887"
             ],
             [
              0.1111111111111111,
              "#46039f"
             ],
             [
              0.2222222222222222,
              "#7201a8"
             ],
             [
              0.3333333333333333,
              "#9c179e"
             ],
             [
              0.4444444444444444,
              "#bd3786"
             ],
             [
              0.5555555555555556,
              "#d8576b"
             ],
             [
              0.6666666666666666,
              "#ed7953"
             ],
             [
              0.7777777777777778,
              "#fb9f3a"
             ],
             [
              0.8888888888888888,
              "#fdca26"
             ],
             [
              1.0,
              "#f0f921"
             ]
            ]
           }
          ],
          "heatmapgl": [
           {
            "type": "heatmapgl",
            "colorbar": {
             "outlinewidth": 0,
             "ticks": ""
            },
            "colorscale": [
             [
              0.0,
              "#0d0887"
             ],
             [
              0.1111111111111111,
              "#46039f"
             ],
             [
              0.2222222222222222,
              "#7201a8"
             ],
             [
              0.3333333333333333,
              "#9c179e"
             ],
             [
              0.4444444444444444,
              "#bd3786"
             ],
             [
              0.5555555555555556,
              "#d8576b"
             ],
             [
              0.6666666666666666,
              "#ed7953"
             ],
             [
              0.7777777777777778,
              "#fb9f3a"
             ],
             [
              0.8888888888888888,
              "#fdca26"
             ],
             [
              1.0,
              "#f0f921"
             ]
            ]
           }
          ],
          "contourcarpet": [
           {
            "type": "contourcarpet",
            "colorbar": {
             "outlinewidth": 0,
             "ticks": ""
            }
           }
          ],
          "contour": [
           {
            "type": "contour",
            "colorbar": {
             "outlinewidth": 0,
             "ticks": ""
            },
            "colorscale": [
             [
              0.0,
              "#0d0887"
             ],
             [
              0.1111111111111111,
              "#46039f"
             ],
             [
              0.2222222222222222,
              "#7201a8"
             ],
             [
              0.3333333333333333,
              "#9c179e"
             ],
             [
              0.4444444444444444,
              "#bd3786"
             ],
             [
              0.5555555555555556,
              "#d8576b"
             ],
             [
              0.6666666666666666,
              "#ed7953"
             ],
             [
              0.7777777777777778,
              "#fb9f3a"
             ],
             [
              0.8888888888888888,
              "#fdca26"
             ],
             [
              1.0,
              "#f0f921"
             ]
            ]
           }
          ],
          "surface": [
           {
            "type": "surface",
            "colorbar": {
             "outlinewidth": 0,
             "ticks": ""
            },
            "colorscale": [
             [
              0.0,
              "#0d0887"
             ],
             [
              0.1111111111111111,
              "#46039f"
             ],
             [
              0.2222222222222222,
              "#7201a8"
             ],
             [
              0.3333333333333333,
              "#9c179e"
             ],
             [
              0.4444444444444444,
              "#bd3786"
             ],
             [
              0.5555555555555556,
              "#d8576b"
             ],
             [
              0.6666666666666666,
              "#ed7953"
             ],
             [
              0.7777777777777778,
              "#fb9f3a"
             ],
             [
              0.8888888888888888,
              "#fdca26"
             ],
             [
              1.0,
              "#f0f921"
             ]
            ]
           }
          ],
          "mesh3d": [
           {
            "type": "mesh3d",
            "colorbar": {
             "outlinewidth": 0,
             "ticks": ""
            }
           }
          ],
          "scatter": [
           {
            "marker": {
             "line": {
              "color": "#283442"
             }
            },
            "type": "scatter"
           }
          ],
          "parcoords": [
           {
            "type": "parcoords",
            "line": {
             "colorbar": {
              "outlinewidth": 0,
              "ticks": ""
             }
            }
           }
          ],
          "scatterpolargl": [
           {
            "type": "scatterpolargl",
            "marker": {
             "colorbar": {
              "outlinewidth": 0,
              "ticks": ""
             }
            }
           }
          ],
          "bar": [
           {
            "error_x": {
             "color": "#f2f5fa"
            },
            "error_y": {
             "color": "#f2f5fa"
            },
            "marker": {
             "line": {
              "color": "rgb(17,17,17)",
              "width": 0.5
             },
             "pattern": {
              "fillmode": "overlay",
              "size": 10,
              "solidity": 0.2
             }
            },
            "type": "bar"
           }
          ],
          "scattergeo": [
           {
            "type": "scattergeo",
            "marker": {
             "colorbar": {
              "outlinewidth": 0,
              "ticks": ""
             }
            }
           }
          ],
          "scatterpolar": [
           {
            "type": "scatterpolar",
            "marker": {
             "colorbar": {
              "outlinewidth": 0,
              "ticks": ""
             }
            }
           }
          ],
          "histogram": [
           {
            "marker": {
             "pattern": {
              "fillmode": "overlay",
              "size": 10,
              "solidity": 0.2
             }
            },
            "type": "histogram"
           }
          ],
          "scattergl": [
           {
            "marker": {
             "line": {
              "color": "#283442"
             }
            },
            "type": "scattergl"
           }
          ],
          "scatter3d": [
           {
            "type": "scatter3d",
            "line": {
             "colorbar": {
              "outlinewidth": 0,
              "ticks": ""
             }
            },
            "marker": {
             "colorbar": {
              "outlinewidth": 0,
              "ticks": ""
             }
            }
           }
          ],
          "scattermapbox": [
           {
            "type": "scattermapbox",
            "marker": {
             "colorbar": {
              "outlinewidth": 0,
              "ticks": ""
             }
            }
           }
          ],
          "scatterternary": [
           {
            "type": "scatterternary",
            "marker": {
             "colorbar": {
              "outlinewidth": 0,
              "ticks": ""
             }
            }
           }
          ],
          "scattercarpet": [
           {
            "type": "scattercarpet",
            "marker": {
             "colorbar": {
              "outlinewidth": 0,
              "ticks": ""
             }
            }
           }
          ],
          "carpet": [
           {
            "aaxis": {
             "endlinecolor": "#A2B1C6",
             "gridcolor": "#506784",
             "linecolor": "#506784",
             "minorgridcolor": "#506784",
             "startlinecolor": "#A2B1C6"
            },
            "baxis": {
             "endlinecolor": "#A2B1C6",
             "gridcolor": "#506784",
             "linecolor": "#506784",
             "minorgridcolor": "#506784",
             "startlinecolor": "#A2B1C6"
            },
            "type": "carpet"
           }
          ],
          "table": [
           {
            "cells": {
             "fill": {
              "color": "#506784"
             },
             "line": {
              "color": "rgb(17,17,17)"
             }
            },
            "header": {
             "fill": {
              "color": "#2a3f5f"
             },
             "line": {
              "color": "rgb(17,17,17)"
             }
            },
            "type": "table"
           }
          ],
          "barpolar": [
           {
            "marker": {
             "line": {
              "color": "rgb(17,17,17)",
              "width": 0.5
             },
             "pattern": {
              "fillmode": "overlay",
              "size": 10,
              "solidity": 0.2
             }
            },
            "type": "barpolar"
           }
          ],
          "pie": [
           {
            "automargin": true,
            "type": "pie"
           }
          ]
         },
         "layout": {
          "autotypenumbers": "strict",
          "colorway": [
           "#636efa",
           "#EF553B",
           "#00cc96",
           "#ab63fa",
           "#FFA15A",
           "#19d3f3",
           "#FF6692",
           "#B6E880",
           "#FF97FF",
           "#FECB52"
          ],
          "font": {
           "color": "#f2f5fa"
          },
          "hovermode": "closest",
          "hoverlabel": {
           "align": "left"
          },
          "paper_bgcolor": "rgb(17,17,17)",
          "plot_bgcolor": "rgb(17,17,17)",
          "polar": {
           "bgcolor": "rgb(17,17,17)",
           "angularaxis": {
            "gridcolor": "#506784",
            "linecolor": "#506784",
            "ticks": ""
           },
           "radialaxis": {
            "gridcolor": "#506784",
            "linecolor": "#506784",
            "ticks": ""
           }
          },
          "ternary": {
           "bgcolor": "rgb(17,17,17)",
           "aaxis": {
            "gridcolor": "#506784",
            "linecolor": "#506784",
            "ticks": ""
           },
           "baxis": {
            "gridcolor": "#506784",
            "linecolor": "#506784",
            "ticks": ""
           },
           "caxis": {
            "gridcolor": "#506784",
            "linecolor": "#506784",
            "ticks": ""
           }
          },
          "coloraxis": {
           "colorbar": {
            "outlinewidth": 0,
            "ticks": ""
           }
          },
          "colorscale": {
           "sequential": [
            [
             0.0,
             "#0d0887"
            ],
            [
             0.1111111111111111,
             "#46039f"
            ],
            [
             0.2222222222222222,
             "#7201a8"
            ],
            [
             0.3333333333333333,
             "#9c179e"
            ],
            [
             0.4444444444444444,
             "#bd3786"
            ],
            [
             0.5555555555555556,
             "#d8576b"
            ],
            [
             0.6666666666666666,
             "#ed7953"
            ],
            [
             0.7777777777777778,
             "#fb9f3a"
            ],
            [
             0.8888888888888888,
             "#fdca26"
            ],
            [
             1.0,
             "#f0f921"
            ]
           ],
           "sequentialminus": [
            [
             0.0,
             "#0d0887"
            ],
            [
             0.1111111111111111,
             "#46039f"
            ],
            [
             0.2222222222222222,
             "#7201a8"
            ],
            [
             0.3333333333333333,
             "#9c179e"
            ],
            [
             0.4444444444444444,
             "#bd3786"
            ],
            [
             0.5555555555555556,
             "#d8576b"
            ],
            [
             0.6666666666666666,
             "#ed7953"
            ],
            [
             0.7777777777777778,
             "#fb9f3a"
            ],
            [
             0.8888888888888888,
             "#fdca26"
            ],
            [
             1.0,
             "#f0f921"
            ]
           ],
           "diverging": [
            [
             0,
             "#8e0152"
            ],
            [
             0.1,
             "#c51b7d"
            ],
            [
             0.2,
             "#de77ae"
            ],
            [
             0.3,
             "#f1b6da"
            ],
            [
             0.4,
             "#fde0ef"
            ],
            [
             0.5,
             "#f7f7f7"
            ],
            [
             0.6,
             "#e6f5d0"
            ],
            [
             0.7,
             "#b8e186"
            ],
            [
             0.8,
             "#7fbc41"
            ],
            [
             0.9,
             "#4d9221"
            ],
            [
             1,
             "#276419"
            ]
           ]
          },
          "xaxis": {
           "gridcolor": "#283442",
           "linecolor": "#506784",
           "ticks": "",
           "title": {
            "standoff": 15
           },
           "zerolinecolor": "#283442",
           "automargin": true,
           "zerolinewidth": 2
          },
          "yaxis": {
           "gridcolor": "#283442",
           "linecolor": "#506784",
           "ticks": "",
           "title": {
            "standoff": 15
           },
           "zerolinecolor": "#283442",
           "automargin": true,
           "zerolinewidth": 2
          },
          "scene": {
           "xaxis": {
            "backgroundcolor": "rgb(17,17,17)",
            "gridcolor": "#506784",
            "linecolor": "#506784",
            "showbackground": true,
            "ticks": "",
            "zerolinecolor": "#C8D4E3",
            "gridwidth": 2
           },
           "yaxis": {
            "backgroundcolor": "rgb(17,17,17)",
            "gridcolor": "#506784",
            "linecolor": "#506784",
            "showbackground": true,
            "ticks": "",
            "zerolinecolor": "#C8D4E3",
            "gridwidth": 2
           },
           "zaxis": {
            "backgroundcolor": "rgb(17,17,17)",
            "gridcolor": "#506784",
            "linecolor": "#506784",
            "showbackground": true,
            "ticks": "",
            "zerolinecolor": "#C8D4E3",
            "gridwidth": 2
           }
          },
          "shapedefaults": {
           "line": {
            "color": "#f2f5fa"
           }
          },
          "annotationdefaults": {
           "arrowcolor": "#f2f5fa",
           "arrowhead": 0,
           "arrowwidth": 1
          },
          "geo": {
           "bgcolor": "rgb(17,17,17)",
           "landcolor": "rgb(17,17,17)",
           "subunitcolor": "#506784",
           "showland": true,
           "showlakes": true,
           "lakecolor": "rgb(17,17,17)"
          },
          "title": {
           "x": 0.05
          },
          "updatemenudefaults": {
           "bgcolor": "#506784",
           "borderwidth": 0
          },
          "sliderdefaults": {
           "bgcolor": "#C8D4E3",
           "borderwidth": 1,
           "bordercolor": "rgb(17,17,17)",
           "tickwidth": 0
          },
          "mapbox": {
           "style": "dark"
          }
         }
        },
        "xaxis": {
         "showgrid": false,
         "zeroline": false,
         "showticklabels": false,
         "range": [
          -0.5,
          2.5
         ]
        },
        "yaxis": {
         "showgrid": false,
         "zeroline": false,
         "showticklabels": false,
         "range": [
          -2.5,
          2.5
         ]
        },
        "title": {
         "text": "Binomial Tree Option Pricing"
        },
        "showlegend": false,
        "hovermode": "closest"
       },
       "config": {
        "plotlyServerURL": "https://plot.ly"
       }
      },
      "text/html": "<div>                            <div id=\"44e2fb33-4c86-46d5-9144-3dac2311f3fb\" class=\"plotly-graph-div\" style=\"height:525px; width:100%;\"></div>            <script type=\"text/javascript\">                require([\"plotly\"], function(Plotly) {                    window.PLOTLYENV=window.PLOTLYENV || {};                                    if (document.getElementById(\"44e2fb33-4c86-46d5-9144-3dac2311f3fb\")) {                    Plotly.newPlot(                        \"44e2fb33-4c86-46d5-9144-3dac2311f3fb\",                        [{\"marker\":{\"color\":\"skyblue\",\"size\":30},\"mode\":\"markers+text\",\"text\":[\"4.64\",\"2.12\",\"20.00\",\"0.00\",\"14.00\",\"32.00\"],\"textposition\":\"middle center\",\"x\":[0,1,1,2,2,2],\"y\":[0,-1,1,-2,0,2],\"type\":\"scatter\"},{\"line\":{\"color\":\"grey\",\"width\":1},\"mode\":\"lines\",\"x\":[0,1],\"y\":[0,-1],\"type\":\"scatter\"},{\"line\":{\"color\":\"grey\",\"width\":1},\"mode\":\"lines\",\"x\":[0,1],\"y\":[0,1],\"type\":\"scatter\"},{\"line\":{\"color\":\"grey\",\"width\":1},\"mode\":\"lines\",\"x\":[1,2],\"y\":[-1,-2],\"type\":\"scatter\"},{\"line\":{\"color\":\"grey\",\"width\":1},\"mode\":\"lines\",\"x\":[1,2],\"y\":[-1,0],\"type\":\"scatter\"},{\"line\":{\"color\":\"grey\",\"width\":1},\"mode\":\"lines\",\"x\":[1,2],\"y\":[1,0],\"type\":\"scatter\"},{\"line\":{\"color\":\"grey\",\"width\":1},\"mode\":\"lines\",\"x\":[1,2],\"y\":[1,2],\"type\":\"scatter\"}],                        {\"template\":{\"data\":{\"histogram2dcontour\":[{\"type\":\"histogram2dcontour\",\"colorbar\":{\"outlinewidth\":0,\"ticks\":\"\"},\"colorscale\":[[0.0,\"#0d0887\"],[0.1111111111111111,\"#46039f\"],[0.2222222222222222,\"#7201a8\"],[0.3333333333333333,\"#9c179e\"],[0.4444444444444444,\"#bd3786\"],[0.5555555555555556,\"#d8576b\"],[0.6666666666666666,\"#ed7953\"],[0.7777777777777778,\"#fb9f3a\"],[0.8888888888888888,\"#fdca26\"],[1.0,\"#f0f921\"]]}],\"choropleth\":[{\"type\":\"choropleth\",\"colorbar\":{\"outlinewidth\":0,\"ticks\":\"\"}}],\"histogram2d\":[{\"type\":\"histogram2d\",\"colorbar\":{\"outlinewidth\":0,\"ticks\":\"\"},\"colorscale\":[[0.0,\"#0d0887\"],[0.1111111111111111,\"#46039f\"],[0.2222222222222222,\"#7201a8\"],[0.3333333333333333,\"#9c179e\"],[0.4444444444444444,\"#bd3786\"],[0.5555555555555556,\"#d8576b\"],[0.6666666666666666,\"#ed7953\"],[0.7777777777777778,\"#fb9f3a\"],[0.8888888888888888,\"#fdca26\"],[1.0,\"#f0f921\"]]}],\"heatmap\":[{\"type\":\"heatmap\",\"colorbar\":{\"outlinewidth\":0,\"ticks\":\"\"},\"colorscale\":[[0.0,\"#0d0887\"],[0.1111111111111111,\"#46039f\"],[0.2222222222222222,\"#7201a8\"],[0.3333333333333333,\"#9c179e\"],[0.4444444444444444,\"#bd3786\"],[0.5555555555555556,\"#d8576b\"],[0.6666666666666666,\"#ed7953\"],[0.7777777777777778,\"#fb9f3a\"],[0.8888888888888888,\"#fdca26\"],[1.0,\"#f0f921\"]]}],\"heatmapgl\":[{\"type\":\"heatmapgl\",\"colorbar\":{\"outlinewidth\":0,\"ticks\":\"\"},\"colorscale\":[[0.0,\"#0d0887\"],[0.1111111111111111,\"#46039f\"],[0.2222222222222222,\"#7201a8\"],[0.3333333333333333,\"#9c179e\"],[0.4444444444444444,\"#bd3786\"],[0.5555555555555556,\"#d8576b\"],[0.6666666666666666,\"#ed7953\"],[0.7777777777777778,\"#fb9f3a\"],[0.8888888888888888,\"#fdca26\"],[1.0,\"#f0f921\"]]}],\"contourcarpet\":[{\"type\":\"contourcarpet\",\"colorbar\":{\"outlinewidth\":0,\"ticks\":\"\"}}],\"contour\":[{\"type\":\"contour\",\"colorbar\":{\"outlinewidth\":0,\"ticks\":\"\"},\"colorscale\":[[0.0,\"#0d0887\"],[0.1111111111111111,\"#46039f\"],[0.2222222222222222,\"#7201a8\"],[0.3333333333333333,\"#9c179e\"],[0.4444444444444444,\"#bd3786\"],[0.5555555555555556,\"#d8576b\"],[0.6666666666666666,\"#ed7953\"],[0.7777777777777778,\"#fb9f3a\"],[0.8888888888888888,\"#fdca26\"],[1.0,\"#f0f921\"]]}],\"surface\":[{\"type\":\"surface\",\"colorbar\":{\"outlinewidth\":0,\"ticks\":\"\"},\"colorscale\":[[0.0,\"#0d0887\"],[0.1111111111111111,\"#46039f\"],[0.2222222222222222,\"#7201a8\"],[0.3333333333333333,\"#9c179e\"],[0.4444444444444444,\"#bd3786\"],[0.5555555555555556,\"#d8576b\"],[0.6666666666666666,\"#ed7953\"],[0.7777777777777778,\"#fb9f3a\"],[0.8888888888888888,\"#fdca26\"],[1.0,\"#f0f921\"]]}],\"mesh3d\":[{\"type\":\"mesh3d\",\"colorbar\":{\"outlinewidth\":0,\"ticks\":\"\"}}],\"scatter\":[{\"marker\":{\"line\":{\"color\":\"#283442\"}},\"type\":\"scatter\"}],\"parcoords\":[{\"type\":\"parcoords\",\"line\":{\"colorbar\":{\"outlinewidth\":0,\"ticks\":\"\"}}}],\"scatterpolargl\":[{\"type\":\"scatterpolargl\",\"marker\":{\"colorbar\":{\"outlinewidth\":0,\"ticks\":\"\"}}}],\"bar\":[{\"error_x\":{\"color\":\"#f2f5fa\"},\"error_y\":{\"color\":\"#f2f5fa\"},\"marker\":{\"line\":{\"color\":\"rgb(17,17,17)\",\"width\":0.5},\"pattern\":{\"fillmode\":\"overlay\",\"size\":10,\"solidity\":0.2}},\"type\":\"bar\"}],\"scattergeo\":[{\"type\":\"scattergeo\",\"marker\":{\"colorbar\":{\"outlinewidth\":0,\"ticks\":\"\"}}}],\"scatterpolar\":[{\"type\":\"scatterpolar\",\"marker\":{\"colorbar\":{\"outlinewidth\":0,\"ticks\":\"\"}}}],\"histogram\":[{\"marker\":{\"pattern\":{\"fillmode\":\"overlay\",\"size\":10,\"solidity\":0.2}},\"type\":\"histogram\"}],\"scattergl\":[{\"marker\":{\"line\":{\"color\":\"#283442\"}},\"type\":\"scattergl\"}],\"scatter3d\":[{\"type\":\"scatter3d\",\"line\":{\"colorbar\":{\"outlinewidth\":0,\"ticks\":\"\"}},\"marker\":{\"colorbar\":{\"outlinewidth\":0,\"ticks\":\"\"}}}],\"scattermapbox\":[{\"type\":\"scattermapbox\",\"marker\":{\"colorbar\":{\"outlinewidth\":0,\"ticks\":\"\"}}}],\"scatterternary\":[{\"type\":\"scatterternary\",\"marker\":{\"colorbar\":{\"outlinewidth\":0,\"ticks\":\"\"}}}],\"scattercarpet\":[{\"type\":\"scattercarpet\",\"marker\":{\"colorbar\":{\"outlinewidth\":0,\"ticks\":\"\"}}}],\"carpet\":[{\"aaxis\":{\"endlinecolor\":\"#A2B1C6\",\"gridcolor\":\"#506784\",\"linecolor\":\"#506784\",\"minorgridcolor\":\"#506784\",\"startlinecolor\":\"#A2B1C6\"},\"baxis\":{\"endlinecolor\":\"#A2B1C6\",\"gridcolor\":\"#506784\",\"linecolor\":\"#506784\",\"minorgridcolor\":\"#506784\",\"startlinecolor\":\"#A2B1C6\"},\"type\":\"carpet\"}],\"table\":[{\"cells\":{\"fill\":{\"color\":\"#506784\"},\"line\":{\"color\":\"rgb(17,17,17)\"}},\"header\":{\"fill\":{\"color\":\"#2a3f5f\"},\"line\":{\"color\":\"rgb(17,17,17)\"}},\"type\":\"table\"}],\"barpolar\":[{\"marker\":{\"line\":{\"color\":\"rgb(17,17,17)\",\"width\":0.5},\"pattern\":{\"fillmode\":\"overlay\",\"size\":10,\"solidity\":0.2}},\"type\":\"barpolar\"}],\"pie\":[{\"automargin\":true,\"type\":\"pie\"}]},\"layout\":{\"autotypenumbers\":\"strict\",\"colorway\":[\"#636efa\",\"#EF553B\",\"#00cc96\",\"#ab63fa\",\"#FFA15A\",\"#19d3f3\",\"#FF6692\",\"#B6E880\",\"#FF97FF\",\"#FECB52\"],\"font\":{\"color\":\"#f2f5fa\"},\"hovermode\":\"closest\",\"hoverlabel\":{\"align\":\"left\"},\"paper_bgcolor\":\"rgb(17,17,17)\",\"plot_bgcolor\":\"rgb(17,17,17)\",\"polar\":{\"bgcolor\":\"rgb(17,17,17)\",\"angularaxis\":{\"gridcolor\":\"#506784\",\"linecolor\":\"#506784\",\"ticks\":\"\"},\"radialaxis\":{\"gridcolor\":\"#506784\",\"linecolor\":\"#506784\",\"ticks\":\"\"}},\"ternary\":{\"bgcolor\":\"rgb(17,17,17)\",\"aaxis\":{\"gridcolor\":\"#506784\",\"linecolor\":\"#506784\",\"ticks\":\"\"},\"baxis\":{\"gridcolor\":\"#506784\",\"linecolor\":\"#506784\",\"ticks\":\"\"},\"caxis\":{\"gridcolor\":\"#506784\",\"linecolor\":\"#506784\",\"ticks\":\"\"}},\"coloraxis\":{\"colorbar\":{\"outlinewidth\":0,\"ticks\":\"\"}},\"colorscale\":{\"sequential\":[[0.0,\"#0d0887\"],[0.1111111111111111,\"#46039f\"],[0.2222222222222222,\"#7201a8\"],[0.3333333333333333,\"#9c179e\"],[0.4444444444444444,\"#bd3786\"],[0.5555555555555556,\"#d8576b\"],[0.6666666666666666,\"#ed7953\"],[0.7777777777777778,\"#fb9f3a\"],[0.8888888888888888,\"#fdca26\"],[1.0,\"#f0f921\"]],\"sequentialminus\":[[0.0,\"#0d0887\"],[0.1111111111111111,\"#46039f\"],[0.2222222222222222,\"#7201a8\"],[0.3333333333333333,\"#9c179e\"],[0.4444444444444444,\"#bd3786\"],[0.5555555555555556,\"#d8576b\"],[0.6666666666666666,\"#ed7953\"],[0.7777777777777778,\"#fb9f3a\"],[0.8888888888888888,\"#fdca26\"],[1.0,\"#f0f921\"]],\"diverging\":[[0,\"#8e0152\"],[0.1,\"#c51b7d\"],[0.2,\"#de77ae\"],[0.3,\"#f1b6da\"],[0.4,\"#fde0ef\"],[0.5,\"#f7f7f7\"],[0.6,\"#e6f5d0\"],[0.7,\"#b8e186\"],[0.8,\"#7fbc41\"],[0.9,\"#4d9221\"],[1,\"#276419\"]]},\"xaxis\":{\"gridcolor\":\"#283442\",\"linecolor\":\"#506784\",\"ticks\":\"\",\"title\":{\"standoff\":15},\"zerolinecolor\":\"#283442\",\"automargin\":true,\"zerolinewidth\":2},\"yaxis\":{\"gridcolor\":\"#283442\",\"linecolor\":\"#506784\",\"ticks\":\"\",\"title\":{\"standoff\":15},\"zerolinecolor\":\"#283442\",\"automargin\":true,\"zerolinewidth\":2},\"scene\":{\"xaxis\":{\"backgroundcolor\":\"rgb(17,17,17)\",\"gridcolor\":\"#506784\",\"linecolor\":\"#506784\",\"showbackground\":true,\"ticks\":\"\",\"zerolinecolor\":\"#C8D4E3\",\"gridwidth\":2},\"yaxis\":{\"backgroundcolor\":\"rgb(17,17,17)\",\"gridcolor\":\"#506784\",\"linecolor\":\"#506784\",\"showbackground\":true,\"ticks\":\"\",\"zerolinecolor\":\"#C8D4E3\",\"gridwidth\":2},\"zaxis\":{\"backgroundcolor\":\"rgb(17,17,17)\",\"gridcolor\":\"#506784\",\"linecolor\":\"#506784\",\"showbackground\":true,\"ticks\":\"\",\"zerolinecolor\":\"#C8D4E3\",\"gridwidth\":2}},\"shapedefaults\":{\"line\":{\"color\":\"#f2f5fa\"}},\"annotationdefaults\":{\"arrowcolor\":\"#f2f5fa\",\"arrowhead\":0,\"arrowwidth\":1},\"geo\":{\"bgcolor\":\"rgb(17,17,17)\",\"landcolor\":\"rgb(17,17,17)\",\"subunitcolor\":\"#506784\",\"showland\":true,\"showlakes\":true,\"lakecolor\":\"rgb(17,17,17)\"},\"title\":{\"x\":0.05},\"updatemenudefaults\":{\"bgcolor\":\"#506784\",\"borderwidth\":0},\"sliderdefaults\":{\"bgcolor\":\"#C8D4E3\",\"borderwidth\":1,\"bordercolor\":\"rgb(17,17,17)\",\"tickwidth\":0},\"mapbox\":{\"style\":\"dark\"}}},\"xaxis\":{\"showgrid\":false,\"zeroline\":false,\"showticklabels\":false,\"range\":[-0.5,2.5]},\"yaxis\":{\"showgrid\":false,\"zeroline\":false,\"showticklabels\":false,\"range\":[-2.5,2.5]},\"title\":{\"text\":\"Binomial Tree Option Pricing\"},\"showlegend\":false,\"hovermode\":\"closest\"},                        {\"responsive\": true}                    ).then(function(){\n                            \nvar gd = document.getElementById('44e2fb33-4c86-46d5-9144-3dac2311f3fb');\nvar x = new MutationObserver(function (mutations, observer) {{\n        var display = window.getComputedStyle(gd).display;\n        if (!display || display === 'none') {{\n            console.log([gd, 'removed!']);\n            Plotly.purge(gd);\n            observer.disconnect();\n        }}\n}});\n\n// Listen for the removal of the full notebook cells\nvar notebookContainer = gd.closest('#notebook-container');\nif (notebookContainer) {{\n    x.observe(notebookContainer, {childList: true});\n}}\n\n// Listen for the clearing of the current output cell\nvar outputEl = gd.closest('.output');\nif (outputEl) {{\n    x.observe(outputEl, {childList: true});\n}}\n\n                        })                };                });            </script>        </div>"
     },
     "metadata": {},
     "output_type": "display_data"
    },
    {
     "name": "stdout",
     "output_type": "stream",
     "text": [
      "Value of hedge ratio (m): 0.67\n",
      "One-period hedge portfolio payoffs: 40.00 or 40.00\n",
      "Option Value in t=0 (P0): 4.64\n",
      "Risk-Neutral Probability (p): 0.83 and (p-1): 0.17\n",
      "Payoffs for 2-period American Put option:\n",
      "  - Up-Up: 0.00\n",
      "  - Up-Down: 14.00\n",
      "  - Down-Down: 32.00\n"
     ]
    }
   ],
   "execution_count": 66
  },
  {
   "metadata": {},
   "cell_type": "markdown",
   "source": [
    "# Black-Scholes Model"
   ],
   "id": "ca3a01112aecaed3"
  },
  {
   "metadata": {},
   "cell_type": "markdown",
   "source": [
    "* $S$ = Current stock price\n",
    "* $X$ = Exercise price\n",
    "* $T$ = Time to expiration (in years)\n",
    "* $r_f$ = Risk-free rate\n",
    "* $\\sigma$ = Firm asset volatility\n",
    "* $\\sigma^2$ = Variance of firm asset returns (per year)\n",
    "\n",
    "$c = S N(d_1) - X e^{-r_f T} N(d_2)$"
   ],
   "id": "f55c4359896337d2"
  },
  {
   "metadata": {
    "ExecuteTime": {
     "end_time": "2024-07-30T21:08:58.798687Z",
     "start_time": "2024-07-30T21:08:58.795559Z"
    }
   },
   "cell_type": "code",
   "source": [
    "def black_scholes(S, X, rf, T, sig, tp):\n",
    "    d1 = (math.log(S / X) + (rf * T)) / (sig * math.sqrt(T)) + 0.5 * sig * math.sqrt(T)\n",
    "    d2 = d1 - sig * math.sqrt(T)\n",
    "    \n",
    "    multiplier = 1 if tp == 'call' else -1\n",
    "    \n",
    "    N1 = norm.cdf(multiplier * d1)\n",
    "    N2 = norm.cdf(multiplier * d2)\n",
    "    \n",
    "    c0 = multiplier * (S * N1 - X * math.exp(-rf * T) * N2)\n",
    "    \n",
    "    neg = {1: '', -1: '-'}[multiplier]\n",
    "    \n",
    "    return {\n",
    "        'd1': d1,\n",
    "        'd2': d2,\n",
    "        'N-d1': (f\"N({neg}d1)\", N1), \n",
    "        'N-d2': (f\"N({neg}d2)\", N2),\n",
    "        'c0': c0\n",
    "    }"
   ],
   "id": "bab9b82458ccedef",
   "outputs": [],
   "execution_count": 34
  },
  {
   "metadata": {
    "ExecuteTime": {
     "end_time": "2024-07-30T21:09:00.555615Z",
     "start_time": "2024-07-30T21:09:00.551276Z"
    }
   },
   "cell_type": "code",
   "source": [
    "#!TODO THIS DOESN'T WORK Currently with Tutorial 1 Question 3 someone please look into this\n",
    "\n",
    "\n",
    "# S - Current stock price\n",
    "S = 20\n",
    "# X - Exercise price\n",
    "X = 20\n",
    "# T - Time to expiration (in years) calculated from:\n",
    "\n",
    "# maturity in\n",
    "days = 0\n",
    "months = 6\n",
    "years = 0\n",
    "\n",
    "total_days = days + months * 365/12 + years * 365\n",
    "T = total_days / 365\n",
    "\n",
    "# rf - Risk-free rate\n",
    "rf = 0.08\n",
    "# variance - Variance of firm asset returns (per year)\n",
    "variance = 0.36\n",
    "# sig - Firm asset volatility\n",
    "sig = None\n",
    "tp = 'call' # option type 'call' or 'put'\n",
    "\n",
    "if sig and variance:\n",
    "    raise ValueError(\"Only one of sigma or variance should be provided\")\n",
    "elif variance:\n",
    "    sig = math.sqrt(variance)\n",
    "    \n",
    "result = black_scholes(S, X, rf, T, sig, tp)\n",
    "\n",
    "print(f\"Value of European {tp.title()} option: {result['c0']:.2f}\")\n",
    "print('-' * 50)\n",
    "print(f\"d1: {result['d1']:.2f}, d2: {result['d2']:.2f}\")\n",
    "print(f\"{result['N-d1'][0]}={result['N-d1'][1]:.4f}, {result['N-d2'][0]}={result['N-d2'][1]:.4f}\")"
   ],
   "id": "7fb94ccafd50cebe",
   "outputs": [
    {
     "name": "stdout",
     "output_type": "stream",
     "text": [
      "Value of European Call option: 3.70\n",
      "--------------------------------------------------\n",
      "d1: 0.31, d2: -0.12\n",
      "N(d1)=0.6204, N(d2)=0.4531\n"
     ]
    }
   ],
   "execution_count": 35
  },
  {
   "metadata": {},
   "cell_type": "markdown",
   "source": [
    "# Merton Model"
   ],
   "id": "64dd83bf60351a04"
  },
  {
   "metadata": {},
   "cell_type": "markdown",
   "source": [
    "For calculating a firm's value as a call option\n",
    "\n",
    "$YTM = \\sqrt[T]{\\frac{D}{B}} - 1$\n",
    "\n",
    "where:\n",
    "* $D$ = Zero-Bond\n",
    "* $B = V - S$: Value of debt"
   ],
   "id": "fd4e618dde3b8845"
  },
  {
   "metadata": {
    "ExecuteTime": {
     "end_time": "2024-07-30T10:13:18.453971Z",
     "start_time": "2024-07-30T10:13:18.450424Z"
    }
   },
   "cell_type": "code",
   "source": [
    "def merton(V, D, T, rf, sig):\n",
    "    '''\n",
    "    Calculates the firma's equity as a call option\n",
    "    Parameters\n",
    "    ----------\n",
    "    V: float\n",
    "    firma's value\n",
    "    D: float\n",
    "    zero-bond\n",
    "    T: float\n",
    "    time to maturity (in years)\n",
    "    rf: float\n",
    "    risk-free rate\n",
    "    sig: float\n",
    "    firma's asset volatility\n",
    "    '''\n",
    "    d1 = (math.log(V / D) + rf * T) / (sig * math.sqrt(T)) + 0.5 * sig * math.sqrt(T)\n",
    "    d2 = d1 - sig * math.sqrt(T)\n",
    "    d1 = round(d1, 2)\n",
    "    d2 = round(d2, 2)\n",
    "    N1 = norm.cdf(d1)\n",
    "    N1 = round(N1, 4)\n",
    "    N2 = norm.cdf(d2)\n",
    "    N2 = round(N2, 4)\n",
    "    S = V * N1 - D * math.exp(-rf * T) * N2\n",
    "    \n",
    "    B = V - S\n",
    "    \n",
    "    RRN = (B * math.exp(rf * T) - D * N2) / (D * (1 - N2))\n",
    "    ytm = (D / B) ** (1 / T) - 1\n",
    "    \n",
    "    return {\n",
    "        'd1': d1,\n",
    "        'd2': d2,\n",
    "        'N-d1': N1,\n",
    "        'N-d2': N2,\n",
    "        'S': S,\n",
    "        'B': B,\n",
    "        'YTM': ytm,\n",
    "        'RRN': RRN\n",
    "    }"
   ],
   "id": "f22d25c2f7504a38",
   "outputs": [],
   "execution_count": 131
  },
  {
   "metadata": {
    "ExecuteTime": {
     "end_time": "2024-07-30T10:17:13.945212Z",
     "start_time": "2024-07-30T10:17:13.940261Z"
    }
   },
   "cell_type": "code",
   "source": [
    "V = 5_000_000\n",
    "D = 4_000_000\n",
    "# Zero-bond\n",
    "# Time to maturity\n",
    "days = 0\n",
    "months = 0\n",
    "years = 10\n",
    "\n",
    "total_days = days + months * 365/12 + years * 365\n",
    "T = total_days / 365\n",
    "# Risk-free rate\n",
    "rf = 0.05\n",
    "\n",
    "# Firm asset volatility\n",
    "variance = 0.5\n",
    "sig = None\n",
    "\n",
    "if sig and variance:\n",
    "    raise ValueError(\"Only one of sigma or variance should be provided\")\n",
    "elif variance:\n",
    "    sig = math.sqrt(variance)\n",
    "\n",
    "result = merton(V, D, T, rf, sig)\n",
    "\n",
    "print(f\"Value of firm's equity: {result['S']:.2f}\")\n",
    "print(f\"Value of firm's debt: {result['B']:.2f}\")\n",
    "print('-' * 50)\n",
    "print(f\"The YTM (Yield to Maturity) is: {result['YTM']:.4f}\")\n",
    "print(f\"The Recovery Rate in the risk-neutral world is: {result['RRN']:.4f}\")\n",
    "print('-' * 50)\n",
    "print(f\"d1: {result['d1']:.2f}, d2: {result['d2']:.2f}\")\n",
    "print(f\"N(d1)={result['N-d1']:.4f}, N(d2)={result['N-d2']:.4f}\")\n",
    "\n",
    "\n",
    "\n",
    "\n"
   ],
   "id": "862cac9d3ccf9d59",
   "outputs": [
    {
     "name": "stdout",
     "output_type": "stream",
     "text": [
      "Risk-Neutral Probability: 0.1966\n",
      "Yield to Maturity: 0.1614\n",
      "Value of firm's equity: 4104368.86\n",
      "Value of firm's debt: 895631.14\n",
      "--------------------------------------------------\n",
      "The YTM (Yield to Maturity) is: 0.1614\n",
      "The Recovery Rate in the risk-neutral world is: 0.1966\n",
      "--------------------------------------------------\n",
      "d1: 1.44, d2: -0.79\n",
      "N(d1)=0.9251, N(d2)=0.2148\n"
     ]
    }
   ],
   "execution_count": 133
  },
  {
   "metadata": {},
   "cell_type": "markdown",
   "source": [
    "# Put-Call Parity and Arbitrage"
   ],
   "id": "1ab63b651ec18e99"
  },
  {
   "metadata": {
    "ExecuteTime": {
     "end_time": "2024-07-30T10:19:08.130394Z",
     "start_time": "2024-07-30T10:19:08.127390Z"
    }
   },
   "cell_type": "code",
   "source": [
    "def put_call_parity(c0, p0, S0, X, T, rf, tp):\n",
    "    if tp == 'discrete':\n",
    "        P0 = c0 - S0 + X / ((1 + rf) ** T)\n",
    "        C0 = p0 + S0 - X / ((1 + rf) ** T)\n",
    "    else:\n",
    "        P0 = c0 - S0 + X * math.exp(-rf * T)\n",
    "        C0 = p0 + S0 - X * math.exp(-rf * T)\n",
    "\n",
    "    return {\n",
    "        'P0': P0, # Put option value\n",
    "        'C0': C0  # Call option value\n",
    "    }"
   ],
   "id": "adf8aab5ea1ef9d1",
   "outputs": [],
   "execution_count": 139
  },
  {
   "metadata": {
    "ExecuteTime": {
     "end_time": "2024-07-30T11:25:42.380080Z",
     "start_time": "2024-07-30T11:25:42.376864Z"
    }
   },
   "cell_type": "code",
   "source": [
    "# c0 - Call option value\n",
    "c0 = 3.91\n",
    "# p0 - Put option value\n",
    "p0 = 0\n",
    "# S0 - Current stock price\n",
    "S0 = 44 + 3/8\n",
    "# X - Exercise price\n",
    "X = 65\n",
    "# T - Time to maturity (in years)\n",
    "T = 2\n",
    "# rf - Risk-free rate\n",
    "rf = 0.1\n",
    "# tp - Type of parity\n",
    "tp = 'discrete'\n",
    "#tp = 'continuous'\n",
    "result = put_call_parity(c0, p0, S0, X, T, rf, tp)\n",
    "\n",
    "if tp == 'discrete':\n",
    "    print(f\"Value of Put Option (P0): {result['P0']:.2f}\")\n",
    "    print(f\"Value of Call Option (C0): {result['C0']:.2f}\")\n",
    "else:\n",
    "    print(f\"Value of Put Option (P0): {result['P0']:.2f}\")\n",
    "    print(f\"Value of Call Option (C0): {result['C0']:.2f}\")\n",
    "\n",
    "\n"
   ],
   "id": "bb6126d1e46b3cd9",
   "outputs": [
    {
     "name": "stdout",
     "output_type": "stream",
     "text": [
      "Value of Put Option (P0): 3.21\n",
      "Value of Call Option (C0): 0.70\n"
     ]
    }
   ],
   "execution_count": 146
  },
  {
   "metadata": {},
   "cell_type": "markdown",
   "source": [
    "# Net Present Value (NPV)"
   ],
   "id": "5a9f752002b58e3d"
  },
  {
   "metadata": {},
   "cell_type": "markdown",
   "source": [
    "$NPV = -I_0 + \\sum_{t=1}^{n} \\frac{E(FCF_t)}{(1 + WACC)^t} > 0$\n",
    "\n",
    "where:\n",
    "* $I_0$: Initial investment\n",
    "* $FCF_t$: Free cash flow at time $t$\n",
    "* $WACC$: Weighted average cost of capital\n",
    "* $n$: Number of periods"
   ],
   "id": "3b1116278deaa3af"
  },
  {
   "metadata": {
    "ExecuteTime": {
     "end_time": "2024-07-30T11:40:58.335552Z",
     "start_time": "2024-07-30T11:40:58.331836Z"
    }
   },
   "cell_type": "code",
   "source": [
    "def calculate_NPV_no_expansion(I, sig, V, T, n):\n",
    "    '''\n",
    "    Calculates the NPV and node values for a binomial tree without expansion\n",
    "    Parameters\n",
    "    ----------\n",
    "    I: float\n",
    "        initial investment\n",
    "    sig: float\n",
    "        volatility\n",
    "    V: float\n",
    "        present value w/o flexibility\n",
    "    T: float\n",
    "        time to maturity (in years)\n",
    "    n: int\n",
    "        steps in the tree\n",
    "    \n",
    "    Returns\n",
    "    -------\n",
    "    dict\n",
    "        A dictionary containing all calculated values\n",
    "    '''\n",
    "    npv = V - I\n",
    "    u = math.exp(sig * math.sqrt(T / n))\n",
    "    u = round(u, 2)\n",
    "    d = 1 / u\n",
    "    d = round(d, 2)\n",
    "    uV = u * V\n",
    "    uV = round(uV, 2)\n",
    "    dV = d * V\n",
    "    dV = round(dV, 2)\n",
    "    udV = uV * d\n",
    "    udV = round(udV, 2)\n",
    "    uuV = uV * u\n",
    "    uuV = round(uuV, 2)\n",
    "    ddV = dV * d\n",
    "\n",
    "    return {\n",
    "        'npv': npv,\n",
    "        'u': u,\n",
    "        'd': d, \n",
    "        'V': V, \n",
    "        'uV':uV, \n",
    "        'dV':dV, \n",
    "        'uuV':uuV, \n",
    "        'udV':udV, \n",
    "        'ddV':ddV,\n",
    "    }"
   ],
   "id": "2f9fe0d187e7cd70",
   "outputs": [],
   "execution_count": 168
  },
  {
   "metadata": {
    "ExecuteTime": {
     "end_time": "2024-07-30T11:41:00.301781Z",
     "start_time": "2024-07-30T11:41:00.297230Z"
    }
   },
   "cell_type": "code",
   "source": [
    "def plot_binomial_tree(results):\n",
    "    '''\n",
    "    Plots the binomial tree using Plotly\n",
    "    Parameters\n",
    "    ----------\n",
    "    results: dict\n",
    "        Dictionary containing the calculated values from calculate_NPV_no_expansion\n",
    "    '''\n",
    "    # Create nodes for the tree\n",
    "    nodes = [\n",
    "        (0, 0, f\"{results['V']:.2f}\"),\n",
    "        (1, 1, f\"{results['uV']:.2f}\"), (1, -1, f\"{results['dV']:.2f}\"),\n",
    "        (2, 2, f\"{results['uuV']:.2f}\"), (2, 0, f\"{results['udV']:.2f}\"), (2, -2, f\"{results['ddV']:.2f}\")\n",
    "    ]\n",
    "\n",
    "    # Create edges\n",
    "    edges = [\n",
    "        (0, 1), (0, 2), (1, 3), (1, 4), (2, 4), (2, 5)\n",
    "    ]\n",
    "\n",
    "    # Create figure\n",
    "    fig = go.Figure()\n",
    "\n",
    "    # Add nodes\n",
    "    node_x, node_y, node_text = zip(*nodes)\n",
    "    fig.add_trace(go.Scatter(\n",
    "        x=node_x, y=node_y,\n",
    "        mode='markers+text',\n",
    "        marker=dict(size=30, color='skyblue'),\n",
    "        text=node_text,\n",
    "        textposition='middle center'\n",
    "    ))\n",
    "\n",
    "    # Add edges\n",
    "    for edge in edges:\n",
    "        fig.add_trace(go.Scatter(\n",
    "            x=[nodes[edge[0]][0], nodes[edge[1]][0]],\n",
    "            y=[nodes[edge[0]][1], nodes[edge[1]][1]],\n",
    "            mode='lines',\n",
    "            line=dict(color='grey', width=1)\n",
    "        ))\n",
    "\n",
    "    # Update layout\n",
    "    fig.update_layout(\n",
    "        title='Binomial Tree - NPV No Expansion',\n",
    "        showlegend=False,\n",
    "        hovermode='closest',\n",
    "        xaxis=dict(showgrid=False, zeroline=False, showticklabels=False, range=[-0.5, 2.5]),\n",
    "        yaxis=dict(showgrid=False, zeroline=False, showticklabels=False, range=[-2.5, 2.5]),\n",
    "        annotations=[\n",
    "            dict(x=1, y=2.5, xref=\"x\", yref=\"y\", text=f\"u={results['u']:.2f}\", showarrow=False),\n",
    "            dict(x=1, y=-2.5, xref=\"x\", yref=\"y\", text=f\"d={results['d']:.2f}\", showarrow=False)\n",
    "        ]\n",
    "    )\n",
    "\n",
    "    # Show the plot\n",
    "    fig.show()\n"
   ],
   "id": "16a2cf0b03514dbc",
   "outputs": [],
   "execution_count": 169
  },
  {
   "metadata": {
    "ExecuteTime": {
     "end_time": "2024-07-30T11:41:03.289978Z",
     "start_time": "2024-07-30T11:41:03.281584Z"
    }
   },
   "cell_type": "code",
   "source": [
    "# Example usage\n",
    "I = 20\n",
    "sig = 0.15\n",
    "V = 30\n",
    "T = 2\n",
    "n = 2\n",
    "\n",
    "# Calculate the NPV and tree values\n",
    "results = calculate_NPV_no_expansion(I, sig, V, T, n)\n",
    "\n",
    "# Print the NPV\n",
    "print(f\"The NPV without expansion is: {results['npv']:.2f}\")\n",
    "\n",
    "# Plot the binomial tree\n",
    "plot_binomial_tree(results)"
   ],
   "id": "74c97c941aac95e",
   "outputs": [
    {
     "name": "stdout",
     "output_type": "stream",
     "text": [
      "The NPV without expansion is: 10.00\n"
     ]
    },
    {
     "data": {
      "application/vnd.plotly.v1+json": {
       "data": [
        {
         "marker": {
          "color": "skyblue",
          "size": 30
         },
         "mode": "markers+text",
         "text": [
          "30.00",
          "34.80",
          "25.80",
          "40.37",
          "29.93",
          "22.19"
         ],
         "textposition": "middle center",
         "x": [
          0,
          1,
          1,
          2,
          2,
          2
         ],
         "y": [
          0,
          1,
          -1,
          2,
          0,
          -2
         ],
         "type": "scatter"
        },
        {
         "line": {
          "color": "grey",
          "width": 1
         },
         "mode": "lines",
         "x": [
          0,
          1
         ],
         "y": [
          0,
          1
         ],
         "type": "scatter"
        },
        {
         "line": {
          "color": "grey",
          "width": 1
         },
         "mode": "lines",
         "x": [
          0,
          1
         ],
         "y": [
          0,
          -1
         ],
         "type": "scatter"
        },
        {
         "line": {
          "color": "grey",
          "width": 1
         },
         "mode": "lines",
         "x": [
          1,
          2
         ],
         "y": [
          1,
          2
         ],
         "type": "scatter"
        },
        {
         "line": {
          "color": "grey",
          "width": 1
         },
         "mode": "lines",
         "x": [
          1,
          2
         ],
         "y": [
          1,
          0
         ],
         "type": "scatter"
        },
        {
         "line": {
          "color": "grey",
          "width": 1
         },
         "mode": "lines",
         "x": [
          1,
          2
         ],
         "y": [
          -1,
          0
         ],
         "type": "scatter"
        },
        {
         "line": {
          "color": "grey",
          "width": 1
         },
         "mode": "lines",
         "x": [
          1,
          2
         ],
         "y": [
          -1,
          -2
         ],
         "type": "scatter"
        }
       ],
       "layout": {
        "template": {
         "data": {
          "histogram2dcontour": [
           {
            "type": "histogram2dcontour",
            "colorbar": {
             "outlinewidth": 0,
             "ticks": ""
            },
            "colorscale": [
             [
              0.0,
              "#0d0887"
             ],
             [
              0.1111111111111111,
              "#46039f"
             ],
             [
              0.2222222222222222,
              "#7201a8"
             ],
             [
              0.3333333333333333,
              "#9c179e"
             ],
             [
              0.4444444444444444,
              "#bd3786"
             ],
             [
              0.5555555555555556,
              "#d8576b"
             ],
             [
              0.6666666666666666,
              "#ed7953"
             ],
             [
              0.7777777777777778,
              "#fb9f3a"
             ],
             [
              0.8888888888888888,
              "#fdca26"
             ],
             [
              1.0,
              "#f0f921"
             ]
            ]
           }
          ],
          "choropleth": [
           {
            "type": "choropleth",
            "colorbar": {
             "outlinewidth": 0,
             "ticks": ""
            }
           }
          ],
          "histogram2d": [
           {
            "type": "histogram2d",
            "colorbar": {
             "outlinewidth": 0,
             "ticks": ""
            },
            "colorscale": [
             [
              0.0,
              "#0d0887"
             ],
             [
              0.1111111111111111,
              "#46039f"
             ],
             [
              0.2222222222222222,
              "#7201a8"
             ],
             [
              0.3333333333333333,
              "#9c179e"
             ],
             [
              0.4444444444444444,
              "#bd3786"
             ],
             [
              0.5555555555555556,
              "#d8576b"
             ],
             [
              0.6666666666666666,
              "#ed7953"
             ],
             [
              0.7777777777777778,
              "#fb9f3a"
             ],
             [
              0.8888888888888888,
              "#fdca26"
             ],
             [
              1.0,
              "#f0f921"
             ]
            ]
           }
          ],
          "heatmap": [
           {
            "type": "heatmap",
            "colorbar": {
             "outlinewidth": 0,
             "ticks": ""
            },
            "colorscale": [
             [
              0.0,
              "#0d0887"
             ],
             [
              0.1111111111111111,
              "#46039f"
             ],
             [
              0.2222222222222222,
              "#7201a8"
             ],
             [
              0.3333333333333333,
              "#9c179e"
             ],
             [
              0.4444444444444444,
              "#bd3786"
             ],
             [
              0.5555555555555556,
              "#d8576b"
             ],
             [
              0.6666666666666666,
              "#ed7953"
             ],
             [
              0.7777777777777778,
              "#fb9f3a"
             ],
             [
              0.8888888888888888,
              "#fdca26"
             ],
             [
              1.0,
              "#f0f921"
             ]
            ]
           }
          ],
          "heatmapgl": [
           {
            "type": "heatmapgl",
            "colorbar": {
             "outlinewidth": 0,
             "ticks": ""
            },
            "colorscale": [
             [
              0.0,
              "#0d0887"
             ],
             [
              0.1111111111111111,
              "#46039f"
             ],
             [
              0.2222222222222222,
              "#7201a8"
             ],
             [
              0.3333333333333333,
              "#9c179e"
             ],
             [
              0.4444444444444444,
              "#bd3786"
             ],
             [
              0.5555555555555556,
              "#d8576b"
             ],
             [
              0.6666666666666666,
              "#ed7953"
             ],
             [
              0.7777777777777778,
              "#fb9f3a"
             ],
             [
              0.8888888888888888,
              "#fdca26"
             ],
             [
              1.0,
              "#f0f921"
             ]
            ]
           }
          ],
          "contourcarpet": [
           {
            "type": "contourcarpet",
            "colorbar": {
             "outlinewidth": 0,
             "ticks": ""
            }
           }
          ],
          "contour": [
           {
            "type": "contour",
            "colorbar": {
             "outlinewidth": 0,
             "ticks": ""
            },
            "colorscale": [
             [
              0.0,
              "#0d0887"
             ],
             [
              0.1111111111111111,
              "#46039f"
             ],
             [
              0.2222222222222222,
              "#7201a8"
             ],
             [
              0.3333333333333333,
              "#9c179e"
             ],
             [
              0.4444444444444444,
              "#bd3786"
             ],
             [
              0.5555555555555556,
              "#d8576b"
             ],
             [
              0.6666666666666666,
              "#ed7953"
             ],
             [
              0.7777777777777778,
              "#fb9f3a"
             ],
             [
              0.8888888888888888,
              "#fdca26"
             ],
             [
              1.0,
              "#f0f921"
             ]
            ]
           }
          ],
          "surface": [
           {
            "type": "surface",
            "colorbar": {
             "outlinewidth": 0,
             "ticks": ""
            },
            "colorscale": [
             [
              0.0,
              "#0d0887"
             ],
             [
              0.1111111111111111,
              "#46039f"
             ],
             [
              0.2222222222222222,
              "#7201a8"
             ],
             [
              0.3333333333333333,
              "#9c179e"
             ],
             [
              0.4444444444444444,
              "#bd3786"
             ],
             [
              0.5555555555555556,
              "#d8576b"
             ],
             [
              0.6666666666666666,
              "#ed7953"
             ],
             [
              0.7777777777777778,
              "#fb9f3a"
             ],
             [
              0.8888888888888888,
              "#fdca26"
             ],
             [
              1.0,
              "#f0f921"
             ]
            ]
           }
          ],
          "mesh3d": [
           {
            "type": "mesh3d",
            "colorbar": {
             "outlinewidth": 0,
             "ticks": ""
            }
           }
          ],
          "scatter": [
           {
            "marker": {
             "line": {
              "color": "#283442"
             }
            },
            "type": "scatter"
           }
          ],
          "parcoords": [
           {
            "type": "parcoords",
            "line": {
             "colorbar": {
              "outlinewidth": 0,
              "ticks": ""
             }
            }
           }
          ],
          "scatterpolargl": [
           {
            "type": "scatterpolargl",
            "marker": {
             "colorbar": {
              "outlinewidth": 0,
              "ticks": ""
             }
            }
           }
          ],
          "bar": [
           {
            "error_x": {
             "color": "#f2f5fa"
            },
            "error_y": {
             "color": "#f2f5fa"
            },
            "marker": {
             "line": {
              "color": "rgb(17,17,17)",
              "width": 0.5
             },
             "pattern": {
              "fillmode": "overlay",
              "size": 10,
              "solidity": 0.2
             }
            },
            "type": "bar"
           }
          ],
          "scattergeo": [
           {
            "type": "scattergeo",
            "marker": {
             "colorbar": {
              "outlinewidth": 0,
              "ticks": ""
             }
            }
           }
          ],
          "scatterpolar": [
           {
            "type": "scatterpolar",
            "marker": {
             "colorbar": {
              "outlinewidth": 0,
              "ticks": ""
             }
            }
           }
          ],
          "histogram": [
           {
            "marker": {
             "pattern": {
              "fillmode": "overlay",
              "size": 10,
              "solidity": 0.2
             }
            },
            "type": "histogram"
           }
          ],
          "scattergl": [
           {
            "marker": {
             "line": {
              "color": "#283442"
             }
            },
            "type": "scattergl"
           }
          ],
          "scatter3d": [
           {
            "type": "scatter3d",
            "line": {
             "colorbar": {
              "outlinewidth": 0,
              "ticks": ""
             }
            },
            "marker": {
             "colorbar": {
              "outlinewidth": 0,
              "ticks": ""
             }
            }
           }
          ],
          "scattermapbox": [
           {
            "type": "scattermapbox",
            "marker": {
             "colorbar": {
              "outlinewidth": 0,
              "ticks": ""
             }
            }
           }
          ],
          "scatterternary": [
           {
            "type": "scatterternary",
            "marker": {
             "colorbar": {
              "outlinewidth": 0,
              "ticks": ""
             }
            }
           }
          ],
          "scattercarpet": [
           {
            "type": "scattercarpet",
            "marker": {
             "colorbar": {
              "outlinewidth": 0,
              "ticks": ""
             }
            }
           }
          ],
          "carpet": [
           {
            "aaxis": {
             "endlinecolor": "#A2B1C6",
             "gridcolor": "#506784",
             "linecolor": "#506784",
             "minorgridcolor": "#506784",
             "startlinecolor": "#A2B1C6"
            },
            "baxis": {
             "endlinecolor": "#A2B1C6",
             "gridcolor": "#506784",
             "linecolor": "#506784",
             "minorgridcolor": "#506784",
             "startlinecolor": "#A2B1C6"
            },
            "type": "carpet"
           }
          ],
          "table": [
           {
            "cells": {
             "fill": {
              "color": "#506784"
             },
             "line": {
              "color": "rgb(17,17,17)"
             }
            },
            "header": {
             "fill": {
              "color": "#2a3f5f"
             },
             "line": {
              "color": "rgb(17,17,17)"
             }
            },
            "type": "table"
           }
          ],
          "barpolar": [
           {
            "marker": {
             "line": {
              "color": "rgb(17,17,17)",
              "width": 0.5
             },
             "pattern": {
              "fillmode": "overlay",
              "size": 10,
              "solidity": 0.2
             }
            },
            "type": "barpolar"
           }
          ],
          "pie": [
           {
            "automargin": true,
            "type": "pie"
           }
          ]
         },
         "layout": {
          "autotypenumbers": "strict",
          "colorway": [
           "#636efa",
           "#EF553B",
           "#00cc96",
           "#ab63fa",
           "#FFA15A",
           "#19d3f3",
           "#FF6692",
           "#B6E880",
           "#FF97FF",
           "#FECB52"
          ],
          "font": {
           "color": "#f2f5fa"
          },
          "hovermode": "closest",
          "hoverlabel": {
           "align": "left"
          },
          "paper_bgcolor": "rgb(17,17,17)",
          "plot_bgcolor": "rgb(17,17,17)",
          "polar": {
           "bgcolor": "rgb(17,17,17)",
           "angularaxis": {
            "gridcolor": "#506784",
            "linecolor": "#506784",
            "ticks": ""
           },
           "radialaxis": {
            "gridcolor": "#506784",
            "linecolor": "#506784",
            "ticks": ""
           }
          },
          "ternary": {
           "bgcolor": "rgb(17,17,17)",
           "aaxis": {
            "gridcolor": "#506784",
            "linecolor": "#506784",
            "ticks": ""
           },
           "baxis": {
            "gridcolor": "#506784",
            "linecolor": "#506784",
            "ticks": ""
           },
           "caxis": {
            "gridcolor": "#506784",
            "linecolor": "#506784",
            "ticks": ""
           }
          },
          "coloraxis": {
           "colorbar": {
            "outlinewidth": 0,
            "ticks": ""
           }
          },
          "colorscale": {
           "sequential": [
            [
             0.0,
             "#0d0887"
            ],
            [
             0.1111111111111111,
             "#46039f"
            ],
            [
             0.2222222222222222,
             "#7201a8"
            ],
            [
             0.3333333333333333,
             "#9c179e"
            ],
            [
             0.4444444444444444,
             "#bd3786"
            ],
            [
             0.5555555555555556,
             "#d8576b"
            ],
            [
             0.6666666666666666,
             "#ed7953"
            ],
            [
             0.7777777777777778,
             "#fb9f3a"
            ],
            [
             0.8888888888888888,
             "#fdca26"
            ],
            [
             1.0,
             "#f0f921"
            ]
           ],
           "sequentialminus": [
            [
             0.0,
             "#0d0887"
            ],
            [
             0.1111111111111111,
             "#46039f"
            ],
            [
             0.2222222222222222,
             "#7201a8"
            ],
            [
             0.3333333333333333,
             "#9c179e"
            ],
            [
             0.4444444444444444,
             "#bd3786"
            ],
            [
             0.5555555555555556,
             "#d8576b"
            ],
            [
             0.6666666666666666,
             "#ed7953"
            ],
            [
             0.7777777777777778,
             "#fb9f3a"
            ],
            [
             0.8888888888888888,
             "#fdca26"
            ],
            [
             1.0,
             "#f0f921"
            ]
           ],
           "diverging": [
            [
             0,
             "#8e0152"
            ],
            [
             0.1,
             "#c51b7d"
            ],
            [
             0.2,
             "#de77ae"
            ],
            [
             0.3,
             "#f1b6da"
            ],
            [
             0.4,
             "#fde0ef"
            ],
            [
             0.5,
             "#f7f7f7"
            ],
            [
             0.6,
             "#e6f5d0"
            ],
            [
             0.7,
             "#b8e186"
            ],
            [
             0.8,
             "#7fbc41"
            ],
            [
             0.9,
             "#4d9221"
            ],
            [
             1,
             "#276419"
            ]
           ]
          },
          "xaxis": {
           "gridcolor": "#283442",
           "linecolor": "#506784",
           "ticks": "",
           "title": {
            "standoff": 15
           },
           "zerolinecolor": "#283442",
           "automargin": true,
           "zerolinewidth": 2
          },
          "yaxis": {
           "gridcolor": "#283442",
           "linecolor": "#506784",
           "ticks": "",
           "title": {
            "standoff": 15
           },
           "zerolinecolor": "#283442",
           "automargin": true,
           "zerolinewidth": 2
          },
          "scene": {
           "xaxis": {
            "backgroundcolor": "rgb(17,17,17)",
            "gridcolor": "#506784",
            "linecolor": "#506784",
            "showbackground": true,
            "ticks": "",
            "zerolinecolor": "#C8D4E3",
            "gridwidth": 2
           },
           "yaxis": {
            "backgroundcolor": "rgb(17,17,17)",
            "gridcolor": "#506784",
            "linecolor": "#506784",
            "showbackground": true,
            "ticks": "",
            "zerolinecolor": "#C8D4E3",
            "gridwidth": 2
           },
           "zaxis": {
            "backgroundcolor": "rgb(17,17,17)",
            "gridcolor": "#506784",
            "linecolor": "#506784",
            "showbackground": true,
            "ticks": "",
            "zerolinecolor": "#C8D4E3",
            "gridwidth": 2
           }
          },
          "shapedefaults": {
           "line": {
            "color": "#f2f5fa"
           }
          },
          "annotationdefaults": {
           "arrowcolor": "#f2f5fa",
           "arrowhead": 0,
           "arrowwidth": 1
          },
          "geo": {
           "bgcolor": "rgb(17,17,17)",
           "landcolor": "rgb(17,17,17)",
           "subunitcolor": "#506784",
           "showland": true,
           "showlakes": true,
           "lakecolor": "rgb(17,17,17)"
          },
          "title": {
           "x": 0.05
          },
          "updatemenudefaults": {
           "bgcolor": "#506784",
           "borderwidth": 0
          },
          "sliderdefaults": {
           "bgcolor": "#C8D4E3",
           "borderwidth": 1,
           "bordercolor": "rgb(17,17,17)",
           "tickwidth": 0
          },
          "mapbox": {
           "style": "dark"
          }
         }
        },
        "xaxis": {
         "showgrid": false,
         "zeroline": false,
         "showticklabels": false,
         "range": [
          -0.5,
          2.5
         ]
        },
        "yaxis": {
         "showgrid": false,
         "zeroline": false,
         "showticklabels": false,
         "range": [
          -2.5,
          2.5
         ]
        },
        "title": {
         "text": "Binomial Tree - NPV No Expansion"
        },
        "showlegend": false,
        "hovermode": "closest",
        "annotations": [
         {
          "showarrow": false,
          "text": "u=1.16",
          "x": 1,
          "xref": "x",
          "y": 2.5,
          "yref": "y"
         },
         {
          "showarrow": false,
          "text": "d=0.86",
          "x": 1,
          "xref": "x",
          "y": -2.5,
          "yref": "y"
         }
        ]
       },
       "config": {
        "plotlyServerURL": "https://plot.ly"
       }
      },
      "text/html": "<div>                            <div id=\"50de10db-a558-4636-8d42-4e2b43acd712\" class=\"plotly-graph-div\" style=\"height:525px; width:100%;\"></div>            <script type=\"text/javascript\">                require([\"plotly\"], function(Plotly) {                    window.PLOTLYENV=window.PLOTLYENV || {};                                    if (document.getElementById(\"50de10db-a558-4636-8d42-4e2b43acd712\")) {                    Plotly.newPlot(                        \"50de10db-a558-4636-8d42-4e2b43acd712\",                        [{\"marker\":{\"color\":\"skyblue\",\"size\":30},\"mode\":\"markers+text\",\"text\":[\"30.00\",\"34.80\",\"25.80\",\"40.37\",\"29.93\",\"22.19\"],\"textposition\":\"middle center\",\"x\":[0,1,1,2,2,2],\"y\":[0,1,-1,2,0,-2],\"type\":\"scatter\"},{\"line\":{\"color\":\"grey\",\"width\":1},\"mode\":\"lines\",\"x\":[0,1],\"y\":[0,1],\"type\":\"scatter\"},{\"line\":{\"color\":\"grey\",\"width\":1},\"mode\":\"lines\",\"x\":[0,1],\"y\":[0,-1],\"type\":\"scatter\"},{\"line\":{\"color\":\"grey\",\"width\":1},\"mode\":\"lines\",\"x\":[1,2],\"y\":[1,2],\"type\":\"scatter\"},{\"line\":{\"color\":\"grey\",\"width\":1},\"mode\":\"lines\",\"x\":[1,2],\"y\":[1,0],\"type\":\"scatter\"},{\"line\":{\"color\":\"grey\",\"width\":1},\"mode\":\"lines\",\"x\":[1,2],\"y\":[-1,0],\"type\":\"scatter\"},{\"line\":{\"color\":\"grey\",\"width\":1},\"mode\":\"lines\",\"x\":[1,2],\"y\":[-1,-2],\"type\":\"scatter\"}],                        {\"template\":{\"data\":{\"histogram2dcontour\":[{\"type\":\"histogram2dcontour\",\"colorbar\":{\"outlinewidth\":0,\"ticks\":\"\"},\"colorscale\":[[0.0,\"#0d0887\"],[0.1111111111111111,\"#46039f\"],[0.2222222222222222,\"#7201a8\"],[0.3333333333333333,\"#9c179e\"],[0.4444444444444444,\"#bd3786\"],[0.5555555555555556,\"#d8576b\"],[0.6666666666666666,\"#ed7953\"],[0.7777777777777778,\"#fb9f3a\"],[0.8888888888888888,\"#fdca26\"],[1.0,\"#f0f921\"]]}],\"choropleth\":[{\"type\":\"choropleth\",\"colorbar\":{\"outlinewidth\":0,\"ticks\":\"\"}}],\"histogram2d\":[{\"type\":\"histogram2d\",\"colorbar\":{\"outlinewidth\":0,\"ticks\":\"\"},\"colorscale\":[[0.0,\"#0d0887\"],[0.1111111111111111,\"#46039f\"],[0.2222222222222222,\"#7201a8\"],[0.3333333333333333,\"#9c179e\"],[0.4444444444444444,\"#bd3786\"],[0.5555555555555556,\"#d8576b\"],[0.6666666666666666,\"#ed7953\"],[0.7777777777777778,\"#fb9f3a\"],[0.8888888888888888,\"#fdca26\"],[1.0,\"#f0f921\"]]}],\"heatmap\":[{\"type\":\"heatmap\",\"colorbar\":{\"outlinewidth\":0,\"ticks\":\"\"},\"colorscale\":[[0.0,\"#0d0887\"],[0.1111111111111111,\"#46039f\"],[0.2222222222222222,\"#7201a8\"],[0.3333333333333333,\"#9c179e\"],[0.4444444444444444,\"#bd3786\"],[0.5555555555555556,\"#d8576b\"],[0.6666666666666666,\"#ed7953\"],[0.7777777777777778,\"#fb9f3a\"],[0.8888888888888888,\"#fdca26\"],[1.0,\"#f0f921\"]]}],\"heatmapgl\":[{\"type\":\"heatmapgl\",\"colorbar\":{\"outlinewidth\":0,\"ticks\":\"\"},\"colorscale\":[[0.0,\"#0d0887\"],[0.1111111111111111,\"#46039f\"],[0.2222222222222222,\"#7201a8\"],[0.3333333333333333,\"#9c179e\"],[0.4444444444444444,\"#bd3786\"],[0.5555555555555556,\"#d8576b\"],[0.6666666666666666,\"#ed7953\"],[0.7777777777777778,\"#fb9f3a\"],[0.8888888888888888,\"#fdca26\"],[1.0,\"#f0f921\"]]}],\"contourcarpet\":[{\"type\":\"contourcarpet\",\"colorbar\":{\"outlinewidth\":0,\"ticks\":\"\"}}],\"contour\":[{\"type\":\"contour\",\"colorbar\":{\"outlinewidth\":0,\"ticks\":\"\"},\"colorscale\":[[0.0,\"#0d0887\"],[0.1111111111111111,\"#46039f\"],[0.2222222222222222,\"#7201a8\"],[0.3333333333333333,\"#9c179e\"],[0.4444444444444444,\"#bd3786\"],[0.5555555555555556,\"#d8576b\"],[0.6666666666666666,\"#ed7953\"],[0.7777777777777778,\"#fb9f3a\"],[0.8888888888888888,\"#fdca26\"],[1.0,\"#f0f921\"]]}],\"surface\":[{\"type\":\"surface\",\"colorbar\":{\"outlinewidth\":0,\"ticks\":\"\"},\"colorscale\":[[0.0,\"#0d0887\"],[0.1111111111111111,\"#46039f\"],[0.2222222222222222,\"#7201a8\"],[0.3333333333333333,\"#9c179e\"],[0.4444444444444444,\"#bd3786\"],[0.5555555555555556,\"#d8576b\"],[0.6666666666666666,\"#ed7953\"],[0.7777777777777778,\"#fb9f3a\"],[0.8888888888888888,\"#fdca26\"],[1.0,\"#f0f921\"]]}],\"mesh3d\":[{\"type\":\"mesh3d\",\"colorbar\":{\"outlinewidth\":0,\"ticks\":\"\"}}],\"scatter\":[{\"marker\":{\"line\":{\"color\":\"#283442\"}},\"type\":\"scatter\"}],\"parcoords\":[{\"type\":\"parcoords\",\"line\":{\"colorbar\":{\"outlinewidth\":0,\"ticks\":\"\"}}}],\"scatterpolargl\":[{\"type\":\"scatterpolargl\",\"marker\":{\"colorbar\":{\"outlinewidth\":0,\"ticks\":\"\"}}}],\"bar\":[{\"error_x\":{\"color\":\"#f2f5fa\"},\"error_y\":{\"color\":\"#f2f5fa\"},\"marker\":{\"line\":{\"color\":\"rgb(17,17,17)\",\"width\":0.5},\"pattern\":{\"fillmode\":\"overlay\",\"size\":10,\"solidity\":0.2}},\"type\":\"bar\"}],\"scattergeo\":[{\"type\":\"scattergeo\",\"marker\":{\"colorbar\":{\"outlinewidth\":0,\"ticks\":\"\"}}}],\"scatterpolar\":[{\"type\":\"scatterpolar\",\"marker\":{\"colorbar\":{\"outlinewidth\":0,\"ticks\":\"\"}}}],\"histogram\":[{\"marker\":{\"pattern\":{\"fillmode\":\"overlay\",\"size\":10,\"solidity\":0.2}},\"type\":\"histogram\"}],\"scattergl\":[{\"marker\":{\"line\":{\"color\":\"#283442\"}},\"type\":\"scattergl\"}],\"scatter3d\":[{\"type\":\"scatter3d\",\"line\":{\"colorbar\":{\"outlinewidth\":0,\"ticks\":\"\"}},\"marker\":{\"colorbar\":{\"outlinewidth\":0,\"ticks\":\"\"}}}],\"scattermapbox\":[{\"type\":\"scattermapbox\",\"marker\":{\"colorbar\":{\"outlinewidth\":0,\"ticks\":\"\"}}}],\"scatterternary\":[{\"type\":\"scatterternary\",\"marker\":{\"colorbar\":{\"outlinewidth\":0,\"ticks\":\"\"}}}],\"scattercarpet\":[{\"type\":\"scattercarpet\",\"marker\":{\"colorbar\":{\"outlinewidth\":0,\"ticks\":\"\"}}}],\"carpet\":[{\"aaxis\":{\"endlinecolor\":\"#A2B1C6\",\"gridcolor\":\"#506784\",\"linecolor\":\"#506784\",\"minorgridcolor\":\"#506784\",\"startlinecolor\":\"#A2B1C6\"},\"baxis\":{\"endlinecolor\":\"#A2B1C6\",\"gridcolor\":\"#506784\",\"linecolor\":\"#506784\",\"minorgridcolor\":\"#506784\",\"startlinecolor\":\"#A2B1C6\"},\"type\":\"carpet\"}],\"table\":[{\"cells\":{\"fill\":{\"color\":\"#506784\"},\"line\":{\"color\":\"rgb(17,17,17)\"}},\"header\":{\"fill\":{\"color\":\"#2a3f5f\"},\"line\":{\"color\":\"rgb(17,17,17)\"}},\"type\":\"table\"}],\"barpolar\":[{\"marker\":{\"line\":{\"color\":\"rgb(17,17,17)\",\"width\":0.5},\"pattern\":{\"fillmode\":\"overlay\",\"size\":10,\"solidity\":0.2}},\"type\":\"barpolar\"}],\"pie\":[{\"automargin\":true,\"type\":\"pie\"}]},\"layout\":{\"autotypenumbers\":\"strict\",\"colorway\":[\"#636efa\",\"#EF553B\",\"#00cc96\",\"#ab63fa\",\"#FFA15A\",\"#19d3f3\",\"#FF6692\",\"#B6E880\",\"#FF97FF\",\"#FECB52\"],\"font\":{\"color\":\"#f2f5fa\"},\"hovermode\":\"closest\",\"hoverlabel\":{\"align\":\"left\"},\"paper_bgcolor\":\"rgb(17,17,17)\",\"plot_bgcolor\":\"rgb(17,17,17)\",\"polar\":{\"bgcolor\":\"rgb(17,17,17)\",\"angularaxis\":{\"gridcolor\":\"#506784\",\"linecolor\":\"#506784\",\"ticks\":\"\"},\"radialaxis\":{\"gridcolor\":\"#506784\",\"linecolor\":\"#506784\",\"ticks\":\"\"}},\"ternary\":{\"bgcolor\":\"rgb(17,17,17)\",\"aaxis\":{\"gridcolor\":\"#506784\",\"linecolor\":\"#506784\",\"ticks\":\"\"},\"baxis\":{\"gridcolor\":\"#506784\",\"linecolor\":\"#506784\",\"ticks\":\"\"},\"caxis\":{\"gridcolor\":\"#506784\",\"linecolor\":\"#506784\",\"ticks\":\"\"}},\"coloraxis\":{\"colorbar\":{\"outlinewidth\":0,\"ticks\":\"\"}},\"colorscale\":{\"sequential\":[[0.0,\"#0d0887\"],[0.1111111111111111,\"#46039f\"],[0.2222222222222222,\"#7201a8\"],[0.3333333333333333,\"#9c179e\"],[0.4444444444444444,\"#bd3786\"],[0.5555555555555556,\"#d8576b\"],[0.6666666666666666,\"#ed7953\"],[0.7777777777777778,\"#fb9f3a\"],[0.8888888888888888,\"#fdca26\"],[1.0,\"#f0f921\"]],\"sequentialminus\":[[0.0,\"#0d0887\"],[0.1111111111111111,\"#46039f\"],[0.2222222222222222,\"#7201a8\"],[0.3333333333333333,\"#9c179e\"],[0.4444444444444444,\"#bd3786\"],[0.5555555555555556,\"#d8576b\"],[0.6666666666666666,\"#ed7953\"],[0.7777777777777778,\"#fb9f3a\"],[0.8888888888888888,\"#fdca26\"],[1.0,\"#f0f921\"]],\"diverging\":[[0,\"#8e0152\"],[0.1,\"#c51b7d\"],[0.2,\"#de77ae\"],[0.3,\"#f1b6da\"],[0.4,\"#fde0ef\"],[0.5,\"#f7f7f7\"],[0.6,\"#e6f5d0\"],[0.7,\"#b8e186\"],[0.8,\"#7fbc41\"],[0.9,\"#4d9221\"],[1,\"#276419\"]]},\"xaxis\":{\"gridcolor\":\"#283442\",\"linecolor\":\"#506784\",\"ticks\":\"\",\"title\":{\"standoff\":15},\"zerolinecolor\":\"#283442\",\"automargin\":true,\"zerolinewidth\":2},\"yaxis\":{\"gridcolor\":\"#283442\",\"linecolor\":\"#506784\",\"ticks\":\"\",\"title\":{\"standoff\":15},\"zerolinecolor\":\"#283442\",\"automargin\":true,\"zerolinewidth\":2},\"scene\":{\"xaxis\":{\"backgroundcolor\":\"rgb(17,17,17)\",\"gridcolor\":\"#506784\",\"linecolor\":\"#506784\",\"showbackground\":true,\"ticks\":\"\",\"zerolinecolor\":\"#C8D4E3\",\"gridwidth\":2},\"yaxis\":{\"backgroundcolor\":\"rgb(17,17,17)\",\"gridcolor\":\"#506784\",\"linecolor\":\"#506784\",\"showbackground\":true,\"ticks\":\"\",\"zerolinecolor\":\"#C8D4E3\",\"gridwidth\":2},\"zaxis\":{\"backgroundcolor\":\"rgb(17,17,17)\",\"gridcolor\":\"#506784\",\"linecolor\":\"#506784\",\"showbackground\":true,\"ticks\":\"\",\"zerolinecolor\":\"#C8D4E3\",\"gridwidth\":2}},\"shapedefaults\":{\"line\":{\"color\":\"#f2f5fa\"}},\"annotationdefaults\":{\"arrowcolor\":\"#f2f5fa\",\"arrowhead\":0,\"arrowwidth\":1},\"geo\":{\"bgcolor\":\"rgb(17,17,17)\",\"landcolor\":\"rgb(17,17,17)\",\"subunitcolor\":\"#506784\",\"showland\":true,\"showlakes\":true,\"lakecolor\":\"rgb(17,17,17)\"},\"title\":{\"x\":0.05},\"updatemenudefaults\":{\"bgcolor\":\"#506784\",\"borderwidth\":0},\"sliderdefaults\":{\"bgcolor\":\"#C8D4E3\",\"borderwidth\":1,\"bordercolor\":\"rgb(17,17,17)\",\"tickwidth\":0},\"mapbox\":{\"style\":\"dark\"}}},\"xaxis\":{\"showgrid\":false,\"zeroline\":false,\"showticklabels\":false,\"range\":[-0.5,2.5]},\"yaxis\":{\"showgrid\":false,\"zeroline\":false,\"showticklabels\":false,\"range\":[-2.5,2.5]},\"title\":{\"text\":\"Binomial Tree - NPV No Expansion\"},\"showlegend\":false,\"hovermode\":\"closest\",\"annotations\":[{\"showarrow\":false,\"text\":\"u=1.16\",\"x\":1,\"xref\":\"x\",\"y\":2.5,\"yref\":\"y\"},{\"showarrow\":false,\"text\":\"d=0.86\",\"x\":1,\"xref\":\"x\",\"y\":-2.5,\"yref\":\"y\"}]},                        {\"responsive\": true}                    ).then(function(){\n                            \nvar gd = document.getElementById('50de10db-a558-4636-8d42-4e2b43acd712');\nvar x = new MutationObserver(function (mutations, observer) {{\n        var display = window.getComputedStyle(gd).display;\n        if (!display || display === 'none') {{\n            console.log([gd, 'removed!']);\n            Plotly.purge(gd);\n            observer.disconnect();\n        }}\n}});\n\n// Listen for the removal of the full notebook cells\nvar notebookContainer = gd.closest('#notebook-container');\nif (notebookContainer) {{\n    x.observe(notebookContainer, {childList: true});\n}}\n\n// Listen for the clearing of the current output cell\nvar outputEl = gd.closest('.output');\nif (outputEl) {{\n    x.observe(outputEl, {childList: true});\n}}\n\n                        })                };                });            </script>        </div>"
     },
     "metadata": {},
     "output_type": "display_data"
    }
   ],
   "execution_count": 170
  },
  {
   "metadata": {},
   "cell_type": "markdown",
   "source": [
    "# Real Options Analysis (ROA)"
   ],
   "id": "98f57832876101f3"
  },
  {
   "metadata": {},
   "cell_type": "markdown",
   "source": [
    "Types of Real Options:\n",
    "* **Expansion option**: Growth option on an underlying asset that assumes precommitment of\n",
    "a series of investments to growing demand over time\n",
    "    * American call with 'cost of expandable investment' as exercise price and 'multiple of\n",
    "the value of the underlying risky asset' as option value\n",
    "* **Contraction option**: Option to receive cash for partially giving up the use of asset\n",
    "    * American put with present value of cash as exercise price and fraction of the value of\n",
    "operations given up as value of the underlying\n",
    "* **Abandonment option**: Right to sell an asset for given price, which can change through\n",
    "time rather than continuing to hold it (American put)\n",
    "* **Extension option**: Allows manager to pay a cost for the ability to extend the life of a\n",
    "project (European call with cost of extension as exercise price)\n",
    "* **Deferral option**: Right to postpone the start of a project (American call)\n",
    "* **Switching option**: Right to turn a project on and off\n",
    "* **Compound options**: Options on options"
   ],
   "id": "38532b85cbb45ad0"
  },
  {
   "metadata": {
    "ExecuteTime": {
     "end_time": "2024-07-30T11:45:29.505642Z",
     "start_time": "2024-07-30T11:45:29.501038Z"
    }
   },
   "cell_type": "code",
   "source": [
    "def calculate_ROA(sig, V, T, n, rf, A, i):\n",
    "    '''\n",
    "    Calculates the Real Options Analysis (ROA) decision tree\n",
    "    Parameters\n",
    "    ----------\n",
    "    sig: float\n",
    "        volatility\n",
    "    V: float\n",
    "        present value w/o flexibility\n",
    "    T: float\n",
    "        time to maturity (in years)\n",
    "    n: int\n",
    "        steps in the tree\n",
    "    rf: float\n",
    "        risk-free rate\n",
    "    A: float\n",
    "        additional investment\n",
    "    i: float\n",
    "        increase in value caused by investment A\n",
    "    \n",
    "    Returns\n",
    "    -------\n",
    "    dict\n",
    "        A dictionary containing all calculated values and decisions\n",
    "    '''\n",
    "    u = round(math.exp(sig * math.sqrt(T / n)), 2)\n",
    "    d = round(1 / u, 2)\n",
    "\n",
    "    uV = round(u * V, 2)\n",
    "    dV = round(d * V, 2)\n",
    "    uuV = round(u * uV, 2)\n",
    "    udV = round(u * dV, 2)\n",
    "    ddV = round(d * dV, 2)\n",
    "\n",
    "    p = round((1 + rf - d) / (u - d), 2)\n",
    "\n",
    "    ROAuu = round(max(uuV, i * uuV - A), 2)\n",
    "    print(udV)\n",
    "    ROAud = round(max(udV, i * udV - A), 2)\n",
    "    ROAdd = round(max(ddV, i * ddV - A), 2)\n",
    "\n",
    "    uucmd = \"don't expand\" if ROAuu > i * uuV - A else \"expand\"\n",
    "    udcmd = \"don't expand\" if ROAud > i * udV - A else \"expand\"\n",
    "    ddcmd = \"don't expand\" if ROAdd > i * ddV - A else \"expand\"\n",
    "\n",
    "    ROAu = round(max((p * ROAuu + (1 - p) * ROAud) / (1 + rf), i * uV - A), 2)\n",
    "    ROAd = round(max((p * ROAud + (1 - p) * ROAdd) / (1 + rf), i * dV - A), 2)\n",
    "\n",
    "    ucmd = \"don't expand\" if ROAu > i * uV - A else \"expand\"\n",
    "    dcmd = \"don't expand\" if ROAd > i * dV - A else \"expand\"\n",
    "\n",
    "    ROA = round((p * ROAu + (1 - p) * ROAd) / (1 + rf), 2)\n",
    "\n",
    "    return {\n",
    "        'ROA': round(ROA, 2),\n",
    "        'u': round(u, 2), 'd': round(d, 2), 'p': round(p, 2),\n",
    "        'uV': uV, 'dV': dV, 'uuV': uuV, 'udV': udV, 'ddV': ddV,\n",
    "        'ROAu': ROAu, 'ROAd': ROAd, 'ROAuu': ROAuu, 'ROAud': ROAud, 'ROAdd': ROAdd,\n",
    "        'ucmd': ucmd, 'dcmd': dcmd, 'uucmd': uucmd, 'udcmd': udcmd, 'ddcmd': ddcmd\n",
    "    }"
   ],
   "id": "f6f444241465b1b0",
   "outputs": [],
   "execution_count": 176
  },
  {
   "metadata": {
    "ExecuteTime": {
     "end_time": "2024-07-30T11:45:31.211423Z",
     "start_time": "2024-07-30T11:45:31.206366Z"
    }
   },
   "cell_type": "code",
   "source": [
    "def plot_ROA_tree(results):\n",
    "    '''\n",
    "    Plots the ROA decision tree using Plotly\n",
    "    Parameters\n",
    "    ----------\n",
    "    results: dict\n",
    "        Dictionary containing the calculated values from calculate_ROA\n",
    "    '''\n",
    "    # Create nodes for the tree\n",
    "    nodes = [\n",
    "        (0, 0, f\"{results['ROA']:.2f}\"),\n",
    "        (1, 1, f\"{results['ROAu']:.2f}\\n{results['ucmd']}\"),\n",
    "        (1, -1, f\"{results['ROAd']:.2f}\\n{results['dcmd']}\"),\n",
    "        (2, 2, f\"{results['ROAuu']:.2f}\\n{results['uucmd']}\"),\n",
    "        (2, 0, f\"{results['ROAud']:.2f}\\n{results['udcmd']}\"),\n",
    "        (2, -2, f\"{results['ROAdd']:.2f}\\n{results['ddcmd']}\")\n",
    "    ]\n",
    "\n",
    "    # Create edges\n",
    "    edges = [\n",
    "        (0, 1), (0, 2), (1, 3), (1, 4), (2, 4), (2, 5)\n",
    "    ]\n",
    "\n",
    "    # Create figure\n",
    "    fig = go.Figure()\n",
    "\n",
    "    # Add nodes\n",
    "    node_x, node_y, node_text = zip(*nodes)\n",
    "    fig.add_trace(go.Scatter(\n",
    "        x=node_x, y=node_y,\n",
    "        mode='markers+text',\n",
    "        marker=dict(size=40, color='lightblue'),\n",
    "        text=node_text,\n",
    "        textposition='middle center'\n",
    "    ))\n",
    "\n",
    "    # Add edges\n",
    "    for edge in edges:\n",
    "        fig.add_trace(go.Scatter(\n",
    "            x=[nodes[edge[0]][0], nodes[edge[1]][0]],\n",
    "            y=[nodes[edge[0]][1], nodes[edge[1]][1]],\n",
    "            mode='lines',\n",
    "            line=dict(color='grey', width=1)\n",
    "        ))\n",
    "\n",
    "    # Update layout\n",
    "    fig.update_layout(\n",
    "        title='ROA Decision Tree',\n",
    "        showlegend=False,\n",
    "        hovermode='closest',\n",
    "        xaxis=dict(showgrid=False, zeroline=False, showticklabels=False, range=[-0.5, 2.5]),\n",
    "        yaxis=dict(showgrid=False, zeroline=False, showticklabels=False, range=[-2.5, 2.5]),\n",
    "        annotations=[\n",
    "            dict(x=1, y=2.5, xref=\"x\", yref=\"y\", text=f\"u={results['u']:.4f}, p={results['p']:.4f}\", showarrow=False),\n",
    "            dict(x=1, y=-2.5, xref=\"x\", yref=\"y\", text=f\"d={results['d']:.4f}, 1-p={1 - results['p']:.4f}\",\n",
    "                 showarrow=False)\n",
    "        ]\n",
    "    )\n",
    "\n",
    "    # Show the plot\n",
    "    fig.show()"
   ],
   "id": "230a72e91f4b1fbf",
   "outputs": [],
   "execution_count": 177
  },
  {
   "metadata": {
    "ExecuteTime": {
     "end_time": "2024-07-30T11:45:32.602774Z",
     "start_time": "2024-07-30T11:45:32.591911Z"
    }
   },
   "cell_type": "code",
   "source": [
    "# Example usage\n",
    "# I - Initial investment\n",
    "I = 20\n",
    "# sig - volatility\n",
    "sig = 0.15\n",
    "# V - present value w/o flexibility\n",
    "V = 30\n",
    "# T - time to maturity (in years)\n",
    "T = 2\n",
    "# n - steps in the tree\n",
    "n = 2\n",
    "# rf - risk-free rate\n",
    "rf = 0.05\n",
    "# A - additional investment\n",
    "A = 5\n",
    "# i - increase in value caused by investment A (20% increase -> 1.2)\n",
    "i = 1.2\n",
    "\n",
    "# Calculate ROA\n",
    "results = calculate_ROA(sig, V, T, n, rf, A, i)\n",
    "\n",
    "# Print results\n",
    "print(f\"ROA = {results['ROA']:.2f}\")\n",
    "print(f\"u = {results['u']:.2f}, d = {results['d']:.2f}\")\n",
    "print(f\"p = {results['p']:.2f}\")\n",
    "print(f\"ROA NPV: {results['ROA'] - I:.2f}\")\n",
    "\n",
    "# Plot the ROA decision tree\n",
    "plot_ROA_tree(results)"
   ],
   "id": "653b18255fa728c1",
   "outputs": [
    {
     "name": "stdout",
     "output_type": "stream",
     "text": [
      "29.93\n",
      "ROA = 31.47\n",
      "u = 1.16, d = 0.86\n",
      "p = 0.63\n",
      "ROA NPV: 11.47\n"
     ]
    },
    {
     "data": {
      "application/vnd.plotly.v1+json": {
       "data": [
        {
         "marker": {
          "color": "lightblue",
          "size": 40
         },
         "mode": "markers+text",
         "text": [
          "31.47",
          "36.96\ndon't expand",
          "26.37\ndon't expand",
          "43.44\nexpand",
          "30.92\ndon't expand",
          "22.19\ndon't expand"
         ],
         "textposition": "middle center",
         "x": [
          0,
          1,
          1,
          2,
          2,
          2
         ],
         "y": [
          0,
          1,
          -1,
          2,
          0,
          -2
         ],
         "type": "scatter"
        },
        {
         "line": {
          "color": "grey",
          "width": 1
         },
         "mode": "lines",
         "x": [
          0,
          1
         ],
         "y": [
          0,
          1
         ],
         "type": "scatter"
        },
        {
         "line": {
          "color": "grey",
          "width": 1
         },
         "mode": "lines",
         "x": [
          0,
          1
         ],
         "y": [
          0,
          -1
         ],
         "type": "scatter"
        },
        {
         "line": {
          "color": "grey",
          "width": 1
         },
         "mode": "lines",
         "x": [
          1,
          2
         ],
         "y": [
          1,
          2
         ],
         "type": "scatter"
        },
        {
         "line": {
          "color": "grey",
          "width": 1
         },
         "mode": "lines",
         "x": [
          1,
          2
         ],
         "y": [
          1,
          0
         ],
         "type": "scatter"
        },
        {
         "line": {
          "color": "grey",
          "width": 1
         },
         "mode": "lines",
         "x": [
          1,
          2
         ],
         "y": [
          -1,
          0
         ],
         "type": "scatter"
        },
        {
         "line": {
          "color": "grey",
          "width": 1
         },
         "mode": "lines",
         "x": [
          1,
          2
         ],
         "y": [
          -1,
          -2
         ],
         "type": "scatter"
        }
       ],
       "layout": {
        "template": {
         "data": {
          "histogram2dcontour": [
           {
            "type": "histogram2dcontour",
            "colorbar": {
             "outlinewidth": 0,
             "ticks": ""
            },
            "colorscale": [
             [
              0.0,
              "#0d0887"
             ],
             [
              0.1111111111111111,
              "#46039f"
             ],
             [
              0.2222222222222222,
              "#7201a8"
             ],
             [
              0.3333333333333333,
              "#9c179e"
             ],
             [
              0.4444444444444444,
              "#bd3786"
             ],
             [
              0.5555555555555556,
              "#d8576b"
             ],
             [
              0.6666666666666666,
              "#ed7953"
             ],
             [
              0.7777777777777778,
              "#fb9f3a"
             ],
             [
              0.8888888888888888,
              "#fdca26"
             ],
             [
              1.0,
              "#f0f921"
             ]
            ]
           }
          ],
          "choropleth": [
           {
            "type": "choropleth",
            "colorbar": {
             "outlinewidth": 0,
             "ticks": ""
            }
           }
          ],
          "histogram2d": [
           {
            "type": "histogram2d",
            "colorbar": {
             "outlinewidth": 0,
             "ticks": ""
            },
            "colorscale": [
             [
              0.0,
              "#0d0887"
             ],
             [
              0.1111111111111111,
              "#46039f"
             ],
             [
              0.2222222222222222,
              "#7201a8"
             ],
             [
              0.3333333333333333,
              "#9c179e"
             ],
             [
              0.4444444444444444,
              "#bd3786"
             ],
             [
              0.5555555555555556,
              "#d8576b"
             ],
             [
              0.6666666666666666,
              "#ed7953"
             ],
             [
              0.7777777777777778,
              "#fb9f3a"
             ],
             [
              0.8888888888888888,
              "#fdca26"
             ],
             [
              1.0,
              "#f0f921"
             ]
            ]
           }
          ],
          "heatmap": [
           {
            "type": "heatmap",
            "colorbar": {
             "outlinewidth": 0,
             "ticks": ""
            },
            "colorscale": [
             [
              0.0,
              "#0d0887"
             ],
             [
              0.1111111111111111,
              "#46039f"
             ],
             [
              0.2222222222222222,
              "#7201a8"
             ],
             [
              0.3333333333333333,
              "#9c179e"
             ],
             [
              0.4444444444444444,
              "#bd3786"
             ],
             [
              0.5555555555555556,
              "#d8576b"
             ],
             [
              0.6666666666666666,
              "#ed7953"
             ],
             [
              0.7777777777777778,
              "#fb9f3a"
             ],
             [
              0.8888888888888888,
              "#fdca26"
             ],
             [
              1.0,
              "#f0f921"
             ]
            ]
           }
          ],
          "heatmapgl": [
           {
            "type": "heatmapgl",
            "colorbar": {
             "outlinewidth": 0,
             "ticks": ""
            },
            "colorscale": [
             [
              0.0,
              "#0d0887"
             ],
             [
              0.1111111111111111,
              "#46039f"
             ],
             [
              0.2222222222222222,
              "#7201a8"
             ],
             [
              0.3333333333333333,
              "#9c179e"
             ],
             [
              0.4444444444444444,
              "#bd3786"
             ],
             [
              0.5555555555555556,
              "#d8576b"
             ],
             [
              0.6666666666666666,
              "#ed7953"
             ],
             [
              0.7777777777777778,
              "#fb9f3a"
             ],
             [
              0.8888888888888888,
              "#fdca26"
             ],
             [
              1.0,
              "#f0f921"
             ]
            ]
           }
          ],
          "contourcarpet": [
           {
            "type": "contourcarpet",
            "colorbar": {
             "outlinewidth": 0,
             "ticks": ""
            }
           }
          ],
          "contour": [
           {
            "type": "contour",
            "colorbar": {
             "outlinewidth": 0,
             "ticks": ""
            },
            "colorscale": [
             [
              0.0,
              "#0d0887"
             ],
             [
              0.1111111111111111,
              "#46039f"
             ],
             [
              0.2222222222222222,
              "#7201a8"
             ],
             [
              0.3333333333333333,
              "#9c179e"
             ],
             [
              0.4444444444444444,
              "#bd3786"
             ],
             [
              0.5555555555555556,
              "#d8576b"
             ],
             [
              0.6666666666666666,
              "#ed7953"
             ],
             [
              0.7777777777777778,
              "#fb9f3a"
             ],
             [
              0.8888888888888888,
              "#fdca26"
             ],
             [
              1.0,
              "#f0f921"
             ]
            ]
           }
          ],
          "surface": [
           {
            "type": "surface",
            "colorbar": {
             "outlinewidth": 0,
             "ticks": ""
            },
            "colorscale": [
             [
              0.0,
              "#0d0887"
             ],
             [
              0.1111111111111111,
              "#46039f"
             ],
             [
              0.2222222222222222,
              "#7201a8"
             ],
             [
              0.3333333333333333,
              "#9c179e"
             ],
             [
              0.4444444444444444,
              "#bd3786"
             ],
             [
              0.5555555555555556,
              "#d8576b"
             ],
             [
              0.6666666666666666,
              "#ed7953"
             ],
             [
              0.7777777777777778,
              "#fb9f3a"
             ],
             [
              0.8888888888888888,
              "#fdca26"
             ],
             [
              1.0,
              "#f0f921"
             ]
            ]
           }
          ],
          "mesh3d": [
           {
            "type": "mesh3d",
            "colorbar": {
             "outlinewidth": 0,
             "ticks": ""
            }
           }
          ],
          "scatter": [
           {
            "marker": {
             "line": {
              "color": "#283442"
             }
            },
            "type": "scatter"
           }
          ],
          "parcoords": [
           {
            "type": "parcoords",
            "line": {
             "colorbar": {
              "outlinewidth": 0,
              "ticks": ""
             }
            }
           }
          ],
          "scatterpolargl": [
           {
            "type": "scatterpolargl",
            "marker": {
             "colorbar": {
              "outlinewidth": 0,
              "ticks": ""
             }
            }
           }
          ],
          "bar": [
           {
            "error_x": {
             "color": "#f2f5fa"
            },
            "error_y": {
             "color": "#f2f5fa"
            },
            "marker": {
             "line": {
              "color": "rgb(17,17,17)",
              "width": 0.5
             },
             "pattern": {
              "fillmode": "overlay",
              "size": 10,
              "solidity": 0.2
             }
            },
            "type": "bar"
           }
          ],
          "scattergeo": [
           {
            "type": "scattergeo",
            "marker": {
             "colorbar": {
              "outlinewidth": 0,
              "ticks": ""
             }
            }
           }
          ],
          "scatterpolar": [
           {
            "type": "scatterpolar",
            "marker": {
             "colorbar": {
              "outlinewidth": 0,
              "ticks": ""
             }
            }
           }
          ],
          "histogram": [
           {
            "marker": {
             "pattern": {
              "fillmode": "overlay",
              "size": 10,
              "solidity": 0.2
             }
            },
            "type": "histogram"
           }
          ],
          "scattergl": [
           {
            "marker": {
             "line": {
              "color": "#283442"
             }
            },
            "type": "scattergl"
           }
          ],
          "scatter3d": [
           {
            "type": "scatter3d",
            "line": {
             "colorbar": {
              "outlinewidth": 0,
              "ticks": ""
             }
            },
            "marker": {
             "colorbar": {
              "outlinewidth": 0,
              "ticks": ""
             }
            }
           }
          ],
          "scattermapbox": [
           {
            "type": "scattermapbox",
            "marker": {
             "colorbar": {
              "outlinewidth": 0,
              "ticks": ""
             }
            }
           }
          ],
          "scatterternary": [
           {
            "type": "scatterternary",
            "marker": {
             "colorbar": {
              "outlinewidth": 0,
              "ticks": ""
             }
            }
           }
          ],
          "scattercarpet": [
           {
            "type": "scattercarpet",
            "marker": {
             "colorbar": {
              "outlinewidth": 0,
              "ticks": ""
             }
            }
           }
          ],
          "carpet": [
           {
            "aaxis": {
             "endlinecolor": "#A2B1C6",
             "gridcolor": "#506784",
             "linecolor": "#506784",
             "minorgridcolor": "#506784",
             "startlinecolor": "#A2B1C6"
            },
            "baxis": {
             "endlinecolor": "#A2B1C6",
             "gridcolor": "#506784",
             "linecolor": "#506784",
             "minorgridcolor": "#506784",
             "startlinecolor": "#A2B1C6"
            },
            "type": "carpet"
           }
          ],
          "table": [
           {
            "cells": {
             "fill": {
              "color": "#506784"
             },
             "line": {
              "color": "rgb(17,17,17)"
             }
            },
            "header": {
             "fill": {
              "color": "#2a3f5f"
             },
             "line": {
              "color": "rgb(17,17,17)"
             }
            },
            "type": "table"
           }
          ],
          "barpolar": [
           {
            "marker": {
             "line": {
              "color": "rgb(17,17,17)",
              "width": 0.5
             },
             "pattern": {
              "fillmode": "overlay",
              "size": 10,
              "solidity": 0.2
             }
            },
            "type": "barpolar"
           }
          ],
          "pie": [
           {
            "automargin": true,
            "type": "pie"
           }
          ]
         },
         "layout": {
          "autotypenumbers": "strict",
          "colorway": [
           "#636efa",
           "#EF553B",
           "#00cc96",
           "#ab63fa",
           "#FFA15A",
           "#19d3f3",
           "#FF6692",
           "#B6E880",
           "#FF97FF",
           "#FECB52"
          ],
          "font": {
           "color": "#f2f5fa"
          },
          "hovermode": "closest",
          "hoverlabel": {
           "align": "left"
          },
          "paper_bgcolor": "rgb(17,17,17)",
          "plot_bgcolor": "rgb(17,17,17)",
          "polar": {
           "bgcolor": "rgb(17,17,17)",
           "angularaxis": {
            "gridcolor": "#506784",
            "linecolor": "#506784",
            "ticks": ""
           },
           "radialaxis": {
            "gridcolor": "#506784",
            "linecolor": "#506784",
            "ticks": ""
           }
          },
          "ternary": {
           "bgcolor": "rgb(17,17,17)",
           "aaxis": {
            "gridcolor": "#506784",
            "linecolor": "#506784",
            "ticks": ""
           },
           "baxis": {
            "gridcolor": "#506784",
            "linecolor": "#506784",
            "ticks": ""
           },
           "caxis": {
            "gridcolor": "#506784",
            "linecolor": "#506784",
            "ticks": ""
           }
          },
          "coloraxis": {
           "colorbar": {
            "outlinewidth": 0,
            "ticks": ""
           }
          },
          "colorscale": {
           "sequential": [
            [
             0.0,
             "#0d0887"
            ],
            [
             0.1111111111111111,
             "#46039f"
            ],
            [
             0.2222222222222222,
             "#7201a8"
            ],
            [
             0.3333333333333333,
             "#9c179e"
            ],
            [
             0.4444444444444444,
             "#bd3786"
            ],
            [
             0.5555555555555556,
             "#d8576b"
            ],
            [
             0.6666666666666666,
             "#ed7953"
            ],
            [
             0.7777777777777778,
             "#fb9f3a"
            ],
            [
             0.8888888888888888,
             "#fdca26"
            ],
            [
             1.0,
             "#f0f921"
            ]
           ],
           "sequentialminus": [
            [
             0.0,
             "#0d0887"
            ],
            [
             0.1111111111111111,
             "#46039f"
            ],
            [
             0.2222222222222222,
             "#7201a8"
            ],
            [
             0.3333333333333333,
             "#9c179e"
            ],
            [
             0.4444444444444444,
             "#bd3786"
            ],
            [
             0.5555555555555556,
             "#d8576b"
            ],
            [
             0.6666666666666666,
             "#ed7953"
            ],
            [
             0.7777777777777778,
             "#fb9f3a"
            ],
            [
             0.8888888888888888,
             "#fdca26"
            ],
            [
             1.0,
             "#f0f921"
            ]
           ],
           "diverging": [
            [
             0,
             "#8e0152"
            ],
            [
             0.1,
             "#c51b7d"
            ],
            [
             0.2,
             "#de77ae"
            ],
            [
             0.3,
             "#f1b6da"
            ],
            [
             0.4,
             "#fde0ef"
            ],
            [
             0.5,
             "#f7f7f7"
            ],
            [
             0.6,
             "#e6f5d0"
            ],
            [
             0.7,
             "#b8e186"
            ],
            [
             0.8,
             "#7fbc41"
            ],
            [
             0.9,
             "#4d9221"
            ],
            [
             1,
             "#276419"
            ]
           ]
          },
          "xaxis": {
           "gridcolor": "#283442",
           "linecolor": "#506784",
           "ticks": "",
           "title": {
            "standoff": 15
           },
           "zerolinecolor": "#283442",
           "automargin": true,
           "zerolinewidth": 2
          },
          "yaxis": {
           "gridcolor": "#283442",
           "linecolor": "#506784",
           "ticks": "",
           "title": {
            "standoff": 15
           },
           "zerolinecolor": "#283442",
           "automargin": true,
           "zerolinewidth": 2
          },
          "scene": {
           "xaxis": {
            "backgroundcolor": "rgb(17,17,17)",
            "gridcolor": "#506784",
            "linecolor": "#506784",
            "showbackground": true,
            "ticks": "",
            "zerolinecolor": "#C8D4E3",
            "gridwidth": 2
           },
           "yaxis": {
            "backgroundcolor": "rgb(17,17,17)",
            "gridcolor": "#506784",
            "linecolor": "#506784",
            "showbackground": true,
            "ticks": "",
            "zerolinecolor": "#C8D4E3",
            "gridwidth": 2
           },
           "zaxis": {
            "backgroundcolor": "rgb(17,17,17)",
            "gridcolor": "#506784",
            "linecolor": "#506784",
            "showbackground": true,
            "ticks": "",
            "zerolinecolor": "#C8D4E3",
            "gridwidth": 2
           }
          },
          "shapedefaults": {
           "line": {
            "color": "#f2f5fa"
           }
          },
          "annotationdefaults": {
           "arrowcolor": "#f2f5fa",
           "arrowhead": 0,
           "arrowwidth": 1
          },
          "geo": {
           "bgcolor": "rgb(17,17,17)",
           "landcolor": "rgb(17,17,17)",
           "subunitcolor": "#506784",
           "showland": true,
           "showlakes": true,
           "lakecolor": "rgb(17,17,17)"
          },
          "title": {
           "x": 0.05
          },
          "updatemenudefaults": {
           "bgcolor": "#506784",
           "borderwidth": 0
          },
          "sliderdefaults": {
           "bgcolor": "#C8D4E3",
           "borderwidth": 1,
           "bordercolor": "rgb(17,17,17)",
           "tickwidth": 0
          },
          "mapbox": {
           "style": "dark"
          }
         }
        },
        "xaxis": {
         "showgrid": false,
         "zeroline": false,
         "showticklabels": false,
         "range": [
          -0.5,
          2.5
         ]
        },
        "yaxis": {
         "showgrid": false,
         "zeroline": false,
         "showticklabels": false,
         "range": [
          -2.5,
          2.5
         ]
        },
        "title": {
         "text": "ROA Decision Tree"
        },
        "showlegend": false,
        "hovermode": "closest",
        "annotations": [
         {
          "showarrow": false,
          "text": "u=1.1600, p=0.6300",
          "x": 1,
          "xref": "x",
          "y": 2.5,
          "yref": "y"
         },
         {
          "showarrow": false,
          "text": "d=0.8600, 1-p=0.3700",
          "x": 1,
          "xref": "x",
          "y": -2.5,
          "yref": "y"
         }
        ]
       },
       "config": {
        "plotlyServerURL": "https://plot.ly"
       }
      },
      "text/html": "<div>                            <div id=\"f6912f7c-8eba-4b65-b821-defcb5f7e83b\" class=\"plotly-graph-div\" style=\"height:525px; width:100%;\"></div>            <script type=\"text/javascript\">                require([\"plotly\"], function(Plotly) {                    window.PLOTLYENV=window.PLOTLYENV || {};                                    if (document.getElementById(\"f6912f7c-8eba-4b65-b821-defcb5f7e83b\")) {                    Plotly.newPlot(                        \"f6912f7c-8eba-4b65-b821-defcb5f7e83b\",                        [{\"marker\":{\"color\":\"lightblue\",\"size\":40},\"mode\":\"markers+text\",\"text\":[\"31.47\",\"36.96\\ndon't expand\",\"26.37\\ndon't expand\",\"43.44\\nexpand\",\"30.92\\ndon't expand\",\"22.19\\ndon't expand\"],\"textposition\":\"middle center\",\"x\":[0,1,1,2,2,2],\"y\":[0,1,-1,2,0,-2],\"type\":\"scatter\"},{\"line\":{\"color\":\"grey\",\"width\":1},\"mode\":\"lines\",\"x\":[0,1],\"y\":[0,1],\"type\":\"scatter\"},{\"line\":{\"color\":\"grey\",\"width\":1},\"mode\":\"lines\",\"x\":[0,1],\"y\":[0,-1],\"type\":\"scatter\"},{\"line\":{\"color\":\"grey\",\"width\":1},\"mode\":\"lines\",\"x\":[1,2],\"y\":[1,2],\"type\":\"scatter\"},{\"line\":{\"color\":\"grey\",\"width\":1},\"mode\":\"lines\",\"x\":[1,2],\"y\":[1,0],\"type\":\"scatter\"},{\"line\":{\"color\":\"grey\",\"width\":1},\"mode\":\"lines\",\"x\":[1,2],\"y\":[-1,0],\"type\":\"scatter\"},{\"line\":{\"color\":\"grey\",\"width\":1},\"mode\":\"lines\",\"x\":[1,2],\"y\":[-1,-2],\"type\":\"scatter\"}],                        {\"template\":{\"data\":{\"histogram2dcontour\":[{\"type\":\"histogram2dcontour\",\"colorbar\":{\"outlinewidth\":0,\"ticks\":\"\"},\"colorscale\":[[0.0,\"#0d0887\"],[0.1111111111111111,\"#46039f\"],[0.2222222222222222,\"#7201a8\"],[0.3333333333333333,\"#9c179e\"],[0.4444444444444444,\"#bd3786\"],[0.5555555555555556,\"#d8576b\"],[0.6666666666666666,\"#ed7953\"],[0.7777777777777778,\"#fb9f3a\"],[0.8888888888888888,\"#fdca26\"],[1.0,\"#f0f921\"]]}],\"choropleth\":[{\"type\":\"choropleth\",\"colorbar\":{\"outlinewidth\":0,\"ticks\":\"\"}}],\"histogram2d\":[{\"type\":\"histogram2d\",\"colorbar\":{\"outlinewidth\":0,\"ticks\":\"\"},\"colorscale\":[[0.0,\"#0d0887\"],[0.1111111111111111,\"#46039f\"],[0.2222222222222222,\"#7201a8\"],[0.3333333333333333,\"#9c179e\"],[0.4444444444444444,\"#bd3786\"],[0.5555555555555556,\"#d8576b\"],[0.6666666666666666,\"#ed7953\"],[0.7777777777777778,\"#fb9f3a\"],[0.8888888888888888,\"#fdca26\"],[1.0,\"#f0f921\"]]}],\"heatmap\":[{\"type\":\"heatmap\",\"colorbar\":{\"outlinewidth\":0,\"ticks\":\"\"},\"colorscale\":[[0.0,\"#0d0887\"],[0.1111111111111111,\"#46039f\"],[0.2222222222222222,\"#7201a8\"],[0.3333333333333333,\"#9c179e\"],[0.4444444444444444,\"#bd3786\"],[0.5555555555555556,\"#d8576b\"],[0.6666666666666666,\"#ed7953\"],[0.7777777777777778,\"#fb9f3a\"],[0.8888888888888888,\"#fdca26\"],[1.0,\"#f0f921\"]]}],\"heatmapgl\":[{\"type\":\"heatmapgl\",\"colorbar\":{\"outlinewidth\":0,\"ticks\":\"\"},\"colorscale\":[[0.0,\"#0d0887\"],[0.1111111111111111,\"#46039f\"],[0.2222222222222222,\"#7201a8\"],[0.3333333333333333,\"#9c179e\"],[0.4444444444444444,\"#bd3786\"],[0.5555555555555556,\"#d8576b\"],[0.6666666666666666,\"#ed7953\"],[0.7777777777777778,\"#fb9f3a\"],[0.8888888888888888,\"#fdca26\"],[1.0,\"#f0f921\"]]}],\"contourcarpet\":[{\"type\":\"contourcarpet\",\"colorbar\":{\"outlinewidth\":0,\"ticks\":\"\"}}],\"contour\":[{\"type\":\"contour\",\"colorbar\":{\"outlinewidth\":0,\"ticks\":\"\"},\"colorscale\":[[0.0,\"#0d0887\"],[0.1111111111111111,\"#46039f\"],[0.2222222222222222,\"#7201a8\"],[0.3333333333333333,\"#9c179e\"],[0.4444444444444444,\"#bd3786\"],[0.5555555555555556,\"#d8576b\"],[0.6666666666666666,\"#ed7953\"],[0.7777777777777778,\"#fb9f3a\"],[0.8888888888888888,\"#fdca26\"],[1.0,\"#f0f921\"]]}],\"surface\":[{\"type\":\"surface\",\"colorbar\":{\"outlinewidth\":0,\"ticks\":\"\"},\"colorscale\":[[0.0,\"#0d0887\"],[0.1111111111111111,\"#46039f\"],[0.2222222222222222,\"#7201a8\"],[0.3333333333333333,\"#9c179e\"],[0.4444444444444444,\"#bd3786\"],[0.5555555555555556,\"#d8576b\"],[0.6666666666666666,\"#ed7953\"],[0.7777777777777778,\"#fb9f3a\"],[0.8888888888888888,\"#fdca26\"],[1.0,\"#f0f921\"]]}],\"mesh3d\":[{\"type\":\"mesh3d\",\"colorbar\":{\"outlinewidth\":0,\"ticks\":\"\"}}],\"scatter\":[{\"marker\":{\"line\":{\"color\":\"#283442\"}},\"type\":\"scatter\"}],\"parcoords\":[{\"type\":\"parcoords\",\"line\":{\"colorbar\":{\"outlinewidth\":0,\"ticks\":\"\"}}}],\"scatterpolargl\":[{\"type\":\"scatterpolargl\",\"marker\":{\"colorbar\":{\"outlinewidth\":0,\"ticks\":\"\"}}}],\"bar\":[{\"error_x\":{\"color\":\"#f2f5fa\"},\"error_y\":{\"color\":\"#f2f5fa\"},\"marker\":{\"line\":{\"color\":\"rgb(17,17,17)\",\"width\":0.5},\"pattern\":{\"fillmode\":\"overlay\",\"size\":10,\"solidity\":0.2}},\"type\":\"bar\"}],\"scattergeo\":[{\"type\":\"scattergeo\",\"marker\":{\"colorbar\":{\"outlinewidth\":0,\"ticks\":\"\"}}}],\"scatterpolar\":[{\"type\":\"scatterpolar\",\"marker\":{\"colorbar\":{\"outlinewidth\":0,\"ticks\":\"\"}}}],\"histogram\":[{\"marker\":{\"pattern\":{\"fillmode\":\"overlay\",\"size\":10,\"solidity\":0.2}},\"type\":\"histogram\"}],\"scattergl\":[{\"marker\":{\"line\":{\"color\":\"#283442\"}},\"type\":\"scattergl\"}],\"scatter3d\":[{\"type\":\"scatter3d\",\"line\":{\"colorbar\":{\"outlinewidth\":0,\"ticks\":\"\"}},\"marker\":{\"colorbar\":{\"outlinewidth\":0,\"ticks\":\"\"}}}],\"scattermapbox\":[{\"type\":\"scattermapbox\",\"marker\":{\"colorbar\":{\"outlinewidth\":0,\"ticks\":\"\"}}}],\"scatterternary\":[{\"type\":\"scatterternary\",\"marker\":{\"colorbar\":{\"outlinewidth\":0,\"ticks\":\"\"}}}],\"scattercarpet\":[{\"type\":\"scattercarpet\",\"marker\":{\"colorbar\":{\"outlinewidth\":0,\"ticks\":\"\"}}}],\"carpet\":[{\"aaxis\":{\"endlinecolor\":\"#A2B1C6\",\"gridcolor\":\"#506784\",\"linecolor\":\"#506784\",\"minorgridcolor\":\"#506784\",\"startlinecolor\":\"#A2B1C6\"},\"baxis\":{\"endlinecolor\":\"#A2B1C6\",\"gridcolor\":\"#506784\",\"linecolor\":\"#506784\",\"minorgridcolor\":\"#506784\",\"startlinecolor\":\"#A2B1C6\"},\"type\":\"carpet\"}],\"table\":[{\"cells\":{\"fill\":{\"color\":\"#506784\"},\"line\":{\"color\":\"rgb(17,17,17)\"}},\"header\":{\"fill\":{\"color\":\"#2a3f5f\"},\"line\":{\"color\":\"rgb(17,17,17)\"}},\"type\":\"table\"}],\"barpolar\":[{\"marker\":{\"line\":{\"color\":\"rgb(17,17,17)\",\"width\":0.5},\"pattern\":{\"fillmode\":\"overlay\",\"size\":10,\"solidity\":0.2}},\"type\":\"barpolar\"}],\"pie\":[{\"automargin\":true,\"type\":\"pie\"}]},\"layout\":{\"autotypenumbers\":\"strict\",\"colorway\":[\"#636efa\",\"#EF553B\",\"#00cc96\",\"#ab63fa\",\"#FFA15A\",\"#19d3f3\",\"#FF6692\",\"#B6E880\",\"#FF97FF\",\"#FECB52\"],\"font\":{\"color\":\"#f2f5fa\"},\"hovermode\":\"closest\",\"hoverlabel\":{\"align\":\"left\"},\"paper_bgcolor\":\"rgb(17,17,17)\",\"plot_bgcolor\":\"rgb(17,17,17)\",\"polar\":{\"bgcolor\":\"rgb(17,17,17)\",\"angularaxis\":{\"gridcolor\":\"#506784\",\"linecolor\":\"#506784\",\"ticks\":\"\"},\"radialaxis\":{\"gridcolor\":\"#506784\",\"linecolor\":\"#506784\",\"ticks\":\"\"}},\"ternary\":{\"bgcolor\":\"rgb(17,17,17)\",\"aaxis\":{\"gridcolor\":\"#506784\",\"linecolor\":\"#506784\",\"ticks\":\"\"},\"baxis\":{\"gridcolor\":\"#506784\",\"linecolor\":\"#506784\",\"ticks\":\"\"},\"caxis\":{\"gridcolor\":\"#506784\",\"linecolor\":\"#506784\",\"ticks\":\"\"}},\"coloraxis\":{\"colorbar\":{\"outlinewidth\":0,\"ticks\":\"\"}},\"colorscale\":{\"sequential\":[[0.0,\"#0d0887\"],[0.1111111111111111,\"#46039f\"],[0.2222222222222222,\"#7201a8\"],[0.3333333333333333,\"#9c179e\"],[0.4444444444444444,\"#bd3786\"],[0.5555555555555556,\"#d8576b\"],[0.6666666666666666,\"#ed7953\"],[0.7777777777777778,\"#fb9f3a\"],[0.8888888888888888,\"#fdca26\"],[1.0,\"#f0f921\"]],\"sequentialminus\":[[0.0,\"#0d0887\"],[0.1111111111111111,\"#46039f\"],[0.2222222222222222,\"#7201a8\"],[0.3333333333333333,\"#9c179e\"],[0.4444444444444444,\"#bd3786\"],[0.5555555555555556,\"#d8576b\"],[0.6666666666666666,\"#ed7953\"],[0.7777777777777778,\"#fb9f3a\"],[0.8888888888888888,\"#fdca26\"],[1.0,\"#f0f921\"]],\"diverging\":[[0,\"#8e0152\"],[0.1,\"#c51b7d\"],[0.2,\"#de77ae\"],[0.3,\"#f1b6da\"],[0.4,\"#fde0ef\"],[0.5,\"#f7f7f7\"],[0.6,\"#e6f5d0\"],[0.7,\"#b8e186\"],[0.8,\"#7fbc41\"],[0.9,\"#4d9221\"],[1,\"#276419\"]]},\"xaxis\":{\"gridcolor\":\"#283442\",\"linecolor\":\"#506784\",\"ticks\":\"\",\"title\":{\"standoff\":15},\"zerolinecolor\":\"#283442\",\"automargin\":true,\"zerolinewidth\":2},\"yaxis\":{\"gridcolor\":\"#283442\",\"linecolor\":\"#506784\",\"ticks\":\"\",\"title\":{\"standoff\":15},\"zerolinecolor\":\"#283442\",\"automargin\":true,\"zerolinewidth\":2},\"scene\":{\"xaxis\":{\"backgroundcolor\":\"rgb(17,17,17)\",\"gridcolor\":\"#506784\",\"linecolor\":\"#506784\",\"showbackground\":true,\"ticks\":\"\",\"zerolinecolor\":\"#C8D4E3\",\"gridwidth\":2},\"yaxis\":{\"backgroundcolor\":\"rgb(17,17,17)\",\"gridcolor\":\"#506784\",\"linecolor\":\"#506784\",\"showbackground\":true,\"ticks\":\"\",\"zerolinecolor\":\"#C8D4E3\",\"gridwidth\":2},\"zaxis\":{\"backgroundcolor\":\"rgb(17,17,17)\",\"gridcolor\":\"#506784\",\"linecolor\":\"#506784\",\"showbackground\":true,\"ticks\":\"\",\"zerolinecolor\":\"#C8D4E3\",\"gridwidth\":2}},\"shapedefaults\":{\"line\":{\"color\":\"#f2f5fa\"}},\"annotationdefaults\":{\"arrowcolor\":\"#f2f5fa\",\"arrowhead\":0,\"arrowwidth\":1},\"geo\":{\"bgcolor\":\"rgb(17,17,17)\",\"landcolor\":\"rgb(17,17,17)\",\"subunitcolor\":\"#506784\",\"showland\":true,\"showlakes\":true,\"lakecolor\":\"rgb(17,17,17)\"},\"title\":{\"x\":0.05},\"updatemenudefaults\":{\"bgcolor\":\"#506784\",\"borderwidth\":0},\"sliderdefaults\":{\"bgcolor\":\"#C8D4E3\",\"borderwidth\":1,\"bordercolor\":\"rgb(17,17,17)\",\"tickwidth\":0},\"mapbox\":{\"style\":\"dark\"}}},\"xaxis\":{\"showgrid\":false,\"zeroline\":false,\"showticklabels\":false,\"range\":[-0.5,2.5]},\"yaxis\":{\"showgrid\":false,\"zeroline\":false,\"showticklabels\":false,\"range\":[-2.5,2.5]},\"title\":{\"text\":\"ROA Decision Tree\"},\"showlegend\":false,\"hovermode\":\"closest\",\"annotations\":[{\"showarrow\":false,\"text\":\"u=1.1600, p=0.6300\",\"x\":1,\"xref\":\"x\",\"y\":2.5,\"yref\":\"y\"},{\"showarrow\":false,\"text\":\"d=0.8600, 1-p=0.3700\",\"x\":1,\"xref\":\"x\",\"y\":-2.5,\"yref\":\"y\"}]},                        {\"responsive\": true}                    ).then(function(){\n                            \nvar gd = document.getElementById('f6912f7c-8eba-4b65-b821-defcb5f7e83b');\nvar x = new MutationObserver(function (mutations, observer) {{\n        var display = window.getComputedStyle(gd).display;\n        if (!display || display === 'none') {{\n            console.log([gd, 'removed!']);\n            Plotly.purge(gd);\n            observer.disconnect();\n        }}\n}});\n\n// Listen for the removal of the full notebook cells\nvar notebookContainer = gd.closest('#notebook-container');\nif (notebookContainer) {{\n    x.observe(notebookContainer, {childList: true});\n}}\n\n// Listen for the clearing of the current output cell\nvar outputEl = gd.closest('.output');\nif (outputEl) {{\n    x.observe(outputEl, {childList: true});\n}}\n\n                        })                };                });            </script>        </div>"
     },
     "metadata": {},
     "output_type": "display_data"
    }
   ],
   "execution_count": 178
  },
  {
   "metadata": {},
   "cell_type": "markdown",
   "source": [
    "## Decision Tree Analysis (DTA)"
   ],
   "id": "21b8cd27b0313eea"
  },
  {
   "metadata": {},
   "cell_type": "markdown",
   "source": [
    "Uses WACC with the real options\n",
    "\n",
    "$q = \\frac{1 + WACC - d}{u -d}$\n",
    "\n",
    "or\n",
    "\n",
    "$V_0 = \\frac{qV_q + (1 - q)V_d}{1 + WACC}$\n",
    "\n",
    "To do the analysis, we first need to calculate the values w/o flexibility, we then analyze the option from the final step backwards\n",
    "\n",
    "1) The calculations of the final step are easy: just do $max(Vuu, expansion*Vuu - price)$, and decide if expansion is beneficial or not\n",
    "2) On the next step, we calculate the weighted average of values (weighted with q, physical probaility; corrected by $1 + WACC$, risk-neutral rate)"
   ],
   "id": "59c26345c2133bf5"
  },
  {
   "metadata": {
    "ExecuteTime": {
     "end_time": "2024-07-29T21:06:09.396881Z",
     "start_time": "2024-07-29T21:06:09.392961Z"
    }
   },
   "cell_type": "code",
   "source": [
    "def in_out_PV(uI, dI, uO, dO, In, Out, rf, q=None, risk_type='neutral'):\n",
    "    p = (1 + rf - d) / (u - d)\n",
    "    if risk_type == 'adjusted':\n",
    "        rf = q * (u - d) + d - 1\n",
    "        p = q\n",
    "\n",
    "    uIn = In * uI\n",
    "    dIn = In * dI\n",
    "    udIn = uIn * dI\n",
    "    uuIn = uIn * uI\n",
    "    ddIn = dIn * dI\n",
    "    uOut = Out * uO\n",
    "    dOut = Out * dO\n",
    "    udOut = uOut * dO\n",
    "    uuOut = uOut * uO\n",
    "    ddOut = dOut * dO\n",
    "    PV_In = (p ** 2 * uuIn + 2 * p * (1 - p) * udIn + (1 - p) ** 2 * ddIn) / (1 + rf) ** 2 + (\n",
    "                p * uIn + (1 - p - q) * dIn) / (1 + rf)\n",
    "    PV_Out = (p ** 2 * uuOut + 2 * p * (1 - p) * udOut + (1 - p) ** 2 * ddOut) / (1 + rf) ** 2 + (\n",
    "                p * uOut + (1 - p - q) * dOut) / (1 + rf)\n",
    "    return PV_In - PV_Out"
   ],
   "id": "f4b5b4c1b598199",
   "outputs": [],
   "execution_count": 26
  },
  {
   "metadata": {
    "ExecuteTime": {
     "end_time": "2024-07-29T21:06:10.679379Z",
     "start_time": "2024-07-29T21:06:10.582473Z"
    }
   },
   "cell_type": "code",
   "source": [
    "uI = 1.8\n",
    "dI = 0.6\n",
    "uO = 1.5\n",
    "dO = 0.8\n",
    "In = 55\n",
    "Out = 50\n",
    "rf = 0.08\n",
    "q = 1 / 2\n",
    "in_out_PV(uI, dI, uO, dO, In, Out, rf, q)"
   ],
   "id": "3faaa4442637ee4c",
   "outputs": [
    {
     "ename": "NameError",
     "evalue": "name 'd' is not defined",
     "output_type": "error",
     "traceback": [
      "\u001B[0;31m---------------------------------------------------------------------------\u001B[0m",
      "\u001B[0;31mNameError\u001B[0m                                 Traceback (most recent call last)",
      "Cell \u001B[0;32mIn[27], line 9\u001B[0m\n\u001B[1;32m      7\u001B[0m rf \u001B[38;5;241m=\u001B[39m \u001B[38;5;241m0.08\u001B[39m\n\u001B[1;32m      8\u001B[0m q \u001B[38;5;241m=\u001B[39m \u001B[38;5;241m1\u001B[39m\u001B[38;5;241m/\u001B[39m\u001B[38;5;241m2\u001B[39m\n\u001B[0;32m----> 9\u001B[0m in_out_PV(uI, dI, uO, dO, In, Out, rf, q)\n",
      "Cell \u001B[0;32mIn[26], line 2\u001B[0m, in \u001B[0;36min_out_PV\u001B[0;34m(uI, dI, uO, dO, In, Out, rf, q, risk_type)\u001B[0m\n\u001B[1;32m      1\u001B[0m \u001B[38;5;28;01mdef\u001B[39;00m \u001B[38;5;21min_out_PV\u001B[39m(uI, dI, uO, dO, In, Out, rf, q\u001B[38;5;241m=\u001B[39m\u001B[38;5;28;01mNone\u001B[39;00m, risk_type\u001B[38;5;241m=\u001B[39m\u001B[38;5;124m'\u001B[39m\u001B[38;5;124mneutral\u001B[39m\u001B[38;5;124m'\u001B[39m):\n\u001B[0;32m----> 2\u001B[0m     p \u001B[38;5;241m=\u001B[39m (\u001B[38;5;241m1\u001B[39m \u001B[38;5;241m+\u001B[39m rf \u001B[38;5;241m-\u001B[39m d)\u001B[38;5;241m/\u001B[39m(u \u001B[38;5;241m-\u001B[39m d)\n\u001B[1;32m      3\u001B[0m     \u001B[38;5;28;01mif\u001B[39;00m risk_type\u001B[38;5;241m==\u001B[39m\u001B[38;5;124m'\u001B[39m\u001B[38;5;124madjusted\u001B[39m\u001B[38;5;124m'\u001B[39m:\n\u001B[1;32m      4\u001B[0m         rf \u001B[38;5;241m=\u001B[39m q\u001B[38;5;241m*\u001B[39m(u \u001B[38;5;241m-\u001B[39m d) \u001B[38;5;241m+\u001B[39m d \u001B[38;5;241m-\u001B[39m \u001B[38;5;241m1\u001B[39m\n",
      "\u001B[0;31mNameError\u001B[0m: name 'd' is not defined"
     ]
    }
   ],
   "execution_count": 27
  },
  {
   "metadata": {
    "ExecuteTime": {
     "end_time": "2024-07-29T21:08:43.166973Z",
     "start_time": "2024-07-29T21:08:43.162645Z"
    }
   },
   "cell_type": "code",
   "source": [
    "def calculate_DTA_no_flex(V0, sig, T, n, WACC):\n",
    "    '''\n",
    "    Calculates the DTA tree without flexibility\n",
    "    Parameters\n",
    "    ----------\n",
    "    V0: float\n",
    "        present fair-value of the project\n",
    "    sig: float\n",
    "        volatility\n",
    "    T: float\n",
    "        time (in years)\n",
    "    n: int\n",
    "        steps in the tree\n",
    "    WACC: float\n",
    "        risk-neutral rate\n",
    "    \n",
    "    Returns\n",
    "    -------\n",
    "    dict\n",
    "        A dictionary containing all calculated values\n",
    "    '''\n",
    "    u = round(math.exp(sig * math.sqrt(T / n)), 4)\n",
    "    d = round(1 / u, 4)\n",
    "\n",
    "    uV = round(u * V0, 2)\n",
    "    dV = round(d * V0, 2)\n",
    "    uuV = round(u * uV, 2)\n",
    "    udV = round(u * dV, 2)\n",
    "    ddV = round(d * dV, 2)\n",
    "\n",
    "    q = round((1 + WACC - d) / (u - d), 4)\n",
    "\n",
    "    return {\n",
    "        'V0': round(V0, 2),\n",
    "        'u': round(u, 2), 'd': round(d, 2), 'q': round(q, 2),\n",
    "        'uV': round(uV), 'dV': round(dV, 2),\n",
    "        'uuV': round(uuV, 2), 'udV': round(udV, 2), 'ddV': round(ddV, 2)\n",
    "    }"
   ],
   "id": "6221eb31eb0b71b1",
   "outputs": [],
   "execution_count": 31
  },
  {
   "metadata": {
    "ExecuteTime": {
     "end_time": "2024-07-29T21:07:23.117370Z",
     "start_time": "2024-07-29T21:07:23.111598Z"
    }
   },
   "cell_type": "code",
   "source": [
    "def plot_DTA_no_flex(results):\n",
    "    '''\n",
    "    Plots the DTA tree without flexibility using Plotly\n",
    "    Parameters\n",
    "    ----------\n",
    "    results: dict\n",
    "        Dictionary containing the calculated values from calculate_DTA_no_flex\n",
    "    '''\n",
    "    # Create nodes for the tree\n",
    "    nodes = [\n",
    "        (0, 0, f\"{results['V0']:.2f}\"),\n",
    "        (1, 1, f\"{results['uV']:.2f}\"),\n",
    "        (1, -1, f\"{results['dV']:.2f}\"),\n",
    "        (2, 2, f\"{results['uuV']:.2f}\"),\n",
    "        (2, 0, f\"{results['udV']:.2f}\"),\n",
    "        (2, -2, f\"{results['ddV']:.2f}\")\n",
    "    ]\n",
    "\n",
    "    # Create edges\n",
    "    edges = [\n",
    "        (0, 1), (0, 2), (1, 3), (1, 4), (2, 4), (2, 5)\n",
    "    ]\n",
    "\n",
    "    # Create figure\n",
    "    fig = go.Figure()\n",
    "\n",
    "    # Add nodes\n",
    "    node_x, node_y, node_text = zip(*nodes)\n",
    "    fig.add_trace(go.Scatter(\n",
    "        x=node_x, y=node_y,\n",
    "        mode='markers+text',\n",
    "        marker=dict(size=40, color='lightgreen'),\n",
    "        text=node_text,\n",
    "        textposition='middle center'\n",
    "    ))\n",
    "\n",
    "    # Add edges\n",
    "    for edge in edges:\n",
    "        fig.add_trace(go.Scatter(\n",
    "            x=[nodes[edge[0]][0], nodes[edge[1]][0]],\n",
    "            y=[nodes[edge[0]][1], nodes[edge[1]][1]],\n",
    "            mode='lines',\n",
    "            line=dict(color='grey', width=1)\n",
    "        ))\n",
    "\n",
    "    # Update layout\n",
    "    fig.update_layout(\n",
    "        title='DTA Tree without Flexibility',\n",
    "        showlegend=False,\n",
    "        hovermode='closest',\n",
    "        xaxis=dict(showgrid=False, zeroline=False, showticklabels=False, range=[-0.5, 2.5]),\n",
    "        yaxis=dict(showgrid=False, zeroline=False, showticklabels=False, range=[-2.5, 2.5]),\n",
    "        annotations=[\n",
    "            dict(x=1, y=2.5, xref=\"x\", yref=\"y\", text=f\"u={results['u']:.4f}, q={results['q']:.4f}\", showarrow=False),\n",
    "            dict(x=1, y=-2.5, xref=\"x\", yref=\"y\", text=f\"d={results['d']:.4f}, 1-q={1 - results['q']:.4f}\",\n",
    "                 showarrow=False)\n",
    "        ]\n",
    "    )\n",
    "\n",
    "    # Show the plot\n",
    "    fig.show()"
   ],
   "id": "ca5b1944148fe149",
   "outputs": [],
   "execution_count": 29
  },
  {
   "metadata": {
    "ExecuteTime": {
     "end_time": "2024-07-29T21:09:00.248287Z",
     "start_time": "2024-07-29T21:09:00.237363Z"
    }
   },
   "cell_type": "code",
   "source": [
    "# Example usage\n",
    "WACC = 0.12\n",
    "i = 80  # investment\n",
    "T = 2  # years\n",
    "n = 2  # steps in the tree\n",
    "V0 = 100  # initial projected value of the project\n",
    "sig = 0.2  # volatility\n",
    "rf = 0.05  # risk-free\n",
    "\n",
    "# Calculate DTA without flexibility\n",
    "results = calculate_DTA_no_flex(V0, sig, T, n, WACC)\n",
    "\n",
    "# Print results\n",
    "print(f\"u = {results['u']:.2f}, d = {results['d']:.2f}\")\n",
    "print(f\"q = {results['q']:.2f}\")\n",
    "print(f\"Initial Value (V0) = {results['V0']:.2f}\")\n",
    "print(f\"Final Values: uuV = {results['uuV']:.2f}, udV = {results['udV']:.2f}, ddV = {results['ddV']:.2f}\")\n",
    "\n",
    "# Plot the DTA tree without flexibility\n",
    "plot_DTA_no_flex(results)"
   ],
   "id": "74a26995aa373e88",
   "outputs": [
    {
     "name": "stdout",
     "output_type": "stream",
     "text": [
      "u = 1.22, d = 0.82\n",
      "q = 0.75\n",
      "Initial Value (V0) = 100.00\n",
      "Final Values: uuV = 149.18, udV = 100.00, ddV = 67.03\n"
     ]
    },
    {
     "data": {
      "application/vnd.plotly.v1+json": {
       "data": [
        {
         "marker": {
          "color": "lightgreen",
          "size": 40
         },
         "mode": "markers+text",
         "text": [
          "100.00",
          "122.00",
          "81.87",
          "149.18",
          "100.00",
          "67.03"
         ],
         "textposition": "middle center",
         "x": [
          0,
          1,
          1,
          2,
          2,
          2
         ],
         "y": [
          0,
          1,
          -1,
          2,
          0,
          -2
         ],
         "type": "scatter"
        },
        {
         "line": {
          "color": "grey",
          "width": 1
         },
         "mode": "lines",
         "x": [
          0,
          1
         ],
         "y": [
          0,
          1
         ],
         "type": "scatter"
        },
        {
         "line": {
          "color": "grey",
          "width": 1
         },
         "mode": "lines",
         "x": [
          0,
          1
         ],
         "y": [
          0,
          -1
         ],
         "type": "scatter"
        },
        {
         "line": {
          "color": "grey",
          "width": 1
         },
         "mode": "lines",
         "x": [
          1,
          2
         ],
         "y": [
          1,
          2
         ],
         "type": "scatter"
        },
        {
         "line": {
          "color": "grey",
          "width": 1
         },
         "mode": "lines",
         "x": [
          1,
          2
         ],
         "y": [
          1,
          0
         ],
         "type": "scatter"
        },
        {
         "line": {
          "color": "grey",
          "width": 1
         },
         "mode": "lines",
         "x": [
          1,
          2
         ],
         "y": [
          -1,
          0
         ],
         "type": "scatter"
        },
        {
         "line": {
          "color": "grey",
          "width": 1
         },
         "mode": "lines",
         "x": [
          1,
          2
         ],
         "y": [
          -1,
          -2
         ],
         "type": "scatter"
        }
       ],
       "layout": {
        "template": {
         "data": {
          "histogram2dcontour": [
           {
            "type": "histogram2dcontour",
            "colorbar": {
             "outlinewidth": 0,
             "ticks": ""
            },
            "colorscale": [
             [
              0.0,
              "#0d0887"
             ],
             [
              0.1111111111111111,
              "#46039f"
             ],
             [
              0.2222222222222222,
              "#7201a8"
             ],
             [
              0.3333333333333333,
              "#9c179e"
             ],
             [
              0.4444444444444444,
              "#bd3786"
             ],
             [
              0.5555555555555556,
              "#d8576b"
             ],
             [
              0.6666666666666666,
              "#ed7953"
             ],
             [
              0.7777777777777778,
              "#fb9f3a"
             ],
             [
              0.8888888888888888,
              "#fdca26"
             ],
             [
              1.0,
              "#f0f921"
             ]
            ]
           }
          ],
          "choropleth": [
           {
            "type": "choropleth",
            "colorbar": {
             "outlinewidth": 0,
             "ticks": ""
            }
           }
          ],
          "histogram2d": [
           {
            "type": "histogram2d",
            "colorbar": {
             "outlinewidth": 0,
             "ticks": ""
            },
            "colorscale": [
             [
              0.0,
              "#0d0887"
             ],
             [
              0.1111111111111111,
              "#46039f"
             ],
             [
              0.2222222222222222,
              "#7201a8"
             ],
             [
              0.3333333333333333,
              "#9c179e"
             ],
             [
              0.4444444444444444,
              "#bd3786"
             ],
             [
              0.5555555555555556,
              "#d8576b"
             ],
             [
              0.6666666666666666,
              "#ed7953"
             ],
             [
              0.7777777777777778,
              "#fb9f3a"
             ],
             [
              0.8888888888888888,
              "#fdca26"
             ],
             [
              1.0,
              "#f0f921"
             ]
            ]
           }
          ],
          "heatmap": [
           {
            "type": "heatmap",
            "colorbar": {
             "outlinewidth": 0,
             "ticks": ""
            },
            "colorscale": [
             [
              0.0,
              "#0d0887"
             ],
             [
              0.1111111111111111,
              "#46039f"
             ],
             [
              0.2222222222222222,
              "#7201a8"
             ],
             [
              0.3333333333333333,
              "#9c179e"
             ],
             [
              0.4444444444444444,
              "#bd3786"
             ],
             [
              0.5555555555555556,
              "#d8576b"
             ],
             [
              0.6666666666666666,
              "#ed7953"
             ],
             [
              0.7777777777777778,
              "#fb9f3a"
             ],
             [
              0.8888888888888888,
              "#fdca26"
             ],
             [
              1.0,
              "#f0f921"
             ]
            ]
           }
          ],
          "heatmapgl": [
           {
            "type": "heatmapgl",
            "colorbar": {
             "outlinewidth": 0,
             "ticks": ""
            },
            "colorscale": [
             [
              0.0,
              "#0d0887"
             ],
             [
              0.1111111111111111,
              "#46039f"
             ],
             [
              0.2222222222222222,
              "#7201a8"
             ],
             [
              0.3333333333333333,
              "#9c179e"
             ],
             [
              0.4444444444444444,
              "#bd3786"
             ],
             [
              0.5555555555555556,
              "#d8576b"
             ],
             [
              0.6666666666666666,
              "#ed7953"
             ],
             [
              0.7777777777777778,
              "#fb9f3a"
             ],
             [
              0.8888888888888888,
              "#fdca26"
             ],
             [
              1.0,
              "#f0f921"
             ]
            ]
           }
          ],
          "contourcarpet": [
           {
            "type": "contourcarpet",
            "colorbar": {
             "outlinewidth": 0,
             "ticks": ""
            }
           }
          ],
          "contour": [
           {
            "type": "contour",
            "colorbar": {
             "outlinewidth": 0,
             "ticks": ""
            },
            "colorscale": [
             [
              0.0,
              "#0d0887"
             ],
             [
              0.1111111111111111,
              "#46039f"
             ],
             [
              0.2222222222222222,
              "#7201a8"
             ],
             [
              0.3333333333333333,
              "#9c179e"
             ],
             [
              0.4444444444444444,
              "#bd3786"
             ],
             [
              0.5555555555555556,
              "#d8576b"
             ],
             [
              0.6666666666666666,
              "#ed7953"
             ],
             [
              0.7777777777777778,
              "#fb9f3a"
             ],
             [
              0.8888888888888888,
              "#fdca26"
             ],
             [
              1.0,
              "#f0f921"
             ]
            ]
           }
          ],
          "surface": [
           {
            "type": "surface",
            "colorbar": {
             "outlinewidth": 0,
             "ticks": ""
            },
            "colorscale": [
             [
              0.0,
              "#0d0887"
             ],
             [
              0.1111111111111111,
              "#46039f"
             ],
             [
              0.2222222222222222,
              "#7201a8"
             ],
             [
              0.3333333333333333,
              "#9c179e"
             ],
             [
              0.4444444444444444,
              "#bd3786"
             ],
             [
              0.5555555555555556,
              "#d8576b"
             ],
             [
              0.6666666666666666,
              "#ed7953"
             ],
             [
              0.7777777777777778,
              "#fb9f3a"
             ],
             [
              0.8888888888888888,
              "#fdca26"
             ],
             [
              1.0,
              "#f0f921"
             ]
            ]
           }
          ],
          "mesh3d": [
           {
            "type": "mesh3d",
            "colorbar": {
             "outlinewidth": 0,
             "ticks": ""
            }
           }
          ],
          "scatter": [
           {
            "fillpattern": {
             "fillmode": "overlay",
             "size": 10,
             "solidity": 0.2
            },
            "type": "scatter"
           }
          ],
          "parcoords": [
           {
            "type": "parcoords",
            "line": {
             "colorbar": {
              "outlinewidth": 0,
              "ticks": ""
             }
            }
           }
          ],
          "scatterpolargl": [
           {
            "type": "scatterpolargl",
            "marker": {
             "colorbar": {
              "outlinewidth": 0,
              "ticks": ""
             }
            }
           }
          ],
          "bar": [
           {
            "error_x": {
             "color": "#2a3f5f"
            },
            "error_y": {
             "color": "#2a3f5f"
            },
            "marker": {
             "line": {
              "color": "#E5ECF6",
              "width": 0.5
             },
             "pattern": {
              "fillmode": "overlay",
              "size": 10,
              "solidity": 0.2
             }
            },
            "type": "bar"
           }
          ],
          "scattergeo": [
           {
            "type": "scattergeo",
            "marker": {
             "colorbar": {
              "outlinewidth": 0,
              "ticks": ""
             }
            }
           }
          ],
          "scatterpolar": [
           {
            "type": "scatterpolar",
            "marker": {
             "colorbar": {
              "outlinewidth": 0,
              "ticks": ""
             }
            }
           }
          ],
          "histogram": [
           {
            "marker": {
             "pattern": {
              "fillmode": "overlay",
              "size": 10,
              "solidity": 0.2
             }
            },
            "type": "histogram"
           }
          ],
          "scattergl": [
           {
            "type": "scattergl",
            "marker": {
             "colorbar": {
              "outlinewidth": 0,
              "ticks": ""
             }
            }
           }
          ],
          "scatter3d": [
           {
            "type": "scatter3d",
            "line": {
             "colorbar": {
              "outlinewidth": 0,
              "ticks": ""
             }
            },
            "marker": {
             "colorbar": {
              "outlinewidth": 0,
              "ticks": ""
             }
            }
           }
          ],
          "scattermapbox": [
           {
            "type": "scattermapbox",
            "marker": {
             "colorbar": {
              "outlinewidth": 0,
              "ticks": ""
             }
            }
           }
          ],
          "scatterternary": [
           {
            "type": "scatterternary",
            "marker": {
             "colorbar": {
              "outlinewidth": 0,
              "ticks": ""
             }
            }
           }
          ],
          "scattercarpet": [
           {
            "type": "scattercarpet",
            "marker": {
             "colorbar": {
              "outlinewidth": 0,
              "ticks": ""
             }
            }
           }
          ],
          "carpet": [
           {
            "aaxis": {
             "endlinecolor": "#2a3f5f",
             "gridcolor": "white",
             "linecolor": "white",
             "minorgridcolor": "white",
             "startlinecolor": "#2a3f5f"
            },
            "baxis": {
             "endlinecolor": "#2a3f5f",
             "gridcolor": "white",
             "linecolor": "white",
             "minorgridcolor": "white",
             "startlinecolor": "#2a3f5f"
            },
            "type": "carpet"
           }
          ],
          "table": [
           {
            "cells": {
             "fill": {
              "color": "#EBF0F8"
             },
             "line": {
              "color": "white"
             }
            },
            "header": {
             "fill": {
              "color": "#C8D4E3"
             },
             "line": {
              "color": "white"
             }
            },
            "type": "table"
           }
          ],
          "barpolar": [
           {
            "marker": {
             "line": {
              "color": "#E5ECF6",
              "width": 0.5
             },
             "pattern": {
              "fillmode": "overlay",
              "size": 10,
              "solidity": 0.2
             }
            },
            "type": "barpolar"
           }
          ],
          "pie": [
           {
            "automargin": true,
            "type": "pie"
           }
          ]
         },
         "layout": {
          "autotypenumbers": "strict",
          "colorway": [
           "#636efa",
           "#EF553B",
           "#00cc96",
           "#ab63fa",
           "#FFA15A",
           "#19d3f3",
           "#FF6692",
           "#B6E880",
           "#FF97FF",
           "#FECB52"
          ],
          "font": {
           "color": "#2a3f5f"
          },
          "hovermode": "closest",
          "hoverlabel": {
           "align": "left"
          },
          "paper_bgcolor": "white",
          "plot_bgcolor": "#E5ECF6",
          "polar": {
           "bgcolor": "#E5ECF6",
           "angularaxis": {
            "gridcolor": "white",
            "linecolor": "white",
            "ticks": ""
           },
           "radialaxis": {
            "gridcolor": "white",
            "linecolor": "white",
            "ticks": ""
           }
          },
          "ternary": {
           "bgcolor": "#E5ECF6",
           "aaxis": {
            "gridcolor": "white",
            "linecolor": "white",
            "ticks": ""
           },
           "baxis": {
            "gridcolor": "white",
            "linecolor": "white",
            "ticks": ""
           },
           "caxis": {
            "gridcolor": "white",
            "linecolor": "white",
            "ticks": ""
           }
          },
          "coloraxis": {
           "colorbar": {
            "outlinewidth": 0,
            "ticks": ""
           }
          },
          "colorscale": {
           "sequential": [
            [
             0.0,
             "#0d0887"
            ],
            [
             0.1111111111111111,
             "#46039f"
            ],
            [
             0.2222222222222222,
             "#7201a8"
            ],
            [
             0.3333333333333333,
             "#9c179e"
            ],
            [
             0.4444444444444444,
             "#bd3786"
            ],
            [
             0.5555555555555556,
             "#d8576b"
            ],
            [
             0.6666666666666666,
             "#ed7953"
            ],
            [
             0.7777777777777778,
             "#fb9f3a"
            ],
            [
             0.8888888888888888,
             "#fdca26"
            ],
            [
             1.0,
             "#f0f921"
            ]
           ],
           "sequentialminus": [
            [
             0.0,
             "#0d0887"
            ],
            [
             0.1111111111111111,
             "#46039f"
            ],
            [
             0.2222222222222222,
             "#7201a8"
            ],
            [
             0.3333333333333333,
             "#9c179e"
            ],
            [
             0.4444444444444444,
             "#bd3786"
            ],
            [
             0.5555555555555556,
             "#d8576b"
            ],
            [
             0.6666666666666666,
             "#ed7953"
            ],
            [
             0.7777777777777778,
             "#fb9f3a"
            ],
            [
             0.8888888888888888,
             "#fdca26"
            ],
            [
             1.0,
             "#f0f921"
            ]
           ],
           "diverging": [
            [
             0,
             "#8e0152"
            ],
            [
             0.1,
             "#c51b7d"
            ],
            [
             0.2,
             "#de77ae"
            ],
            [
             0.3,
             "#f1b6da"
            ],
            [
             0.4,
             "#fde0ef"
            ],
            [
             0.5,
             "#f7f7f7"
            ],
            [
             0.6,
             "#e6f5d0"
            ],
            [
             0.7,
             "#b8e186"
            ],
            [
             0.8,
             "#7fbc41"
            ],
            [
             0.9,
             "#4d9221"
            ],
            [
             1,
             "#276419"
            ]
           ]
          },
          "xaxis": {
           "gridcolor": "white",
           "linecolor": "white",
           "ticks": "",
           "title": {
            "standoff": 15
           },
           "zerolinecolor": "white",
           "automargin": true,
           "zerolinewidth": 2
          },
          "yaxis": {
           "gridcolor": "white",
           "linecolor": "white",
           "ticks": "",
           "title": {
            "standoff": 15
           },
           "zerolinecolor": "white",
           "automargin": true,
           "zerolinewidth": 2
          },
          "scene": {
           "xaxis": {
            "backgroundcolor": "#E5ECF6",
            "gridcolor": "white",
            "linecolor": "white",
            "showbackground": true,
            "ticks": "",
            "zerolinecolor": "white",
            "gridwidth": 2
           },
           "yaxis": {
            "backgroundcolor": "#E5ECF6",
            "gridcolor": "white",
            "linecolor": "white",
            "showbackground": true,
            "ticks": "",
            "zerolinecolor": "white",
            "gridwidth": 2
           },
           "zaxis": {
            "backgroundcolor": "#E5ECF6",
            "gridcolor": "white",
            "linecolor": "white",
            "showbackground": true,
            "ticks": "",
            "zerolinecolor": "white",
            "gridwidth": 2
           }
          },
          "shapedefaults": {
           "line": {
            "color": "#2a3f5f"
           }
          },
          "annotationdefaults": {
           "arrowcolor": "#2a3f5f",
           "arrowhead": 0,
           "arrowwidth": 1
          },
          "geo": {
           "bgcolor": "white",
           "landcolor": "#E5ECF6",
           "subunitcolor": "white",
           "showland": true,
           "showlakes": true,
           "lakecolor": "white"
          },
          "title": {
           "x": 0.05
          },
          "mapbox": {
           "style": "light"
          }
         }
        },
        "xaxis": {
         "showgrid": false,
         "zeroline": false,
         "showticklabels": false,
         "range": [
          -0.5,
          2.5
         ]
        },
        "yaxis": {
         "showgrid": false,
         "zeroline": false,
         "showticklabels": false,
         "range": [
          -2.5,
          2.5
         ]
        },
        "title": {
         "text": "DTA Tree without Flexibility"
        },
        "showlegend": false,
        "hovermode": "closest",
        "annotations": [
         {
          "showarrow": false,
          "text": "u=1.2200, q=0.7500",
          "x": 1,
          "xref": "x",
          "y": 2.5,
          "yref": "y"
         },
         {
          "showarrow": false,
          "text": "d=0.8200, 1-q=0.2500",
          "x": 1,
          "xref": "x",
          "y": -2.5,
          "yref": "y"
         }
        ]
       },
       "config": {
        "plotlyServerURL": "https://plot.ly"
       }
      },
      "text/html": [
       "<div>                            <div id=\"dc7ee23b-04ac-4907-a25a-8de7f14f4f63\" class=\"plotly-graph-div\" style=\"height:525px; width:100%;\"></div>            <script type=\"text/javascript\">                require([\"plotly\"], function(Plotly) {                    window.PLOTLYENV=window.PLOTLYENV || {};                                    if (document.getElementById(\"dc7ee23b-04ac-4907-a25a-8de7f14f4f63\")) {                    Plotly.newPlot(                        \"dc7ee23b-04ac-4907-a25a-8de7f14f4f63\",                        [{\"marker\":{\"color\":\"lightgreen\",\"size\":40},\"mode\":\"markers+text\",\"text\":[\"100.00\",\"122.00\",\"81.87\",\"149.18\",\"100.00\",\"67.03\"],\"textposition\":\"middle center\",\"x\":[0,1,1,2,2,2],\"y\":[0,1,-1,2,0,-2],\"type\":\"scatter\"},{\"line\":{\"color\":\"grey\",\"width\":1},\"mode\":\"lines\",\"x\":[0,1],\"y\":[0,1],\"type\":\"scatter\"},{\"line\":{\"color\":\"grey\",\"width\":1},\"mode\":\"lines\",\"x\":[0,1],\"y\":[0,-1],\"type\":\"scatter\"},{\"line\":{\"color\":\"grey\",\"width\":1},\"mode\":\"lines\",\"x\":[1,2],\"y\":[1,2],\"type\":\"scatter\"},{\"line\":{\"color\":\"grey\",\"width\":1},\"mode\":\"lines\",\"x\":[1,2],\"y\":[1,0],\"type\":\"scatter\"},{\"line\":{\"color\":\"grey\",\"width\":1},\"mode\":\"lines\",\"x\":[1,2],\"y\":[-1,0],\"type\":\"scatter\"},{\"line\":{\"color\":\"grey\",\"width\":1},\"mode\":\"lines\",\"x\":[1,2],\"y\":[-1,-2],\"type\":\"scatter\"}],                        {\"template\":{\"data\":{\"histogram2dcontour\":[{\"type\":\"histogram2dcontour\",\"colorbar\":{\"outlinewidth\":0,\"ticks\":\"\"},\"colorscale\":[[0.0,\"#0d0887\"],[0.1111111111111111,\"#46039f\"],[0.2222222222222222,\"#7201a8\"],[0.3333333333333333,\"#9c179e\"],[0.4444444444444444,\"#bd3786\"],[0.5555555555555556,\"#d8576b\"],[0.6666666666666666,\"#ed7953\"],[0.7777777777777778,\"#fb9f3a\"],[0.8888888888888888,\"#fdca26\"],[1.0,\"#f0f921\"]]}],\"choropleth\":[{\"type\":\"choropleth\",\"colorbar\":{\"outlinewidth\":0,\"ticks\":\"\"}}],\"histogram2d\":[{\"type\":\"histogram2d\",\"colorbar\":{\"outlinewidth\":0,\"ticks\":\"\"},\"colorscale\":[[0.0,\"#0d0887\"],[0.1111111111111111,\"#46039f\"],[0.2222222222222222,\"#7201a8\"],[0.3333333333333333,\"#9c179e\"],[0.4444444444444444,\"#bd3786\"],[0.5555555555555556,\"#d8576b\"],[0.6666666666666666,\"#ed7953\"],[0.7777777777777778,\"#fb9f3a\"],[0.8888888888888888,\"#fdca26\"],[1.0,\"#f0f921\"]]}],\"heatmap\":[{\"type\":\"heatmap\",\"colorbar\":{\"outlinewidth\":0,\"ticks\":\"\"},\"colorscale\":[[0.0,\"#0d0887\"],[0.1111111111111111,\"#46039f\"],[0.2222222222222222,\"#7201a8\"],[0.3333333333333333,\"#9c179e\"],[0.4444444444444444,\"#bd3786\"],[0.5555555555555556,\"#d8576b\"],[0.6666666666666666,\"#ed7953\"],[0.7777777777777778,\"#fb9f3a\"],[0.8888888888888888,\"#fdca26\"],[1.0,\"#f0f921\"]]}],\"heatmapgl\":[{\"type\":\"heatmapgl\",\"colorbar\":{\"outlinewidth\":0,\"ticks\":\"\"},\"colorscale\":[[0.0,\"#0d0887\"],[0.1111111111111111,\"#46039f\"],[0.2222222222222222,\"#7201a8\"],[0.3333333333333333,\"#9c179e\"],[0.4444444444444444,\"#bd3786\"],[0.5555555555555556,\"#d8576b\"],[0.6666666666666666,\"#ed7953\"],[0.7777777777777778,\"#fb9f3a\"],[0.8888888888888888,\"#fdca26\"],[1.0,\"#f0f921\"]]}],\"contourcarpet\":[{\"type\":\"contourcarpet\",\"colorbar\":{\"outlinewidth\":0,\"ticks\":\"\"}}],\"contour\":[{\"type\":\"contour\",\"colorbar\":{\"outlinewidth\":0,\"ticks\":\"\"},\"colorscale\":[[0.0,\"#0d0887\"],[0.1111111111111111,\"#46039f\"],[0.2222222222222222,\"#7201a8\"],[0.3333333333333333,\"#9c179e\"],[0.4444444444444444,\"#bd3786\"],[0.5555555555555556,\"#d8576b\"],[0.6666666666666666,\"#ed7953\"],[0.7777777777777778,\"#fb9f3a\"],[0.8888888888888888,\"#fdca26\"],[1.0,\"#f0f921\"]]}],\"surface\":[{\"type\":\"surface\",\"colorbar\":{\"outlinewidth\":0,\"ticks\":\"\"},\"colorscale\":[[0.0,\"#0d0887\"],[0.1111111111111111,\"#46039f\"],[0.2222222222222222,\"#7201a8\"],[0.3333333333333333,\"#9c179e\"],[0.4444444444444444,\"#bd3786\"],[0.5555555555555556,\"#d8576b\"],[0.6666666666666666,\"#ed7953\"],[0.7777777777777778,\"#fb9f3a\"],[0.8888888888888888,\"#fdca26\"],[1.0,\"#f0f921\"]]}],\"mesh3d\":[{\"type\":\"mesh3d\",\"colorbar\":{\"outlinewidth\":0,\"ticks\":\"\"}}],\"scatter\":[{\"fillpattern\":{\"fillmode\":\"overlay\",\"size\":10,\"solidity\":0.2},\"type\":\"scatter\"}],\"parcoords\":[{\"type\":\"parcoords\",\"line\":{\"colorbar\":{\"outlinewidth\":0,\"ticks\":\"\"}}}],\"scatterpolargl\":[{\"type\":\"scatterpolargl\",\"marker\":{\"colorbar\":{\"outlinewidth\":0,\"ticks\":\"\"}}}],\"bar\":[{\"error_x\":{\"color\":\"#2a3f5f\"},\"error_y\":{\"color\":\"#2a3f5f\"},\"marker\":{\"line\":{\"color\":\"#E5ECF6\",\"width\":0.5},\"pattern\":{\"fillmode\":\"overlay\",\"size\":10,\"solidity\":0.2}},\"type\":\"bar\"}],\"scattergeo\":[{\"type\":\"scattergeo\",\"marker\":{\"colorbar\":{\"outlinewidth\":0,\"ticks\":\"\"}}}],\"scatterpolar\":[{\"type\":\"scatterpolar\",\"marker\":{\"colorbar\":{\"outlinewidth\":0,\"ticks\":\"\"}}}],\"histogram\":[{\"marker\":{\"pattern\":{\"fillmode\":\"overlay\",\"size\":10,\"solidity\":0.2}},\"type\":\"histogram\"}],\"scattergl\":[{\"type\":\"scattergl\",\"marker\":{\"colorbar\":{\"outlinewidth\":0,\"ticks\":\"\"}}}],\"scatter3d\":[{\"type\":\"scatter3d\",\"line\":{\"colorbar\":{\"outlinewidth\":0,\"ticks\":\"\"}},\"marker\":{\"colorbar\":{\"outlinewidth\":0,\"ticks\":\"\"}}}],\"scattermapbox\":[{\"type\":\"scattermapbox\",\"marker\":{\"colorbar\":{\"outlinewidth\":0,\"ticks\":\"\"}}}],\"scatterternary\":[{\"type\":\"scatterternary\",\"marker\":{\"colorbar\":{\"outlinewidth\":0,\"ticks\":\"\"}}}],\"scattercarpet\":[{\"type\":\"scattercarpet\",\"marker\":{\"colorbar\":{\"outlinewidth\":0,\"ticks\":\"\"}}}],\"carpet\":[{\"aaxis\":{\"endlinecolor\":\"#2a3f5f\",\"gridcolor\":\"white\",\"linecolor\":\"white\",\"minorgridcolor\":\"white\",\"startlinecolor\":\"#2a3f5f\"},\"baxis\":{\"endlinecolor\":\"#2a3f5f\",\"gridcolor\":\"white\",\"linecolor\":\"white\",\"minorgridcolor\":\"white\",\"startlinecolor\":\"#2a3f5f\"},\"type\":\"carpet\"}],\"table\":[{\"cells\":{\"fill\":{\"color\":\"#EBF0F8\"},\"line\":{\"color\":\"white\"}},\"header\":{\"fill\":{\"color\":\"#C8D4E3\"},\"line\":{\"color\":\"white\"}},\"type\":\"table\"}],\"barpolar\":[{\"marker\":{\"line\":{\"color\":\"#E5ECF6\",\"width\":0.5},\"pattern\":{\"fillmode\":\"overlay\",\"size\":10,\"solidity\":0.2}},\"type\":\"barpolar\"}],\"pie\":[{\"automargin\":true,\"type\":\"pie\"}]},\"layout\":{\"autotypenumbers\":\"strict\",\"colorway\":[\"#636efa\",\"#EF553B\",\"#00cc96\",\"#ab63fa\",\"#FFA15A\",\"#19d3f3\",\"#FF6692\",\"#B6E880\",\"#FF97FF\",\"#FECB52\"],\"font\":{\"color\":\"#2a3f5f\"},\"hovermode\":\"closest\",\"hoverlabel\":{\"align\":\"left\"},\"paper_bgcolor\":\"white\",\"plot_bgcolor\":\"#E5ECF6\",\"polar\":{\"bgcolor\":\"#E5ECF6\",\"angularaxis\":{\"gridcolor\":\"white\",\"linecolor\":\"white\",\"ticks\":\"\"},\"radialaxis\":{\"gridcolor\":\"white\",\"linecolor\":\"white\",\"ticks\":\"\"}},\"ternary\":{\"bgcolor\":\"#E5ECF6\",\"aaxis\":{\"gridcolor\":\"white\",\"linecolor\":\"white\",\"ticks\":\"\"},\"baxis\":{\"gridcolor\":\"white\",\"linecolor\":\"white\",\"ticks\":\"\"},\"caxis\":{\"gridcolor\":\"white\",\"linecolor\":\"white\",\"ticks\":\"\"}},\"coloraxis\":{\"colorbar\":{\"outlinewidth\":0,\"ticks\":\"\"}},\"colorscale\":{\"sequential\":[[0.0,\"#0d0887\"],[0.1111111111111111,\"#46039f\"],[0.2222222222222222,\"#7201a8\"],[0.3333333333333333,\"#9c179e\"],[0.4444444444444444,\"#bd3786\"],[0.5555555555555556,\"#d8576b\"],[0.6666666666666666,\"#ed7953\"],[0.7777777777777778,\"#fb9f3a\"],[0.8888888888888888,\"#fdca26\"],[1.0,\"#f0f921\"]],\"sequentialminus\":[[0.0,\"#0d0887\"],[0.1111111111111111,\"#46039f\"],[0.2222222222222222,\"#7201a8\"],[0.3333333333333333,\"#9c179e\"],[0.4444444444444444,\"#bd3786\"],[0.5555555555555556,\"#d8576b\"],[0.6666666666666666,\"#ed7953\"],[0.7777777777777778,\"#fb9f3a\"],[0.8888888888888888,\"#fdca26\"],[1.0,\"#f0f921\"]],\"diverging\":[[0,\"#8e0152\"],[0.1,\"#c51b7d\"],[0.2,\"#de77ae\"],[0.3,\"#f1b6da\"],[0.4,\"#fde0ef\"],[0.5,\"#f7f7f7\"],[0.6,\"#e6f5d0\"],[0.7,\"#b8e186\"],[0.8,\"#7fbc41\"],[0.9,\"#4d9221\"],[1,\"#276419\"]]},\"xaxis\":{\"gridcolor\":\"white\",\"linecolor\":\"white\",\"ticks\":\"\",\"title\":{\"standoff\":15},\"zerolinecolor\":\"white\",\"automargin\":true,\"zerolinewidth\":2},\"yaxis\":{\"gridcolor\":\"white\",\"linecolor\":\"white\",\"ticks\":\"\",\"title\":{\"standoff\":15},\"zerolinecolor\":\"white\",\"automargin\":true,\"zerolinewidth\":2},\"scene\":{\"xaxis\":{\"backgroundcolor\":\"#E5ECF6\",\"gridcolor\":\"white\",\"linecolor\":\"white\",\"showbackground\":true,\"ticks\":\"\",\"zerolinecolor\":\"white\",\"gridwidth\":2},\"yaxis\":{\"backgroundcolor\":\"#E5ECF6\",\"gridcolor\":\"white\",\"linecolor\":\"white\",\"showbackground\":true,\"ticks\":\"\",\"zerolinecolor\":\"white\",\"gridwidth\":2},\"zaxis\":{\"backgroundcolor\":\"#E5ECF6\",\"gridcolor\":\"white\",\"linecolor\":\"white\",\"showbackground\":true,\"ticks\":\"\",\"zerolinecolor\":\"white\",\"gridwidth\":2}},\"shapedefaults\":{\"line\":{\"color\":\"#2a3f5f\"}},\"annotationdefaults\":{\"arrowcolor\":\"#2a3f5f\",\"arrowhead\":0,\"arrowwidth\":1},\"geo\":{\"bgcolor\":\"white\",\"landcolor\":\"#E5ECF6\",\"subunitcolor\":\"white\",\"showland\":true,\"showlakes\":true,\"lakecolor\":\"white\"},\"title\":{\"x\":0.05},\"mapbox\":{\"style\":\"light\"}}},\"xaxis\":{\"showgrid\":false,\"zeroline\":false,\"showticklabels\":false,\"range\":[-0.5,2.5]},\"yaxis\":{\"showgrid\":false,\"zeroline\":false,\"showticklabels\":false,\"range\":[-2.5,2.5]},\"title\":{\"text\":\"DTA Tree without Flexibility\"},\"showlegend\":false,\"hovermode\":\"closest\",\"annotations\":[{\"showarrow\":false,\"text\":\"u=1.2200, q=0.7500\",\"x\":1,\"xref\":\"x\",\"y\":2.5,\"yref\":\"y\"},{\"showarrow\":false,\"text\":\"d=0.8200, 1-q=0.2500\",\"x\":1,\"xref\":\"x\",\"y\":-2.5,\"yref\":\"y\"}]},                        {\"responsive\": true}                    ).then(function(){\n",
       "                            \n",
       "var gd = document.getElementById('dc7ee23b-04ac-4907-a25a-8de7f14f4f63');\n",
       "var x = new MutationObserver(function (mutations, observer) {{\n",
       "        var display = window.getComputedStyle(gd).display;\n",
       "        if (!display || display === 'none') {{\n",
       "            console.log([gd, 'removed!']);\n",
       "            Plotly.purge(gd);\n",
       "            observer.disconnect();\n",
       "        }}\n",
       "}});\n",
       "\n",
       "// Listen for the removal of the full notebook cells\n",
       "var notebookContainer = gd.closest('#notebook-container');\n",
       "if (notebookContainer) {{\n",
       "    x.observe(notebookContainer, {childList: true});\n",
       "}}\n",
       "\n",
       "// Listen for the clearing of the current output cell\n",
       "var outputEl = gd.closest('.output');\n",
       "if (outputEl) {{\n",
       "    x.observe(outputEl, {childList: true});\n",
       "}}\n",
       "\n",
       "                        })                };                });            </script>        </div>"
      ]
     },
     "metadata": {},
     "output_type": "display_data"
    }
   ],
   "execution_count": 33
  },
  {
   "metadata": {
    "ExecuteTime": {
     "end_time": "2024-07-29T21:11:48.649822Z",
     "start_time": "2024-07-29T21:11:48.640497Z"
    }
   },
   "cell_type": "code",
   "source": [
    "\n",
    "def realize_option(V, DTA, expansion, price):\n",
    "    return max(DTA, expansion * V - price), \"expand\" if DTA < expansion * V - price else \"don't expand\"\n",
    "\n",
    "\n",
    "def expansion_threshold(expansion, price):\n",
    "    return price / (expansion - 1)\n",
    "\n",
    "\n",
    "def calculate_next_step(Vu, Vd, WACC, q):\n",
    "    return (q * Vu + (1 - q) * Vd) / (1 + WACC)\n",
    "\n",
    "\n",
    "def calculate_DTA_flex(V0, sig, T, n, WACC, expansion, price):\n",
    "    '''\n",
    "    Calculates the DTA tree with flexibility\n",
    "    Parameters\n",
    "    ----------\n",
    "    V0: float\n",
    "        present fair-value of the project\n",
    "    sig: float\n",
    "        volatility\n",
    "    T: float\n",
    "        time (in years)\n",
    "    n: int\n",
    "        steps in the tree\n",
    "    WACC: float\n",
    "        risk-neutral rate\n",
    "    expansion: float\n",
    "        expansion rate (if contraction: <1)\n",
    "    price: float\n",
    "        price of expansion (if contraction: <0)\n",
    "    \n",
    "    Returns\n",
    "    -------\n",
    "    dict\n",
    "        A dictionary containing all calculated values and decisions\n",
    "    '''\n",
    "    u = round(math.exp(sig * math.sqrt(T / n)), 4)\n",
    "    d = round(1 / u, 4)\n",
    "\n",
    "    uV = round(u * V0, 2)\n",
    "    dV = round(d * V0, 2)\n",
    "    uuV = round(u * uV, 2)\n",
    "    udV = round(u * dV, 2)\n",
    "    ddV = round(d * dV, 2)\n",
    "\n",
    "    q = round((1 + WACC - d) / (u - d), 4)\n",
    "\n",
    "    uuDTA, uucmd = realize_option(uuV, uuV, expansion, price)\n",
    "    udDTA, udcmd = realize_option(udV, udV, expansion, price)\n",
    "    ddDTA, ddcmd = realize_option(ddV, ddV, expansion, price)\n",
    "\n",
    "    uDTA = calculate_next_step(uuDTA, udDTA, WACC, q)\n",
    "    dDTA = calculate_next_step(udDTA, ddDTA, WACC, q)\n",
    "\n",
    "    uDTA, ucmd = realize_option(uV, uDTA, expansion, price)\n",
    "    dDTA, dcmd = realize_option(dV, dDTA, expansion, price)\n",
    "\n",
    "    DTA = calculate_next_step(uDTA, dDTA, WACC, q)\n",
    "\n",
    "    return {\n",
    "        'V0': V0, 'DTA': round(DTA, 2),\n",
    "        'u': u, 'd': d, 'q': q,\n",
    "        'uV': uV, 'dV': dV,\n",
    "        'uuV': uuV, 'udV': udV, 'ddV': ddV,\n",
    "        'uDTA': round(uDTA, 2), 'dDTA': round(dDTA, 2),\n",
    "        'uuDTA': round(uuDTA, 2), 'udDTA': round(udDTA, 2), 'ddDTA': round(ddDTA, 2),\n",
    "        'ucmd': ucmd, 'dcmd': dcmd,\n",
    "        'uucmd': uucmd, 'udcmd': udcmd, 'ddcmd': ddcmd\n",
    "    }"
   ],
   "id": "1cabf22bc61e06ff",
   "outputs": [],
   "execution_count": 34
  },
  {
   "metadata": {
    "ExecuteTime": {
     "end_time": "2024-07-29T21:11:50.351584Z",
     "start_time": "2024-07-29T21:11:50.345834Z"
    }
   },
   "cell_type": "code",
   "source": [
    "def plot_DTA_flex(results):\n",
    "    '''\n",
    "    Plots the DTA tree with flexibility using Plotly\n",
    "    Parameters\n",
    "    ----------\n",
    "    results: dict\n",
    "        Dictionary containing the calculated values from calculate_DTA_flex\n",
    "    '''\n",
    "    # Create nodes for the tree\n",
    "    nodes = [\n",
    "        (0, 0, f\"{results['DTA']:.2f}\"),\n",
    "        (1, 1, f\"{results['uDTA']:.2f}\\n{results['ucmd']}\"),\n",
    "        (1, -1, f\"{results['dDTA']:.2f}\\n{results['dcmd']}\"),\n",
    "        (2, 2, f\"{results['uuDTA']:.2f}\\n{results['uucmd']}\"),\n",
    "        (2, 0, f\"{results['udDTA']:.2f}\\n{results['udcmd']}\"),\n",
    "        (2, -2, f\"{results['ddDTA']:.2f}\\n{results['ddcmd']}\")\n",
    "    ]\n",
    "\n",
    "    # Create edges\n",
    "    edges = [\n",
    "        (0, 1), (0, 2), (1, 3), (1, 4), (2, 4), (2, 5)\n",
    "    ]\n",
    "\n",
    "    # Create figure\n",
    "    fig = go.Figure()\n",
    "\n",
    "    # Add nodes\n",
    "    node_x, node_y, node_text = zip(*nodes)\n",
    "    fig.add_trace(go.Scatter(\n",
    "        x=node_x, y=node_y,\n",
    "        mode='markers+text',\n",
    "        marker=dict(size=40, color='lightyellow'),\n",
    "        text=node_text,\n",
    "        textposition='middle center'\n",
    "    ))\n",
    "\n",
    "    # Add edges\n",
    "    for edge in edges:\n",
    "        fig.add_trace(go.Scatter(\n",
    "            x=[nodes[edge[0]][0], nodes[edge[1]][0]],\n",
    "            y=[nodes[edge[0]][1], nodes[edge[1]][1]],\n",
    "            mode='lines',\n",
    "            line=dict(color='grey', width=1)\n",
    "        ))\n",
    "\n",
    "    # Update layout\n",
    "    fig.update_layout(\n",
    "        title='DTA Tree with Flexibility',\n",
    "        showlegend=False,\n",
    "        hovermode='closest',\n",
    "        xaxis=dict(showgrid=False, zeroline=False, showticklabels=False, range=[-0.5, 2.5]),\n",
    "        yaxis=dict(showgrid=False, zeroline=False, showticklabels=False, range=[-2.5, 2.5]),\n",
    "        annotations=[\n",
    "            dict(x=1, y=2.5, xref=\"x\", yref=\"y\", text=f\"u={results['u']:.4f}, q={results['q']:.4f}\", showarrow=False),\n",
    "            dict(x=1, y=-2.5, xref=\"x\", yref=\"y\", text=f\"d={results['d']:.4f}, 1-q={1 - results['q']:.4f}\",\n",
    "                 showarrow=False)\n",
    "        ]\n",
    "    )\n",
    "\n",
    "    # Show the plot\n",
    "    fig.show()"
   ],
   "id": "c3dcbf59491a24a9",
   "outputs": [],
   "execution_count": 35
  },
  {
   "metadata": {
    "ExecuteTime": {
     "end_time": "2024-07-29T21:11:52.859225Z",
     "start_time": "2024-07-29T21:11:52.843682Z"
    }
   },
   "cell_type": "code",
   "source": [
    "# Example usage\n",
    "WACC = 0.12\n",
    "i = 80  # investment\n",
    "T = 2  # years\n",
    "n = 2  # steps in the tree\n",
    "V0 = 100  # initial projected value of the project\n",
    "sig = 0.2  # volatility\n",
    "rf = 0.05  # risk-free\n",
    "expansion = 0.6\n",
    "price = -42\n",
    "\n",
    "# Calculate DTA with flexibility\n",
    "results = calculate_DTA_flex(V0, sig, T, n, WACC, expansion, price)\n",
    "\n",
    "# Print results\n",
    "print(f\"u = {results['u']:.4f}, d = {results['d']:.4f}\")\n",
    "print(f\"q = {results['q']:.4f}\")\n",
    "print(f\"Initial Value (V0) = {results['V0']:.2f}\")\n",
    "print(f\"DTA Value = {results['DTA']:.2f}\")\n",
    "print(f\"DTA Net Present Value = {results['DTA'] - i:.2f}\")\n",
    "print(f\"DTA Option Value = {results['DTA'] - results['V0']:.2f}\")\n",
    "\n",
    "# Plot the DTA tree with flexibility\n",
    "plot_DTA_flex(results)"
   ],
   "id": "5ac44459d663e0fc",
   "outputs": [
    {
     "name": "stdout",
     "output_type": "stream",
     "text": [
      "u = 1.2214, d = 0.8187\n",
      "q = 0.7482\n",
      "Initial Value (V0) = 100.00\n",
      "DTA Value = 102.38\n",
      "DTA Net Present Value = 22.38\n",
      "DTA Option Value = 2.38\n"
     ]
    },
    {
     "data": {
      "application/vnd.plotly.v1+json": {
       "data": [
        {
         "marker": {
          "color": "lightyellow",
          "size": 40
         },
         "mode": "markers+text",
         "text": [
          "102.38",
          "122.59\ndon't expand",
          "91.12\nexpand",
          "149.18\ndon't expand",
          "102.00\nexpand",
          "82.22\nexpand"
         ],
         "textposition": "middle center",
         "x": [
          0,
          1,
          1,
          2,
          2,
          2
         ],
         "y": [
          0,
          1,
          -1,
          2,
          0,
          -2
         ],
         "type": "scatter"
        },
        {
         "line": {
          "color": "grey",
          "width": 1
         },
         "mode": "lines",
         "x": [
          0,
          1
         ],
         "y": [
          0,
          1
         ],
         "type": "scatter"
        },
        {
         "line": {
          "color": "grey",
          "width": 1
         },
         "mode": "lines",
         "x": [
          0,
          1
         ],
         "y": [
          0,
          -1
         ],
         "type": "scatter"
        },
        {
         "line": {
          "color": "grey",
          "width": 1
         },
         "mode": "lines",
         "x": [
          1,
          2
         ],
         "y": [
          1,
          2
         ],
         "type": "scatter"
        },
        {
         "line": {
          "color": "grey",
          "width": 1
         },
         "mode": "lines",
         "x": [
          1,
          2
         ],
         "y": [
          1,
          0
         ],
         "type": "scatter"
        },
        {
         "line": {
          "color": "grey",
          "width": 1
         },
         "mode": "lines",
         "x": [
          1,
          2
         ],
         "y": [
          -1,
          0
         ],
         "type": "scatter"
        },
        {
         "line": {
          "color": "grey",
          "width": 1
         },
         "mode": "lines",
         "x": [
          1,
          2
         ],
         "y": [
          -1,
          -2
         ],
         "type": "scatter"
        }
       ],
       "layout": {
        "template": {
         "data": {
          "histogram2dcontour": [
           {
            "type": "histogram2dcontour",
            "colorbar": {
             "outlinewidth": 0,
             "ticks": ""
            },
            "colorscale": [
             [
              0.0,
              "#0d0887"
             ],
             [
              0.1111111111111111,
              "#46039f"
             ],
             [
              0.2222222222222222,
              "#7201a8"
             ],
             [
              0.3333333333333333,
              "#9c179e"
             ],
             [
              0.4444444444444444,
              "#bd3786"
             ],
             [
              0.5555555555555556,
              "#d8576b"
             ],
             [
              0.6666666666666666,
              "#ed7953"
             ],
             [
              0.7777777777777778,
              "#fb9f3a"
             ],
             [
              0.8888888888888888,
              "#fdca26"
             ],
             [
              1.0,
              "#f0f921"
             ]
            ]
           }
          ],
          "choropleth": [
           {
            "type": "choropleth",
            "colorbar": {
             "outlinewidth": 0,
             "ticks": ""
            }
           }
          ],
          "histogram2d": [
           {
            "type": "histogram2d",
            "colorbar": {
             "outlinewidth": 0,
             "ticks": ""
            },
            "colorscale": [
             [
              0.0,
              "#0d0887"
             ],
             [
              0.1111111111111111,
              "#46039f"
             ],
             [
              0.2222222222222222,
              "#7201a8"
             ],
             [
              0.3333333333333333,
              "#9c179e"
             ],
             [
              0.4444444444444444,
              "#bd3786"
             ],
             [
              0.5555555555555556,
              "#d8576b"
             ],
             [
              0.6666666666666666,
              "#ed7953"
             ],
             [
              0.7777777777777778,
              "#fb9f3a"
             ],
             [
              0.8888888888888888,
              "#fdca26"
             ],
             [
              1.0,
              "#f0f921"
             ]
            ]
           }
          ],
          "heatmap": [
           {
            "type": "heatmap",
            "colorbar": {
             "outlinewidth": 0,
             "ticks": ""
            },
            "colorscale": [
             [
              0.0,
              "#0d0887"
             ],
             [
              0.1111111111111111,
              "#46039f"
             ],
             [
              0.2222222222222222,
              "#7201a8"
             ],
             [
              0.3333333333333333,
              "#9c179e"
             ],
             [
              0.4444444444444444,
              "#bd3786"
             ],
             [
              0.5555555555555556,
              "#d8576b"
             ],
             [
              0.6666666666666666,
              "#ed7953"
             ],
             [
              0.7777777777777778,
              "#fb9f3a"
             ],
             [
              0.8888888888888888,
              "#fdca26"
             ],
             [
              1.0,
              "#f0f921"
             ]
            ]
           }
          ],
          "heatmapgl": [
           {
            "type": "heatmapgl",
            "colorbar": {
             "outlinewidth": 0,
             "ticks": ""
            },
            "colorscale": [
             [
              0.0,
              "#0d0887"
             ],
             [
              0.1111111111111111,
              "#46039f"
             ],
             [
              0.2222222222222222,
              "#7201a8"
             ],
             [
              0.3333333333333333,
              "#9c179e"
             ],
             [
              0.4444444444444444,
              "#bd3786"
             ],
             [
              0.5555555555555556,
              "#d8576b"
             ],
             [
              0.6666666666666666,
              "#ed7953"
             ],
             [
              0.7777777777777778,
              "#fb9f3a"
             ],
             [
              0.8888888888888888,
              "#fdca26"
             ],
             [
              1.0,
              "#f0f921"
             ]
            ]
           }
          ],
          "contourcarpet": [
           {
            "type": "contourcarpet",
            "colorbar": {
             "outlinewidth": 0,
             "ticks": ""
            }
           }
          ],
          "contour": [
           {
            "type": "contour",
            "colorbar": {
             "outlinewidth": 0,
             "ticks": ""
            },
            "colorscale": [
             [
              0.0,
              "#0d0887"
             ],
             [
              0.1111111111111111,
              "#46039f"
             ],
             [
              0.2222222222222222,
              "#7201a8"
             ],
             [
              0.3333333333333333,
              "#9c179e"
             ],
             [
              0.4444444444444444,
              "#bd3786"
             ],
             [
              0.5555555555555556,
              "#d8576b"
             ],
             [
              0.6666666666666666,
              "#ed7953"
             ],
             [
              0.7777777777777778,
              "#fb9f3a"
             ],
             [
              0.8888888888888888,
              "#fdca26"
             ],
             [
              1.0,
              "#f0f921"
             ]
            ]
           }
          ],
          "surface": [
           {
            "type": "surface",
            "colorbar": {
             "outlinewidth": 0,
             "ticks": ""
            },
            "colorscale": [
             [
              0.0,
              "#0d0887"
             ],
             [
              0.1111111111111111,
              "#46039f"
             ],
             [
              0.2222222222222222,
              "#7201a8"
             ],
             [
              0.3333333333333333,
              "#9c179e"
             ],
             [
              0.4444444444444444,
              "#bd3786"
             ],
             [
              0.5555555555555556,
              "#d8576b"
             ],
             [
              0.6666666666666666,
              "#ed7953"
             ],
             [
              0.7777777777777778,
              "#fb9f3a"
             ],
             [
              0.8888888888888888,
              "#fdca26"
             ],
             [
              1.0,
              "#f0f921"
             ]
            ]
           }
          ],
          "mesh3d": [
           {
            "type": "mesh3d",
            "colorbar": {
             "outlinewidth": 0,
             "ticks": ""
            }
           }
          ],
          "scatter": [
           {
            "fillpattern": {
             "fillmode": "overlay",
             "size": 10,
             "solidity": 0.2
            },
            "type": "scatter"
           }
          ],
          "parcoords": [
           {
            "type": "parcoords",
            "line": {
             "colorbar": {
              "outlinewidth": 0,
              "ticks": ""
             }
            }
           }
          ],
          "scatterpolargl": [
           {
            "type": "scatterpolargl",
            "marker": {
             "colorbar": {
              "outlinewidth": 0,
              "ticks": ""
             }
            }
           }
          ],
          "bar": [
           {
            "error_x": {
             "color": "#2a3f5f"
            },
            "error_y": {
             "color": "#2a3f5f"
            },
            "marker": {
             "line": {
              "color": "#E5ECF6",
              "width": 0.5
             },
             "pattern": {
              "fillmode": "overlay",
              "size": 10,
              "solidity": 0.2
             }
            },
            "type": "bar"
           }
          ],
          "scattergeo": [
           {
            "type": "scattergeo",
            "marker": {
             "colorbar": {
              "outlinewidth": 0,
              "ticks": ""
             }
            }
           }
          ],
          "scatterpolar": [
           {
            "type": "scatterpolar",
            "marker": {
             "colorbar": {
              "outlinewidth": 0,
              "ticks": ""
             }
            }
           }
          ],
          "histogram": [
           {
            "marker": {
             "pattern": {
              "fillmode": "overlay",
              "size": 10,
              "solidity": 0.2
             }
            },
            "type": "histogram"
           }
          ],
          "scattergl": [
           {
            "type": "scattergl",
            "marker": {
             "colorbar": {
              "outlinewidth": 0,
              "ticks": ""
             }
            }
           }
          ],
          "scatter3d": [
           {
            "type": "scatter3d",
            "line": {
             "colorbar": {
              "outlinewidth": 0,
              "ticks": ""
             }
            },
            "marker": {
             "colorbar": {
              "outlinewidth": 0,
              "ticks": ""
             }
            }
           }
          ],
          "scattermapbox": [
           {
            "type": "scattermapbox",
            "marker": {
             "colorbar": {
              "outlinewidth": 0,
              "ticks": ""
             }
            }
           }
          ],
          "scatterternary": [
           {
            "type": "scatterternary",
            "marker": {
             "colorbar": {
              "outlinewidth": 0,
              "ticks": ""
             }
            }
           }
          ],
          "scattercarpet": [
           {
            "type": "scattercarpet",
            "marker": {
             "colorbar": {
              "outlinewidth": 0,
              "ticks": ""
             }
            }
           }
          ],
          "carpet": [
           {
            "aaxis": {
             "endlinecolor": "#2a3f5f",
             "gridcolor": "white",
             "linecolor": "white",
             "minorgridcolor": "white",
             "startlinecolor": "#2a3f5f"
            },
            "baxis": {
             "endlinecolor": "#2a3f5f",
             "gridcolor": "white",
             "linecolor": "white",
             "minorgridcolor": "white",
             "startlinecolor": "#2a3f5f"
            },
            "type": "carpet"
           }
          ],
          "table": [
           {
            "cells": {
             "fill": {
              "color": "#EBF0F8"
             },
             "line": {
              "color": "white"
             }
            },
            "header": {
             "fill": {
              "color": "#C8D4E3"
             },
             "line": {
              "color": "white"
             }
            },
            "type": "table"
           }
          ],
          "barpolar": [
           {
            "marker": {
             "line": {
              "color": "#E5ECF6",
              "width": 0.5
             },
             "pattern": {
              "fillmode": "overlay",
              "size": 10,
              "solidity": 0.2
             }
            },
            "type": "barpolar"
           }
          ],
          "pie": [
           {
            "automargin": true,
            "type": "pie"
           }
          ]
         },
         "layout": {
          "autotypenumbers": "strict",
          "colorway": [
           "#636efa",
           "#EF553B",
           "#00cc96",
           "#ab63fa",
           "#FFA15A",
           "#19d3f3",
           "#FF6692",
           "#B6E880",
           "#FF97FF",
           "#FECB52"
          ],
          "font": {
           "color": "#2a3f5f"
          },
          "hovermode": "closest",
          "hoverlabel": {
           "align": "left"
          },
          "paper_bgcolor": "white",
          "plot_bgcolor": "#E5ECF6",
          "polar": {
           "bgcolor": "#E5ECF6",
           "angularaxis": {
            "gridcolor": "white",
            "linecolor": "white",
            "ticks": ""
           },
           "radialaxis": {
            "gridcolor": "white",
            "linecolor": "white",
            "ticks": ""
           }
          },
          "ternary": {
           "bgcolor": "#E5ECF6",
           "aaxis": {
            "gridcolor": "white",
            "linecolor": "white",
            "ticks": ""
           },
           "baxis": {
            "gridcolor": "white",
            "linecolor": "white",
            "ticks": ""
           },
           "caxis": {
            "gridcolor": "white",
            "linecolor": "white",
            "ticks": ""
           }
          },
          "coloraxis": {
           "colorbar": {
            "outlinewidth": 0,
            "ticks": ""
           }
          },
          "colorscale": {
           "sequential": [
            [
             0.0,
             "#0d0887"
            ],
            [
             0.1111111111111111,
             "#46039f"
            ],
            [
             0.2222222222222222,
             "#7201a8"
            ],
            [
             0.3333333333333333,
             "#9c179e"
            ],
            [
             0.4444444444444444,
             "#bd3786"
            ],
            [
             0.5555555555555556,
             "#d8576b"
            ],
            [
             0.6666666666666666,
             "#ed7953"
            ],
            [
             0.7777777777777778,
             "#fb9f3a"
            ],
            [
             0.8888888888888888,
             "#fdca26"
            ],
            [
             1.0,
             "#f0f921"
            ]
           ],
           "sequentialminus": [
            [
             0.0,
             "#0d0887"
            ],
            [
             0.1111111111111111,
             "#46039f"
            ],
            [
             0.2222222222222222,
             "#7201a8"
            ],
            [
             0.3333333333333333,
             "#9c179e"
            ],
            [
             0.4444444444444444,
             "#bd3786"
            ],
            [
             0.5555555555555556,
             "#d8576b"
            ],
            [
             0.6666666666666666,
             "#ed7953"
            ],
            [
             0.7777777777777778,
             "#fb9f3a"
            ],
            [
             0.8888888888888888,
             "#fdca26"
            ],
            [
             1.0,
             "#f0f921"
            ]
           ],
           "diverging": [
            [
             0,
             "#8e0152"
            ],
            [
             0.1,
             "#c51b7d"
            ],
            [
             0.2,
             "#de77ae"
            ],
            [
             0.3,
             "#f1b6da"
            ],
            [
             0.4,
             "#fde0ef"
            ],
            [
             0.5,
             "#f7f7f7"
            ],
            [
             0.6,
             "#e6f5d0"
            ],
            [
             0.7,
             "#b8e186"
            ],
            [
             0.8,
             "#7fbc41"
            ],
            [
             0.9,
             "#4d9221"
            ],
            [
             1,
             "#276419"
            ]
           ]
          },
          "xaxis": {
           "gridcolor": "white",
           "linecolor": "white",
           "ticks": "",
           "title": {
            "standoff": 15
           },
           "zerolinecolor": "white",
           "automargin": true,
           "zerolinewidth": 2
          },
          "yaxis": {
           "gridcolor": "white",
           "linecolor": "white",
           "ticks": "",
           "title": {
            "standoff": 15
           },
           "zerolinecolor": "white",
           "automargin": true,
           "zerolinewidth": 2
          },
          "scene": {
           "xaxis": {
            "backgroundcolor": "#E5ECF6",
            "gridcolor": "white",
            "linecolor": "white",
            "showbackground": true,
            "ticks": "",
            "zerolinecolor": "white",
            "gridwidth": 2
           },
           "yaxis": {
            "backgroundcolor": "#E5ECF6",
            "gridcolor": "white",
            "linecolor": "white",
            "showbackground": true,
            "ticks": "",
            "zerolinecolor": "white",
            "gridwidth": 2
           },
           "zaxis": {
            "backgroundcolor": "#E5ECF6",
            "gridcolor": "white",
            "linecolor": "white",
            "showbackground": true,
            "ticks": "",
            "zerolinecolor": "white",
            "gridwidth": 2
           }
          },
          "shapedefaults": {
           "line": {
            "color": "#2a3f5f"
           }
          },
          "annotationdefaults": {
           "arrowcolor": "#2a3f5f",
           "arrowhead": 0,
           "arrowwidth": 1
          },
          "geo": {
           "bgcolor": "white",
           "landcolor": "#E5ECF6",
           "subunitcolor": "white",
           "showland": true,
           "showlakes": true,
           "lakecolor": "white"
          },
          "title": {
           "x": 0.05
          },
          "mapbox": {
           "style": "light"
          }
         }
        },
        "xaxis": {
         "showgrid": false,
         "zeroline": false,
         "showticklabels": false,
         "range": [
          -0.5,
          2.5
         ]
        },
        "yaxis": {
         "showgrid": false,
         "zeroline": false,
         "showticklabels": false,
         "range": [
          -2.5,
          2.5
         ]
        },
        "title": {
         "text": "DTA Tree with Flexibility"
        },
        "showlegend": false,
        "hovermode": "closest",
        "annotations": [
         {
          "showarrow": false,
          "text": "u=1.2214, q=0.7482",
          "x": 1,
          "xref": "x",
          "y": 2.5,
          "yref": "y"
         },
         {
          "showarrow": false,
          "text": "d=0.8187, 1-q=0.2518",
          "x": 1,
          "xref": "x",
          "y": -2.5,
          "yref": "y"
         }
        ]
       },
       "config": {
        "plotlyServerURL": "https://plot.ly"
       }
      },
      "text/html": [
       "<div>                            <div id=\"70c5a9bb-c669-4fcb-8c62-64bb3fb661e7\" class=\"plotly-graph-div\" style=\"height:525px; width:100%;\"></div>            <script type=\"text/javascript\">                require([\"plotly\"], function(Plotly) {                    window.PLOTLYENV=window.PLOTLYENV || {};                                    if (document.getElementById(\"70c5a9bb-c669-4fcb-8c62-64bb3fb661e7\")) {                    Plotly.newPlot(                        \"70c5a9bb-c669-4fcb-8c62-64bb3fb661e7\",                        [{\"marker\":{\"color\":\"lightyellow\",\"size\":40},\"mode\":\"markers+text\",\"text\":[\"102.38\",\"122.59\\ndon't expand\",\"91.12\\nexpand\",\"149.18\\ndon't expand\",\"102.00\\nexpand\",\"82.22\\nexpand\"],\"textposition\":\"middle center\",\"x\":[0,1,1,2,2,2],\"y\":[0,1,-1,2,0,-2],\"type\":\"scatter\"},{\"line\":{\"color\":\"grey\",\"width\":1},\"mode\":\"lines\",\"x\":[0,1],\"y\":[0,1],\"type\":\"scatter\"},{\"line\":{\"color\":\"grey\",\"width\":1},\"mode\":\"lines\",\"x\":[0,1],\"y\":[0,-1],\"type\":\"scatter\"},{\"line\":{\"color\":\"grey\",\"width\":1},\"mode\":\"lines\",\"x\":[1,2],\"y\":[1,2],\"type\":\"scatter\"},{\"line\":{\"color\":\"grey\",\"width\":1},\"mode\":\"lines\",\"x\":[1,2],\"y\":[1,0],\"type\":\"scatter\"},{\"line\":{\"color\":\"grey\",\"width\":1},\"mode\":\"lines\",\"x\":[1,2],\"y\":[-1,0],\"type\":\"scatter\"},{\"line\":{\"color\":\"grey\",\"width\":1},\"mode\":\"lines\",\"x\":[1,2],\"y\":[-1,-2],\"type\":\"scatter\"}],                        {\"template\":{\"data\":{\"histogram2dcontour\":[{\"type\":\"histogram2dcontour\",\"colorbar\":{\"outlinewidth\":0,\"ticks\":\"\"},\"colorscale\":[[0.0,\"#0d0887\"],[0.1111111111111111,\"#46039f\"],[0.2222222222222222,\"#7201a8\"],[0.3333333333333333,\"#9c179e\"],[0.4444444444444444,\"#bd3786\"],[0.5555555555555556,\"#d8576b\"],[0.6666666666666666,\"#ed7953\"],[0.7777777777777778,\"#fb9f3a\"],[0.8888888888888888,\"#fdca26\"],[1.0,\"#f0f921\"]]}],\"choropleth\":[{\"type\":\"choropleth\",\"colorbar\":{\"outlinewidth\":0,\"ticks\":\"\"}}],\"histogram2d\":[{\"type\":\"histogram2d\",\"colorbar\":{\"outlinewidth\":0,\"ticks\":\"\"},\"colorscale\":[[0.0,\"#0d0887\"],[0.1111111111111111,\"#46039f\"],[0.2222222222222222,\"#7201a8\"],[0.3333333333333333,\"#9c179e\"],[0.4444444444444444,\"#bd3786\"],[0.5555555555555556,\"#d8576b\"],[0.6666666666666666,\"#ed7953\"],[0.7777777777777778,\"#fb9f3a\"],[0.8888888888888888,\"#fdca26\"],[1.0,\"#f0f921\"]]}],\"heatmap\":[{\"type\":\"heatmap\",\"colorbar\":{\"outlinewidth\":0,\"ticks\":\"\"},\"colorscale\":[[0.0,\"#0d0887\"],[0.1111111111111111,\"#46039f\"],[0.2222222222222222,\"#7201a8\"],[0.3333333333333333,\"#9c179e\"],[0.4444444444444444,\"#bd3786\"],[0.5555555555555556,\"#d8576b\"],[0.6666666666666666,\"#ed7953\"],[0.7777777777777778,\"#fb9f3a\"],[0.8888888888888888,\"#fdca26\"],[1.0,\"#f0f921\"]]}],\"heatmapgl\":[{\"type\":\"heatmapgl\",\"colorbar\":{\"outlinewidth\":0,\"ticks\":\"\"},\"colorscale\":[[0.0,\"#0d0887\"],[0.1111111111111111,\"#46039f\"],[0.2222222222222222,\"#7201a8\"],[0.3333333333333333,\"#9c179e\"],[0.4444444444444444,\"#bd3786\"],[0.5555555555555556,\"#d8576b\"],[0.6666666666666666,\"#ed7953\"],[0.7777777777777778,\"#fb9f3a\"],[0.8888888888888888,\"#fdca26\"],[1.0,\"#f0f921\"]]}],\"contourcarpet\":[{\"type\":\"contourcarpet\",\"colorbar\":{\"outlinewidth\":0,\"ticks\":\"\"}}],\"contour\":[{\"type\":\"contour\",\"colorbar\":{\"outlinewidth\":0,\"ticks\":\"\"},\"colorscale\":[[0.0,\"#0d0887\"],[0.1111111111111111,\"#46039f\"],[0.2222222222222222,\"#7201a8\"],[0.3333333333333333,\"#9c179e\"],[0.4444444444444444,\"#bd3786\"],[0.5555555555555556,\"#d8576b\"],[0.6666666666666666,\"#ed7953\"],[0.7777777777777778,\"#fb9f3a\"],[0.8888888888888888,\"#fdca26\"],[1.0,\"#f0f921\"]]}],\"surface\":[{\"type\":\"surface\",\"colorbar\":{\"outlinewidth\":0,\"ticks\":\"\"},\"colorscale\":[[0.0,\"#0d0887\"],[0.1111111111111111,\"#46039f\"],[0.2222222222222222,\"#7201a8\"],[0.3333333333333333,\"#9c179e\"],[0.4444444444444444,\"#bd3786\"],[0.5555555555555556,\"#d8576b\"],[0.6666666666666666,\"#ed7953\"],[0.7777777777777778,\"#fb9f3a\"],[0.8888888888888888,\"#fdca26\"],[1.0,\"#f0f921\"]]}],\"mesh3d\":[{\"type\":\"mesh3d\",\"colorbar\":{\"outlinewidth\":0,\"ticks\":\"\"}}],\"scatter\":[{\"fillpattern\":{\"fillmode\":\"overlay\",\"size\":10,\"solidity\":0.2},\"type\":\"scatter\"}],\"parcoords\":[{\"type\":\"parcoords\",\"line\":{\"colorbar\":{\"outlinewidth\":0,\"ticks\":\"\"}}}],\"scatterpolargl\":[{\"type\":\"scatterpolargl\",\"marker\":{\"colorbar\":{\"outlinewidth\":0,\"ticks\":\"\"}}}],\"bar\":[{\"error_x\":{\"color\":\"#2a3f5f\"},\"error_y\":{\"color\":\"#2a3f5f\"},\"marker\":{\"line\":{\"color\":\"#E5ECF6\",\"width\":0.5},\"pattern\":{\"fillmode\":\"overlay\",\"size\":10,\"solidity\":0.2}},\"type\":\"bar\"}],\"scattergeo\":[{\"type\":\"scattergeo\",\"marker\":{\"colorbar\":{\"outlinewidth\":0,\"ticks\":\"\"}}}],\"scatterpolar\":[{\"type\":\"scatterpolar\",\"marker\":{\"colorbar\":{\"outlinewidth\":0,\"ticks\":\"\"}}}],\"histogram\":[{\"marker\":{\"pattern\":{\"fillmode\":\"overlay\",\"size\":10,\"solidity\":0.2}},\"type\":\"histogram\"}],\"scattergl\":[{\"type\":\"scattergl\",\"marker\":{\"colorbar\":{\"outlinewidth\":0,\"ticks\":\"\"}}}],\"scatter3d\":[{\"type\":\"scatter3d\",\"line\":{\"colorbar\":{\"outlinewidth\":0,\"ticks\":\"\"}},\"marker\":{\"colorbar\":{\"outlinewidth\":0,\"ticks\":\"\"}}}],\"scattermapbox\":[{\"type\":\"scattermapbox\",\"marker\":{\"colorbar\":{\"outlinewidth\":0,\"ticks\":\"\"}}}],\"scatterternary\":[{\"type\":\"scatterternary\",\"marker\":{\"colorbar\":{\"outlinewidth\":0,\"ticks\":\"\"}}}],\"scattercarpet\":[{\"type\":\"scattercarpet\",\"marker\":{\"colorbar\":{\"outlinewidth\":0,\"ticks\":\"\"}}}],\"carpet\":[{\"aaxis\":{\"endlinecolor\":\"#2a3f5f\",\"gridcolor\":\"white\",\"linecolor\":\"white\",\"minorgridcolor\":\"white\",\"startlinecolor\":\"#2a3f5f\"},\"baxis\":{\"endlinecolor\":\"#2a3f5f\",\"gridcolor\":\"white\",\"linecolor\":\"white\",\"minorgridcolor\":\"white\",\"startlinecolor\":\"#2a3f5f\"},\"type\":\"carpet\"}],\"table\":[{\"cells\":{\"fill\":{\"color\":\"#EBF0F8\"},\"line\":{\"color\":\"white\"}},\"header\":{\"fill\":{\"color\":\"#C8D4E3\"},\"line\":{\"color\":\"white\"}},\"type\":\"table\"}],\"barpolar\":[{\"marker\":{\"line\":{\"color\":\"#E5ECF6\",\"width\":0.5},\"pattern\":{\"fillmode\":\"overlay\",\"size\":10,\"solidity\":0.2}},\"type\":\"barpolar\"}],\"pie\":[{\"automargin\":true,\"type\":\"pie\"}]},\"layout\":{\"autotypenumbers\":\"strict\",\"colorway\":[\"#636efa\",\"#EF553B\",\"#00cc96\",\"#ab63fa\",\"#FFA15A\",\"#19d3f3\",\"#FF6692\",\"#B6E880\",\"#FF97FF\",\"#FECB52\"],\"font\":{\"color\":\"#2a3f5f\"},\"hovermode\":\"closest\",\"hoverlabel\":{\"align\":\"left\"},\"paper_bgcolor\":\"white\",\"plot_bgcolor\":\"#E5ECF6\",\"polar\":{\"bgcolor\":\"#E5ECF6\",\"angularaxis\":{\"gridcolor\":\"white\",\"linecolor\":\"white\",\"ticks\":\"\"},\"radialaxis\":{\"gridcolor\":\"white\",\"linecolor\":\"white\",\"ticks\":\"\"}},\"ternary\":{\"bgcolor\":\"#E5ECF6\",\"aaxis\":{\"gridcolor\":\"white\",\"linecolor\":\"white\",\"ticks\":\"\"},\"baxis\":{\"gridcolor\":\"white\",\"linecolor\":\"white\",\"ticks\":\"\"},\"caxis\":{\"gridcolor\":\"white\",\"linecolor\":\"white\",\"ticks\":\"\"}},\"coloraxis\":{\"colorbar\":{\"outlinewidth\":0,\"ticks\":\"\"}},\"colorscale\":{\"sequential\":[[0.0,\"#0d0887\"],[0.1111111111111111,\"#46039f\"],[0.2222222222222222,\"#7201a8\"],[0.3333333333333333,\"#9c179e\"],[0.4444444444444444,\"#bd3786\"],[0.5555555555555556,\"#d8576b\"],[0.6666666666666666,\"#ed7953\"],[0.7777777777777778,\"#fb9f3a\"],[0.8888888888888888,\"#fdca26\"],[1.0,\"#f0f921\"]],\"sequentialminus\":[[0.0,\"#0d0887\"],[0.1111111111111111,\"#46039f\"],[0.2222222222222222,\"#7201a8\"],[0.3333333333333333,\"#9c179e\"],[0.4444444444444444,\"#bd3786\"],[0.5555555555555556,\"#d8576b\"],[0.6666666666666666,\"#ed7953\"],[0.7777777777777778,\"#fb9f3a\"],[0.8888888888888888,\"#fdca26\"],[1.0,\"#f0f921\"]],\"diverging\":[[0,\"#8e0152\"],[0.1,\"#c51b7d\"],[0.2,\"#de77ae\"],[0.3,\"#f1b6da\"],[0.4,\"#fde0ef\"],[0.5,\"#f7f7f7\"],[0.6,\"#e6f5d0\"],[0.7,\"#b8e186\"],[0.8,\"#7fbc41\"],[0.9,\"#4d9221\"],[1,\"#276419\"]]},\"xaxis\":{\"gridcolor\":\"white\",\"linecolor\":\"white\",\"ticks\":\"\",\"title\":{\"standoff\":15},\"zerolinecolor\":\"white\",\"automargin\":true,\"zerolinewidth\":2},\"yaxis\":{\"gridcolor\":\"white\",\"linecolor\":\"white\",\"ticks\":\"\",\"title\":{\"standoff\":15},\"zerolinecolor\":\"white\",\"automargin\":true,\"zerolinewidth\":2},\"scene\":{\"xaxis\":{\"backgroundcolor\":\"#E5ECF6\",\"gridcolor\":\"white\",\"linecolor\":\"white\",\"showbackground\":true,\"ticks\":\"\",\"zerolinecolor\":\"white\",\"gridwidth\":2},\"yaxis\":{\"backgroundcolor\":\"#E5ECF6\",\"gridcolor\":\"white\",\"linecolor\":\"white\",\"showbackground\":true,\"ticks\":\"\",\"zerolinecolor\":\"white\",\"gridwidth\":2},\"zaxis\":{\"backgroundcolor\":\"#E5ECF6\",\"gridcolor\":\"white\",\"linecolor\":\"white\",\"showbackground\":true,\"ticks\":\"\",\"zerolinecolor\":\"white\",\"gridwidth\":2}},\"shapedefaults\":{\"line\":{\"color\":\"#2a3f5f\"}},\"annotationdefaults\":{\"arrowcolor\":\"#2a3f5f\",\"arrowhead\":0,\"arrowwidth\":1},\"geo\":{\"bgcolor\":\"white\",\"landcolor\":\"#E5ECF6\",\"subunitcolor\":\"white\",\"showland\":true,\"showlakes\":true,\"lakecolor\":\"white\"},\"title\":{\"x\":0.05},\"mapbox\":{\"style\":\"light\"}}},\"xaxis\":{\"showgrid\":false,\"zeroline\":false,\"showticklabels\":false,\"range\":[-0.5,2.5]},\"yaxis\":{\"showgrid\":false,\"zeroline\":false,\"showticklabels\":false,\"range\":[-2.5,2.5]},\"title\":{\"text\":\"DTA Tree with Flexibility\"},\"showlegend\":false,\"hovermode\":\"closest\",\"annotations\":[{\"showarrow\":false,\"text\":\"u=1.2214, q=0.7482\",\"x\":1,\"xref\":\"x\",\"y\":2.5,\"yref\":\"y\"},{\"showarrow\":false,\"text\":\"d=0.8187, 1-q=0.2518\",\"x\":1,\"xref\":\"x\",\"y\":-2.5,\"yref\":\"y\"}]},                        {\"responsive\": true}                    ).then(function(){\n",
       "                            \n",
       "var gd = document.getElementById('70c5a9bb-c669-4fcb-8c62-64bb3fb661e7');\n",
       "var x = new MutationObserver(function (mutations, observer) {{\n",
       "        var display = window.getComputedStyle(gd).display;\n",
       "        if (!display || display === 'none') {{\n",
       "            console.log([gd, 'removed!']);\n",
       "            Plotly.purge(gd);\n",
       "            observer.disconnect();\n",
       "        }}\n",
       "}});\n",
       "\n",
       "// Listen for the removal of the full notebook cells\n",
       "var notebookContainer = gd.closest('#notebook-container');\n",
       "if (notebookContainer) {{\n",
       "    x.observe(notebookContainer, {childList: true});\n",
       "}}\n",
       "\n",
       "// Listen for the clearing of the current output cell\n",
       "var outputEl = gd.closest('.output');\n",
       "if (outputEl) {{\n",
       "    x.observe(outputEl, {childList: true});\n",
       "}}\n",
       "\n",
       "                        })                };                });            </script>        </div>"
      ]
     },
     "metadata": {},
     "output_type": "display_data"
    }
   ],
   "execution_count": 36
  },
  {
   "metadata": {},
   "cell_type": "markdown",
   "source": [
    "## DTA x ROA"
   ],
   "id": "9fe11bf64c9687bb"
  },
  {
   "metadata": {},
   "cell_type": "markdown",
   "source": [
    "* Note, decision tree approach (DTA) adjusts discount rate for risk (by using the WACC) and\n",
    "uses physical probabilities\n",
    "* Real options approach (ROA) discounts with risk-free discount rate and adjusts probabilities\n",
    "for risk by using the risk-neutral probability\n",
    "* Decision tree method uses single discount rate for both branches real option approach\n",
    "implicitly uses branch-dependent discount rates (ru and rd)\n",
    "\n",
    "* In principle ROA is always the better choice as it is the only consistent (arbitrage free)\n",
    "approach to value flexibility.\n",
    "\n",
    "* Problem: there must be an observable market price for the project without flexibility. This is\n",
    "often not the case (think about innovations, which are not yet traded by definition).\n",
    "* In such case the only solution is to use DTA, even though one has to be aware of all the\n",
    "problems associated with this method. But most likely it is better to accept this problem\n",
    "rather to ignore flexibility at all.\n",
    "* In practice, must approaches labelled as real options, in reality, are a DTA."
   ],
   "id": "63f0f812baf92328"
  },
  {
   "metadata": {},
   "cell_type": "markdown",
   "source": [
    "Call value formula: \n",
    "\n",
    "$C = \\frac{pC_u}{1 + r_f} + \\frac{(1 - p)C_d}{1 + r_f} = \\frac{qC_u}{1 + r_f} + \\frac{(1 - q)C_d}{1 + ru} + \\frac{(1 - q)C_d}{1 + rd}$"
   ],
   "id": "c89a75f3f7319520"
  },
  {
   "metadata": {},
   "cell_type": "markdown",
   "source": [],
   "id": "5a360e61454afc0b"
  },
  {
   "metadata": {},
   "cell_type": "markdown",
   "source": [
    "# Net Present Value (NPV)"
   ],
   "id": "abd10181dfc6ebd6"
  },
  {
   "metadata": {},
   "cell_type": "markdown",
   "source": [
    "$NPV = -I_0 + \\sum_{t=1}^{n} \\frac{E(FCF_t)}{(1 + WACC)^t} > 0$\n",
    "\n",
    "where:\n",
    "* $I_0$: Initial investment\n",
    "* $FCF_t$: Free cash flow at time $t$\n",
    "* $WACC$: Weighted average cost of capital\n",
    "* $n$: Number of periods"
   ],
   "id": "336a9529fd8936b0"
  },
  {
   "metadata": {},
   "cell_type": "markdown",
   "source": [
    "# Staging Investments"
   ],
   "id": "a6ab62ebf397685c"
  },
  {
   "metadata": {},
   "cell_type": "markdown",
   "source": [
    "General Idea:\n",
    "* it's not a good idea to start with the most expensive stage.\n",
    "* It's better to start with the most risky (least successful) investment stage, as the outcome of\n",
    "this stage is most informative regarding the overall viability of the project.\n",
    "* starting with the most lengthy project tends to be an advantage as the PV of the\n",
    "investments for the succeeding stages is smaller (provided that there is no cost of\n",
    "postponing, which is not so clear, for instance because of inflation).\n",
    "* it seems to be beneficial to invest in less capital intensive, riskier and lengthier projects first.\n",
    "\n",
    "Typically it will be impossible to monotonically order the projects according to the three criteria\n",
    "mentioned before. Therefore, we are looking for an ordering taking all three dimensions into\n",
    "account. This is fulfilled by the following failure cost criteria:\n",
    "\n",
    "$\\frac{1 - PV(success)}{PV(investment)}$\n",
    "\n",
    "* $PV(success)$: is the expected marginal present value contribution of 1 dollar revenue\n",
    "(which will only be generated, if the overall project is successful).\n",
    "* $(PV investment)$: is the present value of the necessary investment for the specific stage.\n",
    "The approach can be used in a ROA or DTA setting.\n",
    "\n",
    "$PV(investment) =$ cost of project\n",
    "\n",
    "$PV(success) = \\frac{Prob(Project)}{(1 + WACC)^T}$\n",
    "\n",
    "\n",
    "## ToDO"
   ],
   "id": "95a53149035bdcc8"
  },
  {
   "metadata": {
    "ExecuteTime": {
     "end_time": "2024-07-29T21:21:28.865393Z",
     "start_time": "2024-07-29T21:21:28.862343Z"
    }
   },
   "cell_type": "code",
   "source": [
    "def calculate_final_npv(rf_yields, cost, profit, sucess_p, yields_p=None):\n",
    "    '''\n",
    "    Calculates the NPV at the final step\n",
    "    Parameters\n",
    "    ----------\n",
    "    rf_yields: list[float]\n",
    "    yield of the risk-free rate, list of possible yields\n",
    "    cost: float\n",
    "    cost at the final step of project (factory cost)\n",
    "    profit: float\n",
    "    profit per year after the project is done and is sucessfull\n",
    "    sucess_p: float\n",
    "    probability of sucess of project\n",
    "    yields_p: list[float]\n",
    "    probability of each yield\n",
    "    '''\n",
    "    return sucess_p * np.average(np.maximum(0, profit / np.array(rf_yields) - cost), weights=yields_p)\n",
    "\n",
    "\n",
    "def calculate_initial_npv(yearly_cost, rf, final_npv, t):\n",
    "    '''\n",
    "    Calculates the NPV at t=0\n",
    "    Parameters\n",
    "    ----------\n",
    "    yearly_cost: float\n",
    "    cost (per year) of R and D\n",
    "    rf: float\n",
    "    risk-free rate\n",
    "    final_npv: float\n",
    "    NPV at final time step, calculated with ```calcute_final_npv()```\n",
    "    t: int\n",
    "    time steps\n",
    "    '''\n",
    "    NPV = 0\n",
    "    for i in range(t):\n",
    "        NPV -= yearly_cost / (1 + rf) ** i\n",
    "    NPV += final_npv / (1 + rf) ** (t)\n",
    "\n",
    "    return NPV"
   ],
   "id": "956816d92f113055",
   "outputs": [],
   "execution_count": 38
  },
  {
   "metadata": {
    "ExecuteTime": {
     "end_time": "2024-07-29T21:21:30.538394Z",
     "start_time": "2024-07-29T21:21:30.535046Z"
    }
   },
   "cell_type": "code",
   "source": [
    "rf_yields = [.12, .1, .08, .05]\n",
    "cost = 1000\n",
    "profit = 100\n",
    "sucess_p = .25\n",
    "final_npv = calculate_final_npv(rf_yields, cost, profit, sucess_p)\n",
    "print(f\"{final_npv=:.2f}\")\n",
    "yearly_cost = 10\n",
    "rf = .1\n",
    "t = 5\n",
    "NPV = calculate_initial_npv(yearly_cost, rf, final_npv, t)\n",
    "print(f\"{NPV=:.2f}\")"
   ],
   "id": "bf9bd1b182e22ec",
   "outputs": [
    {
     "name": "stdout",
     "output_type": "stream",
     "text": [
      "final_npv=78.12\n",
      "NPV=6.81\n"
     ]
    }
   ],
   "execution_count": 39
  }
 ],
 "metadata": {
  "kernelspec": {
   "display_name": "Python 3",
   "language": "python",
   "name": "python3"
  },
  "language_info": {
   "codemirror_mode": {
    "name": "ipython",
    "version": 2
   },
   "file_extension": ".py",
   "mimetype": "text/x-python",
   "name": "python",
   "nbconvert_exporter": "python",
   "pygments_lexer": "ipython2",
   "version": "2.7.6"
  }
 },
 "nbformat": 4,
 "nbformat_minor": 5
}
