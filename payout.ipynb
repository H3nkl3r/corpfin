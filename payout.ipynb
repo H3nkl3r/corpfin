{
 "cells": [
  {
   "cell_type": "code",
   "execution_count": null,
   "id": "initial_id",
   "metadata": {
    "collapsed": true
   },
   "outputs": [],
   "source": [
    ""
   ]
  },
  {
   "metadata": {},
   "cell_type": "markdown",
   "source": "# Payout Policy",
   "id": "a0a1cdc611241c7b"
  },
  {
   "metadata": {},
   "cell_type": "markdown",
   "source": "## Distrubution to Shareholders",
   "id": "214304b90d898d32"
  },
  {
   "metadata": {},
   "cell_type": "markdown",
   "source": [
    "**Two types to pay out earnings to shareholders:**\n",
    "1. Dividends\n",
    "2. Share repurchases\n",
    "\n",
    "**Dividends: (Signal: expected to stay constant or steadily increase over time)**\n",
    "* Decision by the ASM\n",
    "* Max. retained earnings plus free reserves\n",
    "\n",
    "**Share repurchases: (Signal: one-time pay-out)**\n",
    "* Decision by the ASM\n",
    "* Max. retained earnings plus free reserves\n",
    "* Max. 10% of equity\n",
    "* Equality principle must be obeyed\n",
    "* Repurchase shares typically are used to reduce share capital\n",
    "* The company does not have any rights out of its own shares\n",
    "\n",
    "Note: Repurchases are used with the dissemination of employee stock options programs -> undo the dilution coming from exercise of stock options\n"
   ],
   "id": "5f32b875a306d361"
  },
  {
   "metadata": {},
   "cell_type": "markdown",
   "source": "## Irrelevance of Payout Policy",
   "id": "1a2789e911914a1a"
  },
  {
   "metadata": {},
   "cell_type": "markdown",
   "source": [
    "**Dividends Deliver and do not Generate Value**\n",
    "\n",
    "Modigliani and Miller (1961) proved **irrelevance of dividend policy in perfect capital markets**\n",
    "* No taxes or transaction costs\n",
    "* Perfect information: Everyone fully informed about the distribution of the firm‘s future cash flows\n",
    "* Investment decision is independent of dividend policy (all positive NPV projects will be executed)\n",
    "\n",
    "Dividends are way to deliver, not to generate value. There is no optimal dividend. The same reasoning applies to share repurchases\n",
    "\n",
    "* In perfect capital markets, an open market share repurchase has no\n",
    "effect on the stock price, and the stock price is the same as the cum-\n",
    "dividend price if a dividend were paid instead.\n",
    "* In perfect capital markets, investors are indifferent between the firm\n",
    "distributing funds via dividends or share repurchases. By reinvesting\n",
    "dividends or selling shares, they can replicate either payout method on\n",
    "their own **(homemade dividend)**.\n",
    "\n",
    "**But markets react to dividend changes and share repurchases**"
   ],
   "id": "e814f3f5996b9167"
  },
  {
   "metadata": {},
   "cell_type": "markdown",
   "source": "## Explainations of Relevance of Payout Policy",
   "id": "67ec94e69f682873"
  },
  {
   "metadata": {},
   "cell_type": "markdown",
   "source": [
    "| Violations of MM-assumptions | Subsequent discussion |\n",
    "|------------------------------|-----------------------|\n",
    "| Taxes                        | Clientele effect      |\n",
    "| Asymmetric information       | Signaling theory      |\n",
    "| Agency cost                  | Agency theory         |"
   ],
   "id": "d6aeb0331d206f36"
  },
  {
   "metadata": {},
   "cell_type": "markdown",
   "source": "### Taxes",
   "id": "884dcad24e9424f"
  },
  {
   "metadata": {},
   "cell_type": "markdown",
   "source": [
    "Taxes on Dividends and Capital Gains\n",
    "* In many countries dividends are taxed at a higher rate than capital gains.\n",
    "* There is an economic reason: stock prices already reflect the future tax burden due to dividend taxation. If an investor sells the stock before dividend payment, he implicitly pays the dividend tax as the stock price is reduced by the present value of this tax. Hence, a capital gains tax leads to a double taxation of dividends.\n",
    "* However, by reducing the capital gains tax stock repurchases are becoming more attractive leading to a change in the firm’s payout policy.\n",
    "* Its hard to say anything about a tax structure making payout policy irrelevant from a tax perspective."
   ],
   "id": "c93c31d00991023"
  },
  {
   "metadata": {},
   "cell_type": "markdown",
   "source": [
    "**Clientele Effect**\n",
    "* Ignoring transaction costs investors could sell the shares on the cum-date to those investors that have the lowest marginal tax rate on dividends, provided that capital gains tax-wise are treated more favorably than dividends.\n",
    "* Taking transaction costs and risk considerations into account, aggregated tax burden can also be minimized by a dividend policy that reflects the tax preference of its investor clientele\n",
    "    * Investors in the highest tax brackets select into those companies that pay no or low dividends.\n",
    "    * Investors in the lowest tax brackets select into those companies that pay high dividends.\n",
    "* Firms should follow a constant dividend policy.\n",
    "* Dividend smoothing of listed firms is robustly documented in the literature (e.g. Leary/Michaely 2011).\n",
    "* Graham/Kumar (2006) and Rantapuska (2008) find investors in lower tax-brackets tend to buy before the ex-date.\n",
    "\n",
    "Measuring by Elton and Gruber (1970)\n",
    "* To prevent arbitrage profits, it must hold\n",
    "\n",
    "  $P_B - t_g(P_B - P_C) = P_A - t_g(P_A - P_C) + div(1-t_0)$\n",
    "\n",
    "  Where:\n",
    "  * $P_C =$ Original stock purchase price\n",
    "  * $P_B =$ Stock price before it goes ex-dividend\n",
    "  * $P_A =$ Ex-dividend price\n",
    "  * $t_g =$ Capital gains tax rate\n",
    "  * $t_0 =$ Ordinary tax rate\n",
    "  * $div =$ Dividend per share\n",
    "\n",
    "* Therefore, tax rate of marginal investor can be estimated\n",
    "\n",
    "  $\\frac{P_B - P_A}{div} = \\frac{1-t_0}{1-t_g}$\n",
    "\n",
    "* Implies marginal tax bracket for dividends of average investor of 36.4%, because at that time capital gains tax was half of the ordinary tax."
   ],
   "id": "72eef21d67e618bb"
  },
  {
   "metadata": {},
   "cell_type": "markdown",
   "source": "### Asymmetric Information",
   "id": "591225abc4b172c6"
  },
  {
   "metadata": {},
   "cell_type": "markdown",
   "source": [
    "**Assumptions:**\n",
    "1. Managers as insiders have privileged access to information about the firm\n",
    "    * Assumption of asymmetric information\n",
    "2. Managers will choose unambiguous signals about firm's future,\n",
    "    * If proper incentives in place\n",
    "3. Managers are reluctant to decrease dividends (because of the clientele effect, for instance)\n",
    "4. Under assumptions 1. to 3. dividend announcements help to better predict future returns, i.e. they should have an impact on share prices \n",
    " \n",
    "=> Dividend Signaling Hypothesis \n",
    "\n",
    "=> Empirical evidence supports this hypothesis. However, the effect is economically rather\n",
    "weak"
   ],
   "id": "54093f984f33635a"
  },
  {
   "metadata": {},
   "cell_type": "markdown",
   "source": [
    "**Stock Splits and Stock Dividends**\n",
    "\n",
    "According to the Dividend Signaling Hypothesis stock dividends and splits should have a positive impact on share prices.\n",
    "\n",
    "The number of shares increase, i.e. under the assumption of a constant dividend per share the payout volume is expected to increase.\n",
    "\n",
    "Under this perspective the effect is the same as for a dividend increase."
   ],
   "id": "978d86126d5bf57f"
  },
  {
   "metadata": {},
   "cell_type": "markdown",
   "source": "**Share repurchases are a credible signal that the shares are underpriced, because if they are overpriced a share repurchase is costly for current shareholders**",
   "id": "27cd629b0b75bb0d"
  },
  {
   "metadata": {},
   "cell_type": "markdown",
   "source": "### Agency Cost",
   "id": "b227f1ae2bbfd75f"
  },
  {
   "metadata": {},
   "cell_type": "markdown",
   "source": [
    "Rozeff (1982): Optimal dividend policy trades off between the transaction costs of raising external capital and the benefit of reduced agency costs\n",
    "* Increasing dividend reduces agency costs\n",
    "    * More dividend increases need for external capital\n",
    "    * External capital provides additional monitoring of management\n",
    "    * Relates to Jensen’s Free Cash Flow Theory\n",
    "* Increasing dividend increases transaction costs\n",
    "    * More dividend increases need for external capital\n",
    "    * Raising external capital is costly\n",
    "* Trade-off: Value optimizing dividend balances reduced agency cost against higher transaction costs\n",
    "    * Similar to free cash-flow theory of debt"
   ],
   "id": "b1b998c973203fbe"
  }
 ],
 "metadata": {
  "kernelspec": {
   "display_name": "Python 3",
   "language": "python",
   "name": "python3"
  },
  "language_info": {
   "codemirror_mode": {
    "name": "ipython",
    "version": 2
   },
   "file_extension": ".py",
   "mimetype": "text/x-python",
   "name": "python",
   "nbconvert_exporter": "python",
   "pygments_lexer": "ipython2",
   "version": "2.7.6"
  }
 },
 "nbformat": 4,
 "nbformat_minor": 5
}
