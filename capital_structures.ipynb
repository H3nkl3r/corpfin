{
 "cells": [
  {
   "cell_type": "markdown",
   "id": "274033e44f0d0a1",
   "metadata": {},
   "source": [
    "# Capital Structures"
   ]
  },
  {
   "cell_type": "code",
   "execution_count": 2,
   "id": "ae1dcc56fac18c6f",
   "metadata": {
    "collapsed": false
   },
   "outputs": [],
   "source": [
    "def levered_cost_of_equity(rf, beta, e_r):\n",
    "    \"\"\"\n",
    "    Calculate the levered cost of equity.\n",
    "    \n",
    "    Parameters:\n",
    "    rf (float): Risk-free rate\n",
    "    beta (float): Beta\n",
    "    e_r (float): Expected return on the market\n",
    "\n",
    "    Returns:\n",
    "    float: Levered cost of equity\n",
    "    \"\"\"\n",
    "    return rf + beta * (e_r - rf)\n",
    "\n",
    "def unlevered_cost_of_equity(levered_cost, tax_rate, debt_to_equity, cost_of_debt):\n",
    "    \"\"\"\n",
    "    Calculate the unlevered cost of equity using the Modigliani-Miller theorem.\n",
    "    \n",
    "    Parameters:\n",
    "    levered_cost (float): Levered cost of equity\n",
    "    tax_rate (float): Corporate tax rate\n",
    "    debt_to_equity (float): Debt-to-equity ratio\n",
    "    cost_of_debt (float): Cost of debt\n",
    "\n",
    "    Returns:\n",
    "    float: Unlevered cost of equity\n",
    "    \"\"\"\n",
    "    return (levered_cost + (levered_cost - cost_of_debt) * debt_to_equity * (1 - tax_rate)) / (1 + debt_to_equity)\n",
    "\n",
    "def WACC(k_e, tau, V_d, V):\n",
    "    \"\"\" Using the unlevered cost of equity calculated using the Modigliani-Miller theorem \"\"\"\n",
    "    return k_e * (1 - tau) * (V_d / V) \n",
    "\n"
   ]
  },
  {
   "cell_type": "code",
   "execution_count": 10,
   "id": "074ed7e1",
   "metadata": {},
   "outputs": [
    {
     "name": "stdout",
     "output_type": "stream",
     "text": [
      "Levered cost of equity: 0.0920\n",
      "Unlevered cost of equity: 0.0711\n",
      "WACC: 0.0249\n"
     ]
    }
   ],
   "source": [
    "# Modigliani-Miller Framework\n",
    "\n",
    "\n",
    "# Calculation of (levered) cost of equity\n",
    "# rf = Risk-free rate\n",
    "rf = 0.02\n",
    "# beta = Beta\n",
    "beta = 1.2\n",
    "# e_r = Expected return on the market\n",
    "e_r = 0.08\n",
    "# Calculate the levered cost of equity\n",
    "levered_cost = levered_cost_of_equity(rf, beta, e_r)\n",
    "print(f\"Levered cost of equity: {levered_cost:.4f}\")\n",
    "\n",
    "# Calculation of unlevered cost of equity\n",
    "# tax_rate = Corporate tax rate\n",
    "tax_rate = 0.3\n",
    "# debt_to_equity = Debt-to-equity ratio\n",
    "debt_to_equity = 0.5\n",
    "# cost_of_debt = Cost of debt\n",
    "cost_of_debt = 0.05\n",
    "# Calculate the unlevered cost of equity\n",
    "unlevered_cost = unlevered_cost_of_equity(levered_cost, tax_rate, debt_to_equity, cost_of_debt)\n",
    "print(f\"Unlevered cost of equity: {unlevered_cost:.4f}\")\n",
    "\n",
    "\n",
    "# - Weighted average cost of capital\n",
    "# WACC Calculation\n",
    "# note currently it just uses a dummy value of 1 for V, this should be replaced with the actual value of \n",
    "# V if no debt to equity ratio is given\n",
    "\n",
    "wacc = WACC(unlevered_cost, tax_rate, debt_to_equity, 1)\n",
    "print(f\"WACC: {wacc:.4f}\")\n",
    "\n"
   ]
  },
  {
   "cell_type": "code",
   "execution_count": 1,
   "id": "a4ce0f31056ad34b",
   "metadata": {
    "ExecuteTime": {
     "end_time": "2024-07-29T21:42:59.609836Z",
     "start_time": "2024-07-29T21:42:59.607705Z"
    }
   },
   "outputs": [],
   "source": [
    "def analyse_issue(Vg, Vb, E, pg, pb):\n",
    "    V = pg*Vg + pb*Vb\n",
    "    alpha = V/(V+E)\n",
    "    print(f\"mean value {V=:.2f}\")\n",
    "    s = f\"\"\"\n",
    "      | Do Nothing | Issue Equity\n",
    "    --+---------------------------\n",
    "    G | {Vg:.2f}   |  {alpha*(Vg + E):.2f}\n",
    "    --+---------------------------\n",
    "    B | {Vb:.2f}   |  {alpha*(Vb + E):.2f}\n",
    "    \"\"\"\n",
    "    print(s)"
   ]
  },
  {
   "cell_type": "code",
   "execution_count": 2,
   "id": "dd02e1131ac2244b",
   "metadata": {
    "ExecuteTime": {
     "end_time": "2024-07-29T21:43:00.463240Z",
     "start_time": "2024-07-29T21:43:00.459248Z"
    }
   },
   "outputs": [
    {
     "name": "stdout",
     "output_type": "stream",
     "text": [
      "mean value V=200.00\n",
      "\n",
      "      | Do Nothing | Issue Equity\n",
      "    --+---------------------------\n",
      "    G | 250.00   |  233.33\n",
      "    --+---------------------------\n",
      "    B | 150.00   |  166.67\n",
      "    \n"
     ]
    }
   ],
   "source": [
    "Vg = 250\n",
    "Vb = 150\n",
    "E = 100\n",
    "pg = 0.5\n",
    "pb = 0.5\n",
    "analyse_issue(Vg, Vb, E, pg, pb)"
   ]
  },
  {
   "cell_type": "code",
   "execution_count": 5,
   "id": "e354d50a7ca9ac28",
   "metadata": {
    "ExecuteTime": {
     "end_time": "2024-07-29T21:44:03.486552Z",
     "start_time": "2024-07-29T21:44:03.483269Z"
    }
   },
   "outputs": [],
   "source": [
    "def analyse_issue_(Vg, Vb, E, pg, pb):\n",
    "    V = pg*Vg + pb*Vb\n",
    "    alpha = Vb/(Vb+E)\n",
    "    print(f\"mean value {V=:.2f}\")\n",
    "    s = f\"\"\"\n",
    "      | Do Nothing | Issue Equity\n",
    "    --+---------------------------\n",
    "    G | {Vg:.2f}   |  {alpha*(Vg + E):.2f}\n",
    "    --+---------------------------\n",
    "    B | {Vb:.2f}   |  {alpha*(Vb + E):.2f}\n",
    "    \"\"\"\n",
    "    print(s)"
   ]
  },
  {
   "cell_type": "code",
   "execution_count": 6,
   "id": "6620b2369cc6c3d7",
   "metadata": {
    "ExecuteTime": {
     "end_time": "2024-07-29T21:44:06.341704Z",
     "start_time": "2024-07-29T21:44:06.339137Z"
    }
   },
   "outputs": [
    {
     "name": "stdout",
     "output_type": "stream",
     "text": [
      "mean value V=2330.00\n",
      "\n",
      "      | Do Nothing | Issue Equity\n",
      "    --+---------------------------\n",
      "    G | 2550.00   |  2440.00\n",
      "    --+---------------------------\n",
      "    B | 2000.00   |  2000.00\n",
      "    \n"
     ]
    }
   ],
   "source": [
    "Vg = 2550\n",
    "Vb = 2000\n",
    "E = 500\n",
    "pg = 0.6\n",
    "pb = 0.4\n",
    "analyse_issue_(Vg, Vb, E, pg, pb)"
   ]
  },
  {
   "cell_type": "code",
   "execution_count": 77,
   "id": "9acba0252ad90b1f",
   "metadata": {
    "ExecuteTime": {
     "end_time": "2024-07-29T21:46:42.001186Z",
     "start_time": "2024-07-29T21:46:41.997127Z"
    }
   },
   "outputs": [],
   "source": [
    "# rm_rf is the market premium minus the risk-free rate\n",
    "def calculate_WACC_Vd_V(Vd_V , rf, rm_rf, rd, tau, FCFF, beta=None, beta_u=None):\n",
    "    Ve_V = 1 - Vd_V\n",
    "    \n",
    "    if beta and beta_u or not beta and not beta_u:\n",
    "        raise ValueError(\"Only one of beta and beta_u should be provided\")\n",
    "    \n",
    "    if not beta:\n",
    "        beta = beta_u*(1 + (Vd_V/Ve_V)*(1 - tau))\n",
    "        beta = round(beta, 2)\n",
    "        print(f\"levered beta: {beta}\")\n",
    "\n",
    "    re = rf + beta* rm_rf\n",
    "     \n",
    "    re = round(re, 2)\n",
    "    WACC = rd*(1 - tau)*Vd_V + re*Ve_V\n",
    "    WACC = round(WACC, 4)\n",
    "    V = FCFF/WACC\n",
    "    V = round(V, 2)\n",
    "    return WACC, V"
   ]
  },
  {
   "cell_type": "code",
   "execution_count": 54,
   "id": "90d05c60",
   "metadata": {},
   "outputs": [
    {
     "name": "stdout",
     "output_type": "stream",
     "text": [
      "Cost of capital: 9.00%\n",
      "Value: 1000.00\n"
     ]
    }
   ],
   "source": [
    "\n",
    "# This code can be used to calculate the cost of capital and value for a firm if the following parameters are given:\n",
    "# - Vd_V: Percentage of debt in the capital structure\n",
    "# - rf: Risk-free rate\n",
    "# - rm_rf: Market premium minus the risk-free rate\n",
    "# - rd: Cost of debt\n",
    "# - tau: Corporate tax rate\n",
    "# - FCFF: Free cash flow to the firm\n",
    "# Provide either one of the following:\n",
    "# - beta_u: Unlevered beta\n",
    "# - beta: Levered beta\n",
    "\n",
    "\n",
    "# Calculate the cost of capital and value for firm \n",
    "Vd_V = 0.5\n",
    "beta = 1.5\n",
    "rf = 0.06\n",
    "rm_rf = 0.12 - rf\n",
    "rd = rf\n",
    "tau = 0.5\n",
    "FCFF = 90\n",
    "WACC, V = calculate_WACC_Vd_V(Vd_V, rf, rm_rf, rd, tau, FCFF, beta=beta_u)\n",
    "print(f\"Cost of capital: {WACC*100:.2f}%\")\n",
    "print(f\"Value: {V:.2f}\")\n",
    "\n",
    "\n",
    "\n"
   ]
  },
  {
   "cell_type": "code",
   "execution_count": 57,
   "id": "e1796dee",
   "metadata": {},
   "outputs": [
    {
     "data": {
      "text/plain": [
       "0.317657"
      ]
     },
     "execution_count": 57,
     "metadata": {},
     "output_type": "execute_result"
    }
   ],
   "source": []
  },
  {
   "cell_type": "code",
   "execution_count": 87,
   "id": "38eee72ec3426388",
   "metadata": {
    "ExecuteTime": {
     "end_time": "2024-07-29T21:46:56.613890Z",
     "start_time": "2024-07-29T21:46:56.326578Z"
    }
   },
   "outputs": [
    {
     "name": "stdout",
     "output_type": "stream",
     "text": [
      "levered beta: 1.67\n",
      "Estimated Vd/V: 0.40816; Calculated Vd/V: 0.50000\n",
      "Calculated V:  17.15\n",
      "Cost of capital: 5.83%\n",
      "levered beta: 1.46\n",
      "1-th iteration - Estimated Vd/V: 0.40745; Calculated Vd/V: 0.40816\n",
      "Calculated V:  17.18\n",
      "Cost of capital: 5.82%\n",
      "levered beta: 1.46\n",
      "2-th iteration - Estimated Vd/V: 0.40816; Calculated Vd/V: 0.40745\n",
      "Calculated V:  17.15\n",
      "Cost of capital: 5.83%\n",
      "levered beta: 1.46\n",
      "3-th iteration - Estimated Vd/V: 0.40745; Calculated Vd/V: 0.40816\n",
      "Calculated V:  17.18\n",
      "Cost of capital: 5.82%\n",
      "levered beta: 1.46\n",
      "4-th iteration - Estimated Vd/V: 0.40816; Calculated Vd/V: 0.40745\n",
      "Calculated V:  17.15\n",
      "Cost of capital: 5.83%\n",
      "levered beta: 1.46\n",
      "5-th iteration - Estimated Vd/V: 0.40745; Calculated Vd/V: 0.40816\n",
      "Calculated V:  17.18\n",
      "Cost of capital: 5.82%\n",
      "levered beta: 1.46\n",
      "[0.0582, 0.0583, 0.0582, 0.0583, 0.0582]\n",
      "Interpolated WACC: 5.82%\n",
      "Interpolated Value of the firm: 17.18\n"
     ]
    }
   ],
   "source": [
    "Vd = 7\n",
    "Vd_V = 0.5\n",
    "beta_u = 1\n",
    "tau = 1/3\n",
    "\n",
    "FCFF = 1\n",
    "rm_rf = 0.03\n",
    "rf = 0.04\n",
    "rd = rf\n",
    "WACC, V = calculate_WACC_Vd_V(Vd_V, rf, rm_rf, rd, tau, FCFF, beta_u=beta_u)\n",
    "print(f\"Estimated Vd/V: {Vd/V:,.5f}; Calculated Vd/V: {Vd_V:,.5f}\")\n",
    "print(\"Calculated V: \", V)\n",
    "print(f\"Cost of capital: {WACC*100:.2f}%\")\n",
    "err = Vd_V - Vd/V\n",
    "i = 0\n",
    "waccs = []\n",
    "Vs = []\n",
    "while abs(err) > .0001 and i < 5:\n",
    "    i += 1\n",
    "    Vd_V = Vd/V\n",
    "    WACC, V = calculate_WACC_Vd_V(Vd_V, rf, rm_rf, rd, tau, FCFF, beta_u=beta_u)\n",
    "    waccs.append(WACC)\n",
    "    Vs.append(V)\n",
    "    err = Vd_V - Vd/V\n",
    "    print(f\"{i}-th iteration - Estimated Vd/V: {Vd/V:,.5f}; Calculated Vd/V: {Vd_V:,.5f}\")\n",
    "    print(\"Calculated V: \", V)\n",
    "    print(f\"Cost of capital: {WACC*100:.2f}%\")\n",
    "\n",
    "\n",
    "# one step linear interpolation\n",
    "\n",
    "# From this, it follows that the debt ratio is $7 / 16.61=0.4214$. Putting this number into the Hamada-equation yields a levered beta of 1.4855 and, as a consequence, a cost of equity of $8.46 \\%$ and a WACC of $6.02 \\%$. Therefore, this is a consistent result.\n",
    "WACC, V = calculate_WACC_Vd_V(Vd_V, rf, rm_rf, rd, tau, FCFF, beta_u=beta_u)\n",
    "\n",
    "# this doesn't work as intended but i think it is not relevant\n",
    "# interpolated_WACC = WACC + (Vs[1] - V)/\n",
    "# print(f\"Interpolated WACC: {interpolated_WACC*100:.2f}%\")\n",
    "# print(f\"Interpolated Value of the firm: {FCFF/interpolated_WACC:.2f}\")\n",
    "    "
   ]
  },
  {
   "cell_type": "code",
   "execution_count": null,
   "id": "76657a2e",
   "metadata": {},
   "outputs": [],
   "source": []
  }
 ],
 "metadata": {
  "kernelspec": {
   "display_name": "Python 3",
   "language": "python",
   "name": "python3"
  },
  "language_info": {
   "codemirror_mode": {
    "name": "ipython",
    "version": 3
   },
   "file_extension": ".py",
   "mimetype": "text/x-python",
   "name": "python",
   "nbconvert_exporter": "python",
   "pygments_lexer": "ipython3",
   "version": "3.11.7"
  }
 },
 "nbformat": 4,
 "nbformat_minor": 5
}
