{
 "cells": [
  {
   "metadata": {},
   "cell_type": "markdown",
   "source": "# Capital Structures",
   "id": "274033e44f0d0a1"
  },
  {
   "metadata": {
    "ExecuteTime": {
     "end_time": "2024-07-29T21:42:59.609836Z",
     "start_time": "2024-07-29T21:42:59.607705Z"
    }
   },
   "cell_type": "code",
   "source": [
    "def analyse_issue(Vg, Vb, E, pg, pb):\n",
    "    V = pg*Vg + pb*Vb\n",
    "    alpha = V/(V+E)\n",
    "    print(f\"mean value {V=:.2f}\")\n",
    "    s = f\"\"\"\n",
    "      | Do Nothing | Issue Equity\n",
    "    --+---------------------------\n",
    "    G | {Vg:.2f}   |  {alpha*(Vg + E):.2f}\n",
    "    --+---------------------------\n",
    "    B | {Vb:.2f}   |  {alpha*(Vb + E):.2f}\n",
    "    \"\"\"\n",
    "    print(s)"
   ],
   "id": "a4ce0f31056ad34b",
   "outputs": [],
   "execution_count": 1
  },
  {
   "metadata": {
    "ExecuteTime": {
     "end_time": "2024-07-29T21:43:00.463240Z",
     "start_time": "2024-07-29T21:43:00.459248Z"
    }
   },
   "cell_type": "code",
   "source": [
    "Vg = 250\n",
    "Vb = 150\n",
    "E = 100\n",
    "pg = 0.5\n",
    "pb = 0.5\n",
    "analyse_issue(Vg, Vb, E, pg, pb)"
   ],
   "id": "dd02e1131ac2244b",
   "outputs": [
    {
     "name": "stdout",
     "output_type": "stream",
     "text": [
      "mean value V=200.00\n",
      "\n",
      "      | Do Nothing | Issue Equity\n",
      "    --+---------------------------\n",
      "    G | 250.00   |  233.33\n",
      "    --+---------------------------\n",
      "    B | 150.00   |  166.67\n",
      "    \n"
     ]
    }
   ],
   "execution_count": 2
  },
  {
   "metadata": {
    "ExecuteTime": {
     "end_time": "2024-07-29T21:44:03.486552Z",
     "start_time": "2024-07-29T21:44:03.483269Z"
    }
   },
   "cell_type": "code",
   "source": [
    "def analyse_issue_(Vg, Vb, E, pg, pb):\n",
    "    V = pg*Vg + pb*Vb\n",
    "    alpha = Vb/(Vb+E)\n",
    "    print(f\"mean value {V=:.2f}\")\n",
    "    s = f\"\"\"\n",
    "      | Do Nothing | Issue Equity\n",
    "    --+---------------------------\n",
    "    G | {Vg:.2f}   |  {alpha*(Vg + E):.2f}\n",
    "    --+---------------------------\n",
    "    B | {Vb:.2f}   |  {alpha*(Vb + E):.2f}\n",
    "    \"\"\"\n",
    "    print(s)"
   ],
   "id": "e354d50a7ca9ac28",
   "outputs": [],
   "execution_count": 5
  },
  {
   "metadata": {
    "ExecuteTime": {
     "end_time": "2024-07-29T21:44:06.341704Z",
     "start_time": "2024-07-29T21:44:06.339137Z"
    }
   },
   "cell_type": "code",
   "source": [
    "Vg = 2550\n",
    "Vb = 2000\n",
    "E = 500\n",
    "pg = 0.6\n",
    "pb = 0.4\n",
    "analyse_issue_(Vg, Vb, E, pg, pb)"
   ],
   "id": "6620b2369cc6c3d7",
   "outputs": [
    {
     "name": "stdout",
     "output_type": "stream",
     "text": [
      "mean value V=2330.00\n",
      "\n",
      "      | Do Nothing | Issue Equity\n",
      "    --+---------------------------\n",
      "    G | 2550.00   |  2440.00\n",
      "    --+---------------------------\n",
      "    B | 2000.00   |  2000.00\n",
      "    \n"
     ]
    }
   ],
   "execution_count": 6
  },
  {
   "metadata": {
    "ExecuteTime": {
     "end_time": "2024-07-29T21:46:42.001186Z",
     "start_time": "2024-07-29T21:46:41.997127Z"
    }
   },
   "cell_type": "code",
   "source": [
    "# rm_rf is the market premium minus the risk-free rate\n",
    "def calculate_WACC_Vd_V(Vd_V, beta_u, rf, rm_rf, rd, tau, FCFF):\n",
    "    Ve_V = 1 - Vd_V\n",
    "    beta = beta_u*(1 + Vd_V/Ve_V*(1 - tau))\n",
    "    beta = round(beta, 2)\n",
    "    re = rf + beta*rm_rf\n",
    "    re = round(re, 2)\n",
    "    WACC = rd*(1 - tau)*Vd_V + re*Ve_V\n",
    "    WACC = round(WACC, 4)\n",
    "    V = FCFF/WACC\n",
    "    V = round(V, 2)\n",
    "    return V"
   ],
   "id": "9acba0252ad90b1f",
   "outputs": [],
   "execution_count": 7
  },
  {
   "metadata": {
    "ExecuteTime": {
     "end_time": "2024-07-29T21:46:56.613890Z",
     "start_time": "2024-07-29T21:46:56.326578Z"
    }
   },
   "cell_type": "code",
   "source": [
    "Vd = 7\n",
    "Vd_V = 0.5\n",
    "beta_u = 1\n",
    "T = 1/3\n",
    "FCFF = 1\n",
    "rm_rf = 0.03\n",
    "rf = 0.04\n",
    "rd = rf\n",
    "V = calculate_WACC_Vd_V(Vd_V, beta_u, rf, rm_rf, rd, tau, FCFF)\n",
    "print(f\"Estimated Vd/V: {Vd/V:,.5f}; Calculated Vd/V: {Vd_V:,.5f}\")\n",
    "err = Vd_V - Vd/V\n",
    "i = 0\n",
    "while abs(err) > .0001 and i < 100:\n",
    "    i += 1\n",
    "    Vd_V = Vd/V\n",
    "    V = calculate_WACC_Vd_V(Vd_V, beta_u, rf, rm_rf, rd, tau, FCFF)\n",
    "    err = Vd_V - Vd/V\n",
    "    print(f\"{i}-th iteration - Estimated Vd/V: {Vd/V:,.5f}; Calculated Vd/V: {Vd_V:, .5f}\")"
   ],
   "id": "38eee72ec3426388",
   "outputs": [
    {
     "ename": "NameError",
     "evalue": "name 'tau' is not defined",
     "output_type": "error",
     "traceback": [
      "\u001B[0;31m---------------------------------------------------------------------------\u001B[0m",
      "\u001B[0;31mNameError\u001B[0m                                 Traceback (most recent call last)",
      "Cell \u001B[0;32mIn[8], line 9\u001B[0m\n\u001B[1;32m      7\u001B[0m rf \u001B[38;5;241m=\u001B[39m \u001B[38;5;241m0.04\u001B[39m\n\u001B[1;32m      8\u001B[0m rd \u001B[38;5;241m=\u001B[39m rf\n\u001B[0;32m----> 9\u001B[0m V \u001B[38;5;241m=\u001B[39m calculate_WACC_Vd_V(Vd_V, beta_u, rf, rm_rf, rd, tau, FCFF)\n\u001B[1;32m     10\u001B[0m \u001B[38;5;28mprint\u001B[39m(\u001B[38;5;124mf\u001B[39m\u001B[38;5;124m\"\u001B[39m\u001B[38;5;124mEstimated Vd/V: \u001B[39m\u001B[38;5;132;01m{\u001B[39;00mVd\u001B[38;5;241m/\u001B[39mV\u001B[38;5;132;01m:\u001B[39;00m\u001B[38;5;124m,.5f\u001B[39m\u001B[38;5;132;01m}\u001B[39;00m\u001B[38;5;124m; Calculated Vd/V: \u001B[39m\u001B[38;5;132;01m{\u001B[39;00mVd_V\u001B[38;5;132;01m:\u001B[39;00m\u001B[38;5;124m,.5f\u001B[39m\u001B[38;5;132;01m}\u001B[39;00m\u001B[38;5;124m\"\u001B[39m)\n\u001B[1;32m     11\u001B[0m err \u001B[38;5;241m=\u001B[39m Vd_V \u001B[38;5;241m-\u001B[39m Vd\u001B[38;5;241m/\u001B[39mV\n",
      "\u001B[0;31mNameError\u001B[0m: name 'tau' is not defined"
     ]
    }
   ],
   "execution_count": 8
  }
 ],
 "metadata": {
  "kernelspec": {
   "display_name": "Python 3",
   "language": "python",
   "name": "python3"
  },
  "language_info": {
   "codemirror_mode": {
    "name": "ipython",
    "version": 2
   },
   "file_extension": ".py",
   "mimetype": "text/x-python",
   "name": "python",
   "nbconvert_exporter": "python",
   "pygments_lexer": "ipython2",
   "version": "2.7.6"
  }
 },
 "nbformat": 4,
 "nbformat_minor": 5
}
