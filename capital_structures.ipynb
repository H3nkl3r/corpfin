{
 "cells": [
  {
   "cell_type": "code",
   "execution_count": null,
   "id": "3a040e60",
   "metadata": {},
   "outputs": [],
   "source": [
    "import pandas as pd"
   ]
  },
  {
   "cell_type": "markdown",
   "id": "274033e44f0d0a1",
   "metadata": {},
   "source": [
    "# Capital Structures"
   ]
  },
  {
   "cell_type": "code",
   "execution_count": 2,
   "id": "ae1dcc56fac18c6f",
   "metadata": {
    "collapsed": false
   },
   "outputs": [],
   "source": [
    "def levered_cost_of_equity(rf, beta, e_r):\n",
    "    \"\"\"\n",
    "    Calculate the levered cost of equity.\n",
    "    \n",
    "    Parameters:\n",
    "    rf (float): Risk-free rate\n",
    "    beta (float): Beta\n",
    "    e_r (float): Expected return on the market\n",
    "\n",
    "    Returns:\n",
    "    float: Levered cost of equity\n",
    "    \"\"\"\n",
    "    return rf + beta * (e_r - rf)\n",
    "\n",
    "def unlevered_cost_of_equity(levered_cost, tax_rate, debt_to_equity, cost_of_debt):\n",
    "    \"\"\"\n",
    "    Calculate the unlevered cost of equity using the Modigliani-Miller theorem.\n",
    "    \n",
    "    Parameters:\n",
    "    levered_cost (float): Levered cost of equity\n",
    "    tax_rate (float): Corporate tax rate\n",
    "    debt_to_equity (float): Debt-to-equity ratio\n",
    "    cost_of_debt (float): Cost of debt\n",
    "\n",
    "    Returns:\n",
    "    float: Unlevered cost of equity\n",
    "    \"\"\"\n",
    "    return (levered_cost + (levered_cost - cost_of_debt) * debt_to_equity * (1 - tax_rate)) / (1 + debt_to_equity)\n",
    "\n",
    "def WACC(k_e, tau, V_d, V):\n",
    "    \"\"\" Using the unlevered cost of equity calculated using the Modigliani-Miller theorem \"\"\"\n",
    "    return k_e * (1 - tau) * (V_d / V) \n",
    "\n"
   ]
  },
  {
   "cell_type": "code",
   "execution_count": 10,
   "id": "074ed7e1",
   "metadata": {},
   "outputs": [
    {
     "name": "stdout",
     "output_type": "stream",
     "text": [
      "Levered cost of equity: 0.0920\n",
      "Unlevered cost of equity: 0.0711\n",
      "WACC: 0.0249\n"
     ]
    }
   ],
   "source": [
    "# Modigliani-Miller Framework\n",
    "\n",
    "\n",
    "# Calculation of (levered) cost of equity\n",
    "# rf = Risk-free rate\n",
    "rf = 0.02\n",
    "# beta = Beta\n",
    "beta = 1.2\n",
    "# e_r = Expected return on the market\n",
    "e_r = 0.08\n",
    "# Calculate the levered cost of equity\n",
    "levered_cost = levered_cost_of_equity(rf, beta, e_r)\n",
    "print(f\"Levered cost of equity: {levered_cost:.4f}\")\n",
    "\n",
    "# Calculation of unlevered cost of equity\n",
    "# tax_rate = Corporate tax rate\n",
    "tax_rate = 0.3\n",
    "# debt_to_equity = Debt-to-equity ratio\n",
    "debt_to_equity = 0.5\n",
    "# cost_of_debt = Cost of debt\n",
    "cost_of_debt = 0.05\n",
    "# Calculate the unlevered cost of equity\n",
    "unlevered_cost = unlevered_cost_of_equity(levered_cost, tax_rate, debt_to_equity, cost_of_debt)\n",
    "print(f\"Unlevered cost of equity: {unlevered_cost:.4f}\")\n",
    "\n",
    "\n",
    "# - Weighted average cost of capital\n",
    "# WACC Calculation\n",
    "# note currently it just uses a dummy value of 1 for V, this should be replaced with the actual value of \n",
    "# V if no debt to equity ratio is given\n",
    "\n",
    "wacc = WACC(unlevered_cost, tax_rate, debt_to_equity, 1)\n",
    "print(f\"WACC: {wacc:.4f}\")\n",
    "\n"
   ]
  },
  {
   "cell_type": "code",
   "execution_count": 4,
   "id": "a4ce0f31056ad34b",
   "metadata": {
    "ExecuteTime": {
     "end_time": "2024-07-29T21:42:59.609836Z",
     "start_time": "2024-07-29T21:42:59.607705Z"
    }
   },
   "outputs": [],
   "source": [
    "def analyse_issue(Vg, Vb, E, pg, pb):\n",
    "    V = pg*Vg + pb*Vb\n",
    "    alpha = V/(V+E)\n",
    "    print(f\"mean value {V=:.2f}\")\n",
    "    s = f\"\"\"\n",
    "      | Do Nothing | Issue Equity\n",
    "    --+---------------------------\n",
    "    G | {Vg:.2f}   |  {alpha*(Vg + E):.2f}\n",
    "    --+---------------------------\n",
    "    B | {Vb:.2f}   |  {alpha*(Vb + E):.2f}\n",
    "\n",
    "    MEAN: {(Vg + Vb)/2:.2f}  {alpha*(Vg + Vb + 2*E)/2:.2f}\n",
    "    \"\"\"\n",
    "    print(s)"
   ]
  },
  {
   "cell_type": "code",
   "execution_count": 5,
   "id": "dd02e1131ac2244b",
   "metadata": {
    "ExecuteTime": {
     "end_time": "2024-07-29T21:43:00.463240Z",
     "start_time": "2024-07-29T21:43:00.459248Z"
    }
   },
   "outputs": [
    {
     "name": "stdout",
     "output_type": "stream",
     "text": [
      "mean value V=1330.00\n",
      "\n",
      "      | Do Nothing | Issue Equity\n",
      "    --+---------------------------\n",
      "    G | 1450.00   |  1419.66\n",
      "    --+---------------------------\n",
      "    B | 850.00   |  971.35\n",
      "\n",
      "    MEAN: 1150.00  1195.51\n",
      "    \n"
     ]
    }
   ],
   "source": [
    "Vg = 1450\n",
    "Vb = 850\n",
    "E = 450\n",
    "pg = 0.8\n",
    "pb = 0.2\n",
    "analyse_issue(Vg, Vb, E, pg, pb)"
   ]
  },
  {
   "cell_type": "code",
   "execution_count": 6,
   "id": "e354d50a7ca9ac28",
   "metadata": {
    "ExecuteTime": {
     "end_time": "2024-07-29T21:44:03.486552Z",
     "start_time": "2024-07-29T21:44:03.483269Z"
    }
   },
   "outputs": [],
   "source": [
    "def analyse_issue_(Vg, Vb, E, pg, pb):\n",
    "    V = pg*Vg + pb*Vb\n",
    "    alpha = Vb/(Vb+E)\n",
    "    print(f\"mean value {V=:.2f}\")\n",
    "    s = f\"\"\"\n",
    "      | Do Nothing | Issue Equity\n",
    "    --+---------------------------\n",
    "    G | {Vg:.2f}   |  {alpha*(Vg + E):.2f}\n",
    "    --+---------------------------\n",
    "    B | {Vb:.2f}   |  {alpha*(Vb + E):.2f}\n",
    "    \"\"\"\n",
    "    print(s)"
   ]
  },
  {
   "cell_type": "code",
   "execution_count": 7,
   "id": "6620b2369cc6c3d7",
   "metadata": {
    "ExecuteTime": {
     "end_time": "2024-07-29T21:44:06.341704Z",
     "start_time": "2024-07-29T21:44:06.339137Z"
    }
   },
   "outputs": [
    {
     "name": "stdout",
     "output_type": "stream",
     "text": [
      "mean value V=1330.00\n",
      "\n",
      "      | Do Nothing | Issue Equity\n",
      "    --+---------------------------\n",
      "    G | 1450.00   |  1242.31\n",
      "    --+---------------------------\n",
      "    B | 850.00   |  850.00\n",
      "    MEAN: 1150.00  1046.15\n",
      "    \n"
     ]
    }
   ],
   "source": [
    "Vg = 1450\n",
    "Vb = 850\n",
    "E = 450\n",
    "pg = 0.8\n",
    "pb = 0.2\n",
    "\n",
    "analyse_issue_(Vg, Vb, E, pg, pb)"
   ]
  },
  {
   "cell_type": "code",
   "execution_count": 77,
   "id": "9acba0252ad90b1f",
   "metadata": {
    "ExecuteTime": {
     "end_time": "2024-07-29T21:46:42.001186Z",
     "start_time": "2024-07-29T21:46:41.997127Z"
    }
   },
   "outputs": [],
   "source": [
    "# rm_rf is the market premium minus the risk-free rate\n",
    "def calculate_WACC_Vd_V(Vd_V , rf, rm_rf, rd, tau, FCFF, beta=None, beta_u=None):\n",
    "    Ve_V = 1 - Vd_V\n",
    "    \n",
    "    if beta and beta_u or not beta and not beta_u:\n",
    "        raise ValueError(\"Only one of beta and beta_u should be provided\")\n",
    "    \n",
    "    if not beta:\n",
    "        beta = beta_u*(1 + (Vd_V/Ve_V)*(1 - tau))\n",
    "        beta = round(beta, 2)\n",
    "        print(f\"levered beta: {beta}\")\n",
    "\n",
    "    re = rf + beta* rm_rf\n",
    "     \n",
    "    re = round(re, 2)\n",
    "    WACC = rd*(1 - tau)*Vd_V + re*Ve_V\n",
    "    WACC = round(WACC, 4)\n",
    "    V = FCFF/WACC\n",
    "    V = round(V, 2)\n",
    "    return WACC, V"
   ]
  },
  {
   "cell_type": "code",
   "execution_count": 9,
   "id": "157edef2",
   "metadata": {},
   "outputs": [],
   "source": [
    "def issue_equity(prob_good_news, prob_bad_news, firm_value_good, firm_value_bad, project_npv, investment_required):\n",
    "    \"\"\"\n",
    "    Calculates the expected firm value without and with equity issuance and prints a decision table.\n",
    "    \n",
    "    Parameters:\n",
    "    prob_good_news (float): Probability of good news (between 0 and 1).\n",
    "    prob_bad_news (float): Probability of bad news (between 0 and 1).\n",
    "    firm_value_good (float): Firm value in case of good news.\n",
    "    firm_value_bad (float): Firm value in case of bad news.\n",
    "    project_npv (float): Net present value (NPV) of the project in both states.\n",
    "    investment_required (float): Investment required for the project.\n",
    "\n",
    "    Returns:\n",
    "    None: Prints a decision table showing expected firm values without and with equity issuance.\n",
    "    \"\"\"\n",
    "    # Calculate the firm value without equity issuance\n",
    "    expected_firm_value_without_equity = (prob_good_news * firm_value_good) + (prob_bad_news * firm_value_bad)\n",
    "    \n",
    "    # New firm values after taking the project\n",
    "    new_firm_value_good = firm_value_good + project_npv\n",
    "    new_firm_value_bad = firm_value_bad + project_npv\n",
    "\n",
    "    # Expected equity value post project\n",
    "    expected_equity_value_post_project = (prob_good_news * new_firm_value_good + prob_bad_news * new_firm_value_bad)\n",
    "\n",
    "    # Number of new shares issued\n",
    "    new_shares_issued = investment_required / expected_equity_value_post_project\n",
    "\n",
    "    # Value per share post project\n",
    "    value_per_share_post_project = expected_equity_value_post_project / (1 + new_shares_issued)\n",
    "\n",
    "    # Firm value post project with new equity raised\n",
    "    firm_value_with_equity = expected_equity_value_post_project + investment_required\n",
    "\n",
    "    # Decision table\n",
    "    decision_table = pd.DataFrame({\n",
    "        'Scenario': ['Good News', 'Bad News', 'Expected'],\n",
    "        'Without Equity Issuance': [firm_value_good, firm_value_bad, expected_firm_value_without_equity],\n",
    "        'With Equity Issuance': [new_firm_value_good + investment_required, new_firm_value_bad + investment_required, firm_value_with_equity]\n",
    "    })\n",
    "\n",
    "    print(\"Decision Table:\")\n",
    "    print(decision_table)"
   ]
  },
  {
   "cell_type": "code",
   "execution_count": 8,
   "id": "164e2056",
   "metadata": {},
   "outputs": [
    {
     "ename": "NameError",
     "evalue": "name 'issue_equity' is not defined",
     "output_type": "error",
     "traceback": [
      "\u001b[0;31m---------------------------------------------------------------------------\u001b[0m",
      "\u001b[0;31mNameError\u001b[0m                                 Traceback (most recent call last)",
      "Cell \u001b[0;32mIn[8], line 8\u001b[0m\n\u001b[1;32m      5\u001b[0m project_npv \u001b[38;5;241m=\u001b[39m \u001b[38;5;241m25\u001b[39m  \u001b[38;5;66;03m# Net present value (NPV) of the project in both states\u001b[39;00m\n\u001b[1;32m      6\u001b[0m investment_required \u001b[38;5;241m=\u001b[39m \u001b[38;5;241m450\u001b[39m  \u001b[38;5;66;03m# Investment required for the project\u001b[39;00m\n\u001b[0;32m----> 8\u001b[0m issue_equity(prob_good_news, prob_bad_news, firm_value_good, firm_value_bad, project_npv, investment_required)\n",
      "\u001b[0;31mNameError\u001b[0m: name 'issue_equity' is not defined"
     ]
    }
   ],
   "source": [
    "prob_good_news = 0.80  # Probability of good news (between 0 and 1)\n",
    "prob_bad_news = 0.20  # Probability of bad news (between 0 and 1)\n",
    "firm_value_good = 1450  # Firm value in case of good news\n",
    "firm_value_bad = 850  # Firm value in case of bad news\n",
    "project_npv = 25  # Net present value (NPV) of the project in both states\n",
    "investment_required = 450  # Investment required for the project\n",
    "\n",
    "issue_equity(prob_good_news, prob_bad_news, firm_value_good, firm_value_bad, project_npv, investment_required)\n"
   ]
  },
  {
   "cell_type": "code",
   "execution_count": 54,
   "id": "90d05c60",
   "metadata": {},
   "outputs": [
    {
     "name": "stdout",
     "output_type": "stream",
     "text": [
      "Cost of capital: 9.00%\n",
      "Value: 1000.00\n"
     ]
    }
   ],
   "source": [
    "\n",
    "# This code can be used to calculate the cost of capital and value for a firm if the following parameters are given:\n",
    "# - Vd_V: Percentage of debt in the capital structure\n",
    "# - rf: Risk-free rate\n",
    "# - rm_rf: Market premium minus the risk-free rate\n",
    "# - rd: Cost of debt\n",
    "# - tau: Corporate tax rate\n",
    "# - FCFF: Free cash flow to the firm\n",
    "# Provide either one of the following:\n",
    "# - beta_u: Unlevered beta\n",
    "# - beta: Levered beta\n",
    "\n",
    "\n",
    "# Calculate the cost of capital and value for firm \n",
    "Vd_V = 0.5\n",
    "beta = 1.5\n",
    "rf = 0.06\n",
    "rm_rf = 0.12 - rf\n",
    "rd = rf\n",
    "tau = 0.5\n",
    "FCFF = 90\n",
    "WACC, V = calculate_WACC_Vd_V(Vd_V, rf, rm_rf, rd, tau, FCFF, beta=beta_u)\n",
    "print(f\"Cost of capital: {WACC*100:.2f}%\")\n",
    "print(f\"Value: {V:.2f}\")\n",
    "\n",
    "\n",
    "\n"
   ]
  },
  {
   "cell_type": "code",
   "execution_count": 57,
   "id": "e1796dee",
   "metadata": {},
   "outputs": [
    {
     "data": {
      "text/plain": [
       "0.317657"
      ]
     },
     "execution_count": 57,
     "metadata": {},
     "output_type": "execute_result"
    }
   ],
   "source": []
  },
  {
   "cell_type": "code",
   "execution_count": 87,
   "id": "38eee72ec3426388",
   "metadata": {
    "ExecuteTime": {
     "end_time": "2024-07-29T21:46:56.613890Z",
     "start_time": "2024-07-29T21:46:56.326578Z"
    }
   },
   "outputs": [
    {
     "name": "stdout",
     "output_type": "stream",
     "text": [
      "levered beta: 1.67\n",
      "Estimated Vd/V: 0.40816; Calculated Vd/V: 0.50000\n",
      "Calculated V:  17.15\n",
      "Cost of capital: 5.83%\n",
      "levered beta: 1.46\n",
      "1-th iteration - Estimated Vd/V: 0.40745; Calculated Vd/V: 0.40816\n",
      "Calculated V:  17.18\n",
      "Cost of capital: 5.82%\n",
      "levered beta: 1.46\n",
      "2-th iteration - Estimated Vd/V: 0.40816; Calculated Vd/V: 0.40745\n",
      "Calculated V:  17.15\n",
      "Cost of capital: 5.83%\n",
      "levered beta: 1.46\n",
      "3-th iteration - Estimated Vd/V: 0.40745; Calculated Vd/V: 0.40816\n",
      "Calculated V:  17.18\n",
      "Cost of capital: 5.82%\n",
      "levered beta: 1.46\n",
      "4-th iteration - Estimated Vd/V: 0.40816; Calculated Vd/V: 0.40745\n",
      "Calculated V:  17.15\n",
      "Cost of capital: 5.83%\n",
      "levered beta: 1.46\n",
      "5-th iteration - Estimated Vd/V: 0.40745; Calculated Vd/V: 0.40816\n",
      "Calculated V:  17.18\n",
      "Cost of capital: 5.82%\n",
      "levered beta: 1.46\n",
      "[0.0582, 0.0583, 0.0582, 0.0583, 0.0582]\n",
      "Interpolated WACC: 5.82%\n",
      "Interpolated Value of the firm: 17.18\n"
     ]
    }
   ],
   "source": [
    "Vd = 7\n",
    "Vd_V = 0.5\n",
    "beta_u = 1\n",
    "tau = 1/3\n",
    "\n",
    "FCFF = 1\n",
    "rm_rf = 0.03\n",
    "rf = 0.04\n",
    "rd = rf\n",
    "WACC, V = calculate_WACC_Vd_V(Vd_V, rf, rm_rf, rd, tau, FCFF, beta_u=beta_u)\n",
    "print(f\"Estimated Vd/V: {Vd/V:,.5f}; Calculated Vd/V: {Vd_V:,.5f}\")\n",
    "print(\"Calculated V: \", V)\n",
    "print(f\"Cost of capital: {WACC*100:.2f}%\")\n",
    "err = Vd_V - Vd/V\n",
    "i = 0\n",
    "waccs = []\n",
    "Vs = []\n",
    "while abs(err) > .0001 and i < 5:\n",
    "    i += 1\n",
    "    Vd_V = Vd/V\n",
    "    WACC, V = calculate_WACC_Vd_V(Vd_V, rf, rm_rf, rd, tau, FCFF, beta_u=beta_u)\n",
    "    waccs.append(WACC)\n",
    "    Vs.append(V)\n",
    "    err = Vd_V - Vd/V\n",
    "    print(f\"{i}-th iteration - Estimated Vd/V: {Vd/V:,.5f}; Calculated Vd/V: {Vd_V:,.5f}\")\n",
    "    print(\"Calculated V: \", V)\n",
    "    print(f\"Cost of capital: {WACC*100:.2f}%\")\n",
    "\n",
    "\n",
    "# one step linear interpolation\n",
    "\n",
    "# From this, it follows that the debt ratio is $7 / 16.61=0.4214$. Putting this number into the Hamada-equation yields a levered beta of 1.4855 and, as a consequence, a cost of equity of $8.46 \\%$ and a WACC of $6.02 \\%$. Therefore, this is a consistent result.\n",
    "WACC, V = calculate_WACC_Vd_V(Vd_V, rf, rm_rf, rd, tau, FCFF, beta_u=beta_u)\n",
    "\n",
    "# this doesn't work as intended but i think it is not relevant\n",
    "# interpolated_WACC = WACC + (Vs[1] - V)/\n",
    "# print(f\"Interpolated WACC: {interpolated_WACC*100:.2f}%\")\n",
    "# print(f\"Interpolated Value of the firm: {FCFF/interpolated_WACC:.2f}\")\n",
    "    "
   ]
  },
  {
   "cell_type": "code",
   "execution_count": null,
   "id": "76657a2e",
   "metadata": {},
   "outputs": [],
   "source": []
  }
 ],
 "metadata": {
  "kernelspec": {
   "display_name": "Python 3",
   "language": "python",
   "name": "python3"
  },
  "language_info": {
   "codemirror_mode": {
    "name": "ipython",
    "version": 3
   },
   "file_extension": ".py",
   "mimetype": "text/x-python",
   "name": "python",
   "nbconvert_exporter": "python",
   "pygments_lexer": "ipython3",
   "version": "3.11.7"
  }
 },
 "nbformat": 4,
 "nbformat_minor": 5
}
